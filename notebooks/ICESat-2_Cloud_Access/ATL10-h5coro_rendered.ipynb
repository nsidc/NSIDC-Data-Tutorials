{
 "cells": [
  {
   "cell_type": "markdown",
   "id": "e86eaecf-a612-4dbb-8bdc-5b5dfddf65b9",
   "metadata": {
    "user_expressions": []
   },
   "source": [
    "<center>\n",
    "<img src='./img/nsidc_logo.png'/>\n",
    "\n",
    "# **Processing Large-scale Time Series of ICESat-2 Sea Ice Height in the Cloud**\n",
    "\n",
    "</center>\n",
    "\n",
    "---"
   ]
  },
  {
   "cell_type": "markdown",
   "id": "bc15319c-5110-4aaa-8932-db8b4055a167",
   "metadata": {
    "tags": [],
    "user_expressions": []
   },
   "source": [
    "## **1. Tutorial Overview**\n",
    "\n",
    "This tutorial is designed for the \"DAAC data access in the cloud hands-on experience\" session at the 2023 NSIDC DAAC [User Working Group (UWG)](https://nsidc.org/data/data-programs/nsidc-daac/about-daac#anchor-2) Meeting. \n",
    "\n",
    "The NSIDC DAAC archives and distributes Daily and Monthly Gridded [Sea Ice Freeboard (ATL20)](https://nsidc.org/data/atl20) and [Polar Sea Surface Height Anomaly (ATL21)](https://nsidc.org/data/atl21) data sets from the ICESat-2 Mission, derived from the lower level [ATL10](https://nsidc.org/data/atl10) data set. However, we may want these lower level point data to be gridded and averaged at a weekly cadence, or using a different projection or other gridding parameters. \n",
    "\n",
    "This tutorial session is in two parts: \n",
    "* We will first guide you through this Jupyter Notebook running in the AWS `us-west-2` region, where data are hosted in the NASA Earthdata Cloud. The notebook utilizes several libraries to performantly search, access, read, and grid the data including `earthaccess`, `h5coro`, and `geopandas`.\n",
    "\n",
    "* This notebook will focus on the Ross Sea, Antarctica. But let’s say we want to scale this analysis to the entire continent. In the second portion, we will present how to scale and run this same workflow from a script (see [workflow.py](./h5cloud/workflow.py) in the `h5cloud` folder within this notebook's directory) that can be run from your laptop, using [Coiled](https://www.coiled.io/). \n",
    "\n",
    "### **Credits**\n",
    "\n",
    "The notebook was created by Andy Barrett and Luis Lopez of NSIDC.\n",
    "\n",
    "For questions regarding the notebook, or to report problems, please create a new issue in the [NSIDC-Data-Tutorials repo](https://github.com/nsidc/NSIDC-Data-Tutorials/issues).\n",
    "\n",
    "### **Learning Objectives**\n",
    "\n",
    "By the end of this demonstration you will be able to:  \n",
    "1. Use `earthaccess` to authenticate with Earthdata Login, search for ICESat-2 data using spatial and temporal filters, and directly access files in the cloud.\n",
    "2. Open data granules using `h5coro` to efficiently read HDF5 data from the NSIDC DAAC S3 bucket.\n",
    "3. Load data into a geopandas.DataFrame containing geodetic coordinates, ancillary variables, and date/time converted from ATLAS Epoch.\n",
    "4. Grid track data to EASE-Grid v2 6.25 km projected grid using drop-in-the-bucket resampling. \n",
    "5. Calculate mean statistics and assign aggregated data to grid cells. \n",
    "5. Visualize aggregated sea ice height data on a map.\n",
    "\n",
    "### **Prerequisites**\n",
    "\n",
    "1. We are running this notebook in the [CryoCloud](https://book.cryointhecloud.com/intro.html) JupyterHub. For more information, see the CryoCloud [Getting Started](https://book.cryointhecloud.com/content/Getting_Started.html) documentation.\n",
    "**It is advised that you use at least a 16GB instance for this notebook.** \n",
    "2. An Earthdata Login is required for data access. If you don't have one, you can register for one [here](https://urs.earthdata.nasa.gov/).\n",
    "3. It is recommended that you create a .netrc file that contains your Earthdata Login credentials, stored in your home directory. If you do not have a .netrc file, `earthaccess` will prompt you to enter your Earthdata Login username and password.\n",
    "\n",
    "### **Example of end product** \n",
    "At the end of this tutorial, the following figure will be generated, demonstrating a year's worth of ATL10 Sea Ice Freeboard height data gridded over the Ross Sea, Antarctica:\n",
    "<center>\n",
    "<img src='./img/icesat2.atl10.gridded.count_segments.ross_sea.png'/>\n",
    "</center>\n",
    "\n",
    "### **Time requirement**\n",
    "\n",
    "Allow approximately 40 minutes to complete this tutorial."
   ]
  },
  {
   "cell_type": "markdown",
   "id": "53b77eb5-d5ed-4ddd-8fb1-6c69618d7852",
   "metadata": {
    "tags": [],
    "user_expressions": []
   },
   "source": [
    "## **2. Tutorial steps**\n",
    "\n",
    "### Installing the latest version of earthaccess\n",
    "\n",
    "The CryoCloud environment currently does not have the latest `earthaccess` version installed, along with new features in `h5coro` that are not yet released, so we will first manually install those below:"
   ]
  },
  {
   "cell_type": "code",
   "execution_count": 2,
   "id": "9700d441-441a-41fb-9ad8-7ea5eabec52b",
   "metadata": {
    "tags": []
   },
   "outputs": [],
   "source": [
    "%%capture\n",
    "# suppress install outputs\n",
    "\n",
    "!pip uninstall -y earthaccess h5coro\n",
    "!pip install earthaccess==0.6.1\n",
    "\n",
    "# h5coro has new features that we need that are not released\n",
    "!pip install git+https://github.com/ICESat2-SlideRule/h5coro.git@main"
   ]
  },
  {
   "cell_type": "markdown",
   "id": "e7bdaa85-ac4e-4172-9154-1d0992414cc1",
   "metadata": {
    "user_expressions": []
   },
   "source": [
    "**NOTE**: Restart the kernel and clean output after running the cell above."
   ]
  },
  {
   "cell_type": "markdown",
   "id": "7820a737-33f0-4470-b9a4-03c5c4f0354c",
   "metadata": {
    "user_expressions": []
   },
   "source": [
    "### **Import Packages**"
   ]
  },
  {
   "cell_type": "code",
   "execution_count": 3,
   "id": "59e79729-1b02-4ef5-aee1-8923690243da",
   "metadata": {
    "tags": []
   },
   "outputs": [
    {
     "name": "stdout",
     "output_type": "stream",
     "text": [
      "earthaccess: 0.6.1\n"
     ]
    }
   ],
   "source": [
    "# To force use of shapely\n",
    "import os\n",
    "os.environ['USE_PYGEOS'] = '0'\n",
    "\n",
    "# For searching NASA data\n",
    "import earthaccess\n",
    "\n",
    "# For reading data, analysis and plotting\n",
    "import numpy as np\n",
    "import pandas as pd\n",
    "\n",
    "# For resampling\n",
    "from affine import Affine\n",
    "\n",
    "# For plotting\n",
    "import matplotlib.pyplot as plt\n",
    "import cartopy.crs as ccrs\n",
    "import cartopy.feature as cfeature\n",
    "\n",
    "from h5cloud.read_atl10 import read_atl10\n",
    "\n",
    "print(f\"earthaccess: {earthaccess.__version__}\")"
   ]
  },
  {
   "cell_type": "markdown",
   "id": "1966ffa6-a5f2-4520-a8dc-f37678a2cf7a",
   "metadata": {
    "user_expressions": []
   },
   "source": [
    "### Authenticate\n",
    "\n",
    "We need to authenticate and get AWS token"
   ]
  },
  {
   "cell_type": "code",
   "execution_count": 4,
   "id": "d47aa955-3d91-4418-85f9-5772f400f712",
   "metadata": {
    "tags": []
   },
   "outputs": [
    {
     "name": "stdout",
     "output_type": "stream",
     "text": [
      "EARTHDATA_USERNAME and EARTHDATA_PASSWORD are not set in the current environment, try setting them or use a different strategy (netrc, interactive)\n",
      "No .netrc found in /home/jovyan\n"
     ]
    },
    {
     "name": "stdin",
     "output_type": "stream",
     "text": [
      "Enter your Earthdata Login username:  amy.steiker\n",
      "Enter your Earthdata password:  ········\n"
     ]
    },
    {
     "name": "stdout",
     "output_type": "stream",
     "text": [
      "You're now authenticated with NASA Earthdata Login\n",
      "Using token with expiration date: 10/06/2023\n",
      "Using user provided credentials for EDL\n"
     ]
    }
   ],
   "source": [
    "auth = earthaccess.login()"
   ]
  },
  {
   "cell_type": "markdown",
   "id": "da19f604-0288-4358-ab88-d18c986f7cc8",
   "metadata": {
    "user_expressions": []
   },
   "source": [
    "### **Search for ICESat-2 ATL10 data**\n",
    "\n",
    "We use `earthaccess` to search CMR for granules in the region of interest for the time period of interest.  \n",
    "\n",
    "The region is set by name below.  Currently, we have two options: the Ross Sea, and the Southern Ocean and adjoining seas.\n",
    "\n",
    "The range of dates is set by assigning a start year and end year to `year_begin` and `year_end`.  Setting `year_begin` and `year_end` to the same year retreives data for one year."
   ]
  },
  {
   "cell_type": "code",
   "execution_count": 5,
   "id": "d2069528-d382-45ab-a865-a41593bc47a8",
   "metadata": {
    "tags": []
   },
   "outputs": [],
   "source": [
    "# To avoid copying and pasting region tuples\n",
    "region = \"Ross Sea\"  # Set region to \"Ross Sea\" for just Ross Sea or \"Antarctica\" for southern ocean \n",
    "ross_sea = (-180, -78, -160, -74)\n",
    "antarctic = (-180, -90, 180, -60)\n",
    "this_region = antarctic if region == \"Antarctica\" else ross_sea\n",
    "\n",
    "year_begin = 2019\n",
    "year_end = 2019"
   ]
  },
  {
   "cell_type": "code",
   "execution_count": 6,
   "id": "61875e91-c8b4-4beb-9535-c3391d1fcc06",
   "metadata": {
    "tags": []
   },
   "outputs": [
    {
     "name": "stdout",
     "output_type": "stream",
     "text": [
      "Searching year 2019 ...\n",
      "Granules found: 59\n",
      "Total retrieved: 59, approx size: 4711.89 MB\n"
     ]
    }
   ],
   "source": [
    "atl10 = {}\n",
    "total_results = 0\n",
    "approx_size = 0\n",
    "\n",
    "for year in range(year_begin, year_end+1):\n",
    "    \n",
    "    print(f\"Searching year {year} ...\")\n",
    "    granules = earthaccess.search_data(\n",
    "        short_name = 'ATL10',\n",
    "        version = '006',\n",
    "        cloud_hosted = True,\n",
    "        bounding_box = this_region,\n",
    "        temporal = (f'{year}-09-01',f'{year}-09-30'),\n",
    "    )\n",
    "    total_results += len(granules)\n",
    "    approx_size += sum([g.size() for g in granules])\n",
    "    atl10[str(year)] = granules\n",
    "print(f\"Total retrieved: {total_results}, approx size: {round(approx_size, 2)} MB\")"
   ]
  },
  {
   "cell_type": "markdown",
   "id": "b6887297-2b02-4e76-9bc5-5e804c54c5d7",
   "metadata": {
    "user_expressions": []
   },
   "source": [
    "### Access the Granules\n",
    "\n",
    "Because the CryoCloud is hub is running on servers in AWS region `us-west-2`, which is the same region as the NASA Earthdata Cloud, granules can be accessed directly without having to download the files first.  This is analogous to how you would work with files on your local filesystem.  However, _under the hood_ there are differences.\n",
    "\n",
    "Initially, we load data for each year into a `geopandas.DataFrame`.  `geopandas` is an extension of the `pandas` package.  `pandas` is designed to work with `tabular` data - _think data you might put into a spreadsheet_.  `geopandas`, extends `pandas` to work with geospatial data by adding geometries (points, lines and polygons) and a coordinate reference system (CRS), so that data in each row is associated with a geospatial feature located on Earth.  ICESat-2 track data is well suited to the DataFrame data model because data are related to points or segments.  Once data is in a `geopandas.DataFrame`, the data can be reprojected and queried using methods you may be used to using in a GIS."
   ]
  },
  {
   "cell_type": "markdown",
   "id": "80340da9-1b3b-458d-9d94-9492657f94bf",
   "metadata": {
    "tags": [],
    "user_expressions": []
   },
   "source": [
    "#### Read data into `geopandas.DataFrame`\n",
    "\n",
    "The first step is to read the data and put it into a Dataframe.  We use `h5coro`, which is a package developed by the SlideRule project to efficiently read HDF5 files in the cloud.  Recall from the Cloud Optimized Format presentation, the HDF5 format and the HDF5 library for reading and writing those files are not well suited to accessing data in the cloud.  `h5coro` was developed to solve some of the problems related to HDF5 format and tools.  Using `h5coro` with `dask`, a python package for parallel processing on multicore local machines and distributed cluster in the cloud, reading data from ATL10 files is 5x faster than using the `h5py` package, an HDF5 reader that uses the HDF5 library.\n",
    "\n",
    "The code to read the data is long, so we have created the `read_atl10` function and put it in a module.  The function is imported into this notebook.  If your are interested, take a look at `read_atl10` in [`read_atl10.py`](./h5cloud/read_atl10.py).  The main features of the function are briefly described here.\n",
    "\n",
    "We follow the processing steps for ATL20 to generate our freeboard grids.  For each grid cell that contain one or more freeboard segments, a grid cell mean freeboard is calculated as a mean of `gtx/freeboard_segment/beam_fb_height` from ATL10, weighted by segment length `gtx/freeboard_segment/heights/height_segment_length_seg`.  To resample segments to grid cells, we also need the geodetic coordinates for each segment in `gtx/freeboard_segment/latitude` and `gtx/freeboard_segment/longitude`. As an additional locator, we also read `gtx/freeboard_segment/delta_time`.  `gtx` is the beam number.\n",
    "\n",
    "In addition to the segment data, we also need some ancillary data from each file.  In ATL20 gridded freeboards are calculated using only the _strong beams_ of each beam pair.  Which of the six beams are strong and which are weak depends on the orientation of the ICESat-2 satellite.  Satellite orientation is given in the `orbit_info/sc_orient` dataset.  We also need to read the Atlas Standard Data Product Epoch that is stored in `ancillary_data/atlas_sdp_gps_epoch` to convert `delta_time` from seconds since launch to date and time.\n",
    "\n",
    "```{note}\n",
    "There are three beam pairs numbered 1, 2 and 3.  Each of these beam pairs has a left and right beam.  Beams are numbered `gt1l` and `gt1r`, `gt2l` and `gt2r`, and `gt3l` and `gt3r`.  Depending on the orientation of the ICESat-2 satellite, left beams or right beams are the _strong beams_.    The orientation can be _forward_ or _backward_, or _transition_.  We only use data in forward or backward orientations.\n",
    "```\n",
    "\n",
    "The datasets containing segment data are stored in the `DATASETS` constant, which is a python `list`, in `reader.py`.  If you want additional or different datasets, you can modify this list. See [NSIDC DAAC's ATL10 User Guide](https://nsidc.org/sites/default/files/documents/user-guide/atl10-v006-userguide.pdf) and [ATL10 Data Dictionary](https://nsidc.org/sites/default/files/documents/technical-reference/icesat2_atl10_data_dict_v006.pdf) for detailed descriptions.  \n",
    "\n",
    "A ATL10 file is read using the function `read_atl10`. This function encapsulates opening an HDF5 file and reading the datasets using `h5coro`, and then creating a `geopandas.DataFrame` containing the data.  We parallelize the reading of all files in a year using `pqdm`, so files are read using different processors.  File for a given year are then concatenated into a single dataframe."
   ]
  },
  {
   "cell_type": "code",
   "execution_count": 7,
   "id": "5fc14401-66a6-44ba-b8f2-421f45e50c29",
   "metadata": {
    "tags": []
   },
   "outputs": [
    {
     "data": {
      "application/vnd.jupyter.widget-view+json": {
       "model_id": "4d15028bb2d548d68bc96e58c1620673",
       "version_major": 2,
       "version_minor": 0
      },
      "text/plain": [
       "QUEUEING TASKS | :   0%|          | 0/59 [00:00<?, ?it/s]"
      ]
     },
     "metadata": {},
     "output_type": "display_data"
    },
    {
     "data": {
      "application/vnd.jupyter.widget-view+json": {
       "model_id": "574ab00bc0c34748ae3b53391c33e335",
       "version_major": 2,
       "version_minor": 0
      },
      "text/plain": [
       "PROCESSING TASKS | :   0%|          | 0/59 [00:00<?, ?it/s]"
      ]
     },
     "metadata": {},
     "output_type": "display_data"
    },
    {
     "data": {
      "application/vnd.jupyter.widget-view+json": {
       "model_id": "4572bd02480444ad8daea77330d63e3e",
       "version_major": 2,
       "version_minor": 0
      },
      "text/plain": [
       "COLLECTING RESULTS | :   0%|          | 0/59 [00:00<?, ?it/s]"
      ]
     },
     "metadata": {},
     "output_type": "display_data"
    },
    {
     "name": "stdout",
     "output_type": "stream",
     "text": [
      "CPU times: user 2min 6s, sys: 45.7 s, total: 2min 51s\n",
      "Wall time: 1min 34s\n"
     ]
    }
   ],
   "source": [
    "%%time\n",
    "\n",
    "env = \"cloud\" # or local\n",
    "\n",
    "if env == \"local\":\n",
    "    files = [g.data_links(access=\"out_of_region\")[0] for g in atl10[\"2019\"]]\n",
    "    cred = auth.token['access_token']\n",
    "else:\n",
    "    files = [g.data_links(access=\"direct\")[0].replace(\"s3://\", \"\") for g in granules]\n",
    "    aws_credentials = earthaccess.get_s3_credentials(\"NSIDC\")\n",
    "    cred = {\n",
    "      \"aws_access_key_id\": aws_credentials[\"accessKeyId\"],\n",
    "      \"aws_secret_access_key\": aws_credentials[\"secretAccessKey\"],\n",
    "      \"aws_session_token\": aws_credentials[\"sessionToken\"]\n",
    "    }\n",
    "tracks = read_atl10(files, executors=4, environment=env, credentials=cred)"
   ]
  },
  {
   "cell_type": "code",
   "execution_count": 8,
   "id": "a4f577fc-7c75-456e-b7bb-2a4f45ab77c5",
   "metadata": {
    "tags": []
   },
   "outputs": [
    {
     "data": {
      "text/html": [
       "<div>\n",
       "<style scoped>\n",
       "    .dataframe tbody tr th:only-of-type {\n",
       "        vertical-align: middle;\n",
       "    }\n",
       "\n",
       "    .dataframe tbody tr th {\n",
       "        vertical-align: top;\n",
       "    }\n",
       "\n",
       "    .dataframe thead th {\n",
       "        text-align: right;\n",
       "    }\n",
       "</style>\n",
       "<table border=\"1\" class=\"dataframe\">\n",
       "  <thead>\n",
       "    <tr style=\"text-align: right;\">\n",
       "      <th></th>\n",
       "      <th>delta_time</th>\n",
       "      <th>seg_dist_x</th>\n",
       "      <th>height_segment_length_seg</th>\n",
       "      <th>beam_fb_height</th>\n",
       "      <th>height_segment_type</th>\n",
       "      <th>beam</th>\n",
       "      <th>geometry</th>\n",
       "    </tr>\n",
       "  </thead>\n",
       "  <tbody>\n",
       "    <tr>\n",
       "      <th>1831</th>\n",
       "      <td>2019-09-01 11:10:21</td>\n",
       "      <td>2.720752e+07</td>\n",
       "      <td>20.290331</td>\n",
       "      <td>0.253510</td>\n",
       "      <td>1</td>\n",
       "      <td>gt1l</td>\n",
       "      <td>POINT (11.39429 -64.01932)</td>\n",
       "    </tr>\n",
       "    <tr>\n",
       "      <th>1832</th>\n",
       "      <td>2019-09-01 11:10:21</td>\n",
       "      <td>2.720753e+07</td>\n",
       "      <td>19.569931</td>\n",
       "      <td>0.265972</td>\n",
       "      <td>1</td>\n",
       "      <td>gt1l</td>\n",
       "      <td>POINT (11.39427 -64.01942)</td>\n",
       "    </tr>\n",
       "    <tr>\n",
       "      <th>1833</th>\n",
       "      <td>2019-09-01 11:10:21</td>\n",
       "      <td>2.720754e+07</td>\n",
       "      <td>16.069815</td>\n",
       "      <td>0.276316</td>\n",
       "      <td>1</td>\n",
       "      <td>gt1l</td>\n",
       "      <td>POINT (11.39426 -64.01948)</td>\n",
       "    </tr>\n",
       "    <tr>\n",
       "      <th>1834</th>\n",
       "      <td>2019-09-01 11:10:21</td>\n",
       "      <td>2.720755e+07</td>\n",
       "      <td>14.670819</td>\n",
       "      <td>0.303078</td>\n",
       "      <td>1</td>\n",
       "      <td>gt1l</td>\n",
       "      <td>POINT (11.39424 -64.01954)</td>\n",
       "    </tr>\n",
       "    <tr>\n",
       "      <th>1835</th>\n",
       "      <td>2019-09-01 11:10:21</td>\n",
       "      <td>2.720755e+07</td>\n",
       "      <td>14.671224</td>\n",
       "      <td>0.324290</td>\n",
       "      <td>1</td>\n",
       "      <td>gt1l</td>\n",
       "      <td>POINT (11.39423 -64.01960)</td>\n",
       "    </tr>\n",
       "    <tr>\n",
       "      <th>...</th>\n",
       "      <td>...</td>\n",
       "      <td>...</td>\n",
       "      <td>...</td>\n",
       "      <td>...</td>\n",
       "      <td>...</td>\n",
       "      <td>...</td>\n",
       "      <td>...</td>\n",
       "    </tr>\n",
       "    <tr>\n",
       "      <th>87822</th>\n",
       "      <td>2019-09-29 21:27:03</td>\n",
       "      <td>3.353085e+07</td>\n",
       "      <td>33.309284</td>\n",
       "      <td>0.078756</td>\n",
       "      <td>1</td>\n",
       "      <td>gt3r</td>\n",
       "      <td>POINT (24.31374 -59.33261)</td>\n",
       "    </tr>\n",
       "    <tr>\n",
       "      <th>87823</th>\n",
       "      <td>2019-09-29 21:27:03</td>\n",
       "      <td>3.353087e+07</td>\n",
       "      <td>41.701126</td>\n",
       "      <td>0.142241</td>\n",
       "      <td>9</td>\n",
       "      <td>gt3r</td>\n",
       "      <td>POINT (24.31370 -59.33242)</td>\n",
       "    </tr>\n",
       "    <tr>\n",
       "      <th>87824</th>\n",
       "      <td>2019-09-29 21:27:03</td>\n",
       "      <td>3.353090e+07</td>\n",
       "      <td>62.743610</td>\n",
       "      <td>0.116470</td>\n",
       "      <td>9</td>\n",
       "      <td>gt3r</td>\n",
       "      <td>POINT (24.31366 -59.33221)</td>\n",
       "    </tr>\n",
       "    <tr>\n",
       "      <th>87825</th>\n",
       "      <td>2019-09-29 21:27:03</td>\n",
       "      <td>3.353096e+07</td>\n",
       "      <td>144.139648</td>\n",
       "      <td>0.188011</td>\n",
       "      <td>1</td>\n",
       "      <td>gt3r</td>\n",
       "      <td>POINT (24.31354 -59.33160)</td>\n",
       "    </tr>\n",
       "    <tr>\n",
       "      <th>87826</th>\n",
       "      <td>2019-09-29 21:27:03</td>\n",
       "      <td>3.353119e+07</td>\n",
       "      <td>120.403191</td>\n",
       "      <td>0.214933</td>\n",
       "      <td>1</td>\n",
       "      <td>gt3r</td>\n",
       "      <td>POINT (24.31312 -59.32955)</td>\n",
       "    </tr>\n",
       "  </tbody>\n",
       "</table>\n",
       "<p>15917557 rows × 7 columns</p>\n",
       "</div>"
      ],
      "text/plain": [
       "               delta_time    seg_dist_x  height_segment_length_seg  \\\n",
       "1831  2019-09-01 11:10:21  2.720752e+07                  20.290331   \n",
       "1832  2019-09-01 11:10:21  2.720753e+07                  19.569931   \n",
       "1833  2019-09-01 11:10:21  2.720754e+07                  16.069815   \n",
       "1834  2019-09-01 11:10:21  2.720755e+07                  14.670819   \n",
       "1835  2019-09-01 11:10:21  2.720755e+07                  14.671224   \n",
       "...                   ...           ...                        ...   \n",
       "87822 2019-09-29 21:27:03  3.353085e+07                  33.309284   \n",
       "87823 2019-09-29 21:27:03  3.353087e+07                  41.701126   \n",
       "87824 2019-09-29 21:27:03  3.353090e+07                  62.743610   \n",
       "87825 2019-09-29 21:27:03  3.353096e+07                 144.139648   \n",
       "87826 2019-09-29 21:27:03  3.353119e+07                 120.403191   \n",
       "\n",
       "       beam_fb_height  height_segment_type  beam                    geometry  \n",
       "1831         0.253510                    1  gt1l  POINT (11.39429 -64.01932)  \n",
       "1832         0.265972                    1  gt1l  POINT (11.39427 -64.01942)  \n",
       "1833         0.276316                    1  gt1l  POINT (11.39426 -64.01948)  \n",
       "1834         0.303078                    1  gt1l  POINT (11.39424 -64.01954)  \n",
       "1835         0.324290                    1  gt1l  POINT (11.39423 -64.01960)  \n",
       "...               ...                  ...   ...                         ...  \n",
       "87822        0.078756                    1  gt3r  POINT (24.31374 -59.33261)  \n",
       "87823        0.142241                    9  gt3r  POINT (24.31370 -59.33242)  \n",
       "87824        0.116470                    9  gt3r  POINT (24.31366 -59.33221)  \n",
       "87825        0.188011                    1  gt3r  POINT (24.31354 -59.33160)  \n",
       "87826        0.214933                    1  gt3r  POINT (24.31312 -59.32955)  \n",
       "\n",
       "[15917557 rows x 7 columns]"
      ]
     },
     "execution_count": 8,
     "metadata": {},
     "output_type": "execute_result"
    }
   ],
   "source": [
    "tracks"
   ]
  },
  {
   "cell_type": "markdown",
   "id": "e63674b7-c92a-4bc1-818c-9dae0cf9cc69",
   "metadata": {
    "tags": [],
    "user_expressions": []
   },
   "source": [
    "## Grid the track data\n",
    "\n",
    "The resampling and calculation of statistics follows the processing steps described in the ATL20 - Gridded Sea Ice Freeboard - ATBD but gridding to a EASE-Grid v2 6.25 km grid.  Any projected coordinate system or grid could be chosen.  The procedure could be modified with extra QC steps or modifications.  **The world is your oyster - or [Aplacophoran](https://antarcticsun.usap.gov/science/4447/)**.\n",
    "\n",
    "The processing steps are:\n",
    "\n",
    "- remove non-ice and low quality segments \n",
    "- resample freeboard segments to a grid\n",
    "- calculate aggregate statistics\n",
    "    + mean segment length\n",
    "    + segment count\n",
    "    + length weighted mean freeboard\n",
    "    + length weighted standard deviation of freeboard\n",
    "    \n",
    "### Resample Freeboard Segments to a Grid\n",
    "\n",
    "Following the ATL20 ATBD, we will use a _drop-in-the-bucket_ resampling scheme.  This is simple and relatively easy to implement.  More complex resampling schemes could be substituted.\n",
    "\n",
    "To demonstrate resampling we will resample freeboard segments to WGS84 / NSIDC EASE-Grid v2.0 South with a grid resolution of 6.25 km.  The EPSG code for the WGS84 / NSIDC EASE-Grid South coordinate reference system is [6932](https://epsg.org/crs_6932/WGS-84-NSIDC-EASE-Grid-2-0-South.html).\n",
    "\n",
    "We will use the standard 6.25 km grid.  To define the grid, we need the grid dimensions (nrows and ncols), the x and y projected coordinates of the upper-left corner of the upper-left grid cell, and the height and width of the grid cells in the same units as the projected coordinates.  In this case, the units are meters."
   ]
  },
  {
   "cell_type": "code",
   "execution_count": 9,
   "id": "427548f4-9adb-4cee-adc1-b721bddcb7a7",
   "metadata": {
    "tags": []
   },
   "outputs": [],
   "source": [
    "easegrid2_epsg = 6932\n",
    "\n",
    "# nrow = 2880\n",
    "# ncol = 2880\n",
    "# upper_left_x = -9000000.0\n",
    "# upper_left_y = 9000000.0\n",
    "# width = 6250.0\n",
    "# height = -6250.0\n",
    "\n",
    "nrow = 151\n",
    "ncol = 147\n",
    "width = 10000.0\n",
    "height = -10000.0\n",
    "upper_left_x = -1040000.0\n",
    "upper_left_y = -560000.0\n",
    "\n",
    "map_extent = [upper_left_x, (upper_left_x + (ncol*width)), (upper_left_y + (nrow*height)), upper_left_y]"
   ]
  },
  {
   "cell_type": "markdown",
   "id": "0ed0d70b-253b-4ced-a354-6c7a20637640",
   "metadata": {
    "user_expressions": []
   },
   "source": [
    "The first step is to reproject the points from geodetic coordinates (latitude and longitude) to projected coordinates (x, y).  Because the data are in a `geopandas.DataFrame` we can use the `to_crs` method.  This takes an EPSG code either as a numeric value (`6932`) or as a string (`\"EPSG:6932\"`).\n",
    "\n",
    "You can see that the `POINT` objects in the `geometry` have changed from having latitudes and longitudes as coordinates to x and y in meters."
   ]
  },
  {
   "cell_type": "code",
   "execution_count": 10,
   "id": "78293c52-ad08-45a1-bd66-99b2eaade3e7",
   "metadata": {
    "tags": []
   },
   "outputs": [
    {
     "name": "stdout",
     "output_type": "stream",
     "text": [
      "CPU times: user 14.3 s, sys: 1.51 s, total: 15.8 s\n",
      "Wall time: 15.8 s\n"
     ]
    },
    {
     "data": {
      "text/html": [
       "<div>\n",
       "<style scoped>\n",
       "    .dataframe tbody tr th:only-of-type {\n",
       "        vertical-align: middle;\n",
       "    }\n",
       "\n",
       "    .dataframe tbody tr th {\n",
       "        vertical-align: top;\n",
       "    }\n",
       "\n",
       "    .dataframe thead th {\n",
       "        text-align: right;\n",
       "    }\n",
       "</style>\n",
       "<table border=\"1\" class=\"dataframe\">\n",
       "  <thead>\n",
       "    <tr style=\"text-align: right;\">\n",
       "      <th></th>\n",
       "      <th>delta_time</th>\n",
       "      <th>seg_dist_x</th>\n",
       "      <th>height_segment_length_seg</th>\n",
       "      <th>beam_fb_height</th>\n",
       "      <th>height_segment_type</th>\n",
       "      <th>beam</th>\n",
       "      <th>geometry</th>\n",
       "    </tr>\n",
       "  </thead>\n",
       "  <tbody>\n",
       "    <tr>\n",
       "      <th>1831</th>\n",
       "      <td>2019-09-01 11:10:21</td>\n",
       "      <td>2.720752e+07</td>\n",
       "      <td>20.290331</td>\n",
       "      <td>0.253510</td>\n",
       "      <td>1</td>\n",
       "      <td>gt1l</td>\n",
       "      <td>POINT (568023.081 2818528.976)</td>\n",
       "    </tr>\n",
       "    <tr>\n",
       "      <th>1832</th>\n",
       "      <td>2019-09-01 11:10:21</td>\n",
       "      <td>2.720753e+07</td>\n",
       "      <td>19.569931</td>\n",
       "      <td>0.265972</td>\n",
       "      <td>1</td>\n",
       "      <td>gt1l</td>\n",
       "      <td>POINT (568019.787 2818518.673)</td>\n",
       "    </tr>\n",
       "    <tr>\n",
       "      <th>1833</th>\n",
       "      <td>2019-09-01 11:10:21</td>\n",
       "      <td>2.720754e+07</td>\n",
       "      <td>16.069815</td>\n",
       "      <td>0.276316</td>\n",
       "      <td>1</td>\n",
       "      <td>gt1l</td>\n",
       "      <td>POINT (568017.576 2818511.765)</td>\n",
       "    </tr>\n",
       "    <tr>\n",
       "      <th>1834</th>\n",
       "      <td>2019-09-01 11:10:21</td>\n",
       "      <td>2.720755e+07</td>\n",
       "      <td>14.670819</td>\n",
       "      <td>0.303078</td>\n",
       "      <td>1</td>\n",
       "      <td>gt1l</td>\n",
       "      <td>POINT (568015.636 2818505.708)</td>\n",
       "    </tr>\n",
       "    <tr>\n",
       "      <th>1835</th>\n",
       "      <td>2019-09-01 11:10:21</td>\n",
       "      <td>2.720755e+07</td>\n",
       "      <td>14.671224</td>\n",
       "      <td>0.324290</td>\n",
       "      <td>1</td>\n",
       "      <td>gt1l</td>\n",
       "      <td>POINT (568013.520 2818499.103)</td>\n",
       "    </tr>\n",
       "  </tbody>\n",
       "</table>\n",
       "</div>"
      ],
      "text/plain": [
       "              delta_time    seg_dist_x  height_segment_length_seg  \\\n",
       "1831 2019-09-01 11:10:21  2.720752e+07                  20.290331   \n",
       "1832 2019-09-01 11:10:21  2.720753e+07                  19.569931   \n",
       "1833 2019-09-01 11:10:21  2.720754e+07                  16.069815   \n",
       "1834 2019-09-01 11:10:21  2.720755e+07                  14.670819   \n",
       "1835 2019-09-01 11:10:21  2.720755e+07                  14.671224   \n",
       "\n",
       "      beam_fb_height  height_segment_type  beam  \\\n",
       "1831        0.253510                    1  gt1l   \n",
       "1832        0.265972                    1  gt1l   \n",
       "1833        0.276316                    1  gt1l   \n",
       "1834        0.303078                    1  gt1l   \n",
       "1835        0.324290                    1  gt1l   \n",
       "\n",
       "                            geometry  \n",
       "1831  POINT (568023.081 2818528.976)  \n",
       "1832  POINT (568019.787 2818518.673)  \n",
       "1833  POINT (568017.576 2818511.765)  \n",
       "1834  POINT (568015.636 2818505.708)  \n",
       "1835  POINT (568013.520 2818499.103)  "
      ]
     },
     "execution_count": 10,
     "metadata": {},
     "output_type": "execute_result"
    }
   ],
   "source": [
    "%%time\n",
    "tracks = tracks.to_crs(easegrid2_epsg)\n",
    "tracks.head()"
   ]
  },
  {
   "cell_type": "markdown",
   "id": "76ea27df-9bea-409f-a754-d945fb7ae01a",
   "metadata": {
    "user_expressions": []
   },
   "source": [
    "A _Drop-in-the-Bucket_ resampling scheme collects points into the grid cells that they intersect with, and then calculates aggregate statistics for each grid cell using attributes associated with those points.\n",
    "\n",
    "We'll find the grid cell that contains each segment by calculating the row and column coordinates for each segment from the projected coordinates.  This is done by creating an _Affine_ transformation matrix for the grid.  The Affine matrix is just a matrix representation of the algebraic expressions to convert row and column indices of the grid to projected coordinates.  The equations below give the forward transformation from `(row, col)` to `(x, y)`. \n",
    "\n",
    "$$\n",
    "x = width * col + upper\\_left\\_x \\\\\n",
    "y = height * row + upper\\_left\\_y\n",
    "$$\n",
    "\n",
    "These are expressed in matrix form:\n",
    "\n",
    "$$\n",
    "\\begin{bmatrix}\n",
    "x \\\\\n",
    "y \\\\\n",
    "0\n",
    "\\end{bmatrix} = \n",
    "\\begin{bmatrix}\n",
    "a & 0 & c \\\\\n",
    "0 & d & e \\\\\n",
    "0 & 0 & 1\n",
    "\\end{bmatrix}\n",
    "\\begin{bmatrix}\n",
    "col \\\\\n",
    "row \\\\\n",
    "1\n",
    "\\end{bmatrix}\n",
    "$$\n",
    "\n",
    "where $a$ is $\\mathsf{width}$, $c$ is $\\mathsf{upper\\_left\\_x}$, $d$ is $height$, and $e$ is $upper\\_left\\_y$.\n",
    "\n",
    "```{note}\n",
    "The projected coordinate system we are using is a cartesian plane with the origin at the South Pole.  The `x` coordinates increase to the right, and `y` coordinates increase up.  For raster data, which includes grids and images, have the origin at the upper-left corner of the grid.  Column indices increase from right to left, and row indices increase from top to bottom.\n",
    "```\n",
    "\n",
    "We use the `affine` package to create a forward transformation matrix (`fwd`) using the grid parameters above.  To transform `(x, y)` projected coordinates to `(row, col)`, we can calculate the reverse transformation matrix using `~fwd`.\n",
    "\n",
    "`(row, col)` coordinates are still rational numbers.  We want an integer row and column indices for grid cells.  We can use the `floor` function to get integers.  `row` and `column` indices are zero based.\n",
    "\n",
    "We want to be able to leverage the `geopandas.Dataframe.groupby` functionality to collect points into grid cells, so we need a unique identifier to group the data.  We can calculate a unique cell index from `row` and `column` indices as follows:\n",
    "\n",
    "$$\n",
    "cell\\_index = row * ncol + col\n",
    "$$\n",
    "\n",
    "This is encapsulated in the function `get_grid_index`.  This function is then applied to the `geometry` of tracks."
   ]
  },
  {
   "cell_type": "code",
   "execution_count": 11,
   "id": "00314673-7229-4be9-8674-0f39c9f29baf",
   "metadata": {
    "tags": []
   },
   "outputs": [],
   "source": [
    "def get_grid_index(xy):\n",
    "    geotransform = (upper_left_x, width, 0., upper_left_y, 0., height)\n",
    "    fwd = Affine.from_gdal(*geotransform)\n",
    "    col, row = ~fwd * xy\n",
    "    return (np.floor(row) * ncol) + np.floor(col)"
   ]
  },
  {
   "cell_type": "code",
   "execution_count": 12,
   "id": "bde50514-c70a-499c-ae77-ffadf367c6df",
   "metadata": {
    "tags": []
   },
   "outputs": [
    {
     "name": "stdout",
     "output_type": "stream",
     "text": [
      "CPU times: user 1min 41s, sys: 468 ms, total: 1min 42s\n",
      "Wall time: 1min 42s\n"
     ]
    },
    {
     "data": {
      "text/html": [
       "<div>\n",
       "<style scoped>\n",
       "    .dataframe tbody tr th:only-of-type {\n",
       "        vertical-align: middle;\n",
       "    }\n",
       "\n",
       "    .dataframe tbody tr th {\n",
       "        vertical-align: top;\n",
       "    }\n",
       "\n",
       "    .dataframe thead th {\n",
       "        text-align: right;\n",
       "    }\n",
       "</style>\n",
       "<table border=\"1\" class=\"dataframe\">\n",
       "  <thead>\n",
       "    <tr style=\"text-align: right;\">\n",
       "      <th></th>\n",
       "      <th>delta_time</th>\n",
       "      <th>seg_dist_x</th>\n",
       "      <th>height_segment_length_seg</th>\n",
       "      <th>beam_fb_height</th>\n",
       "      <th>height_segment_type</th>\n",
       "      <th>beam</th>\n",
       "      <th>geometry</th>\n",
       "      <th>grid_index</th>\n",
       "    </tr>\n",
       "  </thead>\n",
       "  <tbody>\n",
       "    <tr>\n",
       "      <th>1831</th>\n",
       "      <td>2019-09-01 11:10:21</td>\n",
       "      <td>2.720752e+07</td>\n",
       "      <td>20.290331</td>\n",
       "      <td>0.253510</td>\n",
       "      <td>1</td>\n",
       "      <td>gt1l</td>\n",
       "      <td>POINT (568023.081 2818528.976)</td>\n",
       "      <td>-49526.0</td>\n",
       "    </tr>\n",
       "    <tr>\n",
       "      <th>1832</th>\n",
       "      <td>2019-09-01 11:10:21</td>\n",
       "      <td>2.720753e+07</td>\n",
       "      <td>19.569931</td>\n",
       "      <td>0.265972</td>\n",
       "      <td>1</td>\n",
       "      <td>gt1l</td>\n",
       "      <td>POINT (568019.787 2818518.673)</td>\n",
       "      <td>-49526.0</td>\n",
       "    </tr>\n",
       "    <tr>\n",
       "      <th>1833</th>\n",
       "      <td>2019-09-01 11:10:21</td>\n",
       "      <td>2.720754e+07</td>\n",
       "      <td>16.069815</td>\n",
       "      <td>0.276316</td>\n",
       "      <td>1</td>\n",
       "      <td>gt1l</td>\n",
       "      <td>POINT (568017.576 2818511.765)</td>\n",
       "      <td>-49526.0</td>\n",
       "    </tr>\n",
       "    <tr>\n",
       "      <th>1834</th>\n",
       "      <td>2019-09-01 11:10:21</td>\n",
       "      <td>2.720755e+07</td>\n",
       "      <td>14.670819</td>\n",
       "      <td>0.303078</td>\n",
       "      <td>1</td>\n",
       "      <td>gt1l</td>\n",
       "      <td>POINT (568015.636 2818505.708)</td>\n",
       "      <td>-49526.0</td>\n",
       "    </tr>\n",
       "    <tr>\n",
       "      <th>1835</th>\n",
       "      <td>2019-09-01 11:10:21</td>\n",
       "      <td>2.720755e+07</td>\n",
       "      <td>14.671224</td>\n",
       "      <td>0.324290</td>\n",
       "      <td>1</td>\n",
       "      <td>gt1l</td>\n",
       "      <td>POINT (568013.520 2818499.103)</td>\n",
       "      <td>-49526.0</td>\n",
       "    </tr>\n",
       "  </tbody>\n",
       "</table>\n",
       "</div>"
      ],
      "text/plain": [
       "              delta_time    seg_dist_x  height_segment_length_seg  \\\n",
       "1831 2019-09-01 11:10:21  2.720752e+07                  20.290331   \n",
       "1832 2019-09-01 11:10:21  2.720753e+07                  19.569931   \n",
       "1833 2019-09-01 11:10:21  2.720754e+07                  16.069815   \n",
       "1834 2019-09-01 11:10:21  2.720755e+07                  14.670819   \n",
       "1835 2019-09-01 11:10:21  2.720755e+07                  14.671224   \n",
       "\n",
       "      beam_fb_height  height_segment_type  beam  \\\n",
       "1831        0.253510                    1  gt1l   \n",
       "1832        0.265972                    1  gt1l   \n",
       "1833        0.276316                    1  gt1l   \n",
       "1834        0.303078                    1  gt1l   \n",
       "1835        0.324290                    1  gt1l   \n",
       "\n",
       "                            geometry  grid_index  \n",
       "1831  POINT (568023.081 2818528.976)    -49526.0  \n",
       "1832  POINT (568019.787 2818518.673)    -49526.0  \n",
       "1833  POINT (568017.576 2818511.765)    -49526.0  \n",
       "1834  POINT (568015.636 2818505.708)    -49526.0  \n",
       "1835  POINT (568013.520 2818499.103)    -49526.0  "
      ]
     },
     "execution_count": 12,
     "metadata": {},
     "output_type": "execute_result"
    }
   ],
   "source": [
    "%%time\n",
    "tracks[\"grid_index\"] = [get_grid_index((x, y)) for x, y in zip(tracks.geometry.x, tracks.geometry.y)]\n",
    "tracks.head()"
   ]
  },
  {
   "cell_type": "markdown",
   "id": "5e8ef611-f970-4615-9e18-df848a103dd6",
   "metadata": {
    "user_expressions": []
   },
   "source": [
    "### Calculate grid cell mean statistics\n",
    "\n",
    "We calculate four statistics for grid cells that contain segments.\n",
    "\n",
    "#### Grid Cell Mean Segment Length $\\bar{L}$\n",
    "\n",
    "$$\n",
    "\\bar{L}(x, y, D) = \\frac{\\sum L_i}{N}\n",
    "$$\n",
    "\n",
    "where $L_i$ is `/gtx/freeboard_beam_segment/height_segments/height_segment_length_seg`, $x$ and $y$ are projected coordinates for grid centers, and $D$ is day. \n",
    "\n",
    "#### Grid Cell Mean Freeboard $\\bar{h}$\n",
    "\n",
    "$$\n",
    "\\bar{h}(x, y, D) = \\frac{\\sum L_i h_i}{\\sum L_i}\n",
    "$$\n",
    "\n",
    "where $h_i$ is `gtx/freeboard_beam_segment/beam_freeboard/beam_fb_height`.\n",
    "\n",
    "#### Grid Cell Standard Deviation of Freeboard $\\sigma^2 (x, y, D)$\n",
    "\n",
    "$$\n",
    "\\sigma^2 (x, y, D) = \\frac{\\sum L_i (h_i)^2}{\\sum L_i} - \\bar{h}^2 (x, y, D)\n",
    "$$\n",
    "\n",
    "The functions to calculate these statistics are given below.  These functions are applied to the grouped data.  The `geopandas.apply` method only accepts a single method when operating on multiple columns in a dataframe.  We could just have multiple calls for each aggregating function.  However, we can collect the individual aggregating functions into a single function and pass that to the `apply` method. "
   ]
  },
  {
   "cell_type": "code",
   "execution_count": 13,
   "id": "36b0e9c9-b81e-4e71-b29a-7b04b6c42b15",
   "metadata": {
    "tags": []
   },
   "outputs": [],
   "source": [
    "def mean_segment_length(df):\n",
    "    \"\"\"Returns mean segment length\"\"\"\n",
    "    return df[\"height_segment_length_seg\"].mean()\n",
    "\n",
    "\n",
    "def mean_freeboard(df):\n",
    "    \"\"\"Returns length weighted mean freeboard\"\"\"\n",
    "    return (df.beam_fb_height * df.height_segment_length_seg).sum() / df.height_segment_length_seg.sum()\n",
    "\n",
    "\n",
    "def stdev_freeboard(df):\n",
    "    \"\"\"Returns weighted standard deviation of freeboard\"\"\"\n",
    "    hmean = mean_freeboard(df)\n",
    "    stdev = (df.beam_fb_height**2 * df.height_segment_length_seg).sum() / df.height_segment_length_seg.sum()\n",
    "    return stdev - hmean**2\n",
    "\n",
    "\n",
    "def count_segments(df):\n",
    "    \"\"\"Number of segments in grid cell\"\"\"\n",
    "    return df.beam_fb_height.count()\n",
    "\n",
    "\n",
    "def all_funcs(x):\n",
    "    \"\"\"Wrapper that allows all the aggregation functions to be applied at once\"\"\"\n",
    "    funcs = {\n",
    "        mean_segment_length.__name__: mean_segment_length(x),  #__name__ gets the name of a function\n",
    "        mean_freeboard.__name__: mean_freeboard(x),\n",
    "        stdev_freeboard.__name__: stdev_freeboard(x),\n",
    "        count_segments.__name__: count_segments(x),\n",
    "    }\n",
    "    # `apply` is expected to return a series or a scaler so we collect the results\n",
    "    # into a series indexed by aggregating function name\n",
    "    return pd.Series(funcs, index=funcs.keys())"
   ]
  },
  {
   "cell_type": "markdown",
   "id": "25f5be24-a611-4f05-ad99-10d07d1fa7ef",
   "metadata": {
    "user_expressions": []
   },
   "source": [
    "#### Testing the functions\n",
    "\n",
    "It is always a good idea to test your code.  Below are some test data and expected results.  The functions are tested on `test_df`.  We then use `pandas.testing.assert_frame_equal` to check that the result and expected dataframes are the same.  In this case we are only interested getting the same values, so we do not check the names or datatypes. "
   ]
  },
  {
   "cell_type": "code",
   "execution_count": 14,
   "id": "4888fdcb-f08a-4164-b740-f25d25a92aba",
   "metadata": {
    "tags": []
   },
   "outputs": [],
   "source": [
    "test_df = pd.DataFrame(\n",
    "    {\n",
    "        'grid_index': [1, 1, 1, 2, 2, 2, 2],\n",
    "        \"height_segment_length_seg\": [1.2, 1.1, 0.7, 2.3, 1.5, .9, 1.],\n",
    "        \"beam_fb_height\": [0., 0.2, 0.5, 1.1, 2., .9, 1.5],        \n",
    "    }\n",
    ")\n",
    "expected = pd.DataFrame(\n",
    "    {\n",
    "        \"mean_segment_length\": [1.0, 1.425],\n",
    "        \"mean_freeboard\": [0.19000000000000003, 1.375438596491228],\n",
    "        \"stdev_freeboard\": [0.03689999999999998, 0.17167743921206569],\n",
    "        \"count_segments\": [3, 4],\n",
    "    },\n",
    "    index = [1, 2]\n",
    ")"
   ]
  },
  {
   "cell_type": "code",
   "execution_count": 15,
   "id": "6f9696fc-7d63-4d5b-9d41-a95e5c408875",
   "metadata": {
    "tags": []
   },
   "outputs": [
    {
     "data": {
      "text/html": [
       "<div>\n",
       "<style scoped>\n",
       "    .dataframe tbody tr th:only-of-type {\n",
       "        vertical-align: middle;\n",
       "    }\n",
       "\n",
       "    .dataframe tbody tr th {\n",
       "        vertical-align: top;\n",
       "    }\n",
       "\n",
       "    .dataframe thead th {\n",
       "        text-align: right;\n",
       "    }\n",
       "</style>\n",
       "<table border=\"1\" class=\"dataframe\">\n",
       "  <thead>\n",
       "    <tr style=\"text-align: right;\">\n",
       "      <th></th>\n",
       "      <th>mean_segment_length</th>\n",
       "      <th>mean_freeboard</th>\n",
       "      <th>stdev_freeboard</th>\n",
       "      <th>count_segments</th>\n",
       "    </tr>\n",
       "    <tr>\n",
       "      <th>grid_index</th>\n",
       "      <th></th>\n",
       "      <th></th>\n",
       "      <th></th>\n",
       "      <th></th>\n",
       "    </tr>\n",
       "  </thead>\n",
       "  <tbody>\n",
       "    <tr>\n",
       "      <th>1</th>\n",
       "      <td>1.000</td>\n",
       "      <td>0.190000</td>\n",
       "      <td>0.036900</td>\n",
       "      <td>3.0</td>\n",
       "    </tr>\n",
       "    <tr>\n",
       "      <th>2</th>\n",
       "      <td>1.425</td>\n",
       "      <td>1.375439</td>\n",
       "      <td>0.171677</td>\n",
       "      <td>4.0</td>\n",
       "    </tr>\n",
       "  </tbody>\n",
       "</table>\n",
       "</div>"
      ],
      "text/plain": [
       "            mean_segment_length  mean_freeboard  stdev_freeboard  \\\n",
       "grid_index                                                         \n",
       "1                         1.000        0.190000         0.036900   \n",
       "2                         1.425        1.375439         0.171677   \n",
       "\n",
       "            count_segments  \n",
       "grid_index                  \n",
       "1                      3.0  \n",
       "2                      4.0  "
      ]
     },
     "execution_count": 15,
     "metadata": {},
     "output_type": "execute_result"
    }
   ],
   "source": [
    "result = test_df.groupby(\"grid_index\").apply(all_funcs)\n",
    "result"
   ]
  },
  {
   "cell_type": "code",
   "execution_count": 16,
   "id": "5b7fe215-e265-4c6b-ae21-f2ca1dfbdee0",
   "metadata": {
    "tags": []
   },
   "outputs": [],
   "source": [
    "pd.testing.assert_frame_equal(expected, result, check_names=False, check_dtype=False)"
   ]
  },
  {
   "cell_type": "markdown",
   "id": "fa6e82a2-569d-46c8-b7ba-53bd42774ac7",
   "metadata": {
    "user_expressions": []
   },
   "source": [
    "Now that we have functions that work we can apply them to the real data."
   ]
  },
  {
   "cell_type": "code",
   "execution_count": 17,
   "id": "4430c3cf-a667-43df-8313-701fdfc1abf9",
   "metadata": {
    "tags": []
   },
   "outputs": [
    {
     "name": "stdout",
     "output_type": "stream",
     "text": [
      "CPU times: user 22.7 s, sys: 368 ms, total: 23.1 s\n",
      "Wall time: 23.1 s\n"
     ]
    },
    {
     "data": {
      "text/html": [
       "<div>\n",
       "<style scoped>\n",
       "    .dataframe tbody tr th:only-of-type {\n",
       "        vertical-align: middle;\n",
       "    }\n",
       "\n",
       "    .dataframe tbody tr th {\n",
       "        vertical-align: top;\n",
       "    }\n",
       "\n",
       "    .dataframe thead th {\n",
       "        text-align: right;\n",
       "    }\n",
       "</style>\n",
       "<table border=\"1\" class=\"dataframe\">\n",
       "  <thead>\n",
       "    <tr style=\"text-align: right;\">\n",
       "      <th></th>\n",
       "      <th>mean_segment_length</th>\n",
       "      <th>mean_freeboard</th>\n",
       "      <th>stdev_freeboard</th>\n",
       "      <th>count_segments</th>\n",
       "    </tr>\n",
       "    <tr>\n",
       "      <th>grid_index</th>\n",
       "      <th></th>\n",
       "      <th></th>\n",
       "      <th></th>\n",
       "      <th></th>\n",
       "    </tr>\n",
       "  </thead>\n",
       "  <tbody>\n",
       "    <tr>\n",
       "      <th>-63836.0</th>\n",
       "      <td>35.544930</td>\n",
       "      <td>0.461877</td>\n",
       "      <td>0.048001</td>\n",
       "      <td>394.0</td>\n",
       "    </tr>\n",
       "    <tr>\n",
       "      <th>-63689.0</th>\n",
       "      <td>20.859682</td>\n",
       "      <td>0.529577</td>\n",
       "      <td>0.048061</td>\n",
       "      <td>1364.0</td>\n",
       "    </tr>\n",
       "    <tr>\n",
       "      <th>-63688.0</th>\n",
       "      <td>17.013283</td>\n",
       "      <td>0.580957</td>\n",
       "      <td>0.046754</td>\n",
       "      <td>203.0</td>\n",
       "    </tr>\n",
       "    <tr>\n",
       "      <th>-63542.0</th>\n",
       "      <td>16.194633</td>\n",
       "      <td>0.506654</td>\n",
       "      <td>0.049144</td>\n",
       "      <td>3649.0</td>\n",
       "    </tr>\n",
       "    <tr>\n",
       "      <th>-63396.0</th>\n",
       "      <td>13.722307</td>\n",
       "      <td>0.563801</td>\n",
       "      <td>0.022238</td>\n",
       "      <td>299.0</td>\n",
       "    </tr>\n",
       "    <tr>\n",
       "      <th>...</th>\n",
       "      <td>...</td>\n",
       "      <td>...</td>\n",
       "      <td>...</td>\n",
       "      <td>...</td>\n",
       "    </tr>\n",
       "    <tr>\n",
       "      <th>34094.0</th>\n",
       "      <td>13.612464</td>\n",
       "      <td>0.096349</td>\n",
       "      <td>0.001544</td>\n",
       "      <td>2060.0</td>\n",
       "    </tr>\n",
       "    <tr>\n",
       "      <th>34212.0</th>\n",
       "      <td>66.543144</td>\n",
       "      <td>0.362712</td>\n",
       "      <td>0.031803</td>\n",
       "      <td>18.0</td>\n",
       "    </tr>\n",
       "    <tr>\n",
       "      <th>34240.0</th>\n",
       "      <td>12.773907</td>\n",
       "      <td>0.117769</td>\n",
       "      <td>0.001388</td>\n",
       "      <td>1698.0</td>\n",
       "    </tr>\n",
       "    <tr>\n",
       "      <th>34241.0</th>\n",
       "      <td>14.239722</td>\n",
       "      <td>0.113066</td>\n",
       "      <td>0.001561</td>\n",
       "      <td>2717.0</td>\n",
       "    </tr>\n",
       "    <tr>\n",
       "      <th>34387.0</th>\n",
       "      <td>13.065782</td>\n",
       "      <td>0.121704</td>\n",
       "      <td>0.000072</td>\n",
       "      <td>9.0</td>\n",
       "    </tr>\n",
       "  </tbody>\n",
       "</table>\n",
       "<p>8927 rows × 4 columns</p>\n",
       "</div>"
      ],
      "text/plain": [
       "            mean_segment_length  mean_freeboard  stdev_freeboard  \\\n",
       "grid_index                                                         \n",
       "-63836.0              35.544930        0.461877         0.048001   \n",
       "-63689.0              20.859682        0.529577         0.048061   \n",
       "-63688.0              17.013283        0.580957         0.046754   \n",
       "-63542.0              16.194633        0.506654         0.049144   \n",
       "-63396.0              13.722307        0.563801         0.022238   \n",
       "...                         ...             ...              ...   \n",
       " 34094.0              13.612464        0.096349         0.001544   \n",
       " 34212.0              66.543144        0.362712         0.031803   \n",
       " 34240.0              12.773907        0.117769         0.001388   \n",
       " 34241.0              14.239722        0.113066         0.001561   \n",
       " 34387.0              13.065782        0.121704         0.000072   \n",
       "\n",
       "            count_segments  \n",
       "grid_index                  \n",
       "-63836.0             394.0  \n",
       "-63689.0            1364.0  \n",
       "-63688.0             203.0  \n",
       "-63542.0            3649.0  \n",
       "-63396.0             299.0  \n",
       "...                    ...  \n",
       " 34094.0            2060.0  \n",
       " 34212.0              18.0  \n",
       " 34240.0            1698.0  \n",
       " 34241.0            2717.0  \n",
       " 34387.0               9.0  \n",
       "\n",
       "[8927 rows x 4 columns]"
      ]
     },
     "execution_count": 17,
     "metadata": {},
     "output_type": "execute_result"
    }
   ],
   "source": [
    "%%time\n",
    "aggregated_data = tracks.groupby(\"grid_index\").apply(all_funcs)\n",
    "aggregated_data"
   ]
  },
  {
   "cell_type": "markdown",
   "id": "3d50d44e-3cb1-4d82-9711-619258d4308b",
   "metadata": {
    "user_expressions": []
   },
   "source": [
    "### Assign aggregated data to grid cells\n",
    "\n",
    "We now have a dataframe that contains grid cell statistics indexed by a unique array index.  We can now create a grid for each of these statistics.\n",
    "\n",
    "The procedure is relatively straight forward.\n",
    "\n",
    " - Create an 1D array with the same number of elements as cells in our grid.\n",
    " - Use the `grid_index` of the dataframe as an array index to assign values to grid cells, where we have data.\n",
    " - Reshape the grid to the dimension of the grid.\n",
    " \n",
    "We can encapsulate this in a `series_to_grid` function."
   ]
  },
  {
   "cell_type": "code",
   "execution_count": 18,
   "id": "22f1a761-2fa1-4700-8dc2-481b419ee2a1",
   "metadata": {
    "tags": []
   },
   "outputs": [],
   "source": [
    "def series_to_grid(series, nrow, ncol):\n",
    "    \"\"\"Converts a geopandas.Series to a grid using the index\"\"\"\n",
    "    these_points = (series.index >= 0) & (series.index < (nrow*ncol - 1))\n",
    "    \n",
    "    array_index = series[these_points].index.values.astype(int)  # the array index must be an integer\n",
    "    \n",
    "    vector = np.full(nrow*ncol, np.nan)\n",
    "    vector[array_index] = series[these_points]\n",
    "    return vector.reshape(nrow, ncol)"
   ]
  },
  {
   "cell_type": "code",
   "execution_count": 19,
   "id": "3acf83d5-b888-427d-b4f0-e98beae7845f",
   "metadata": {
    "tags": []
   },
   "outputs": [
    {
     "name": "stdout",
     "output_type": "stream",
     "text": [
      "CPU times: user 2.67 ms, sys: 0 ns, total: 2.67 ms\n",
      "Wall time: 2.3 ms\n"
     ]
    }
   ],
   "source": [
    "%%time\n",
    "grids = {name: series_to_grid(values, nrow, ncol) for name, values in aggregated_data.items()}"
   ]
  },
  {
   "cell_type": "code",
   "execution_count": 20,
   "id": "6994fca1-53aa-4b76-95d9-c24981bb4100",
   "metadata": {
    "tags": []
   },
   "outputs": [
    {
     "data": {
      "application/vnd.jupyter.widget-view+json": {
       "model_id": "39120a56766b4768bcd71cf39a49dff1",
       "version_major": 2,
       "version_minor": 0
      },
      "image/png": "[encoded data removed]",
      "text/html": [
       "\n",
       "            <div style=\"display: inline-block;\">\n",
       "                <div class=\"jupyter-widgets widget-label\" style=\"text-align: center;\">\n",
       "                    Figure\n",
       "                </div>\n",
       "                <img src='data:image/png;base64,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' width=640.0/>\n",
       "            </div>\n",
       "        "
      ],
      "text/plain": [
       "Canvas(toolbar=Toolbar(toolitems=[('Home', 'Reset original view', 'home', 'home'), ('Back', 'Back to previous …"
      ]
     },
     "metadata": {},
     "output_type": "display_data"
    }
   ],
   "source": [
    "%matplotlib widget\n",
    "plt.imshow(grids['count_segments'], interpolation='none')\n",
    "plt.show()"
   ]
  },
  {
   "cell_type": "markdown",
   "id": "1c1b73ba-e759-43cb-ad11-4b24c79eb75b",
   "metadata": {
    "user_expressions": []
   },
   "source": [
    "## Plot data on a map"
   ]
  },
  {
   "cell_type": "code",
   "execution_count": 21,
   "id": "8454d0e8-fd29-45f6-b5aa-f15947ea95de",
   "metadata": {
    "tags": []
   },
   "outputs": [
    {
     "data": {
      "text/plain": [
       "<matplotlib.image.AxesImage at 0x7f8d3f6edc90>"
      ]
     },
     "execution_count": 21,
     "metadata": {},
     "output_type": "execute_result"
    },
    {
     "data": {
      "application/vnd.jupyter.widget-view+json": {
       "model_id": "a165f294de3b477dbd5d83449f38fe9d",
       "version_major": 2,
       "version_minor": 0
      },
      "image/png": "[encoded data removed]",
      "text/html": [
       "\n",
       "            <div style=\"display: inline-block;\">\n",
       "                <div class=\"jupyter-widgets widget-label\" style=\"text-align: center;\">\n",
       "                    Figure\n",
       "                </div>\n",
       "                <img src='data:image/png;base64,iVBORw0KGgoAAAANSUhEUgAAA+gAAAPoCAYAAABNo9TkAAAAOXRFWHRTb2Z0d2FyZQBNYXRwbG90bGliIHZlcnNpb24zLjYuMiwgaHR0cHM6Ly9tYXRwbG90bGliLm9yZy8o6BhiAAAACXBIWXMAAA9hAAAPYQGoP6dpAAEAAElEQVR4nOzddXRUV8D14T3xEJIAwZ3iLsXdrbiTQHF3KQ4FimuhQHF3d4q7a/HiBA2eBIhnvj94y/vyQZGQ5E6S37NWFnTmzj172i6YPefcc01ms9ksAAAAAABgKCujAwAAAAAAAAo6AAAAAAAWgYIOAAAAAIAFoKADAAAAAGABKOgAAAAAAFgACjoAAAAAABaAgg4AAAAAgAWgoAMAAAAAYAEo6AAAAAAAWAAKOgAAAAAAFoCCDgAAAACABaCgAwAAAABgASjoAAAAAABYAAo6AAAAAAAWgIIOAAAAAIAFoKADAAAAAGABKOgAAAAAAFgACjoAAAAAABaAgg4AAAAAgAWgoAMAAAAAYAEo6AAAAAAAWAAKOgAAAAAAFoCCDgAAAACABaCgAwAAAABgASjoAAAAAABYAAo6AAAAAAAWgIIOAAAAAIAFoKADAAAAAGABKOgAAAAAAFgACjoAAAAAABaAgg4AAAAAgAWgoAMAAAAAYAEo6AAAAAAAWAAKOgAAAAAAFoCCDgAAAACABaCgAwAAAABgASjoAAAAAABYAAo6AAAAAAAWgIIOAAAAAIAFoKADAAAAAGABKOgAAAAAAFgACjoAAAAAABaAgg4AAAAAgAWgoAMAAAAAYAEo6AAAAAAAWAAKOgAAAAAAFoCCDgAAAACABaCgAwAAAABgASjoAAAAAABYAAo6AAAAAAAWgIIOAAAAAIAFoKADAAAAAGABKOgAAAAAAFgACjoAAAAAABaAgg4AAAAAgAWgoAMAAAAAYAEo6AAAAAAAWAAKOgAAAAAAFoCCDgAAAACABaCgAwAAAABgASjoAAAAAABYAAo6AAAAAAAWgIIOAAAAAIAFoKADAAAAAGABKOgAAAAAAFgACjoAAAAAABaAgg4AAAAAgAWgoAMAAAAAYAEo6AAAAAAAWAAKOgAAAAAAFoCCDgAAAACABaCgAwAAAABgASjoAAAAAABYAAo6AAAAAAAWgIIOAAAAAIAFoKADAAAAAGABKOgAAAAAAFgACjoAAAAAABaAgg4AAAAAgAWgoAMAAAAAYAEo6AAAAAAAWAAKOgAAAAAAFoCCDgAAAACABaCgAwAAAABgASjoAAAAAABYAAo6AAAAAAAWgIIOAAAAAIAFoKADAAAAAGABKOgAAAAAAFgACjoAAAAAABaAgg4AAAAAgAWgoAMAAAAAYAEo6AAAAAAAWAAKOgAAAAAAFoCCDgAAAACABaCgAwAAAABgASjoAAAAAABYAAo6AAAAAAAWgIIOAAAAAIAFoKADAAAAAGABKOgAAAAAAFgACjoAAAAAABaAgg4AAAAAgAWgoAMAAAAAYAEo6AAAAAAAWAAKOgAAAAAAFoCCDgAAAACABaCgAwAAAABgASjoAAAAAABYAAo6AAAAAAAWgIIOAAAAAIAFoKADAAAAAGABKOgAAAAAAFgACjoAAAAAABaAgg4AAAAAgAWgoAMAAAAAYAEo6AAAAAAAWAAKOgAAAAAAFsDG6ACIGvz9/RUYGGh0DAAAAAD/wc7OTg4ODkbHwHegoOOL/P39lTp1Snl5PTU6CgAAAID/kDhxYt2+fZuSHoVR0PFFgYGB8vJ6qosXD8jZObbRcQAA+Kxly9aqT59h6tChg4YPHy6TyRRpY7948UKjR4/WrFmzZDabFRoaKklycXHWiRPb5ejIh2YAEcPX97WyZSuuwMBACnoURkHHV3N2ji0XF2ejYwAA8Flt2jSRyWSl3r2HKk6cOBo2bFikje3i4qI///xT3bp1086dO+Xo6KjXr1+rS5cuunbtpooVKxhpWQAAUQ8FHQAARDutWzdWQECABg0aLgcHBw0YMCBSx8+QIYMyZMggSQoNDdXgwYN15MhJCjoA4LMo6AAAIFrq1KmlAgICNHDgQDk6OqpHjx6G5LCyslLRokV19OgpQ8YHAEQdFHQAABBt9ezZQf7+AerZs6ccHBzUoUMHQ3IUL15cgwYNVGBgoOzs7AzJAACwfBR0AAAQrfXv300BAYHq2LGj7O3t1bJly0jPUKxYMfn5+evvvy8pX77ckT4+ACBqoKADAIBozWQyaejQ3vL3D1Dr1q1lb2+vxo0bR2qGPHnyKFasWNq//ygFHQDwnyjoAAAg2jOZTBo9eqACAgLUtGlT2dvbq169epE2vq2trRo0aKAJE/5UmTLFlDt39kgbGwAQdVgZHQAAACAyWFlZaeLE31SnTlV5eHhow4YNkTr+lClTlCNHDrm7t9WDB48idWwAQNRAQQcAADGGtbW1pk4dpSpVyqlu3bratm1bpI3t6Oio9es3yM7OQQ0bttWrV96RNjYAIGqgoAMAgBjFxsZGM2eOV7lyJVSrVi3t3r070sZOnDixNm/erPv3H6lYsWrceg0A8AEKOgAAiHFsbW01d+7vKlIkv6pVq6YjR45E2tjZs2fXuXPnlDr1D6pSxUNjx05RSEhIpI0PALBcFHQAABAj2dvba9GiqcqYMa369u0bqWOnTJlSe/fuVf/+/TVq1B+qUaOJHj58HKkZAACWh4IOAABiLEdHB9WvX12HDx+W2WyO1LFtbGw0dOhQ7dmzR7dv31fRolW1dWvkLbcHAFgeCjoAAIjREiSIr5CQED1//tyQ8UuUKKG///5bxYoVl4dHW/XuPVT+/gGGZAEAGIuCDgAAYrT8+fNIkvbs2WNYBjc3N61fv15//PGHFixYqXLl6uratZuG5QEAGIOCDgAAYrTkyZMob95cmjFjhqE5TCaTOnbsqOPHjys42KxSpWpq8eJVkb70HgBgHAo6AACI8Tp0aK49e/aoVq1aOn36tKFZcubMqVOnTqlBg4bq1KmfWrbsJm9vX0MzAQAiBwUdAADEeNWrV9TUqaP0999nlTdvXlWsWEGHDh0yLI+Tk5PmzJmj5cuXa9eugypRorpOn/7bsDwAgMhBQQcAADGeyWSSu3ttnTjxl2bPnqh79+6qWLFi2rx5s6G56tevr7Nnzypx4iSqWLGBJk2aqdDQUEMzAQAijsnMhU34Ah8fH7m6uuru3TNycXE2Og4AABEuNDRUtWs314MHXrpy5aqsra0NzRMUFKQBAwZozJgxKlgwrzp1aqHy5UvKxsbG0FwALIePj69Spcojb29vubi4GB0HYcQMOgAAiLEuX76mrVt36/Tpv+Xp+eD97c2srKzUrl1TXb9+Q/fv3zc4pWRra6vRo0dr165dMput5OHRTrlzl9G4cdP05Mkzo+MBAMIJM+j4ImbQAQDR0dGjp1SzZlMFBHx4z3EXF2clSBBfN2/eliSdOXNGuXPnNiLifzp9+rSmTZumZcuWKTg4WFWrlleLFh4qVCivTCaT0fEAGIAZ9OiBgo4voqADAKIbPz9/Zc9eQtmz59CiRYv0/PlzeXl5ycvLS48fP5aXl5cOHDggBwd77dy5S/b29kZH/qSXL19qwYIFmjZtqq5fv6EsWTKoeXN31atXXc7OsY2OByASUdCjBwo6voiCDgCIbnbtOqC6dVvo0qVLypIlyyeP+fcjUlSYkQ4NDdWePXs0bdo0bdiwQbFiOap+/Rpq3txdWbJk+OLrHz3y0oYN29S4cT05OcWKhMQAwhsFPXrgGnQAABDjODo6SNJnry83mUxRopxL766ZL1u2rNauXau7d++qe/ce2rJlt4oU+UmVK7trzZrNCgwM/Oh13t6+GjZsgn78saz69h2uiROnG5AeAPAvZtDxRcygAwCim5CQENWo0UR37jzQjRs3LHYJ+/cICgrS+vXrNW3aNO3bt08JEsRXo0Z1lD59Gvn6vtHBg0e1f/9RBQeHqEuXLnrz5o1mz56l06d3KUmSREbHB/CNmEGPHijo+CIKOgAgOvr770sqWbKG9uzZo1KlShkdJ0JdvnxZ06ZN06JFi+Tj4yMrKysVKlRQFStWUrNmzZQsWTJ5e3srSZIk6tevizp2bGF0ZADfiIIePVDQ8UUUdABAdBQaGqqMGQurZctWGjlypNFxIkVoaKhCQkJkMpk+eQ/10qVLy9HRWkuW/GlAOgDfg4IePXANOgAAiJGsrKxUqlQR7dix3egokcbKykq2trafLOeSVKxYMR09ekqhoaGRnAwAIFHQAQBADFa6dFGdOXNWT58+NTqKRShbtqxevnylwoV/0pgxf+jGjdtGRwKAGIUl7vgilrgDAKKrx4+fKHPmIlqyZInc3d2NjmMRtm/frsWLF2v9+vV6/fq10qf/QSlTJlPixAmVOHFCZc6cQbVq/RRldrgHYgqWuEcPn17fBAAAEAMkTpxQadOm0cmTJyno/6NChQqqUKGC/Pz8tHXrVu3du1cPHz7UjRv3dODAcd27d1/e3j5q3px/XwAQ3ijoAAAgRkubNpWuX79udAyL4+joqNq1a6t27dofPN6uXTv17z9ChQvnU6ZM6Q1KBwDREwUdAADEaCaTSa9evTQ6RpQxfvx4HThwQPXrt9bgwb+odOlievXqlV68+PfnpV6+/N9/fvnylQYP/kXJkiUxOjoAWDwKOgAAiLE8Pe9r5879mjp1qtFRooxYsWJpw4YN6tSpo5o37/LJY+zt7eXmFk9ubm66cOGi1q7dops3TyhOHNdITgsAUQsFHQAAxFizZi2Wi4uLGjdubHSUKCVdunTatu0vnThxQrdv35abm9sHP7FixXq/iZyXl5dSpUqluXOXqXv3tgYnBwDLRkEHAAAx0pUr1zV37lJ16tRZTk5ORseJkvLnz6/8+fN/9phEiRKpcePGmjFjodq3byYHB/tISgcAUQ/3QQcAADHG48dP1KpVdxUpUkUlS9ZQ2rRpNXDgQKNjRXs9e/bU06fPtHLlBqOjAIBFo6ADAIAYwWw2q0uX/tq376hKliyjcePGaefOXcyeR4KMGTOqevXqmjZtnsxms9FxAMBiscQdAADECBs3/qUdO/Zpw4YNqlatmtFxYpx27dqpQoUKOnv2gvLkyWF0HACwSMygAwCAGGHXrgPKlSsn5dwgpUuXVuLEiVnmDgCfQUEHAAAxwpUr15UzZy6jY8RYNjY2cnd315o1W+Tt7Wt0HACwSBR0AAAQ7YWGhurq1evKli2b0VFitJYtW+rtWz/lylVKEyZM1+vXb4yOBAAWhYIOAACivfv3H+nNm7fKkiWL0VFitMyZM+v69evy8Gik0aP/UNGiVXXnjqfRsQDAYlDQAQBAtOfmFlcODva6cuWK0VFivKRJk2rKlCm6cuWK7OzsVbmyu65du2l0LACwCBR0AAAQ7Tk5xVKZMsW1evUqo6Pgf/zwww86cOCg3Nzi66efPHTgwFFdv36L27ABiNEo6AAAIEaoWrWCjh07rvv37xsdBf8jceLE2rdvv9KnT6/q1X9W/vwV1LFjH/n5+RsdDQAMQUEHAAAxQsWKpWVra6u1a9caHQX/h5ubmw4ePKQdO3Zo6tSpWrt2qypVaiBPT75IARDzUNABAECM4OrqrJIlC2vNmjVGR8H/x9raWuXKlVP79u115MgReXu/UcmSNbV790GjowFApKKgAwCAGKNatQo6ePCgvLy8jI6C/5A7d26dOnVK+fPnV506zVWvXiudO3fR6FgAECko6AAAIMaoXLmsrKystG7dOqOj4DPc3Ny0des2LV26VHfvPlSpUjXl4dFOFy6wCz+A6I2CDgAAYox48eKqWLGCWrNmtdFR8AVWVlZq2LChLl26pAULFujq1VsqXryamjbtpCtXrhsdDwAiBAUdAADEKFWrltfevfv04MEDo6PgK9jY2Ojnn3/W1atXNXv2bJ07d0VFivykVq2668aN20bHA4BwRUEHAAAxSs2alZUwYXy5u7srODjY6Dj4Sra2tmrRooWuXbumadOm6ejRMypQoKLat++l27fvGh0PAMIFBR0AAMQocePG0Zw5v+vw4cPq16/f+8fPnj2rrVu36tmzZwamw5fY2dmpbdu2unHjhn7//Xft3XtUefKUVapUeVS+fD1duvSP0REBIMxMZrPZbHQIWDYfHx+5urrq7t0zcnFxNjoOACAKCQgIkJWVlWxtbY2O8pEpU+Zo4MBRGjp0qPbs2aN9+/a9fy59+nQqWLCQfvzxR7m6usrR0fGDn8yZM8vNzc248HjPz89PGzdulKenpxYvXqQbN25o2rTRql69ktHRgEjl4+OrVKnyyNvbWy4uLkbHQRhR0PFFFHQAwLfw9vbRX3/t1ebN27V790EVL15Iy5fPNDrWR8xms5o06ahNm3Yob95c6tSphbJnz6xTp/7WqVPndPLkOV28eFVBQUEfvTZRokQ6fvy4UqVKZUBy/Je3b9/Kw8NDe/fu0bVrR2VnZ2d0JCDSUNCjBwo6voiCDgD4ksePn2jr1l3asmWnDhw4puDgYBUokF/ZsmXXnDlztGnTYhUtWsDomB/x9w/QjRu3lTVrRplMpk8eExQUJD8/f/n7B8jf31+vXnnr5587KXZsF507d042NjaRnBqfc/78eeXMmVOrV89VmTLFjI4DRBoKevRAQccXUdABAJ9y546nNm/eqU2bdujkybOysrJSiRIlVKtWLdWoUUPJkiWT2WxW/vz5ZTKFaPv2Ff9ZgqOagwePqVq1xjpx4oTy5ctndBz8H2azWenTp1fRonn1++/DjI4DRBoKevTAJnEAAOCrmM1mXbr0j0aP/kPFilVT7txlNGzYRCVOnFxz586Vl5eXdu/erQ4dOihZsmSSJJPJpJEjR+rkybNavHi1osu8QIECeRQrluMH163DMphMJtWqVUubN+/U69dvjI4DAN+Egg4AAD7r1StvjR07RT/+WE5Fi1bRtGnzlSNHbq1atUrPnj3Thg0b1LRp0//cNK1s2bKqXbuWOnfupyJFqmjhwpXy8/OP5HcRvuzs7FSw4I/au3eP0VHwCe3bt9ebN281duxUo6MAwDdhiTu+iCXuABAzBQcHa9SoyZoxY6GCg0PUsGFD1atXT6VKlZK9vf03nctsNmv//v36/ffftXHjRsWNG0fly5dUpkzplDFjOmXOnF4pUiSTlVXUmTsYO3aKZsxYzG3ZLNSwYcM0ZMgQFSiQRylTJlPKlMk/+DVp0sTsH4BohSXu0QN/KgEAgI8EBQWpdese2rx5p3r06KFu3bopUaJEYT6fyWRSyZIlVbJkSd28eVNTp07V4cOH/mcZ8mtJUqxYjsqQIa0yZUqvjBnf/ZopUzqlTJncIot7ihTJ9fz5c719+1axYsUyOg7+P7/88ousrKx08eJF3blzW/v2HdWjR4/fP29tba0ePdqpb98uBqYEgA8xg44vYgYdAGKWwMBAtWjRVdu379OqVatUvXr1CBvLbDbr3r17unTpki5fvvw/v17S5ctX5OvrK0nKkSOr9u9fH2EZwurQoeOqWrWRrl69qowZMxodB1/B399fnp6eunPnjlatWqWFCxfqzJldSpYsidHRgO/GDHr0QEHHF1HQASDmCAgIUNOmnbVnzyGtWbNGVapUMSSH2WzW/fv3NWnSJP3+++96+vSKxe0Af/v2XeXJU1a7du1SmTJljI6Db+Tj46NUqVKpXLniqlGjkgoUyCM3t3hGxwLCjIIePVjeejEAAGAIf/8ANW7cUXv3HtaGDRsMK+fSuyXxKVKkUP78+RUSEiJf39eGZfkvSZMmliTdu3fP4CQICxcXF3Xv3l2rVm2Uh0c7VarUUC9fvjI6FoAYjoIOAAAkSc2bd9HBg8e0adMmVaxY0eg4kqR48d7NaL565W1wko/Z29srQYL4FPQorH///rp//77Onj2rFy+81ahRewUEBBgdC0AMRkEHAACSpEePvFS4cGGVK1fO6Cjv/XvrthcvXhkb5D9kypSOe6FHYVZWVkqWLJly5cqlDRs26NSpv9WlywBxBSgAo1DQAQCAJKldu6bas2ePzp8/b3SU9/6dQbfUpcfu7rW1Z88e3blzx+go+E5FihTR/PnztWLFeo0ZM0WvX7/RqVPntGvXAfn7M6sOIHJQ0AEAgCSpZs3KSp48qXr06G4xy3z/t6Bb3hJ3SSpXrrgk6cSJEwYnQXho2LChhg0bplGjJitFilwqV66u6tZtoUyZCqtr1wE6evQUs+sAIhQFHQAASJJsbW01efJwHTp0SK1atTQ6jiQpduzYih07tu7c+brrvK9evS5397bKnbuMgoODIzid5OYWT4kTJ7SoVQf4Pv369dOiRYs0b948nTp1ShcvXlSnTp21d+9RVa7cUE2adIyU/7cAxEwUdAAA8F6pUkVVqVJZXbt2zegokt7t5l6sWFEdPnz8s8c9efJMnTr1VZEiVXT48EndueOphw+9IiVj1qwZKejRiMlkUqNGjdS0aVP9+OOPypo1q3777Tfdvn1by5cv19atu9W9+yBm0gFECAo6AAD4wPnzl5Q/fwGjY7xXunQZHTt2WoGBgZ98/tix0ypRorq2bduriRMn6sCBA5Kke/ceREq+LFky6sIFCnp0Z2Vlpfr162vevHlatGiVfvttgtGRAERDFHQAAPCep+cD3bx5R/ny5TM6ynulSpXS27d+On36wxIcEhKiGTMWqGrVRkqfPqMuXLigzp07K126dJIir6BnzZpJd+7c1YsXLyJlPBircePGGjdunCZOnK6BA0dZzH4NAKIHG6MDAACA8OXt7asbN27p2rWbun79tgICAmRnZyc7O1vZ2trKzu7fHzsFBwfr+fOXevbshZ49e65duw7Izc1NZcqUMfptvJcrVy4lTJhQM2YsUIIEbtq//4j27z+igweP69Urb3Xt2lVjxoyRra2tJMnJyUl2dnby8XkdKfmKFXu32mDr1q1q1KhRpIwJY/Xo0UOS1LdvX+3Zc1AbNixU/PhuBqcCEB1Q0AEAiCYmTZqp6dMX6PHjJ+8fS5EiuWLHjq2AgAAFBgYqMDBIgYGB7//ZyspKCRLEV4IECZQgQQL16NFT3bt3V5w4cYx7I/8fa2trTZkyRfXq1dOGDX/JxsZGBQrkV+fOXVS5cmUVKPDxcvzg4GDZ2FhHSr6kSRMrX77cWrt2LQU9BunRo4fKli2rfPnyad26bWrViv/2AL4fBR0AgGhg9uwlGjx4rFq1aqVSpUopU6ZMypAhg5ycnIyOFi7q1q2rZcuWycXFRcWKFZOzs/N/Hms2mxUaGiobm8j7mFOlSjmNGvWH3r59q1ixYkXauDBWzpw5lT9/Ph06dIyCDiBccA06AABR3IYN29Sr1xB16dJFM2bMUMOGDZU7d+5oU87/1aBBA1WuXPmz5Vx6d226JFlbR97HnCpVysvPz0/bt2+PtDFhGUqVKq1Dh04oNDT0g8cDAwN15gybBwL4NhR0AACisEOHjqt1655q0KCBJkyYIJPJZHQkw/1vQY+8GfQffkilLFky6vfff1dQUFCkjQvjlSpVSi9evNTly/97a8Lg4GA1b95VZcrU1tixUwxMByCqoaADABBFXbhwRR4e7VS8eDHNnz9fVlb8tS69K0dS5M6gS9KoUQN05MgRtWvXjntkxyCFChWSk5OThgwZJz8/f5nNZnXtOkDbt++Vh4eHRoyYpNGj/zA6JoAogmvQAQCIgs6fv6T69VsrXbr0Wrt2nezs7IyOZDH+dwY9cjaJ+1exYgU1adIwdejQRxkyZFCvXr0idXwYw9HRUWvWrFGtWrVUqlRNpU2bWlu37tLixYvl4eGhrFmzql+/fgoNDVWfPp1Z5QLgsyjoAABEEUFBQdqyZZdmzVqkI0dOKlOmTNq6desXr8mOaRwdHeXm5qbNm3eqVq2fInVsd/faun3bU71799YPP/ygOnXqROr4MEaFChV04MABjRkzRjt37tSUKVPk4eEh6d2t2KysrNSnTx89efJMmTNnkNkcqpCQUIWGvvv539+HKDTU/P7xn34qp1y5shn87gBEJpOZNVj4Ah8fH7m6uuru3TNyceFDIABENi+vp1qwYLnmz1+hR4+8VKJECXXs2FHVq1d/f+9vfGjJkiVq1KiRFi+epp9+KhepY5vNZrVu3UObN+/U3r17VbBgwUgdH5ZpwoQJGjhwoEJCQmRlZSVra+sPfv3f35tkbW0tPz9/vX37RkuW/KmSJYsYHR9RgI+Pr1KlyiNvb2+5uLgYHQdhREHHF1HQASDymc1mnThxVrNmLdLGjdtla2urRo0aqWPHjsqePbvR8cKV2WzW5cuX9ezZMxUvXjxclgCbzWZVq1ZVJ0+e0LFj2xQnjms4JP16/v4BqlmzqW7evKvjx48rTZo0kTo+oj4/Pz/VqlVTe/fu04IFf6hChVJGR4KFo6BHD+wmAwCABfHz89fixatUsmRNVaxYX+fOXdHo0aN1//59zZgxI9qV8+HDhythwoTKli2bSpYsqV9++SVcNlgzmUyaPn2G/P0D1a/f8HBI+m0cHOy1ePFUOTs7qXLlynr58mWkZ0DU5ujoqPXrN6hSpUpq2rSTzp+/ZHQkAJGAgg4AgAW4e/eeBg0araxZi6lz5/5KkSKVtm3bpmvXrqlbt26KGzeu0RHD3f79+zVgwABVrlxa69bN1/Dh/TR+/Hh16tTpo3tKh0WyZMk0YcIELVu2Tjt37g+HxN/GzS2eVq6cJS+vx6pdu7YCAwMjPQOiNnt7ey1dulRZs2ZT48Yd9eIFX/QA0R1L3PFFLHEHgIjj6flAgweP0fr12+Tq6qpmzZqpffv2SpcundHRIpSfn59y5Mih+PHjaMuWJe9vETd//nJ17z5ILVq00IwZM7771nFms1kVK1bQvn375eFRW127tlbKlMnD4y18tSNHTqpmzaZyd3fX3Llz2cUb38zT01O5c+dW/frVNGJEf6PjwEKxxD16YBd3AAAM8PatnyZPnqVJk2Yqbtx4+vPPP9WoUSM5OTkZHS1SDB48WJ6enlqyZMoHJbxp0wayt7dTx459FRgYqPnz539XoTWZTFqzZq2mTJmi8ePHa+HClapXr5qqVCmv1KlTKnXqFIoVyzE83tJ/Klw4n/74Y4TatOmpdOnSqX9/Cha+XmhoqF69eqWECRPq779Z5g5Ed8yg44uYQQeA8GM2m7Vx418aOHCUvLyeqVu3burfv3+MuVXatm3bNGbMGB04cEB9+3ZRz57tP3ncsmVr1b59bx06dEhFioTPDtZv3rzRrFmzNHbsWD18+PD944kTJ3xf1tOkSaHUqVMqTZqUSp06pVxcYisoKFj29nbfvWP+mDF/aOTIyVq6dKkaNmz4vW8HMcCNGzf088+NdfTosfePvXx53cBEsGTMoEcPFHR8EQUdAMJHQECA2rb9RevXb1PVqlU0YcLEaL+U/f/Xrl07zZgxQ2PH/qomTerLxubTi/lCQkKUIUMhtW/fQb/99lu4ZjCbzXr06JFu3bqlmzdv6ubNm//z+xu6efOWnj59+tFrUqRIqt69O+n48TPq2rWNfvghVZjGbd++t9au3aLdu3eraNGi4fF2EE09efJE6dOnV7x4cTRq1ABZW1vrzZs3ql69ktHRYKEo6NEDBR1fREEHgO/n6/tajRt30LFjp7V48WLVqVPH6EiGOHbsmAoVKqTVq+eqTJlinz22efOuevz4uY4cORpJ6d7x9fV9X97fvHkjKysr9enTR/fv35e9vb3Kli2uxYunhencgYGBql27ua5cuaFjx47FuC9o8PWWLVsmd3d3XblyWIkTJzQ6DqIACnr0wDXoAABEsOfPX6hevVa6ceOOtm/frhIlShgdyTAFChRQ9uzZtGDB8i8W9GTJEuvChauRlOx/OTs7K2fOnMqZM+f7x8qUKaOAgAAdOHBAP//8szZs2BammUw7OzstXDhFFSrUV7Vq1XTu3DnZ2dmFZ3xEE8+fP5e9vT3lHIhhuM0aAAAR6MGDR/rpJw/du/dIe/fujdHlXHq3aVurVq21bdseeXl9vJT8/3J0dNDbt28jKdnnJU6cWKlSpZK7u7saNGig5s276tCh42E6V9y4cTR//h+6du2apkyZEs5JEV3Y2NgoODjY6BgAIhkFHQCACHLjxm1VqtRAfn6BOnTokPLkyWN0JIvQqFEj2djYaOnStZ89LnPmDHr48JFu3rwZScm+zNraWosXL1aePHk0duzUMJ8nS5YMatKkvoYOHfrJa94BGxsbhYSEiKtRgZiFgg4AQAS4cOGKKlVqKCcnFx0+fFgZMmQwOpLFiBs3rurVq6eFC1cqNDT0P4+rUKGUYsd20uLFiyMx3ZdZW1urV69eOnDgqM6duxjm8/Tt21mSWQMGDAi/cIg2/Pz8uPwBiIEo6AAARICxY6cobtx4OnjwoJInT250HIvTunVr3bnjqQMH/nsDuFixHFW0aAEdPRq5m8R9jVq1ailjxozq02fYZ79k+Jz48d3Uv383zZw5U6tWrQrnhIjqHj9+rESJEshkMhkdBUAkoqADABABnj9/qXz58il+/PhGR7FIhQsXVrJkybR//+fLt79/gEXOIlpbW2vGjBk6fvy05s9fHubztGzpoZo1f1KzZs10+fLlcEyIqO7dTtzcPQeIaSjoAABEAF/fN3J1dTU6hsUymUxKlCih/vnnxn8e8/r1Gx05clKlS5eOxGRfr0SJEmrevLmGDBmnR4+8wnQOk8mkyZOHK2XKZKpZs6Z8fHzCOSWiqjdv3sjJydHoGAAiGQUdAIAI4OPjS0H/gi5dumrbtt1asmT1J58/evSUAgMDVbly5UhO9vXGjRsnR8dY6tixj4KCgsJ0jtixnbRw4RQ9fvxITZs2ZVMwSHpX0GPFivXR42azWePGTdO0afMMSAUgolHQAQCIABT0L/v555/VrFkz/fLLEB0+/PEty27evC17e3ulS5fOgHRfJ27cuFq0aJEOHDimbt0Ghrlcp0uXRn/+OUbr1q3TmDFjwjkloqLYsWPr8uV/9Pjxkw8e79lzsIYPn6j+/Udo7dotBqUDEFEo6AAAhDOz2UxB/0pTpkxRyZKlVKVKI3Xp0l+envffP+fvH6BYsWLJysqyP66UK1dO8+fP15IlazRs2MQwn6dy5bLq3r2d+vXrp927d4djQkRFw4cPl42NnX7+uaMCAgIkSf/8c0Nz5y7V5MmT5eHhoU6d+n7XnQQAWB7L/hsPAIAo6O1bP4WEhMjFxcXoKBYvVqxYWr16tcaNG6dt2/Yqb97y6tZtoO7deygnJyf5+voaHfGreHh4aNy4cZow4U/NnLkozOfp16+LSpYsrAYNGsjT0zMcEyKqSZIkidatW6e//76kXr2Gymw2a9Om7YodO7ZatWqlmTNnKkuWrKpQob42bdpudFwA4cRk5kInfIGPj49cXV119+4ZdhMFgK/w+PETZc5cRJs2bVKVKlWMjhNlvHnzRlOnTtXYsWPl7e39/pruqPRRpXv37vr99981b94kVa9eKUznePHipUqVqqmECZPo4MGDcnBwCOeUiErmz5+vZs2aqV+/LtqwYbuyZcup5cvf3TnAz89PtWvX1uXLF3Xy5HbZ2toanBZG8vHxVapUef7nDgB8QRxVMYMOAEA48/F5N+vLEvdv4+TkpF69eun27dsaOnTo+8fDep9xI4wbN04NGzZU69Y9dejQx9fVf4148eJqwYIpunDhgjp16hTOCRHVNG3aVL/88otGjJikS5euqnbt2u+fc3R01KhRo3T37j1t28ZlEUB0QEEHACCcUdC/T+zYsdWnTx/5+Pjo1KlTFn8N+v9lZWWlefPmqXjxYvLwaKeLF6+G6Ty5cmXTuHG/avbs2ZozZ044p0RUM2bMGN27d0/r1q1TrVq1PnguR44cSpo0qS5cuGJQOgDhKer8jQcAQBRBQQ8fzs7O+vHHH42O8c3s7Oy0du06pUuXXnXrtpCn54MwnadRo7pq0qS+OnTooFOnToVzSkQ1yZMnV40aNWRtbf3Rc5kyZdK1azcNSAUgvFHQAQAIZz4+ryVR0GMyZ2dnbd26VbFixVadOs31/PmLMJ1n9OiBypYtk2rXrq1nz56Fc0pEF5kzZ9b167eNjgEgHFDQAQAIZ//OoDs7s7FmTJYoUSJt375dr175qkGDNnrz5u03n8Pe3l7z5/+hN29eq2HDBgoJCYmApIjqMmfOrBs3bsvX97XRUQB8Jwo6AADhzNf3tWLHjv3JpaiIWdKlS6etW7fqypXrat68S5gKdvLkSTR37u/as2evBgwYEAEpEdVVr15dJpPpu27xB8AyUNABAAhnPj6+cnXlFjd4J2/evFq7dq127TqgUaMmh+kcxYsX0qBBPTRq1CitX78+fAMiykuePLlatmypKVPmvF/BAyBqoqADABDO3hV0rj/H/ypfvryGDRumceOmadeuA2E6R+fOrVStWgX9/PPPunbtWjgnRFTXr18/+fn5a+bMhUZHAfAdKOgAAIQzCjo+pXfv3qpcuZLatOmp+/cfffH4x4+f6ObNO++XxZtMJk2ZMkpJkiRUzZo19fo11xvjfyVLlkytWrXS1Klzde/eQ6PjAAgjCjoAAOHMzy9Ajo6xjI4BC2NlZaWFCxfJySm2mjfvoqCgoA+eDw4O1tmzFxQUFKQVKzYoT54yypu3nDJkKKQzZ85LkpydY2vhwiny9LyrFi1ayGw2G/FWYKEGDRqkOHHiqW7dFnr0yEvBwcFGRwLwjSjoAACEMysrE8UJn+Tm5qaVK1fq7NkLGjp0/PvHb9++q8qV3VW6dC1ly1Zcbdv2VN269bRjxw5lzJhRtWs318WLVyVJGTOm05QpI7Vy5UpNnDjRqLcCC5QgQQJt375dz569VJYsRZUkSXZ17z5Iz549NzoagK9kY3QAAACiGysrK4WGhhodAxaqYMGCGjt2rLp16yYrKyvdu/dQO3bsVaJEibV06VJt3rxZxYsXV+vWrWUymZQvXz6VLl1atWo109atS5UuXRpVr15JrVo11qBBg9S1a1dZWTHngncyZMig06dP6/jx47p27ZrGjRunNWs2a+DAHmrZ0sPoeAC+wGTmK358gY+Pj1xdXXX37hm5uHBPXwD4krZtf9HDh8904MBBo6PAQpnNZtWvX1/r1q1T3rw/qly58urVq5dix479yeOfPn2qEiVKyMfnlbZuXaqUKZNr+/a9atCgte7evauUKVNG8jtAVPHs2TP169dPs2bNUvfu7TRgQDeZTCajYyEC+Pj4KlWqPPL29paLC3cSiaqYQQcAIJxZWzODjs8zmUxavny5goKCZG9v/8XjEyRIoF27dqlYsWKqUaOptmxZonTp0kiSrl+/TkHHf4ofP75mzpypDBky6JdfftGbN280YkR/i1l1YTabdezYaQUEBKhkySJGxwEMR0EHACCcWVlZvd95G/gvVlZWX1XO/5U0aVLt3r1bxYoVU61azbRu3XxJ0p07dyImIKKVnj17ytnZWe3atdPr1280adJwWVtbG5bn/v1HWr58nZYtW6dbt+7I1tZWR49uVdq0qQ3LBFgCy/jqDACAaIRr0BFRUqdOrV27dunFC2/Vr99atra28vX1NToWoog2bdpo4cKFWr58vVq27KbAwMBwH2PixBkqVaqm9u8/8tFzfn7+Wr16k2rXbqYcOUpo4sQZKlq0uHbs2KEkSZLo11/HhHseIKqhoAMAEM5MJhMFHREmY8aM2rlzp+7de6igoCDuh45v0qhRI61evVpbt+5W27a9wnW1z+nTf+u338br5Utf1ajRRM2addb9+490+vTf6t59kDJnLqJWrborMNCs2bNn6/Hjx1qwYIHKlSunUaNGacuWnTp06Hi45QGiIgo6AADhjBl0RLQcOXJo+/btcnZ2ZsMvfLMaNWpo2bJl2rBhm3r1Ghput4W8dOkfmc1mXbt2TYsWLdKxY2eVM2dJlS1bRzt2HFCHDh117do1HTx4SM2bN5ez8/9uPtygQQMVKJBf/fuP5BIhxGhcgw4AQDijoCMy5MuXT9euXVOcOHGMjoIoqFatWpoxY4ZatWolN7e46tev63ef080trqR3dwBq1KiRqlWrpnnz5ilTpkwqW7bsF695z5Ytu+bMmaMHDx4rZcpk350HiIoo6AAAhDMKOiJL4sSJjY6AKKxly5Z6/vy5+vTpo3jx4qht26bfdb64ceNIendrt/jx48vFxUVdunT5qteOHj1ac+bM0ahRAyjniNEo6AAAhDMrK65BBxA19O7dW8+ePVPfvsMVN25c1a9fPUznMZvNWrx4lezt7eXq6vpNr501a5b69u2rXr06qk2bJmEaH4guKOgAAIQza2trCjqAKGPMmDF6/vy5OnTorThxXFShQqlvPsf06fO1bNk6LV68WEmSJPnq161evVpt27ZVy5aN1KdP528eF4hu2CQOAIBwxhJ3AFGJyWTSzJkzVbVqVTVt2klHjpz8ptfv3XtIAwaMUs+ePeXh4fHVr9u5c6fc3d1Vs2ZljR49kA0PAVHQAQAId4GBgRR0AFGKjY2Nli1bpkKFCqthwza6cOHyV73u1q27at68q8qXf3ertK91/Phx1axZUyVKFNaff46RlRW1BJAo6AAAhJvQ0FCNGzdVs2cvUaFChYyOAwDfxMHBQevXr1f69BlUp05L3bp197PH+/j4ysOjnRImTKRly5Z/cZf2f126dEmVKlVStmyZtGDBH7K1tQ2P+EC0QEEHACAcPH/+QvXqtdKIEZPUv39/zZkzN1LGff36tWrUqKGyZcsqMDAwUsYEEH25uLho27ZtihMnrmrWbKpHj7w+edytW3dVqVIDPXr0RBs2bPjq2/3duXNH5cuXV9KkibRixUzFiuUYjumBqI+CDgDAd9q5c79Klqypc+cuadu2bRo6dOhXzyR9D7PZrObNm2vDhg3avXs3y+oBhIsECRJo586dCg2V6tRprpcvX33w/K5dB1SmTC0FBYXqyJEjypQp01ed19/fXzVq1JCdnY3WrJkrV1eXCEgPRG0UdAAAwsjT874aNWqvevVaKkOGTDp79qwqVKgQaeNPnDhRq1atUsKE8ZU1axY5ODhE2tgAoreUKVNqx44d8vJ6rjp1Wuj69Vsym82aOHGG6tVrqSJFiurEiZPKkiXLV5+zZ8+eunr1qhYunKJEiRJEYHog6qKgAwAQBnPnLlXBgpV09uwlLV++XLt27VKKFCkibfz9+/erV69e6ty5ldKkSaWcOXNF2tgAYobMmTPrr7/+0osXPipUqLLKlKmtoUPHqV+/ftq4cdNXL2uXpPXr12vq1Kn67bc+yp49c8SFBqI4CjoAAN/AbDZr2LAJ6tHjVzVp0lRXr15V/fr1I/32QBMmTFD69D9o4MDuCgoKkqMj13ECCH958+bVlStXNGLECL19G6g1a9Zo2LBh37Tr+r1799S8eXP99FM5tWz59bdhA2IiCjoAAN9gwICRGj/+T40dO1Z//vmnnJ2dDcmRJUsWvXz5StbW1oofP56ePn1qSA4A0Z+Dg4N69eqlq1evqlatWt/02uDgYLm7u8vJyVF//DGCe50DX0BBBwDgKy1atErTps3TlClT1LNnT0OzFC9eXF5eT3Xr1l0lSOCmJ08+vdMyABhp6NChOnLkiGbOHK+4ceMYHQeweBR0AAC+wvHjZ9Sjx69q06aNOnToYHQcFS5cWFZWVjpy5KTc3OLpyZMnRkcCgA/s27dPw4YNU58+nVSoUF6j4wBRAgUdAIAvCA0NVYsWXVWgQAFNnjzZ6DiSJFdXV+XKlVNHjpz8nxl0lrgDsBzPnj2Th4eHihTJr+7d2xkdB4gyKOgAAHyFBw8eqUmTJrKzszM6ynvFi5fQsWOnFT++m16/fi0/Pz+jIwGAzGazmjVrKn9/P82YMU7W1tZGRwKiDAo6AABfYGVlJTs7OwUEBBgd5QMODg4KDAxUggRuksRGcQAswvTp07V58xZNmzZaSZMmNjoOEKVQ0AEA+Ar29pZX0F+/fq04cVzl4hJbkuTj42NwIgCQLl68qPjx3VSqVBGjowBRDgUdAICvYIkz6Hfv3lXSpInf3wP9zZs3BicCAKlDhw569uy5Vq7cYHQUIMqhoAMA8BUcHR309u1bo2N8IFGiRHr48LGcnCjoACxHlixZVLNmTU2aNEshISFGxwGiFAo6AABfIXHihLp//77RMT5QqFAhXblyTSEhoZJkcV8gAIi5+vbtqxs3bmvUqMkym81GxwGiDAo6AABfIVWq5Lp9+7bRMT5QsGBBmc1mXb78jySxizsAi5EvXz6NHj1a48ZN0/DhEynpwFeyMToAAABRQapUKXTixCajY3wgU6ZMihMnjk6ePGd0FAD4SK9evWRtba2ePXsqODhEv/7aUyaTyehYgEWjoAMA8BXSpk2l+/cfyMvLS4kSJTI6jqR3t38rUCD/+4LOB18AlqZHjx6ysbFR165dFRISoqFDe/NnFfAZLHEHAOArVKpURg4O9po1a5bRUT5QsGAhnTx5VhIFHYBl6tKli6ZMmaIpU+aoX7/hLHcHPoOCDgDAV4gbN47q1auu6dOnKygoyOg47xUqVEihoe82iUuQIIHBaQDg0zp06KA///xT06cvUK9eQynpwH+goAMA8JVatPDQgwcPtGGD5dzbN3/+/O9/nz59egOTAMDntW3bVrNmzdKcOUvUo8ev779cBPC/uAYdAICvlD17ZhUqlE/jx49TrVq1ZGVl/PfccePG1bhx43T69GklTpzY6DgA8FktW7aUtbW1WrRoodixnTR0aG+jIwEWhYIOAMA36Nu3s6pX/1ljxoxRnz59jI4j6d0mTAAQVTRr1kze3t7q1q2bfvghlZo2bWB0JMBiGP/VPwDAYvn6vtaQIeM0a9ZiPX78xOg4FqFYsYLq2rWNBgwYoKNHjxodBwCipC5duqh9+/bq2XOwzp+/ZHQcwGKYzOzQgC/w8fGRq6ur7t49IxcXZ6PjAIgk3t6+qlu3hS5evKqgoCCFhISoYMG8ql69gqpUKa9kyZIYHdEwQUFB+uknDz158kJnz55V3LhxjY4EAFFOcHCw0qZNq+LF8+uPP0YaHSfK8/HxVapUeeTt7S0XFxej4yCMmEEHAHzE29tHtWs30/Xrt7V//349efJE8+bNk5tbQg0aNEbZshVX+fL1NG3aPN2799DouJHO1tZWs2dPlLf3S7Vs2ZLdiAEgDGxsbNS6dWutWbNZ3t4+RscBLAIFHQDwkX79huvmzbvavXu38uXLp7hx46pJkybatGmznjx5okWLFilp0pQaOnS8cuQoobJl62jy5Fm6e/ee0dEjTcqUyTR58gitXbtW06dPNzoOAERJLVq0UHBwiOrXb60jR04aHQcwHAUdAPARFxdnOTs7K3fu3B895+rqqkaNGmn9+vV6+vSpli1bplSp0mrkyMnKlau0SpWqqYkTZ+jWrbsGJI9cVatWUIsWHurWrZvOnz9vdBwAiHISJ06sLVu2KCAgRD/95K6mTTspJCTE6FiAYbgGHV/ENehAzLNnz0HVrt1cFy5cULZs2b7qNa9fv9a2bdu0evVqbd68WW/fvlW2bJlVvXoFVa9eSenT/xDBqY3h7x+gsmXrKCREOnXqlJycnIyOBABRTmhoqJYuXaqff/5Z/ft3U48e7YyOFOVwDXr0wAw6AOAjhQvnV6xYjtqyZctXvyZ27NiqW7euVqxYoadPn2rNmjXKnj2XJk2arfz5K6hIkZ80evQfunLlegQmj3wODvaaO/d3eXreVceOHY2OAwBRkpWVlRo1aqQ+ffpo1KjJOn36b6MjAYZgBh1fxAw6EDO5u7fVmzdB2r9//3edx9/fXzt27NCqVau0ceNG+fj4KGPGdKpWrYKqVauorFkzymQyhVNq4yxdukYdOvTR4sWL5eHhYXQcAIiSgoKCVKRIYT1//kx79qyRqyszwV+LGfTogRl0AMAnlStXQocPH9arV6++6zwODg6qVq2aFi1apCdPnmjz5s0qVKioZs1aomLFqipfvvIaOnS8zp+/FKV3Q2/YsJbq1auutm3b6vr16LVKAAAii62trZYsWaqXL71VtWpjPX363OhIQKRiBh1fxAw6EDPdu/dQOXKU0OTJk9WpU6dwP39gYKD27NmjVatWaf369Xrx4oVSp06patUqqHr1isqdO3uUm1n39X2tUqVqytU1no4cOSJ7e3ujIwFAlHTx4kWVK1dOsWM7au3a+UqRIqnRkSweM+jRAzPoAIBPSpEiqZo0qa+uXbtq1apV4X5+Ozs7VaxYUXPmzNHjx4+1c+dOlStXQcuWrVeZMrWVK1cpDRw4SidPnlVoaGi4jx8RnJ1ja86c33Xx4kX16tXL6DgAEGVly5ZNhw4dUnCwWZUrN9SNG7eNjgRECmbQ8UXMoAMxV0hIiNq37621a7do9erVql69eoSPGRwcrIMHD2rVqlVau3atvLy8lCxZElWtWl6VKpVRwYI/ys7OLsJzfI/p0+erb9/hOnjwoIoWLWp0HAUFBWnz5s1Kly6dsmfPbnQcAPhqDx48ULly5fTs2VOtWTNH2bNnMTqSxWIGPXqgoOOLKOhAzBYcHKxWrbpry5ZdOnbsmPLkyRNpY4eEhOjw4cPvy/rDhw/l7BxbpUoVUblyJVSuXEklSpQg0vJ8rdDQUFWoUF/+/kE6c+asbG1tDc0zcuRI9evXT9bW1urTp48GDRpk8V9yAMC/nj17pooVK+rGjeuaMWOcKlQoZXQki0RBjx4o6PgiCjqAoKAg5clTVtWr19SUKVMMyWA2m3Xu3Dlt3bpVW7Zs1rFjx2U2m5UrVzaVK1dC5cuXVJ48OWRlZRlXb50/f0mlStXSqFGj9MsvvxiaJXHixKpcubSSJEmoMWOmKlu2bFq4cCGz6QCiDB8fH9WtW0c7duxUmTLFNWRIL4WGhih16pRydo5tdDyLQEGPHizjUwwAwKLZ2tqqfPmS2rZtq2EZTCaTcufOrf79++vIkaN68uSJFi1apMyZs2v27KUqV66uMmYsrLZtf9HatVv06pW3YVklKUeOrGrdurEGDx4sT09PQ7NIUpIkCfXLLx21a9dqBQS8Vd68eTV69GiFhIQYHQ0AvsjFxUV//bVda9eu1Z07D1S0aBUVL15d5crV1bNn7PSO6IMZdHwRM+gAJKlSpYaKGze+tm7dZnSUjwQHB+vYsWPvZ9fPn78ga2tr5c+fR+XLv1sKnyVLhkjfFd7Hx1cFClRUoUJFtHbt2kgd+//KkiWzSpUqpOHD+0mSAgICNGLEJP3xx2wVLFhACxYsVPr06Q3LBwDfIjAwUGvWrJGDg4PatWunRInia+PGRXJ1jdmfU5lBjx6YQQcAfJGn5wMdO3ZKDRu6Gx3lk2xsbFS0aFGNGDFCf/99Xp6enpo2bZoSJEiisWOnqWjRKsqZs5S6dx+kbdt2682bt5GS6+1bPzk4OOjq1auRMt5/SZQosW7f/t9ZfHt7ew0Z0ktbty7T48ePlCtXLk2dOjXK7JYPIGazs7NTw4YNVbNmTe3YsUOeng/UoEFrvX3rZ3Q04LtR0AEAXzR9+nzFjh1bNWrUMDrKV0mRIoVat26tDRs26Pnz59q+fbtq1qytAwdOyN29rdKmza86dVpo5syFunMnYpafP3/+QjVrNlVQUIi2bNkSIWN8rapVq2r37oMfLfsvWPBHHTy4UQ0b1lTHjh1VoUJ53bt3z6CUAPDtcuTIoW3btunChSv6+ecOCggIMDoS8F0o6ACAz7p27aZmzVqsfv36ydk56i0fdHBwUPny5TVp0iRdv35d//zzj0aOHCnJVgMGjFLu3GVUoEBFDRgwUgcOHFVgYOB3j+nt7aNatZrrxQtv7d69W2nSpPn+N/IdGjZsqODgYK1f//HlCU5OsTRu3GCtXTtPV65cVrZs2bRgwQJxBRyAqKJgwYLauHGjDh06odateyg4ONjoSECYcQ06vohr0IGYrV69Vrpx464uX74sBwcHo+OEK19fX+3atUubN2/Wtm3b9OjRIzk7x1bJkoVVvnxJlS1bQokTJ/ymcz565KUmTTrqxo272rdvn3LkyBFB6b9NhQrl5ePzUtu2LfvPY7y9fdSnzzAtX75O1atX14wZM5QoUaJITAkAYbdx40bVqlVL9epV05Qpoyzmrh6RhWvQo4eY9X8tAOCbXL58TTt37tOIESOiXTmXJGdnZ9WsWVNz5szRgwcPdObMGfXq1VvPnvmoc+f+ypy5iEqWrKERI37XyZNnP7vjudls1sqVG1S48E/y9Hyk7du3W0w5l6QmTZrq2LFTOnz4xH8e4+rqoj//HKPFi6fp8OFDypYtm9asWROJKQEg7KpVq6aFCxdq+fL16tt3GCuBECUxg44vYgYdiLnu33+kHDlKqFmzZpo1a1aMmo149uyZ/vrrL23ZskXbt2/Xy5cv5eYWT0WK5FPKlMmVIkVSJU+eVMmTJ5GTk5N+/XWMtmzZKXd3d02ePFlubm5Gv4UPhISEqHTp0rp164YOHtyoOHFcP3v8s2fP1b37IG3atEPu7u6aMmWK4saNG0lpASDsZsyYobZt26pnz/bq37+b0XEiDTPo0QMFHV9EQQdituXL16t9+176448/1KFDB6PjGOL/3sbt+PHj8vS8K0/Pex9cr54gQQL9+eefql27toFJP8/T01M5c+ZUqVKFNWfO71+87ZzZbNaqVRvVu/dQxYoVW3PmzFHFihUjKS0AhN3YsWPVq1cvDRnSS507tzI6TqSgoEcPFHR8EQUdQNu2v+jgwRO6efNmtFzqHhahoaF6+vSpPD099fDhQxUpUkTx48c3OtYXrVy5UvXr19fUqaPk7v51XyY8ePBIXbr01+7dB9W6dWuNHz9esWPHjuCkAPB9+vfvrxEjRmj48H5q0cJd9vb2RkeKUBT06IGCji+ioAO4efOOChSoqAkTJqhz585Gx8F3atasmVatWqkDBzbqhx9SfdVrzGaz5s1bpkGDRithwkRasGCBihUrFsFJASDszGazunbtqsmTJ8vFxVnlypVQlSrlVbZsccWO7WR0vHBHQY8eYs7FhACAMEubNrXq1aumkSNHys/Pz+g4+E6TJ09W4sRJ1KJFV/n5+X/Va0wmk5o3d9fBgxuVKJGbSpYsqTlz5kRwUgAIO5PJpEmTJun8+fPq0aOnbt68p2bNOitdugLateuA0fGAT6KgAwC+yi+/dNDTp081Y8YMo6PgOzk7O2vlypW6du2W2rX7RaGhoV/92jRpUmnz5sVq1qyhWrZsqTFjxkRgUgD4ftmzZ9egQYN09uw53bp1S9myZdPMmYuMjgV8EgUdAPBV0qRJpQYNamj06NHMokcDefLk0ZIlS7Rx43YNGzbxm15rbW2tsWN/Va9eHdW7d2/17NmT2xkBiBLSpEmjpk2bat++w3r1ytvoOMBHKOgAgK/Ws2d7PXv2TNOnTzc6CsJBjRo1NGbMGE2cOF1Llqz+pteaTCb17dtFo0YN0Pjx4zVgwIAISgkA4at27doKDg7W1q27jI4CfISCDgD4aqlTp1T9+tU1adIko6MgnPTo0UOtWrVS164DdfDgsW9+fZs2TdS9ezv9/vvvevbsWQQkBIDwlSRJEhUqVEg7duwzOgrwEQo6AOCblCpVVHfv3tWLFy+MjoJwYDKZNHXqVJUqVVI//9xR16/f+uZztG7dWG/fvtWePXvCPR8ARIQkSZLI1/e10TGAj1DQAQDfJFOm9JKkK1euGJwE4cXW1lYrV65S0qTJVL9+az1//m1fvsSLF0eS5OvrGwHpACD8eXu/ivb3RUfUREEHAHwTJydHSZK//9fdngtRQ5w4cbR582a9fv1W1ao11rlzF7/6tceOnZYkZc2aNaLiAUC4CQ4O1rFjx5UvX26jowAfoaADAL5JSMi7W3JZW1sbnAThLU2aNNqzZ4/s7Z1UpkxtDRo0Wm/ffnnH/iVL1ih9+nQqUKBAJKQEgO/z999/6/Xr1ypUKK/RUYCPUNABAN8kJCREEgU9usqWLZuOHz+uESNGaObMRSpatOpnN487e/aCVq/epDZt2spkMkViUgAIm3//rAoICDA4CfAxG6MDAACiFmbQoz9bW1v17t1bNWvWVKtWrVStWmN5eNRWunRp9ODBYz18+O+Pl548eao8efKoc+fORscGgK+SO3dupUqVShs3bleJEoWNjgN8gIIOAPgmDx48kvTummVEbxkyZNDevXs1c+ZM9e3bV5KUPHkyJU+eQnnzFlSKFCmULFkyVa9eXba2tganBYCvYzKZVLt2bS1evEhjxgziC2dYFJPZbDYbHQKWzcfHR66urrp794xcXJyNjgPAYO3b99Lp0xd19eo/LGmOQcxmM/+9AUQbR48eVeHChbV58xIVKZLf6DjhwsfHV6lS5ZG3t7dcXFyMjoMw4hp0AMBX8/Pz1+bNO+Xu7kFZi2H47w0gOilQoICSJUum9eu3GR0F+AAFHQDw1UaM+F1v3/rJ3d3d6CgAAISZlZWV6tevr/XrtykoKMjoOMB7FHQAwFdZuXKDpkyZo3Hjxil9+vRGxwEA4Ls0atRIz5491969h42OArzHJnEAEMU9euSlvn2H6eLFfySZVahQXhUpkl/FihVUsmRJwmWMc+cuqkuX/mrSpIm6dOkSLucEAMBIuXLlUpYsWbRy5QaVL1/S6DiAJGbQASDKGzx4rA4dOqmqVaurYsWf9PffV9WuXS/lylVaQ4eO19u3ft91/idPnqlRo/bKnj27pk+fzrXIAIBowWQyqVGjRtq6dZd8fV8bHQeQREEHgCjtwoXLWrVqo4YPH66JEydqypQpOn/+gp4/f64BAwZo2rR5KlSosnbs2Bem8wcGBqpJk04KDg7V2rXr5ODgEL5vAAAAA7m7u8vPz19btuwyOgogiYIOAFHakCHjlT59OjVv3vyDx+PFi6dff/1VFy5cUIYMGVW/fis1adLx/T3Mv1afPsN0+vTfWrt2rZInTx6e0QEAMFyqVKlUvHhxrVq1wegogCQKOgBEWZ6eD7R79wENGvSrbG1tP3lM+vTptWPHTi1btkzHj59TwYKVNH36fAUHB3/23F5eT9WpU1/Nm7dMU6dOVeHChSPiLQAAYLhGjRpp374jevz4idFRAAo6AERV/36QyJkz52ePM5lMatCgga5evarGjX9Wv34jlCdPWfXsOVjbtu3W5cvX9ODBI/n6vtabN281duwU/fhjWW3dukfTpk1Tq1atIuPtAABgiLp168rGxkZr124xOgrALu4AEFUdOXJCVlZWSpYs2VcdHydOHE2bNk3NmzfX/PnztXXrFs2Zs+Sj42xtbdWxY0cNHDhQcePGDe/YAABYlDhx4qhq1apauXKD2rdvZnQcxHAUdACIAsxms4YNmyiz2axffumgBw8eafz4P9W+fftvLtF58+ZV3rx5ZTb/oTt37ujx48d69eqVvL295evrq9KlSytt2rQR9E4AALA8jRo1Us2aNXX16nVlypTe6DiIwUxms9lsdAhYNh8fH7m6uuru3TNycXE2Og4QI40bN1XDh/8uOzs7WVtbyc/PX4kTJ9aVK1cUJ04co+MBABClBQQEKEmSJPL29la+fLn1yy8dVLp00Sh1a1EfH1+lSpVH3t7ecnFxMToOwohr0AHAwq1du0XDh/+uIUOG6OzZs+rXr7/WrFmjCxcuUM4BAAgH9vb22rx5s37//XdJ1qpTp7nKl6+nHTv2iflMRCZm0PFFzKADxjGbzcqbt7xy5MiltWvXRqlv8gEAiIrMZrN27typIUMG68iRoxo+vF+UuDadGfTogRl0ALBgJ06c1a1bd9S5c2fKOQAAkcBkMql8+fI6dOiwGjdurBkzFiokJMToWIghKOgAYMGWL1+nFClSqESJEkZHAQAgRjGZTOrQoYM8Pe9rz55DRsdBDEFBBwAL5e8foPXrt6px48aysuKPawAAIpubm5ucnZ21fPk6o6MghuATHwBYqDNnzuvVKx/VqFHD6CgAAMQ4c+fOVdasWRUnjrMaN65rdBzEEBR0ALBQadOmliTduXPH0BwAAMQ0V69eVYcOHVS79k86duwvlSxZxOhIiCEo6ABgoRIlSqCUKZPr2LFjRkcBACDGMJvNatGiuZIlS6xx44YoVixHoyMhBrExOgAA4L/ly5dLhw4dNDoGAAAxxoULF3TkyFEtWTKdco5Ixww6AFiwypXL6sSJkzp16pTRUQAAiBH27dsnk8mkkiULGx0FMRAFHQAsWPXqFfXDD6k1YsQIo6MAABAjFC1aVGazWYcOHTc6CmIgCjoAWDBra2t17dpa69at0+XLl42OAwBAtJc7d25ly5ZVy5evNzoKYiAKOgBYuPr1qyt58qQaOXKk0VEAAIj2TCaTmjdvofXrt6pNm566fv2W0ZEQg1DQAcDC2dnZqVOnFlq2bJlu3eJDAgAAEa1Tp06aMmWKDh8+pYIFK2nChOlGR0IMQUEHgCigceN6ihcvrkaNGmV0FAAAoj0bGxu1b99eN27cUNeuXTV8+ESdPv230bEQA1DQASAKcHR0UPv2TbVgwQJm0QEAiCQODg4aPXq0cufOrY4d+yogIMDoSIjmKOgAEEW0aOGhJEkSqUGD+goMDDQ6DgAAMYKNjY3mzZunq1eva8OGv4yOg2iOgg4AUYSzc2zNmzdJ5879rd69exsdBwCAGCN79uxKmTKFLl++Fi7nM5vNev78hfz8/MPlfIg+bIwOAAD4erlzZ9fQob3Ut+9wlSpVStWqVTM6EgAAMUKWLFl17drNML32woXL2rRph27evKPbtz1169ZdeXv7qEiRAtq8eXE4J0VUxgw6AEQxbdo00U8/lVPTpk119+5do+MAABAjZM6cWf/88/UF3Ww2a+fO/apRo4mKF6+uefNW6NkzX+XJk199+vTVgAEDdPjwcf3996UITI2ohoIOAFGMyWTSlCkj5ewcSw0a1FdQUJDRkb7LvHlzZTKZNHLkSL1588boOAAAfFKWLFl0546n3r71++xx/v4BWrRolQoX/kn16rXUmzeBWr58uR49eqT9+/dr9uzZ6tOnj3799VelTJlSM2cujKR3gKiAgg4AUVCcOK6aM+d3nTp1Wv369TM6zndp3ryFJGnIkCEqWrSoPD09DU4EAMDH8ufPr9DQ0P+83dqLFy81btxU5cxZSp0791OGDJm1f/9+nThxQvXr15eNzYdXF9vY2KhDhw5avXqznj59HhlvAVEABR0Aoqi8eXNp8OBfNG7cOG3ZssXoOGESEhIia2trTZgwVLt2rdaLF0+VP39+eXl5GR0NAIAPZMuWTfHixdPhwyc+ePzWrbvq2XOwsmUrrvHjp6tGjZq6evWqNmzYoOLFi8tkMv3nOT08PBQYGKiDB49FdHxEERR0AIjC2rdvpooVS+vnn3/WvXv3jI7zzQIDA2VlZaXbtz2VLVsm7dy5Wm/fvtHEiRONjgYAwAesrKxUrFgxbdu2W2/f+unYsdNq3Li98uYtp40bd6h37z7y9PTUjBkzlDFjxq86579/d//wQ6qIjI4ohIIOAFGYyWTStGmjFSuWgxo2bBjlrkd3dHTUoEGDNHXqXJ06dU4JE8ZX8+bumjZtmh4+fGh0PAAAPtCpUyfduHFHWbIUVaVKDXT9uqemT5+uu3fv6tdff1WCBAm+6Xxnz56VjY2NMmdOH0GJEdVQ0AEgiosbN45mz56oY8eOaeDAgUbH+WZ9+vRRnjx51L59b/n5+atTpxZycYmtmjVryM/v8xvxAAAQmcqUKaNjx46pQYOG2rRpky5fvqzWrVvL0dExTOc7ffq0MmVKL3t7+3BOiqiKgg4A0UCBAnk0cGB3jR49Wn/99ZfRcb6JjY2NFixYIE/PBxo+fKLc3OJp8eJpOn/+vFq3bi2z2Wx0RAAA3suePbumT5+uKlWqyMoq7HXKy8tLK1asUKlSRcIxHaI6CjoARBOdOrVU2bIl1LhxYz148MDoON8kS5Ys+u233zRt2jwdOXJSuXJl09Spo7V48WKNHTvW6HgAAIS7QYMGycbGSt26tTE6CiyIyczUBL7Ax8dHrq6uunv3jFxcnI2OA+Aznj9/oeLFqytr1mzasWOn0XG+SUhIiIoUKSw/vzfau3etrKys1L37IK1evVk+Pj5GxwMAINxcunRJOXLk0NChvdWhQ/NwOaePj69Spcojb29vubi4hMs5EfmYQQeAaMTNLZ5++62Pdu7cpStXrhgd55tYW1trzJixOn/+kjZt2i7p3fL3FCmSG5wMAIDw9csvPZUyZXK1bOlhdBRYGAo6AEQzP/1UVnHjxtH8+fONjvLNihcvrvLly2nkyMkKCQnRlSvXlDVrNqNjAQAQbnbu3Klt2/7S4ME92RwOH6GgA0A0Y29vr7p1q2rhwoUKDg42Os43GzZsuP7554ZWrdqky5evKVs2CjoAIHoICQlRjx7dVaDAj6pWraLRcWCBKOgAEA15eNTW48ePo9yO7pKUL18+Va9eXaNGTVZwcLCuXbtmdCQAAMLFvHnzdOHCRQ0f3lcmk8noOLBAFHQAiIZy5MiqbNkya968eUZHCZPffvtNnp73lTFjOi1ZskRbtmwxOhIAAN/l9evXGjhwoGrXrqIff8xpdBxYKAo6AERTHh61tGnTJj19+tToKN8se/bsatCggR48eKSiRQuoTZs28vb2NjoWAABhNmbMGL18+VKDBvU0OgosGAUdAKKpunWrSZKWLl1qcJKwGTJkiB498lLhwvnk7f1Kv/zyi9GRAAAIk/v372vcuHFq27aJUqZMZnQcWDAKOgBEU25u8VS0aH7t3Bm17of+r/Tp06ty5Ur666+9Gjz4F82aNStKXlMPAMCAAQMUK5ajunVra3QUWDgKOgBEYwUK/KgjR44oNDTU6Chh0q5de50/f0nZs2dRuXIlVbduXZ08edLoWAAAfLWzZ89q4cKF6tOns1xdnY2OAwtHQQeAaKxAgTx6+fKlrl69anSUMKlYsaJSp06tefOWad68ScqUKZ0qVaokX19fo6MBAPBFZrNZPXr0UPr0P6hp0/pGx0EUQEEHgGjsxx9zysrKSocPHzY6SphYW1urbdu2Wrduq168eCVvbx8lT55Mjo6ORkcDAOCLNm3apL1792rIkF6ysbExOg6iAAo6AERjzs6xlS1bZh05csToKGHWvHlzmc1mVaxYTw8femnFipV8yAEAWLygoCD98ssvKlGisCpUKGV0HEQRFHQAiObSp0+jO3fuGB0jzBIkSKC6devq4UMvTZ06VRkzZjQ6EgAAXzRr1ixdv35dv/3WRyaTyeg4iCKYggCAaC5BAjdduXLT6BjfZcyYMapYsaIaNWpkdBQAAL7I399fw4cPV506VZU9e2aj4yAKYQYdAKK5+PHd9OTJU6NjfJekSZNSzgEAUcbs2bP1+PFj9erV0egoiGIo6AAQzSVI4Kbnz58rODjY6CgAAMQIM2fOUPXqFZUuXRqjoyCKoaADQDQXP76bzGaznjx5YnQUAACivYcPH+rChYv66adyRkdBFERBB4BoLleurLKxsdHy5cuNjgIAQLS3Y8cOmUwmlSpVxOgoiIIo6AAQzSVNmlj16lXT+PHjFRAQYHQcAACiNS8vLzk6OsjR0dHoKIiCKOgAEAN07txKjx490qJFi4yOAgBAtFarVi29feun7dv3Gh0FURAFHQBigIwZ06l06WJaunSp0VEAAIjW0qdPr3z58mrVqo1GR0EUREEHgBiiVKkiOnr0KMvcAQCIYB4ejbRz5369fPnK6CiIYijoABBDFCtWQP7+/jp27JjRUQAAiNbq168vs9msLl36682bt5Kke/ceql+/4Vq+fL38/PwNTghLRUEHgBhiy5ZdsrKyUrx48YyOEuX4+fmpbt06Kl26tHr06KHFixfr0qVL3FseAPBJiRMn1qpVq7Rnz2FVqtRQM2cuUtGiVbR06Tq1a/eLMmcuouHDJxodExaIgg4AMcChQ8c1duxUDR48WNmzZzc6TpTTvXt3bdq0WbFi2Wj16pVq3LixsmXLJhcXFxUsWEDt2rXTzJkzdfLkSfn7MysCAJBq1KihI0eOyMfnjXr3Hqpq1arrzp07unHjhn7+uYnGjZumEyfOGh0TFsZkNpvNRoeAZfPx8ZGrq6vu3j0jFxdno+MACIPKld0l2ejgwYOytrY2Ok6Ucvv2baVLl06//dZH7ds3kyS9euWtCxeu6Pz5yzp//rIuXLiif/65odDQUFlbWytz5kzKnTuPihcvrmbNmvHvHABisOfPn+vKlSsqWrTo+8dCQ0OVKVNGZcuWQXPnTgqXcXx8fJUqVR55e3vLxcUlXM6JyGdjdAAAQMR69cpbJ06c0dSpUymKYTBp0iS5urqoadMG7x+LE8dVxYoVVLFiBd8/5ufnr8uX/3lf2s+f/1uLFy/W+vXrtHTpMj4sAUAM5ebm9kE5lyQrKyt16dJVXbp00b17D5UiRVKD0sHSsMQdAKK5vXsPKyQkRJUrVzY6SpS0ZMkSeXjUVqxYjp89ztHRQT/+mFPNmjXUxIm/affuNVq5crYOHTqkggUL6saNG5GUGAAQFTRs2FChoaHasGGb0VFgQSjoABDN7dy5T9mzZ1OKFCmMjhLleHt769mzZ8qZM2uYXl+2bHHt3LlKQUH+yp8/v3bt2hXOCQEAUdWkSZNkbW2tkiWLGB0FFoSCDgDR3KlTfytXrtxGx4iS7t69K0lKkSJZmM+RPv0P2rVrtfLkya4KFSpo3bp14RUPABBFnT9/XiNGjFD37m2VLVsmo+PAgnANOgBEc9WqVdDkybN148Z1pUnzg9KkSaM0adIobdq0KlKkiGxtbY2OaLHc3NwkSc+ePf+u87i6umjFiplq1aqH3N3dtXv3bhUuXDg8IgIAopjg4GC1aNFC6dKlUffubY2OAwtDQQeAaK5793ZycnLSP//c0K1b17Rv3x49euQls9ms3Llza+7cucqVK5fRMS1S0qTvNu15+vT7CrokWVtb688/R6t27eaqWrWqjhw5oowZM373eQEAUcucOXN0+vRpbd++Qvb29kbHgYVhiTsARHOxYjmqW7c2mj59rLZtW6ZLlw7q0aML2rJlqQIC3ihfvnwaOHCgAgMDjY5qcYKCgiRJDg7h8wHK3t5eS5b8qUSJ4qtixYp69OhRuJwXABB13LhxQz/8kFr58nH5GT5GQQeAGMje3l6FC+fT3r3r1L17W40aNUo//phHJ0+eNDqaRfH19ZWkL+7g/i1cXV20cuVsBQb666effno/BgAgZnBwcOBLcfwnCjoAxGB2dnbq27eL9uxZKysrqWDBgurdu7f8/f2NjmYRHjx4IElKkiRRuJ43efIkWrlytm7evKE6dWq/n6kHAER/zs7Oevnylfz8+LsWH6OgAwCUPXtm7dq1Sv36ddXvv/+uXLly6fjx40bHMtz9+/clSUmTJg73c2fNmlGLF0/T3r371LJlS5nN5nAfAwBgeWrVqqU3b95q5coNRkeBBaKgAwAkSba2turRo53271+v2LEdVLp0aR06dMjoWIYKCAiQJDk6OkTI+YsVK6hp00Zr4cKFGjBgQISMAQCwLOnSpVP16tX1xx+z9euvY1S6dC2NHv0HX9RCEgUdAPD/yZQpvTZtWqwff8yhypUrx+jr0p2dnSVJr1+/ibAx6tSpqiFDemnEiBGaPn16hI0DALAcPXv21M2bd7RixUYlSZJCo0ZN1sSJM4yOBQtAQQcAfMTR0UFLl05XpkzpVKFCBZ0/f97oSIb4t6D7+LyO0HE6dWqpNm1+VocOHbR169YIHQsAYLwiRYro8ePHevjwobZs2aLBgwfrt9/G66+/9hgdDQajoAMAPil2bCetWjVbKVIkVbly5fTPP/8YHSnSvX79rpg7OYXfLu6fYjKZNHx4P5UtW1xNmjTh9msAEAMkSpRIVlbv6li3bt1kZWWlx4+fGJwKRqOgAwD+k6uri9aunat48VxVpkwZ3b592+hIkerfXdwTJw7fXdw/xdraWlOnjpK1tUlNmvys0NDQCB8TAGC8ly9fqmnTpjKbzSpRopDRcWAwCjoA4LPc3OJp3br5sre3UZkyZd7vbB4T/Hv7M1tbm0gZL358N02bNlo7d+7S77//HiljAgCMNWzYMO3atVPz509WmjSpjI4Dg1HQAQBflDhxQq1fv1DBwQEqW7asvLy8jI4UKeLHjy9JevXKO9LGLF26mDp0aK4+ffro7NmzkTYuAMAYBw8eUKVKZVStWkWjo8ACUNABAF8lRYqkWr9+oV69eqFy5crqxYsXRkeKcG5ubpKk589fRuq4Awd2V6ZM6dWwYUO9eRNxO8gDAIzl5+ens2fPKX/+3EZHgYWgoAMAvtoPP6TSunUL9ODBA9WsWTPaXyf97wx6ZBd0e3t7zZ49QZ6ed9WtW7dIHRsAEHlOnTql4OBgCjreo6ADAL5J5szptXDhHzpw4ICmTp1qdJwI9W9Bf/Eicgu6JGXIkFYjRvTXrFmztG7dukgfHwAQ8Y4cOaLYsZ2UOXMGo6PAQlDQAQDfrEiRAmrRwkN9+vTRrVu3jI4TYeLGjSuTyRTpM+j/atKkvqpUKaeWLVvGqM35ACCmOHr0qH78MadsbCJnM1JYPgo6ACBMfv21p+LHj6uWLVvKbDYbHSdCWFtby83NTV5extyX1mQyadKk4bK3t9XPP/+skJAQQ3IAAMKf2WzWkSNHlC9fLqOjwIJQ0AEAYeLsHFu//z5Me/fu1axZs4yOE2Hy5Mmtkyf/Nmz8ePHiavr0sdq3b5/GjRtnWA4AQPi6deuWnj59qvz58xgdBRaEgg4ACLNSpYrq55/rqWfPnvL09DQ6ToQoXryETpw4Y+jsdfHihdS5cysNGDBAJ0+eNCwHACD8nDp1SpKUO3c2g5PAklDQAQDfZejQPnJ2dlKbNq2j5VL3YsWKycfHV5cv/2Nojn79uih79sxyd3fX69evDc0CAPh+qVOnliTdvHnX2CCwKBR0AMB3cXV11oQJQ/XXX9u1aNEio+OEu/z588vOzk5Hjhg7c21nZ6dZsybo0aOH6tSpk6FZAADfL2/evIoXL5727DlodBRYEAo6AOC7VahQSmXLltCcOXOMjhLuHBwclD9/Pu3ff9ToKEqbNrVGjx6o+fPna+XKlUbHAQB8B2tra5UtW1a7d1PQ8b8o6ACAcFGuXHEdPXpUb9++NTpKuPPwaKTt2/fq5s07RkeRu3tt1ahRSa1bt4621/0DQExRpUoVnTlzXvv3HzE6CiwEBR0AEC6KFSukoKAgHTkS/T5kNG3aVAkTJtSkSTONjiKTyaSJE3+Tk5OjWrduFS2v+weAmMLd3V1ly5ZRixbddO/eQ6PjwAJQ0AEA4SJTpnRKkCC+9uzZY3SUcOfg4KAePXpo+fL1un//kdFxFCeOq8aPH6Lt23doyZIlRscBAISRtbW1li5dJien2GratJOCgoKMjgSDUdABAOHCZDKpaNEC2rs3+hV0SWrTpo1MJpOWLl1tdBRJUsWKpVWz5k/q2rWrnj59anQcAEAYxY8fX6tXr9bZsxe0YAH7i8R0FHQAQLgpXrygTp48JR8fH6OjhDtnZ2e5u7trw4btRkd5b/TogQoNDVHXrl2NjgIA+A758uXTzz//rDFjpsjXl1tpxmQUdABAuClevJBCQkJ08GD03JG2fPnyunz5Hz1+/MToKJKkBAncNGJEPy1dulS7d+82Og4A4DsMHTpUPj6+mjp1rtFRYCAKOgAg3KRJk1LJkiXR3r17jY4SIcqWLStJ2rfvsMFJ/lf9+jX04485NWTIEKOjAAC+Q8qUKdWpUydNmTJHXl5cuhRTUdABAOHGZDKpWLGC2rMnes7mJkiQQHny5NaePYeMjvKeyWRSjx7tdPDgQR04cMDoOACA79C3b1/Z2tpp7NipRkeBQSjoAIBwVaxYAZ0797devHhhdJQIUaFCRe3de1ihoaFGR3mvYsXSypYts4YN+83oKACA7xAvXjzVr19fhw4dNzoKDEJBBwCEq6JFC8psNmv//v1GR4kQ5cuX17Nnz3Xx4hWjo7xnMpnUrVsb7dy5S5cvXzY6DgDgOzx79kxJkyYyOgYMQkEHAISrlCmTKU2aVNHyfuiSVKhQITk5OVnUMndJ+umnsnJ1ddHy5cuNjgIA+A6enneVPHlSo2PAIBR0AEC4K1asQLS9Dt3e3l4lS5bU3r2Ws1Gc9C5XlSrltHz5MpnNZqPjAADC6O5dT6VIQUGPqSjoAIBwV6xYQV2+fEVeXl5GR4kQFSpU0LFjp/X69Rujo3ygdu0qun79hs6cOWN0FABAGPj5+enJkyfMoMdgFHQAQLgrVqygJEXb261VqVJFgYGB2rbNslYJFCtWUPHju2nVqlVGRwEAhMG9e/ckSSlSJDM4CYxCQQcAhLtEiRIoY8Z00XajuDRp0qhw4UJatWqj0VE+YGNjIxcXZwUFBRkdBQAQBp6enpKk5MmTGJwERqGgAwAiRNasGXXp0iWjY0QYD49G2rPnkJ49e250lPeCg4Pl6XlfadOmNToKACAM7t69K5PJpKRJExsdBQahoAP4rBMnzqp69Z/1008e+uefG0bHQRSSIUNaXb161egYEaZevXoymUxat26b0VHee/DgkYKDgynoABBFeXp6KnHihLKzszM6CgxCQQfwnxYvXqUKFerp1avXevHCRyVL1tDMmQvZIRpfJUOGtHr69KmeP7ecGebwFD9+fFWoUN6ilrnfvv1uaSQFHQCipmvXrrGDewxHQQfwSSEhIZowYYZq1aqls2fP6fTp02rRoqV69/5Ndeu20KNH0XN3boSfDBnelcQrV64YnCTieHg00smTZ3XnjqfRUSRJhw4dV5w4cZQ6dWqjowAAvpGPj482btyosmWLGx0FBqKgA/ik7dv36fbtu+rdu7esrKwUK1YsTZkyRdu2bdOlS9dVpkxt3bp11+iYsGBp06aWlZVVtF7mXq1aNTk5OWn16k1GR5HZbNbq1ZtVp04d2djYGB0HAPB/PHjwQLNnz9aOHTv+85hly5bJ399fHh51IjEZLA0FHcAnzZixQAULFlD+/Pk/eLxixYo6c+aMXFziqFq1xhYzcwjL4+Bgr1SpUkTrGXQnJyfVrFlTK1duNPzSj5Mnz+nu3Xvy8PAwNAcA4EO+vr7Knj27WrdurQoVKqhu3bp69OjRR8fNnDlT5cuXZIO4GI6v2AF85M4dTx04cFQLFy785PNJkiTRnj17VLJkCVWr1libNy9RypTJIzklLN2LFy9la2utf/75x+goEcrd3V2LFy/WlSvXlSVLBsNyrF69ScmSJVOxYsUMywAA+Nj58+f18uVL7d69Rrdve6pv3+HKnDmzqlatqixZsihLliySpDNnzmjZshkGp4XRmEEH8JGlS9fK2dlZtWvX/s9jkiZNqr1798nfP0jTps2LxHSwdGazWcuXr1f+/BX15MkLNW3a1OhIEapkyZKyt7fX/v2HDcsQHBysdeu2qkGDBrK2tjYsBwDgY7dv35YkpU6dQrVrV9Hx49vUqFFtXbt2SaNHj1KNGjVUo0YNJUuWhOvPwQw6gI+tWLFe9erVU6xYsT57XLJkyeTq6sKtQPDezZt31KPHr9q//4gaNGigiRMnKnHi6L1Uz9HRUUWKFNH+/UfVrl0zQzLs23dEz549Z3k7AFigIkWKSHr3Z3WtWj8pbtw4Gjasr6R3X2o/fvxE//xzQ0mSJGIPEVDQAXwsTpw4un371lcd+/z5C8WNGydiA8FihYaG6sKFK9q5c7927TqgU6fOKWXKlNq2bZsqVqxodLxIU6ZMGY0cOUJBQUGytbWN9PEXL16lrFmzKleuXJE+NgDg89KkSaMff/xRmzZtV61aP33wnMlkUpIkiZQkSSKD0sHSUNABfODtWz+9fPlSadJ8+T7KISEhevXqleLGdY2EZAhvFy5c1vz5K7R//1GFhIRI0gcbnf3Xpmf/9/HXr9/o5ctXih07tsqWLas//2wjDw+PL66+iG7KlCmj/v3768yZCypQIE+kjv306XNt3bpbY8eOlclkitSxAQBfp3bt2ho27Dc9ePBIyZIlMToOLBgFHcAHJkz4U0+ePNe4ceO/eKy3t7fMZrPixYsT8cEQbi5evKpu3Qbq1KlzSpIkiWrXrq3YsWO/f/7/lrwv/d7Ozk5FixZVkSJFYvSlDj/++KNcXFx04MCRSC/oy5evk8lkUqNGjSJ1XADA12vRooWmT5+uevVaauvWZXJ1dTE6EiwUBR2A3r71044d+7R27WZt3bpb/fv3V7p06b74uufPn0tSlFniHhAQoOvXb8vW1kYZM375/UVHy5evU/fug5Q+fQatW7dOVapU4Xq3cGBjY6NSpUpp//6j+uWXjpE2rtls1qJFq1S7dm25ublF2rgAgG+TMGFC/fXXXypSpIjc3dtqzZp5cnCwNzoWLBC7uAMx1PHjZ9S0aSdVqtRQGTIUVLNmnfXw4XONGTNG/fv3/6pzvHjxQpLlF/TAwED16zdcyZPnUrFiVVW48E/aunW30bEiVUBAgLp1G6h27Xqpfv0GOnbsmGrUqEE5D0fly5fX8eNn9PDh40gb86+/9uj69Vtq1apVpI0JAAibzJkza/PmzTpz5oJ69RpidBxYKAo6EEONHTtFp05dULp0mdSvX39du3ZNp06dUvfu3b96qfL/zqBb7jXonp73Vbmyu2bPXqJBgwbp0KFDqlmzplq27KrTp/82Ol6k8PR8oEqVGmrp0rWaOXOm5s6dK0dHR6NjRTuNGjWSk5OT/vxzfqSMFxAQoAEDRqlMmTIqWbJkpIwJAPg+hQsX1uTJk7Vo0Srt2XPQ6DiwQEydADHQixcvtW/fEf3xxx9q167dd5zn3Qx6vHhxwyvaB8xm8zdvemU2m3Xv3kMdO3ZKx4+f0dq1mxUnTjwdPnxY+fLlkyTlyZNHZcuWUYMGbbRjxwqlSZMqIuJbhJcvX6lUqZpydnbR4cOHlTdvXqMjRVsuLi7q0KGDJk36Xd27t43wlSVTpszV3bv3tHHjZjaHA4AopGXLllqxYoW6dRuoQ4c2y9k59pdfhBiDgg7EQDdu3FFISIiKFi36Xed5/vy5HBzs5ejoEE7J3jGbzVq8eLUGDhwlPz9/xY7tJGfn2P/nx+mDx1xcYsvW1lYXLlzR8eNn9ODBI0lSpkwZ5eHRWL/99pvixv3fLxEcHR21YcNGFS5cSPXqtdKhQ5tkbx89rwNzcoqlxIkTKiREypgxo9Fxor0uXbpowoQJmj17cYRdi+7l9VT9+4/QmjWb1b17d2XNmjVCxgEAfLtbt25p6NChGjJkiFKl+vQEgMlk0qxZs5QtWzYNHTpeY8f+GskpYcko6EAM5ODwbgl7UFDQd53nxYvwvwf6gweP1KXLAO3efUBNmjRRvnz55OvrKx8fnw9+Xr3ylafn4//5Z1+9fftWWbNmkbt7IxUpUkSFCxdWggQJ/nOc+PHja/XqNcqZM6e2b9+ratWi5z277ezstGDBHypdupZatGihFStWMNsagRImTKjmzZtr+vSFat++uZycwu92c6GhoZo/f7mGDh0vW1s7LViwQI0bNw638wMAvt+AAQO0bNkybdu2TevWrVPhwoU/eVyaNGk0cuRIdenSRTVqVFKRIvkjOSksFQUdiIH+nS328/P7rvM8f/483Aq62WzWsmVr1a/fCDk5xdaWLVtUuXLlcDn3f8mRI4fy5curpUvXRtuCLknp0qXRH3+MUNOmnVWkSBF16dLF6EjRWs+ePTVjxgwtWbJarVv/HC7nfPnylRo0aKMTJ86oefPmGjNmDLu2A4CFuXbtmlasWKF+/bpo374jKlWqlGbMmKGmTZt+8viOHTtq5coV6ty5nw4e3KRYsdgfBmwSB8RI/y5J9/f3/67zvJtBD58N4iZMmK4OHfqoevUaunjxYoSX8381bdpMu3Yd0JMnzyJlPKNUr15J7ds3U8+ePTVx4kS9evXK6EjRVpo0adSgQQNNmTLnu1epSFJISIhatuymGzfuaP/+/ZozZw7lHAAs0IgRI5QoUQJ16tRK69bNV4MGNdSs2bu/e0NCQj463srKSnPmzNWDB481cuQkAxLDElHQgRjIzS2enJ1ja8GCBd91nufPn8vb20d79x7S06fPv+tcR46cUNWqVbVgwYIPrhePaPXq1VNISEiM2El18OBfVLduVfXq1UtJkyZVs2bNdOrUKaNjRUu9e/fWvXsPtWLF+u8+12+/TdC+fUe0YsUKFS9e/PvDAQDC3enTp7V48WJ17txSDg72srOz0++/D9PIkf01ceJEVatWVT4+Ph+9LmPGjBoyZIimTZsXY+4ug8+joAMxkJNTLI0c2V+LFi3SpUuXwnyevHnz6tYtT9Wq1UwZMhRUhgyFlDNnKWXNWkwZMxZWwYKVNGXKHPn7B3zxXJ6eD5UuXbowZwmr+PHjK1OmjDp1Kvr/pWhra6tp08bo4sUD6tGjnfbs2al8+fJpxYoVRkeLdrJnz66GDRtqwIBR8vR8EObzrF+/TZMmzdSYMWNUtmzZcEwIAAgvL1++VJ06dZQzZ1Y1a9bw/eMmk0lt2zbVypWzdfjwYRUqVEg3b9786PU9evRQ7ty51alTPwUEfPkzE6I3CjoQQ1WqVEaSdPny5TCfY/jw4fL19dW1a9e0atUqtW/fQY0a/axWrdqoU6fOypu3gIYOHa8ePQZ98VwPHjxUsmTJwpzlexQsWChGFPR/JUqUQD16tNOZM7tVt241NWnSREePHjU6VrQzbdo0ubrGUevWPRQcHPxNrw0ODta4cdPUunUPNWzYUN27d4+glACA72E2m9W0aVO9evVS8+ZN+uRdYcqUKaYdO1bK3/+N8ufPr3379n3wvI2NjebOnavr129p/Pg/Iyk5LBUFHYihDh48Jun7r0O3srJS+vTpVadOHQ0ePFjDhw/X4MGDNWDAAC1evFgzZszQ0qVrtXXrrs+eJ2PGdDp40Jhl5oUKFdLFi1f09u33bZoX1VhbW+uPP0Yod+7sqlat2ie/1UfYxYkTR0uXLtXJk2fVsmU3vXnz9qted+PGbVWq1FAjR05Sz549NX/+fHbeBwALNW7cOG3cuFF//jlGKVMm/8/jMmRIq127Vit79kwqV66cZs6c+cHzOXLkUP/+/TVx4gxduBD2yRNEfRR0IIa4fPma+vcfoQoV6ql27WZq0aKb3N3d5e7uHqHjNm3aVKVLl9Yff8z57HENG9bSli1b9OTJkwjN8ykFCxZUSEiIzp27GOljG83e3l5LlkyTi4uTsmfPrs6dO+vevXtGx4o2ihQpotWrV2vnzgOqVKnhZ5e7h4aGaubMhSpevJq8vV/r8OHDGjFihOzs7CIxMQDgax08eFB9+/ZV165tVLFi6S8eHzduHK1aNVvNmjVUmzZt1KlTpw9WWPXr10+ZMmVU5879ZTabIzI6LBgFHYjGzGazFi9epTJlaqtIkZ+0atVmpU+fRa6uCdS9e3ctWLBA1tbWEZrBZDKpVq1aOnXq3GdnEOvUqSIrKystWbIkQvN8StasWeXk5KSTJ89G+tiWIF68uNq1a7U6dWqhRYsW6ocfflCzZs30zz//GB0tWqhZs6aOHDkiH583KlGimjZs2PbJ4wYNGq3evX9T8+YtdPbsORUsWDCSkwIAvpaXl5fq16+vggV/VP/+Xb/6dba2thozZpDGjx+i6dOnq1mzZu+fs7Oz05gxY3Xu3EVdvHglAlIjKqCgA9HY5s071KlTPyVJklxr167V/fv3tXjxYq1du1ZjxoyRjY1NpOQoU6aMgoODdfTof+8YHi9eXFWqVFrz5s2N9G+Nra2tlT9/fp06dS5Sx7UkcePGUd++XXT+/D4NGtRDf/21VZkzZ1bdunV15swZo+NFeTlz5tTZs2dVtmx5NW3aWW3b/qIbN26/f/7o0VOaNm2exo4dqylTpsjJycnAtACAzwkODpaHh4dCQoI1e/bEMH2eat7cXX/8MVKLFy/WqlWr3j9epkwZubq6avPmneEZGVEIBR2IxqZNm6/ixYtr8+YtqlmzpmFLZTNmzKikSZPqwIHPb0TWrFlDXbhwUfPnz3//2KtXr/To0aMITvhumfvJk+di/JIyZ+fY6tSppc6e3aPx44fo1KkT+vHHH1WhQnnt378/xv/7+R5x48bVypUrNXv2bO3de0T581dQw4ZttGzZWnXq1FeFChVUt27djI4JAPiMwMBANWjQQPv379fs2ROUOHHCMJ+rfv3qqlatgtq1a6fHjx9LejeLXqVKFQp6DEZBB6Kps2cv6NixU+ratavRUWQymVS6dGkdOHDss8eVKFFY7u611LlzZ92+/W52cfjw4cqQIYPWr18foRkLFiwoL6+nun8/4r8MiAocHOzVrFlDnTy5XbNmTdD9+54qWbKkihQprE2bNlHUw8hkMqlFixa6e/euZs+ercePn6t9+956+NBLc+fOi/BLTgAAYRcQEKA6dWpr06ZNWrBgiooV+75LkUwmk8aPHyIrK5Nat279/u/WmjVr6vLlf3T79t3wiI0ohoIORFN//DFHP/zwg6pVq/bRc76+vu+/qY0sZcqU0fnzl/Ty5avPHjdy5AD5+/tr3bp1kqTy5cvr9evXqlmzpn799VeFhoZGSL4CBQpIUoxe5v4pNjY2qlOnqg4d2qRly2YoJCRQ1apVU86cObR06dJvvn0Y3nFwcFDz5s119uw5+fj46NatW8qYMaPRsQAA/8HPz0/Vq1fTzp07tWTJn6pcuUy4nDd+fDdNnDj0f0r/AklSxYoV5eDgoC1bPn8HHERPFHQgGtqwYZvWrduigQMHfnJGrnXr1kqRIoVatGihW7duRUqm0qVLy2w269Ch4589ztvbV8HBwcqQIcP716VIkUIuLs4aOnSoateuLV9f33DPlyhRIqVJk5qC/h9MJpMqViytv/5ars2blyhhwrjy8PBQsmTJ1Lp1a/31118KDAw0OmaU5OzsrMSJExsdAwDwGY0aeejgwYNasWKWypYtHq7n/umncmrQoKa6dOkiT09POTk5qVChQtq370i4joOogYIORDP37j1U164DVKdOHTVp0uSj59+8eaONGzeqaNH82rRpozJkyKDmzZtHeFFPmTKl0qVLq/37P38d+r/3/sydO7ekdxu4NW3aVGazWXPm/K7du3epUKFCEXLP7oIFC+nEiZi5k/vXMplMKlIkv1avnqv9+9erXr2q2rlzuypVqqSECROqUaNGWrNmjd68eWN0VAAAwsXx48e1du06TZo0XMWLF4qQMUaNGiBnZyc1a9ZMT58+1dGjR1Ww4I8RMhYsm8nMhYT4Ah8fH7m6uuru3TNycXE2Og4+IyQkRFWrNtaDB146d+6c4saN+9Exa9asUZ06dXTq1E4lSZJI8+cv16RJs/T8+QtVrVpV6dKlU9KkSd//pEyZUqlSpQqXfI0aNdL161e0ffuK/zxm8OCxWrp0nby8vGQymSRJN27cUPr06bVr12rFju2kBg3a6Icf0mn37t3hkutfCxcuVJMmTXT+/H6lSJE0XM8dnZnNZl28eFVbtuzUpk07dPnyP3JwcFDFihU1evTo96shAACIiipXrqTbt2/q8OHNsrKKuPnNffsOq2bNpsqcObNu376tCxf2KX58t69+vY+Pr1KlyiNvb2+5uLhEWE5ELGbQgWhk8uTZOn78tJYsWfLJci5Ja9euVdasmZQ2bWrFiuWo9u2b6ezZ3frtt9568uSB1q5drf79+6lBgwYqXry4UqdO/cGu6t8jderUun//4X8+7+n5QLNmLZK7u/v7ci5J/v7+kiQ/P39lzJhO1atX1O3b4T/jX7NmTTk6Omr16k3hfu7ozGQyKXv2zOrTp7MOH96s06d3qW/fzjpx4ph69+5tdDwAAMLsxIkT2rbtL/Xs2T5Cy7kklSxZRKNHD1KcOLHVs2f7byrniD4o6EA0snTpGjVp0kRFixb9z2McHR11//5D3bx55/1jsWI5ql27ZtqyZalOn96pBw/O686dMzp2bJvKlCmuQYMGhcuu3alSpdKjR16fvFbZbDarV68hihs3nn777bcPngsICHifU5ISJoyvJ0+efnee/5+zs7Nq1KihlSs3sEv5d/jhh1Tq3LmVunZto02bNkX6hoQAAISXoUOHKEOGtKpRo1KkjNe6dWNt3bpUPXq0i5TxYHko6EA08eiRl27cuK2KFSt+9rgJEyYoceIk8vBoJ1/f1588xmQyydXVWSEhoTpx4ozy5Mn9wYx2WKVKlUpms1kPH35c2DZv3qHt2/dq8uTJcnb+8FKKtGnTSpJu3Xp3u5H48ePpzZs3EXKdc+PGjXX16vX318Ij7OrWrSpbW5twW4EBAEBkOnXqlLZs2aoePdpxG0xEGgo6EE0cO3ZaklSiRInPHufi4qINGzbo0aMnateu13/etuzp0+dq2LCN0qRJo0WLFodLxn+vZb9378Nl7o8eealXr6GqUuUn1axZ86PXxYkTRylSpNC0afN09ep1vXjxUpL05MmTcMn1f5UrV04JEybUihUbwv3cMU2cOK6qXr2SZs+ezYoEAECU8ujRI7Vr107p0qVR7dpVjI6DGISCDkQTceO6SpJevHjxxWMzZsyoxYsXa8uWnRo/ftonj+nT5zcFBARp06bNH81oh1XKlCklSffuPXj/mK/va9Wv31rW1raaPn3Gf87Ur127Vl5ez1WoUGX17TtcTk5OsrW1/eKY3zrLbmNjowYNGmjNms3c4zscNG5cVzdv3tT+/fuNjgIAwFfZt2+fcufOrfv3PfXnn2OYPUekoqAD0USePDlkZWWlI0e+7p6ZVatW1dChQzVixCRt3frhbuiBgYHasWOfOnXq9L5UhwdHR0clSpTo/Qx6UFCQmjbtpLt372vbtm1KlizZf742b968Onv2rDZs2KBLly7p+fPnSp48+X8eHxQUpBYtWih27NjKli2bPD09vzpn48aN5eX19Iu3hMOXFS6cT2nTptbs2bONjgIAiEaePHnyyT1tvseLFy80ZMiQ/8fefUdHUfZfAL9b0nsghZZC7713CGkgoPQiTQWlCSIIIggWFBXBAghI71JEBSEkNKVI770TIBBaSK+7+/uDV37CdwKTugu5n3M873kvM/M8W7LJs7N7BwEBAShb1h9//fU7ateunqtjED0PF+hELwlnZydUqFBW9QIdAD766CO89tpreOedkTh//v+vK75v32EkJCSidevWuT5Pf38/zJgxH8HBXdGmTU/s3LkP69atQ5UqVZ67r6enJ9q1a4eKFSvCxsbmmdtevHgR8+fPR5Mm9REfH4vXXnsNSUlJquZYq1YtlC9fDqtW8WPuOaXRaNCrV2esWbMGMTEx5p4OERG94C5fvow33ngDRYsWRbNmTXH3bs5KYw0GA8LCwtC1a1cUKVIEn3/+OYYPfxvr1i2Ep2fhXJo1kXpcoBO9ROrWrYF//lG/QNdqtVi0aBF8fHwRGNgZu3btg8lkwoIFK+Dv749q1arl+hxnzJiJ998fibJlK8LOzgnLly9Hy5Ytc32cChUqYOjQodi37zAmThyFs2fP4K233lL1XWiNRoPXX++FDRvCkZCQ+0V0BU337h1gMBiwdGnudBkQEVHBERMTg8WLF2Pq1Kno3bs3ypYtiz//3ID33x+IS5cuoWHDhrh48WKWj3vhwgV89NFH8PX1RWhoKE6cOIrx40fg1KmdGD9+BD/WTmajMbG5h54jLi4OLi4uuHbtMJydc/Zd5NTUVCQlJcPNzTV3JkdPWLlyHQYO/AAPHjzI9DroSmJiYtC+fXvs3LkTdevWxP79hzF//nz069cvD2eb91JTU+Hp6YkhQ/qhTJlS6NfvXXz11Vf44IMPnrvv1atX4e/vj1mzpqBr1/b5MNuXW+/eg3H1ahSOHTueK1cEICKigmHy5Mn48MMP4ejoAG9vT7zxRnf06dMN9vZ2uHbtOjp3fgsxMXFYv3496tev/8xjJSQkYPXq1Zg/fz527doFFxdndOjQBq+/3gk1alR54X8/xcXFw9e3JmJjY+Hs7Gzu6VA28Qw65avPP5+GChUa48svv0dycoq5p/PSqVu3JgBg7969WdrPzc0NO3bswIwZM3DlynVMmzbNbIvzZcuW4bPPPsPSpUtz3PxtY2ODoKAgRET8jVdfDcX77w/EmDFjsHHjxufu6+fnhyZNmmDVqt9yNAd6pEePjjhx4iTOnDlj7qkQEdELxt3dDdevH8WBA+EYOLAf7O3tAAC+viUQFrYSpUv7oWXLlti+fbvY12Qy4e+//0a/fv3g7e2NN998E3q9CT//PBVnzuzG1KmfombNqi/84pxeHlygU77avHk7/Pz88N13c9C9+9tITU0195ReKv7+PihUyB3//JP1cjOtVotBgwYhOjoaw4cPz5X5GI1G/PLLL/jzzz/x8OHD525/48YNvP766/j444/Rq1cvdOrUCffv38/RHFq3bo2DB4/i3r37GDt2OIKDW6BHjx44d+7cc/ft1asXduzYg+3bd+VoDgQ0aVIfVlZW2Lp16/M3JiIi+h9ra+tnlsG5u7vh118XoH79mnjllVceXzXkxo0bmDRpEsqWLYtmzZph+/atGDbsLRw7tgPr1i1Ep05tYWdnm183g0g1LtAp31y/HoULFy5j0qRJCA8Px969h/DRR1+ae1ovFY1Gg1q1quLAgQM5OkZu6dGjO7p164ZXXnkFXl5e6NevH06cOJHp9lFRj9rdt29fh8WLp2P79m2oUqUKwsPDsz2HkJAQmEwmbN26C1qtFrNnT4G3twfat2+P2NjYZ+77+uuvIzg4CJ07v4X585dnew4EODjYo27dGtiyZYu5p0JERC8QGxsbpKWlP3MbOztbLFs2C3XqVEebNm0QGNgKPj4+mDTpc9SuXQXr1y/F4cNbMGrUEJQoUTSfZk6UPVygU77ZsWM3tFotWrZsiWbNmmHcuHFYvnwt4uLizT21l0qlSuWfuQjOT+vXb8DIkYNw6NAWfPjhu4iI2IyqVauiVatW2LhxI4xG4xPb+/j4wMHBAUuWrEbbtsHYvXsDypcvieDgYIwaNSpbcyhSpAhq1qyBiIgdAB613S9dOhO3b99Cz549YDAYMt3Xzs4Of/yxHu+88w7ef38Chg79ECdPns3WPAho3rwhduzYwevLExGRao8W6GnP/H0NPFqkL18+C40b10V8/EN8993nOHt2D3766Ws0blwPWi2XPfRi4DOV8s327btQp07tx+Vlffr0QUpKKv74I8zMM3u5VKpUDjdv3sSDBw8y3ebBgwfo06cPli/P27PCnp4euHTpGkqW9MXw4W/jyJGtmDt3Gh4+vIc2bdqgbt26SEz8/5Z0b29vjB49GvPnL0d8fAKKFPHCmjXzMW7cCEyZMiVbH90HgNat22Dr1p2Pf7mXLu2PuXOnYdOmMIwfP/6Z++r1ekyfPh0zZ85EWNgONGnSFk2btsfMmQtw5869bM2noGrWrCHi4uJw8OBBc0+FiIheEFWrVgUAbN2687nb2tvbYeXKOQgLW4nevbvkuNyYyBy4QKd8YTAYsGPHHgQFBT/OSpQogYCAllixYp0ZZ/byqVixHABkehb96NGjqF27NhYvXozhw4c/sUDObRMnfoJ16/7E2rUbAABWVlbo2PEVRESsxvr1S3Hq1ElMmDDhiX3Onz+PsmVLwdHRAcCj78a/997bKFasCNasWZOtebRu3RoPH8bi4MFjj7NWrZpiwoSR+PLLL7Fu3fOfgwMHDsTNmzfx+++/o0yZ8pg48RtUrNgY3boNwO+/b0JKCvsUnqdGjSpwdnbix9yJiEi1OnXqoEaN6vyqGRUYXKBTvjh+/DRiYh4iKCjoibxv337Ys+cArl6NNNPMXj6lS/vB2toax48fF/+2ePFiNGjQAE5O9li/filiYmLw008/5dlcevfuja5du2LEiI9x5syFx7lGo0HjxvUwevRQTJs2DYcOHQLwqFRu06ZNaN8+5Invwmu1WpQrVwrLly/P1vfr69atC3d398cfc//X0KFvITQ0AO+++y6SkpKeexxra2u0a9cOa9euxa1bt/DDDz8gJiYBffu+iwoVGmLEiI9x4MCRHLfPv6z0ej0aNarLojgiIlJNo9Fg4MBBCA/fgcjIm+aeDlGe4wKd8sW2bbvg5OSEevXqPZG/9tprcHJywsqVv5lnYhbo+vUo/P33P9k+I2tlZYVy5UqLM+hTp05Fnz590LFjG4SFrUTjxvXQs2dHfP3113l2Fl2j0WD27Nnw8/NDx479EBl544l/Hzz4Dfj6lsBXX30FADhz5gzu37+PRo3qimPNmPEVihf3RtOmTbFy5coszUOn06Fjx4749tuf8P33cxAZeQPnz1/Ctm27UK5cady4cQNTp07N0jELFSqEQYMGYd++/Thz5gwGDhyMiIidCArqgrp1gzFlykxcvx6VpWMWBM2bN8SePXvy9JMbRET0cunevTucnJzwzTfTMWXKDAQFdUG9eiF4/fVB+PTTb7Fq1e+IjWWnEb0cuECnfLFjx260aNECVlZWT+T29vbo2LEj1q/Pfkv3y+aTT75B+/a9UbJkbXTp8hYWLfrlucUoT6tYsSyOH///j3ObTCbMnDkTXbu+ih9//PLxZUVGjHgnz8+iu7i4YPPmcNjbO+K11/o98b3tpKRk3Lp1GzVrPrp++86dO6HX61G7dnVxHG9vT6xfvxTt2gWje/fuGDdunCiZe5affvoJPXv2xOTJP6JatRaoVy8EnTq9gR9++BnFixeDvb19tm9j+fLl8cUXX+Dq1avYsmULGjRojGnTZqNateYYPfrTLM3zZde0aQOkpaVh79695p4KERG9IBwdHdGrVy8sXboG338/Fz4+JREc3BppaSasWrUeb789EpUrN8EHH3yKCxcum3u6RDmiN/cE6MUxYMD7SEtLQ0JCElJT02AymWAymWA0GmFnZ4v27UPQs2dHuLu7PbFfQkIi9u07nOkZynLlyuH333/Lh1vwYoiOvouAgAAEBwdj06ZNGDHiY/z5ZwTmzp2muuykUqVy2LAhAkajEVqtFufOncOlS5fw+ecfPPHRcR+f4mjWrAH+/vtvjBw5Mq9uEry9vREREYFGjRqhY8c3sGHDUri4OGPNmvVIT89Anz59AACpqanQ6XSwt7dTPI6trQ1mzfoG5cuXwWeffYEzZ85g8eLFcHBweO4cdDodli5diunTp2P79u1wd3eHr68vihUrJt44yi6dToeAgAAEBARg5syZmDNnDkaOHImkpGR8993n0Ol0uTLOi6xIES8AwMOHD807ESIieqF8+eWX6NatG+rWrQtra+sn/u3mzZuYPXs2Zs2ahZ9/XoKAgKb45puP4e/va6bZEmUfz6CTagaDDoULF0WVKjXQsGETNGnSHM2atUTLloEoWbIsPv98GipWbIK33x6Jf/45+Pis7+7d+5Geni6+f/6vwoUL4+HDWF566X/u349BpUqVMGrUKGzbtg0bN27E/v1HERzcFbGxcaqOUalSOSQmJuLKlSsAgPXr18POzhbNmjVU3N7Gxibb801NTcWlS5cQExPzzO38/f0RHh6Omzdvo2vXAUhKSsayZWsRGhqKIkWKAHh0SbTU1NRn3k6NRoP33nsbS5fOxObNYWjUqBGuX7+uer6urq547bXX0KxZM/j5+eXa4vxpjo6OGDFiBJYsWYLly3/FwIEf8DkOPH6DKKufCiEiooLNyckJjRs3FotzAChWrBg+/fRTREZGYtGiRbh69SZatuyIbdue3/xOZGl4Bp1UW7t2LZydnTP997t372LBggWYPXs2Vq36Ha6uLmjcuC4ePoyDj48PypQpo7ifh4cHTCYTYmJi4eFRKK+m/8K4d+8BChcu/Pj/BwcH459//kGdOnUwZcpMfPbZmOce498m9+PHj6NUqVLYsiUCdevWfPzR9v9KSUl9YoGemJiIu3fvws/P77njREZGIjg4GGfPnoWTkxMGDRqE9957D56enjhx4gQ2bNgAf39/dOrUCVZWVqhcuTI2btyIgIAAFCv26LIpH3/86ePjFS1aFABw+/YduLq6PHPs1q1bISzsF3Tp8hZGjhyJX3755bnzNYeePXvC2toaPXr0QFpaGhYs+OGJTzEUNP9eh5Yf+yciotxma2uL3r17o127dujZswc6d34LH3/8Pt59t3+B/t1LLxaeQadc4+HhgQ8++AAXLlzA33//jWHDhiM2Nhn79h1G+/btM31h/Hcxev9+5tftLiiMRiMePIiBh4fHE3mFChUwevRozJmzBFeuXHvucby8PFCokPvjJvdatWpj//7DorTsypVrOH/+8uM3Xs6ePQtHR0f4+/vjwoUL4rhP++OPP3Dx4kX89tsivPFGd8ycOQN+fn4oVaoUqlWrhi++mIQePXqgVKlSCAt7dL37+vXrIzw8HJ999hmmT5+Odu3aPT7ev2fSo6PvPndsAKhcuTw6dnwF//yzR9X25tK5c2fMmjULv/8ehkuXrpp7OmbFM+dERJTXXF1d8ccf6zFmzBhMnPgN3nxzOBITn3+1FiVr127A++9PwIMHz/6kIFFu4QKdcp1Wq0WTJk0wceJE/P33TsTHx+O7777LdPt/F6NcoAPx8QkwGAxwd3cX//b+++/Dw8MDn3wy5bnH0Wg0qFSpHHbv3g0A+PDDD+Hs7ILPPvv28TbHjp1CcHA3uLm5Y/To0QCAHTt2AABKlCiGHj26P3echIQE2NhYo169Wpg4cRSOH9+B998fiJYtG2LNmvm4fPkAdu5cj5IlS6BHjx64desWAKBRo0YYN24cBg8e/PiMKvD/C/Tbt9Ut0AGgZs2quH79BqKjo1XvYw6lSpUCgCdub0H07+X2ypcvb+aZEBHRy0yn02HSpElYu3YtwsP/QlBQlyxf1jcm5iFGjpyA+fOXo2HDNti4kZcJpbxXsP9SpHxhY2PzzEXJ/59B5zuTDg720Ol0ePBAvllhb2+PL774Ar//HoZ//jn43GO9/nonREREYNu2bXBycsKnn36K1av/wMcff4VJk6bhlVd6wt/fH7t27YKv76MSlX379qFatcoYOXIQDh8+8txLYbVp0wYGgxEjR06AyWSCq6sLRo4chClTJiIgoAmsra1RuXJ5zJ//Hayt9RgwoP8zrxH+7/fYbW3l98syU7NmFQDI1vXR81NaWhoA5Nl33l8Ux46dhLW1NSpVqmTuqRARUQHQoUMH7Nu3D2lpBrRo0SFL30ufMmUmMjKMOHz4MOrUqYuePd/BwIEf4OHD2DycMRV0XKCT2bm6ukKn0+HePZ5B1+v1KF686ONyt6e9/vrrqFmzJsaPn/zc7/B26tQWderUwPDhw5CRkYE33ngDr732Kn77LQzLlv2KkJAQbN267YmP0z98+BCFCrmiWrVKMBqNjz8in5kqVapg1qxZWLZsLRYuzPza5O7ubpg69TNs2PAnli5dmul227dvBwDF66BnxsenONzd3Sx+gf7vmy52dtkv5HsZHD16ClWrVinwb1RYohDPd8R/QTY9xX9ERC+aSpUqYf/+/WjQoAE6d34L338/55knDADg6tVI/PzzUowePRo1atTAH3+sx8KFC7Fp0zY0bNgGn3wyBcOHj0P37m8jOLgrduzYnU+3hl52XKCT2Wm1WhQqVIjf7fkfX9/imS7QtVotpk6dikOHjmHt2g3PPI5Go8HkyeNw4sRJzJ07F3q9Hr/+ug6RkdcRFXULq1evgaOj4xP7+Pv7IzIyCuXLl4Zer8eRI0eeO98+ffpg0KBBGD36M3z11Y+4dUv5o+atWwegefOGWL58WabHevDgAaysrLJU5KLRaFC9eiUcPXpU9T7m8Mcff6BixXIoXLhgFyEeP34atWrVNvc0iIiogHFzc8P69Rsefy996dI1z9z+00+/hYeHB0aMGAHg0d8bffr0wcmTJ1GnTl2sXfsnTp26CJ3ODocOHcPRoyfz42ZQAcAFOlmEwoUL8Qz6/zxaoF/O9N+bNWuGV199FZ999i2Sk1OeeayaNauiW7fXMH78eFXXnS5TpgyuXbuOhIREVKhQFocPH1Y152nTpmHAgAH48cd5qFKlGfr0GYITJ86I7WrXro6jR49lepxu3brB2toa1aq1wJtvDseff0YgJSX1mWMnJCQiMTHZoi9hlpycjPXr1+O110LNPRWzSkpKxtmzF1CrVi1zT4WIiF5iaWlpWLduHaKinizH/fd76a+99hp+/HFupp9GPHDgCNat24jPP/8c9vb2T/xb8eLF8fvvfyAy8joOHDiI9evXAwCcnByVDkWUZVygk0Xw8PDkd9D/p2hRb/EL5Wlff/01bt26g59+Wvjc43388ftITk7CJ5988txtO3fuDGtra4we/RmSk5ORnJysas7W1taYPn06bt68ie+//x7nzl1FUFBnrFz52xPbValSAbdv38bt27cVj/Pv5dk+/HAsLl6MxOuvD0LZsvXx9tsjERa2Dfv3H0GfPkMQENARnTq9gb59h6JKlaY4ePAoWrRooWqu5nDs2DEkJCSgZcsm5p6KWe3dexBGo5ELdCIiyjNbt25F1apV0aFDB5QtWxaTJk1CSsqTJzRGjhyJCxcuIzx8h+IxPv74a1StWgW9e/d+7nhJSUkwGAxwdnbKjekTcYFOlqFw4cJscf8fZ2cnxMbGPXObMmXKYNCgQfjuu9m4c+feM7ctUsQLw4e/jenTp+PcuXPP3LZw4cIYNmwY1q7dgDt37qNx48ZZmruLiwsGDx6Mo0ePolu37hg4cBTGjPkM6enpAICqVSsCwDM/ju7v74+PPvoIx44dx+nTp/H++yNx4sT5/33HqwvOnbuKGjXqwMXFA3FxqXjjjbdw+fJljBw5MktzzU9eXl4A8NzH9WWWmpqKsWO/QN26dVC9enVzT4eIiF4yt2/fRrdu3dCqVSu4uzsjLOwX9O3bFRMnTkS/fv2e2LZhw4aoX78epk+fJ45z58497N17EKNHj4FOp3vuuLGxjwrjuECn3KI39wSIgEeXWjtzht/dAQBnZ0ckJibCYDA88xfDhAkTsHTpUowcOQGLFk1/5ve2Bw9+A0uWrEb//v0xe/ZsVKhQIdNtP//8c4wZMwZOTtn/RWNra4v58+ejTp06GDZsGE6cOIP+/Xth1arfAQCXL2f+Ef7/qlChAiZMmICPP/4Yp06dQlRUFAICAlT9wrQkxYsXh1arxZUrkbDgE/15atq02bh06SoOH/61wF9qLq+ElP1AhgpfHQp7MFdxf5O3h8jC78zK8byIiPKawWBAu3ZtceXKFfz00zfo2rU9NBoN6tWrifLlS2Po0LH44IMPUKNGjcf7jBw5Cp06dcKRIydQo0aVx/nJk4++ole3rrrC2ps3bwIA3N1dc+8GUYHGv5LIItStWxdnzpxHVJTyR58Lkn/fgY2Le/bZVnd3d/z8889Yvz4cCxaseOa2dna2mDbtU5w6dRIVK1ZE06ZNsWTJEsWPsGs0mhwtzv97nEGDBmH79u24dCkS/fq9i+joGEyfPl28k63mWJUrV0ZQUNALtzgHHl1arWbNmti1a5+5p2IWZ85cwNSpszB69GhUqVLl+TsQERFlwQ8//ICDBw9h2bKf0K3bq0+ctOjW7TWULu2P8ePHPbHPq6++ipIlS4qz6CdOnIGjoyNKliypauxNmzbBxcUZ1atXzvkNIQIX6GQhXnvtNVhZWWHduo3mnorZ/Vsy8u9Hpp6lQ4cOeOeddzB27Be4eFG5+f1fLVs2wenTOzFv3nfQaDLQu3dvFC1aFEOHDsXJk3n36YXGjRvjzJkzOHv2LA4dOoTBgwfDzs4uz8azVG3btsXWrTsfXw+9oDAYDBg27COUKlUK48ePN/d0iIjoJXPlyhWMGzcO/fu/jrp1a4h/1+v1GDPmXfz550YcOnToca7T6TBixAj8/nsYIiNvPM5PnDiDatWqqv601x9//IGAgCa8fCjlGi7QySK4urqiTZs2z710WEHw7xl0NQt0AJg6dSpcXFwwb17mly/7l42NDTp0aIPff1+MQ4e2oE+fLvjll5WoUqUKGjZsgAULFiAxMTFH81fi5uaGcuXK5fpxXyTt2rVDXFw89uyx7Ou157Z585bjwIEj+Pnnn2FjU7CvAU9ERNl3/vx5LF++HBs3bsTu3btx6tQp3LhxA++88zYKFXLFuHEjMt331VdD4e3tiUWLFj2R9+3bF87Ozpg16//zU6fOoXp1udBXcuPGDRw6dAihoQHZu1FECrhAJ4vRo0cPHDlyAq+/PggbN259XCxW0KhZoEdFReHcuXMwmUyws7NDr169sHr1+iydnS1Z0hcTJ47CyZN/YdGiH2Fnp8ebb76JokWLYuDAgWa5rviZM2cwZswYFCtWDL6+vpg0aVKmje8vmmrVqqF06dL44ovvC8xZ9OvXo/DZZ9/inXfeyXLhIBER0b/S0tLQpk0b9OzZE23atEHjxo1RuXJllChRAuHhEfj220+RlpaW6WXTdDodOnRog1WrVj1xWVYHBwe88847WLp0DdLS0pCcnILz5y+pLjPdsGED9Ho9WrVqmhs3kwgAoDGZTCZzT4IsW1xcHFxcXBAbGwtnZ+c8G8doNGL27Nn4+ec5OHLkKDw8CqNLl3bo0aMjKlYsm2fjWpro6LsoX74h/vjjD7Rt21Zxm6ZNm2Dnzl0oXbo02rVrh86dO6NBgwZYvHg62rYNzvbY165dx5Ilq7Fs2Vrcvn0HtWvXxoABA9CtW7dc+V76s+zYsQMtWrSAq6sLOnZ8BSkpKfj11z+Rnp6BDh06YODAgWjWrNkzy/As3b59+9C0aVP06tUZU6ZMNPd08pTJZELXrv1x+vRFnD59Ok9fO5QE6rvJ0GgQUYRxdT7MJvcF2/cS2cPXqovMLfy8yMLuzlY8ZqOOU0S2e615ro4QZNNTZOGpz/+UEBG9nKZPn45hw4YhImI1vL09ERcXj9jYeMTFxSM9PR1ffTUdx4+fQkBAE8yZ8y3c3d3EMY4cOYGWLTsgPDwcgYGB/8mPoGbNmvjjjyXw9vZE3brB+Ouvv9C06fMX3a1bhyIxMRa//744V29vdsXFxcPXt2ae/81OeYtn0MliaLVaDBw4EIcPH8HRo0fRvXsP/PLLH2jUqA1atuyAn39eipiYh+aeZp573hl0o9GIw4ePoEuX9mjcuDZmzpyJLVu2oHbt2li2bG2Oxvb1LYFx40bgxIm/sGzZT3B3d8Q777yDokWLon///jh+/HiOjv8sEydOROnS/jh7djemTJmI6dMn4/TpXfjss9E4evQQWrRogeDgILzI7ynWq1cPP/74I+bNW4YVK34193Ty1KpVfyAi4i/MnDmTfyQQEVGOfPfdd+jcuR1q1qyKokW9Ub58GdSrVxOBgc2wfftuREbexA8//ICjR0+jRYvXcPSo7NapXr0ySpf2x7JlT77ZV61aNXh5eSEi4i/cvx8D4NHVhZ4nISEBW7duQ2hoy9y5kUT/wwU6WaRq1arh+++/x82bN/Hrr7+ieHE/fPjh5yhfvhHeeGMYdu7ca+4p5hlbWxtYWVll2uJ+5coVJCYmokuX9pg27TM0aFALBw8eRL9+/bBly9+Ijr6b4zno9Xq0bt0Kv/zyM44d24EhQ97Apk1/ok6dOtizZ0+Oj6/EYMhA7drVn/iesqurC955py/27t2En3+eioiILVi/fn2ejJ9f+vfvj379+mHEiAk4fvyUuaeTJ27evIXRoz9Fjx490K5dO3NPh4iIXmAZGRm4evUq6tWrKf4tMvIGFi36BaNHj8bQoUNx6NAheHoWQXBwV/TpMwRr1qxHXFw8gEdXhGnXLgQbN2584s1+rVaLkJAQbN26E/fvP7o0ZeHChZ87r6tXryItLQ1Vq1bKpVtK9AgX6GTRrK2t8dprr+GPP/7AjRs38MUXX+D8+Wto164XOnTomycLHJPJhKSkZNy+fQfnz1/CoUPHsH37LmzbthORkTcy/X5TbtFoNHB2dsr0DPq/Z7ErVXpUulatWmUcPHgQ3bt3h16vf3yt8dxSvHgRjB49FIcORaB27Wp49dVXVV/HPCs8PDyxZs16vP76IISFbXviO2IajQYdO76Chg3rYOLEiS/0WXSNRoOZM2eiUqVK6NVrCB48iDH3lHKVyWTC0KEfwsHBEdOnTzf3dIiI6AUXFRUFg8GA4sWLin/76qsf4e7ujqFDhwIAfH19sXPnTnz++eeIirqP/v1HoEyZ+ujWbQCWL18LZ2dH3L17F9evX3/iOCEhITh9+hxOnDgDjUYDNzf5EfmnlShRAgBw61Z0LtxKov+nN/cEiNTy9vbG+++//79LYvyODz/8EM2avYpOndpi3Lj34OtbQtVxMjIycPnyNZw5cx6nT5/HmTPnce3aTcTFxT/+77+Lw6fZ2dmidOmSKFPGH+XKlUKDBnXQpEn93LqZMBqNsLGxfuYCvXDhQvDyevTxq+rVK+G772YjLS0Nr776KpYv/xVDhryZ69/VtrGxwZIlMxAY2AWvvPIK9uzZA1dX11w7/oIFC7BkyRLMmzcX3bu/DW9vT3Tr9hp69uyI0qX9odFo8PrrnTBo0GjExsbm6tj5zdbWFmvXrkWtWrUwYMD7+OWXn1/I67srmTdvObZv342wsDBVf+AQERE9S2RkJACgRIknF+jnzl3EypW/4bvvvoODg8Pj3NbWFqNGjcKoUaNw7do1rFu3DmvXrsGQIR/CZDKhTZvWKF68+BPHCgoKgoODA6ZMmQk3Nzfo9c9fIrm4uMDNzQ2RkTdz4VYS/T+WxNFz5VdJXFZlZGRg/vz5mDBhAh48eIC33uqJ998f+LgYxGQy4fr1m/9bhF/AmTOP/vf8+UuPW7S9vLxQuXJllC5dGq6urnBxcRH/OTs7w8XFBUajEefOncPZs2dx9uxZnDlzGmfOnMW9e/fwyiuBmDx5PIoVK5Kj22QymTBy5EQsWLACGzZsQOvWrcU2HTt2xP37t/Hbb48uCXLt2nVUr94Sf/75J3Q6HUJCQrBlyxrUqlUtR3PJzIULlxEU1AV16tTBn39uzJPrfh45cgRz587F8uXL8fDhQzRoUAevv94Rf/+9Fxs3bkVsbOwLXRb3ry1btiA4OBjvvff2My8P86K4dOkqmjZth169emPWrFlmnUurxp+LTH9Hfm3EcPGKyPKrOC6k0liRhZ36QtW+LVpNVrXd9i1jVM+n1ltTRXZornmelyGFBojMpHD1g83xC/NlbJjkJ6dM6fKN3LyYD1FBt3z5cvTs2RORkUfg5OT4OB87dhLWrQvD1atXVV3G89atWzh69ChatmypuP2ZM2cwevQHsLa2xpo16jp9atasgWrVymPatM/U36A8xJK4lwPPoNMLS6/XY8CAAejZsyemTZuGr7/+GsuWrUVQUHNcvXodZ86cR0LCo2t6u7i4oHLlSmjUqCnefnsQKleujEqVKqkqAfmvkiVLIjQ09PH/N5lMWL16NYYNG4b69UMxduww9O/fS9U7r08zmUz46KMvMH/+csydO1dxcQ4Ax48fQ1DQ/zeL+vgUh6urM44ePYrRo0ejePHiWLZsbZ4t0MuUKYnFi6ejQ4d+GDp0aJ4sxGrUqIEZM2ZgypQp+O233zBv3jwMHjwGWq0WM2fOfCkW5wDQqlUrfPHFFxgzZgxq1qyK1q1bmXtK2WYwGDBw4AcoUqQopkyRbeBERETZ8e+nse7cufd4gW4ymRAWth3t2rVTtTgHgCJFiqBIkcxPpFSoUAF//JG1nhs/P39cv84z6JS7+B10euE5ODhg3LhxuHTpEnr37oOrV6NQoUIVfPzxBGzcuBGRkZGIiYnBrl27MWvWLAwZMgTNmzfP8uJciUajQZcuXXD27Fn07t0HH330JVq16oQjR05k6ThJSckYP34yfvppIWbMmIE333xTcbuEhARcunT58ffP/51DxYrlcOzYMeh0OvTu3Ru//vonkpNTcnTbnqVJk/r45psJmD17NrZu3Zpn49jZ2aF79+7YsmULrly5glOnTuHtt9/Os/HM4YMPPvjfZeQ+wEWFs7kvirCwbThw4AgWLFgAR0fH5+9ARESkQsOGDaHVavHXX/9fUnvx4hVcuXIt08vR5pfq1atj795DuHv3vlnnQS8XLtDppeHh4YEffvgB+/cfwKJFizBq1CiEhoaiRIkSeX7G1cXFBTNmzMDevXsB6NGqVSeMHv3p4+bQzERH38WkSdNQpUozzJy5AFOnTsWgQYMy3f7kyZMwmUyoVKn8E3mlSuVx/PgxAEDfvn0RGxuHP/+MyPHtepY+fbqiXr1aGD582DO/s59b/Pz8UL58+edv+ILRaDRYsGABihYtht69hyA+PsHcU8qWFSvWoWbNmmjSpIm5p0JERC8RFxcXtGjRAuvXhz/ONm/eDltbW7Rsad5LnA0ePBg6nR7ffTfbrPOglwsX6ES5qG7dujh48CC++eYbLFv2K+rXD8Xvv28SreMnT57F4MGjUbVqc/z00yL07Pk6Lly4gPfee++Zx09MfPSR/UuXrj6RV6pUDufPX0BycjLKlCmDxo0bYfnynF0T/Xk0Gg0mTx6HU6dOY86cOXk61svO2dkZ69atw40bt9C4cVts3rzd3FPKkvv3HyA8fAf69Olj7qkQEdFLqHPnzvj7739w796jM9Xh4TsQENAS9vb2Zp1XoUKFMGLECMybtxw3b95CWlraC/tGO1kOfgedKJfp9XqMGDECnTp1wrvvvou+fd9FYGBzfP31eFy4cAUzZy7Ajh27Ubx4cXz++efo37+/6kbyli1bokuXLhg27CNUqVIBZcqUBACkpqZBp9M9/qRAv35v4K233sL161Gi9TQ3Va9eGT17dsT48ePRrVs3uLu759lYL7vy5cvj0KFDGDx4ELp1G4BXXgnEu+/2R+XKFWBnZ2vu6T3T2rV/wmQyoXv37tk+RmjJ90W26fK36vb1lW9spVZTet7Lwpwt5/OpEK7sByLTJCaLTOm2bLo2TWQPS1uLzGPBIZEF6rqILMKwSnGOGoNibBYaNxcZPucTSbnFUE5eESTDQZZhGmx4joMov3To0AGDBg3Chg0R6NmzI/755yCmTpXFlubw3nvv4ccff0T9+qFITEwC8OiTjY0b18XAgX3h41P8OUcgehJ/uxDlER8fH/z2229Yt24dzpy5iBo1AtCly1tISEjF8uXLcfnyZYwaNSpLlwvTaDSYO3cuihcvgd69hzwuwTtw4Ahq1aoJW9tHC7nOnTvDzs4Ov/yyLi9u2hPGjRuBpKQk/PTTT3k+1suuTJky2Lw5HCtXrsShQycRFNQFPj410KRJO3z22dTHVx+wNCtXrkPr1q1zpdeBiIjoaR4eHmjZsgV+/fVP3L8fg4yMDPj7+5t7WgAefQpuxYoVeP/9kfj5558xb9481K5dD6tWrccHH3xq7unRC4gLdKI89uqrr+L06dP48ccf8ffff2P//v3o3r17ti9P5uTkhF9//RXXr0dh+PBxMBgM2LVrHxo1avzENp07d8by5evEx+tzm5eXB7p2bY/p06cjNTU1T8cqCDQaDbp27YqrV6/i4MGDmD59OurWbYAff5yLjh3fwIMHMeae4hPOnr2AI0dO8OPtRESUp4YNG46dO/di8uQfAMCi3hQODAzExIkT8eabb6Jfv35YsGABRowYgT17DuRLTw+9XLhAJ8qCqKgoTJs2DdHR0Vnaz8nJCUOGDEGTJk1ypbCuQoUKmD9/Ptau3YCQkK6Ijr6Lnj17PrFNv379cOXKNezZcyDH4z3PwIF9cfv2baxcuTLPxyoorK2tUatWLbz99tuYN28etm7dijNnLiIwsAvOn7+UrWPmxZs1K1f+Bnd3d7Rp0ybXj01ERPSvNm3a4L333sOiRb+gQoUKqF69urmn9EwBAQGIj0/A4cNZu7IPERfoRFnw3nvvYcSIEfD19cVvv/1m1rl06dIFkydPhpWVHX744QfUqFHjiX9v2rQpSpUqhYkTv85WYUlKSirWr9+MGTPmY+PGLThz5kKml24rV640AgObY9q0qXl+xr6gatKkCfbv3w9bW3sEBXXB9u27VO1nMpnw99//oF27XihSpArq1AlG585vYdSoTzBz5gJs3LgFV65cy9acMjIysHr1H+jWrZvq69ASERFlh0ajwbfffosVK1Zgw4YNFv97p3bt2nB2dsbff/9j7qnQC4YlcUQqXblyBatWrcJnn43BX3/9g6FDhyIoKMisDaKjR4/G6NGjFf9No9FgxYoVaNWqFTp1ehNr1syDk9Pzr099//4DfPnlD1i9+g/ExcXDzs4OycnJj49ZrFgR+Pv7wN7eDhkZBhgMBmRkZODGjVu4ejUS//zzDxo2bJirt5MeKVmyJP755x9069YVnTu/hS+/HIf+/V9X3NZkMiE8fAe+/fYnHDhwBDVq1MCnn36KW7du4dKlS/jnn8NYtmzt48f29dc7YcKEkShcuJDq+WzYEIGoqNvo379/jm9bQmXvbO9rdHcS2d3q8teb3/Rz2R4j2L6XYq5xkcVzYbdmiMxkr/CHpMKnaUy374qsZcCXInPRyX3DU5eJLMTzHTluJuzvqfsYZqC2s8gijLlbtmdSKoRLS8/VMTJjtNKJzGCrcD4jn96LDLKTP+MmhT6KzMr/iF4mGo0G3bp1M/c0VNHr9QgICMDPPy9BrVpV0aJF4+fvRASeQSdSbdu2bdBqtejVqwu++eZj3LlzB1OmTDH3tJ6pTp06iIiIwNmzF9G581vPPJNuNBqxdOlq1KkTjLVr/8SwYcNx5swZJCYm4tatW9i5cyfmzZuH3r37okgRH9jYOMHFpTA8PYvBx6cUmjVrgYEDB8LPzy//bmAB5OzsjPXrN2DIkCH44INP0K5dL/z881LcvHkLABAdfRfLl69F8+avoVu3AdDrbfDnn3/i0KFD+OCDDzBt2jT88ccfOHnyFBITExEVFYUZM2Zgw4YtqFMnGAsWrIDBoK7Oe+bMBWjRooXFf8yQiIjIHGbMmIGqVauhQ4d+GDt2ElJS2NVDz8cz6EQq/f3336hSpSJcXJzg4uKEt9/uja+//hrvvvtulprY81vdunURHh6OoKAgdOnSH6tXz4Wjo8PjfzeZTDhw4CgmTPgae/ceRK9evTBlyhR4eno+3sbb2xve3t5o3Jjv/loCnU6H7777Dg0bNsTcuT9j7NhJ+OCDT+DjUxyRkTcAPPru27ZtP6J58+aZ9h5oNBoUKVIEgwYNQqdOnTB69GiMGPExbty4hfHjRzxzDvv3H8GBA0ewfv36XL99REREL4MiRYpg8+Zw/PDDDxgzZgx27NiDOXO+ReXK5c09NbJgPINOpNKRI4dRs2aVx/9/0KB+SEtLw4IFC8w4K3Xq1auHzZs349Spc+jY8Q2sXPkb/vprD8aPn4zq1VsgOLgLHj5MwLZt27B48eInFudkubp06YLw8AjcvXsXy5Ytw6uvdsDSpUsRHR2NLVu2oEWLFqpLCT09PbFgwQJ06NABhw4de+72P/20AGXLlkHr1q1zejOIiIjyRHy8wtdl8plWq8Xw4cNx4MAB6PXWaNWqE44fP2XuaZEF4wKdSAWDwYDz5y+gXLlSjzNvb0+8+moopk+frvojweZUv359bN68GQ8exGHgwFF49dU+WLVqPVq3bott27bh5MmTaNGihbmnSdng6uqKHj164Pvvv0fPnj1z9AaLn58fbty49cxtIiNv4I8/NmPYsOHQavlrhIiILM+ZM2dQqFAhbN682dxTAQBUqVIF+/cfQJkypfH++xNhNBrNPSWyUPzLikiFa9euITU1FWXKlHwiHzCgFy5fvoxNmzaZaWZZ06BBA1y4cAEPHz7EiRMncPPmTfz0009o0aIFdDpZjEQFj6+vL27ciHrmHw5z5iyBi4sLr31OREQWa/78+UhPT8cnn0y0mCvM2Nra4qefZuHgwaNYvJjFjqSM30EnUuHBgwcAAEfHJ1vQa9eujlq1quGHH77HK6+8Yo6pZYuLiwtcXFzMPQ2yQD4+PkhNTcW9ew/g6VlY/HtcXDyWLFmNQYMGw8HBQeEI2ZPqmv33i5OLy6sTeO+VRTxhD+Zme4zUppUVc9sDKq9Jr/BVg+SS7iL769xXIqs6bJrIim569qccHvNU38qf4qbuTTqNlbXqY2aX4cFDkelLFM3zcQHgYWlbkdnEyTes7O7JJvWcCNQrN1NrbeUVALTubrk6NtHLJj09HUuWLEGVKhXwzz97sWPHDov5lGDjxo3Rt29ffPLJFLRpEwgPD/Wv01Qw8Aw6kQrVqlWDo6Mjdu3aJ/5twIBeiIjYgjNnzphhZkS5y9fXFwBw/fpNxX9ftmwNkpKSMWTIkPycFhERkWphYWGIjo7G9OlfokqVivjii0nmntITvv76a2g0WkyYIN+UJeICnUgFKysrtGjRAtu37xL/9uqrofD09MCPP/5ohpkR5a5/F+g3bkSJfzMYDJg1azG6du2KYsWK5ffUiIiIVFm4cCGqVKmIqlUrYcSId7Bly1Zs27bN3NN6zMPDA1999RVWrFiH3bv3m3s6ZGG4QCdSKSgoCPv2HUZCQuITubW1Nfr164bFixfj4cOH5pkcUS5xc3ODg4MDrl+XC/Tly39FZOQNvPfee2aYGRER0fPdu3cP69evR8+eHQAA7doFo0GDOnj77beRnJxs5tn9vzfffBP16tXFp59+a+6pkIXhAp1IpcDAQKSnp2PPngPi3zp3bofExETs2yc/Ak/0ItFoNPD19XniDPq9e/fx9tsj8e67Y9G1axfUqlXLjDMkIiLK3PTp0wEAnTq1BfDoMmfTpn2KyMhIfPbZZ+ac2hO0Wi0GDhyE/fsP4/btO+aeDlkQlsQRqVS2bFmUKFEC27fvQlBQ8yf+zdnZCQCQkpJihpkR5S5fXz+cOXMBFy5cxoEDRzBu3GRoNFosXLgQvXv3zvHxQ4oMFplVQ/9sH+9BeSuRFf3hYLaPF+zyhshMjcorbht2f46qYxrt5By1GbJVOLT0KJHZNCoixz3/tapxkYXm4gxbWWSnRGsnS9Rym66kjwwz8udylsme8n6wTpDbpTvk8p9QJuUrJxhTZOGhzkYWxxHRo0urffnll3j33bdQqND/F3GWK1caI0a8g2+++QbdunVD1apVzTjL/9emTRtotVqEhW1D377KRZFU8PAMOpFKGo0Gffv2xaxZixAVdfuJfztz5jwAIC0td1t9icyhQoUK+Pvvf1C3bjAGDx6DNm1ewdmzZ9GnTx9oFNrIiYiIzM1oNKJ//7fg41MMI0fKN4KHDx+A0qX90avX6xbzUffChQujcePG2Lhxi7mnQhaEZ9CJsmDgwIFYuHAhXn21D5o2bQA7O1vcvHkL69ZtRO3atREQEGDuKRLl2OTJk9G3b1/ExMTAyckJNWrUMPeUiIiInmn27NnYvXsPNmxYCluFyxPa2Njg55+nolWrThgxYgR++uknM8xSat++PcaOHYuEhEQ4Oube5UvpxcUz6ERZUKRIEWzatAklSvjh0KGTiIjYibNnL2POnDnYu3cv3N3ldY2JXjRWVlaoUqUKmjZtysU5ERG9EGbOnIEOHdqgUaN6mW5TuXJ5fPHFWMyaNQtr167Nx9llrn379khNTVW8UhAVTDyDTpRFlSpVwtatW809DSIiIiICkJiYiNOnz6B//x7P3bZfv+746689ePPNN1GrVi34+fnl/QSfoVSpUqhUqRI2btyKtm2DzToXsgxcoBMRUb6KaywL4eyj1BUsBtn0FJn2ndoiC09dlvWJ/U9qvbIiszt0NdvHA4BbjRxFdvIbebm6kAofiqzQpvPZHtdkLX/NhxYdorht0lul1B3UWhbe5USgrovI0oLlY/rXxg9yddzMpDvKYj19isxiyubu/aDNpPhtc9ISkYW4v5WrYxO96A4fPgyj0YgaNao8d1uNRoMffvgCTZu2R/fu3fD33zthZZW7P89Z1b59e/z000xkZGRAr+fyrKDjR9yJiIiIiMgiXL58GQsXLsTAgQMxceJE/Pnnn7hz58nLkBkMBuzfvx+TJ09GYGArBAUFwc3NFeXLl1Y1houLM+bOnYqDBw9h3LhxeXEzsqR9+/aIiXmIffsOmXsqZAH4Fg0REREREZmVwWDAyJEj8d1330Gj0aBs2VK4d+8B7t9/AADw9fVFnTp1kJ6ejh07diA2NhaOjg5o0KA2xo17D61bB2TpTHidOjUwbtx7mDjxa7Rs2RLBweb7eHnt2rVRpEgRbNy49ZnfoaeCgQt0IiIiIiIym/j4eHTv3g2bNoXh888/RM+eHeHq6gKTyYTIyBs4fPgEDh8+jsOHj0Or1WLw4L5o0qQBatWqmqOPpw8d+hZ27tyLXr164fz583B1dc29G5UFWq0Wbdu2xZ9/bsJnn42BVssPORdkXKATEREREZFZGI1GhIaG4MSJE/jll5/RqlXTx/+m0Wjg61sCvr4l8NprrXN9bK1Wix9//BLVq7fE3LlzMXLkyFwfQ60+ffpgzpw5WLJkNfr06Wq2eZD5cYFORESZUiply0kBGwA8KK8TmcvBB6r2NdatKLJCp1JzNJ+nWe84JrKwtBWq9w/UdhaZblBDVfvG1Cossn1Lv1Q99tPiyziLzM5JuYzM4aYsQlOkkWd2lG5zhHG1usPVlI9phl3+nD1SKqjTfFJfZA7n5fPzbjVPebwc3A/I5IxZsH0vGerkz5Divk59RbY5fqG6+RDlk+XLl2P37j1Yv34pGjfO/493R0beREZGhtmL4ho2bIi+ffti4sSvERLSEl5eHmadD5kPPz9BRERERET5Ljk5GWPHjkXbtkFmWZzHxydgwID3Ub9+PQwePDjfx3/alClToNdb46OPvjD3VMiMuEAnIiIiIqJ8N23aNNy+fRsTJ+bPZRSftnPnPkRG3sDcufMs4vJmhQoVwrfffou1azdgy5a/zT0dMhMu0ImIiIiIKF/dvn0bX375Jfr3fx0lS/qaaQ7R0Ol0KFeunFnGV9KrVy8EBARg5MiJSEpKNvd0yAy4QCciIiIionz18ccfQ6/XYeTIQWabw5079+Dl5WlRrekajQY//fQTbt++g8mTfzD3dMgMzP9ZDiIiylMhHm+LLOzubFX73hpUO7engxQvg8g2XZkqshatJovMJiZJZPpbd7M9l9DSo0QWnoVCOCV3FArhrJJkAVugvpvIUgbm7ncwNUaFTGUXHKBcohbfRc5x74qZWZnWE64Hu4jMd020yEKLDRXZpps/ZntcAIBJ3hle++XzE0Z5R3odSBOZtloFVcMG2b0usvDkpYrbhhSR34sNuzVD1TjGxESR5ajIToHS8zgzGq1G1XYmg3wMIgyrVI9Dli8iIgLz5s3DpEkfws3N1WzzOH36HEqWLGm28TNTpkwZTJw4ER999BFCQwPQoEHu/y4my2U5bxcREREREdFLbdu2bWjXrh0CAprgzTfllULyS0ZGBv7+ey8CA4PMNodnGTVqFOrXr4eBAz9AfHyCuadD+YgLdCIiIiIiynO7d+9G27Zt0bBhbSxePMOslzY7ePAYYmPjEBwcbLY5PItOp8OSJUtx/34MW90LGC7QiYiIiIgoz/3yyy8wGAxYsOAH2NramHUuW7f+DXd3d9SubbkfHy9ZsiSmTZuGJUtWY+PGLeaeDuUTLtCJiIiIiCjPvfXWW0hNTcXmzdvNPRVcvHgFpUuXhk6nM/dUnunNN99E27ZtMWzYONy5c8/c06F8wJI4IqKXXExwWVXbhVT4UGQ29T2yPW5w9fGKeXF/Z7nth31FFtelqsg8L8iSOEOCLMJSK9XXPdv7AkBQ3U9EltJa3j7bi7KMTFtVXtYnTe6qWrB9L5E5lZKXLkp3s1M+gEJ/V0bLmiK7V0Nd0ZcSxedEG4XHQCfPH2SUyP5zMTNK5WhB9T4VmSZDlpZZxaXL7a5FqRrXlJqqajvgUaNzduWk/E0tnaODYm5UuI0aa2uZFfEUmSnyZs4nRhapatWqCAxshRkz5qNTp7Y5en7/y2g04tSpc9i9ex927tyHU6fO4bXXWmP48AFwccn8RTUgoAneffcjREVFoWjRojmeR17RaDT4+eefUaVKFQwb9hGWL5+VK/cbWS6eQSciIiIionwxcuQoHDt2CoMGjcbs2Yvw1197EB19FyaFqyooMZlMOH36PObMWYzevQejTJn6aNq0HSZOnIKkpAwEBYVgzpwlqF69JaZPn4eUFOU3xNq2DYa1tTVGjhyJjIyM3LyJuc7Lyws///wzwsK2YeHCleaeDuUxnkEnIiIiIqJ8ERgYiJEjRyI8fDN+/fVPpKU9umShm5srypcvg/LlS6N8+TKoUKEMypcvg8KF3XH+/CXs3LkPu3fvw65d+3Hv3n1YWVmhfv16GDJkKJo3b44GDRrA1tYWAPDJJ5/gk08+wcSJ32D27MUYO3YYunRp/8TH2V1cnDFz5ld4++2RSE5OxsqVK2FjY97vxT9L+/btMWDAAHz44SRUq1YJNWvKT5nRy4ELdCIiIiIiyhcajQbffPMNvvnmG2RkZODSpUs4derU4/8OHDiOpUvXID39ya+R6PV61K1bB2+//Q6aN2+Ohg0bwt7eXnGMIkWKYNasWRgxYgQ++ugjDBo0Gtu27cbPP3/7xHYdOrSBg4M9+vYdih49umPNmrUW/fHxH374AUePHkGfPkOxffuvKFy4kLmnRHmAC3QiIiIiIsp3er0e5cqVQ7ly5dChQ4fHeXp6Oi5evIhTp04hKSkJXl5eaNSoERwdHbN0/LJly2L16tWYMGECvv/+O8VtgoNbYNasb9C377tYu3YtOnXqlJOblKdsbGywdu2vqFmzJt588z2sXTsfej2Xcy8bPqJERC+RYMc+IkvtXU3VvgY35TMR2WVwVP6ooP1NWfQW27aKyDy3y6Ioo5v840zzMDYbs3tEl5yz7x0mFZf3md8fD0X2oKqLyDRpcuzUQsZsz2Vz0hKRZVbUp8SkcNIoqrF8DO1z0N91t46byNzPygK2xNJyO6v4/PmOqDYuWYYKJXFahccv7MFcVWNkqbzNwhumDfHxinmEYZWq/QP13USmscr+n6eKx9PKJ3d42opsj0F5z8rKChUqVECFChVy5Xhly5ZFbGwcEhOT4OAgX7fbtw9FcHALjB8/zqIX6ABQvHhxrFq1Cq1atcLIkRNRvXplXLkSiejou3B2ztobGGSZuEAnIiIiIqKXVrFixQAAJ06cQf36tRS3KV3aH1evvhhXEGjevDmmTJmC9957D0uWrIaPTwkULVoU0dHHzT01ygVscSciIiIiopdW48aNUaVKZXz88VcwGpU/qXT37n14esrL/lmq4cOH486dO0hOTsaVK1exe/ceHD58xNzTolzABToREREREb209Ho9fvxxOg4cOIJffvlNcZt79+7D09MrfyeWQx4eHrC2tjb3NCiXcYFOREREREQvtWbNmqFbt26YMOEbxMY+2Z2wefN27N59INe+806UE/wOOhHRS0RTzFtkhU6lqNr3YRkHkblekIVuapl0yu8Bp3jJd/tjysltnddEiSyjibzuq+64ckmVGiaF8iglob7vKeZpzYqLbNfhT0RW9vOpInNdeknhiO6q5pMTJr3y42JUOAmT6iHL0Xw2yxK1QG1nkSkVoT2oJj9aWv6TCyK7/G55kflPOSMnmAc0qWky1MuiNm1yutwuB0K8BinmaZVL5Oo4uU1tGVym+2esFFmwU9/sH9Aon7PhGVko5aOX2jfffINy5crh1Vd7o0GD2ihTpiTS0zPw0UdfoG3bthg3bpy5p0jEBToREREREb38ihcvjhUrVmDevHnYunU35sxZAoPBgB49emDRokW8ZBlZBD4LiYiIiIioQGjXrh3atWsHAEhNTcXt27fh4+MDjUbdJ6qI8hoX6EREREREVODY2NjA19fX3NMgegJL4oiIiIiIiIgsAM+gExG9RFJ83URmeytB1b5pLvLjffqY7JfEwWRSjDWywwkl510T2aa0FSJrEThZZEplZGqZrNS9T228e08xd7rmIbKQQgNEZvWmbAbWVSgtMofrufu+uUkny80MtjIDAJPCxztdTsttk4rYiczZW16aKLDhZyIrWlzuayxZTGQOUfK5szl2vsjygslGoS1PoUxQEy9/NoLte4nMmCJLGpWes0Yf5esvWz2QpXwvE6VCOGNiYraPl5PXAyIiS8Az6EREREREREQWgAt0IiIiIiIiIgvABToRERERERGRBeACnYiIiIiIiMgCsCSOiOglYtLL9101ceoKlxKLymKusFNfiCxQ10VkEYZVIrtfWRaCAYD3uksiy4i+o2aK0CVlyPloO8v5qC2KMigX2T0tpVllxfyvTaNFVumDaSIrsls+Bulu8v6xjlc3n5zQJ6Qr5ro0+SeBy+U0kV1vJUvUnE45iuxeNQeRuV6Qx4stLbdzO58qsiDr7iILVygSzClNunyOGdzl7dMp/FxpnJzkdtYKpXMK7ld1VswPzRuhav/8oFSCp3GwV9w27O5sVcc0pcnnI4veiKgg4xl0IiIiIiIiIgvABToRERERERGRBeACnYiIiIiIiMgCcIFOREREREREZAG4QCciIiIiIiKyAGxxJyJ6iVjFy0bkTddkq3iI5zsiK1K/lMiCnfqKzNSgqsiCbHqKLH5SLcU5ehsMIlPb2pzgI5vPXc+4qNpXydW28nhKbeGa5tUU9w/xeFuGb5YXkTZFoRncUbZ7mzSKw6gSWmKYDL3dsn9AAAnFFRrISypcFSAmTkYVPURW+OejIkt8r57IXNedFplSQ3qeMBpFpI1NktspPI9hlJnJJJv5ldrQ9R2qq5qeORlTZbs+FFrYs8KULpv9c3RlBiKiFxzPoBMRERERERFZAC7QiYiIiIiIiCwAF+hEREREREREFoALdCIiIiIiIiILwJI4IqKXiFVUjKrtDPfui8xuc7zcsEJJEWXYy18dsf1kIVyNhucVx15zZ5aKGQKhRYeI7O57cj5uuxxUHU+J0UoWeKUGVBfZX5tGK+7frPXXIit0SqE0S6eu/c3pRvYLt9JKe4ksw04+VvoE5TFMCm/Z3wtKEZnVeXl/3w8tLTL3k/J4upI+InOIkqVsm5OWiCy46niRKZWJAblfKGayk2V5mmRZmKbRyMfZmCBL9eJerSEyqyR5P+SFQH03kUVkrFS1b4RhVW5PB1C4z7SOjrk/DhHRC4Jn0ImIiIiIiIgsABfoRERERERERBaAC3QiIiIiIiIiC8AFOhEREREREZEFYEkcEdELSqkgS+fqku3jhacuE1nzkK9EZrtXlr/dqVVZZOdXlVMeqKG6+WT4eIrMaCNL3TZd/17V8UJLjxKZTY+iItMY5BjBLm8oHtMQUEFkeoWyL22iLBQz2MpfwVbx2S+JS3WzEplRLwu4Er3sFPd3Oy/n2KD/aZEdXi8Lzu5XleP4r5Olgyl+7iJzvpKkOJ+n3a3nJudyPHfL4ADAcCNKZAmvyhJEp803RabRy8c0PHmpyKoNnSYy791xaqeYI/qi3vkyjlpaO/l8NCUni0zp9S63ywCJiCwBz6ATERERERERWQAu0ImIiIiIiIgsABfoRERERERERBaAC3QiIiIiIiIiC8CSOCKiF1ROCpLU7mt7LFJkJh9ZrJZYSpablVmQlvWJ/YfRTv6Ksr+R/feVMwo7iSyliEFkVlsPi8zQoKriMZ32yfvndlt/ke0I+0JkrZpMkgeU/XSqJXrpROZ+SpZt2RuVB4kpby+yG0muItMqlOhpDLIkLnz/BJG1bPmlHHjvcRGFVBorsvieheW+mchJoVh42gqRVRsiS932xM4XWUiRwarmEv9NA5Ed+/ETVfPLMVMOnmR5QSOfOyaD/LnUOTvnx2yIiMyOZ9CJiIiIiIiILAAX6EREREREREQWgAt0IiIiIiIiIgvABToRERERERGRBWBJHBERZS4jQ0TRTdxE5rNeodQpKWclcXer2Yms2PbYbB8vqpksifNfmyo31Mj3rk1aWWQFAJtu/iiyGgOnZn1y/w6d2wVeCgVccSVtFTd9UFmOfe9iCZFZ1ZT3T+Hj6uat/+eUyMIVytuavvK1yLTp8rYoFbABgEafu3/eGG1UbvdQPj+NjauLzOViDieUA4Y790QW7PKGyDYrlODlVJBNT5GZMmTBZIRhlcgye6yJiF42PINOREREREREZAG4QCciIiIiIiKyAFygExEREREREVkALtCJiIiIiIiILABL4oiIKFNpVf1E5nRdFsLZ3Jdla5uPfKp6nGD7XiKz6l5DbqhQeqZWsqcsMrM9fUNk6fUqy7ncVl9OZ1L51rf+xGWRGSr6qR5HjKtw15h0MkxxU56gd8XbIkv801seMyBGZG4/J6mYIRCevFTVdrH+ViKzzkI/YHjaCvUbq6BLUVneZ5TbZTjK2+IQLX+G8kt46rIXcuwIhTJBIqKXEc+gExEREREREVkALtCJiIiIiIiILAAX6EREREREREQWgAt0IiIiIiIiIgvAkjgiIsrUg/I2IvNedU5kxti4XB871V0WnGlOy2I1JSFlPxCZ1etF5IZ6+Wsw3cVaZFt2f61qXADQZqjbLrlBWZFZx6aJLLToEJEZ7t2X2eC6IjNay/fh42rJQj8ASDzmJTKTj0I5WqKtiDZdUl8I+LSQKuNEZlvNTWTxJcx3TsHxlspSN618zupS5L62t5JzOqU8p1TcuDlpSb6MHVpsqMg23fwxX8YmIjI3nkEnIiIiIiIisgBcoBMRERERERFZAC7QiYiIiIiIiCwAF+hEREREREREFoAlcUREBAAIqTRWZM7+riILuzs7R+ME6rrIUCPfL9YpdJltTlgkMqVCqXtB/iJzO2sUWVopT5HZXXsoB84Dd2rKMroSESlyu9YlRVZosSyJS6yXJDLPQ3Lcqv63FOcTtUOOY9UtWmQxu70V98+uh1VkIZzDLVmWZ5Vovj9ZHC7KEsQQj7dFptHpRBZTThYtHvnpw9yZ2HMEajuLLMK4WtW+Gls57/xicrAz29hERObGM+hEREREREREFoALdCIiIiIiIiILwAU6ERERERERkQXgAp2IiIiIiIjIArAkjojoJae2KOp+ncIiK7TpYvbH1XdTzHWeHjJ0dZZjn5SFaUrutZKFcHYPDCKLaiQLvLQZsqht6/YvVI2bGbv7soxOSYajSWQPKjuJzOFWhsgMjaqITKeTtzmxuL3IXLRyOwBwvZAssh5+u0S26Lv2ivtn1/3KGjmXrdflhpVLyEwj980LmhSFxkKFsZVKDKsPnpoXU8pVIYUGmG1spdenjIBaZpgJEZFl4Bl0IiIiIiIiIgvABToRERERERGRBeACnYiIiIiIiMgCcIFOREREREREZAFYEkdE9LJTKLMKduwjskL+soTLFB+f7WEzmldXzPXnbonMaGslMm2aLDML8Rok921bWmQ7fx8lslobPxKZw682inPMCV2qupK4dGe5XWxp+b55oZUnRBY5oqY83h15f8X5yuNFX1UoWwPgUM9OZIuuNxCZVXy64v5qBNWZKDLbJi4iC4ueKbLGHb4RmZNP8WzPJSuMrg4i06XL8r4WgZNF5mxtvnMhSmWQirxlQSS0+TNvrYO8b9Oc+ecpERVcPINOREREREREZAG4QCciIiIiIiKyAFygExEREREREVkALtCJiIiIiIiILAAX6EREREREREQWgDWZREQvO5NJRBonR7lZZJTINictUTVEq0afiyyxlGwFB4DtW74XWUDTSSJLd5bN7gkBpUTmufmayIJrfCyyEj/GiOy3vbItPCuCnfqKzF6nU7VvzeqXRHZ9ThmRaRTa9Q228jGFLOtHqpvczvkf5ccltpJsgU846y2y0khV3F+NmIrOInM/kyayQG1nkWV0rS8yk23ut/ArSXOV49jGy+x2XZn5/nonT+aUmx7ULCQy96Py5yWnlB5XXWl/kdk8zP6VAoiIXnQ8g05ERERERERkAbhAJyIiIiIiIrIAXKATERERERERWQAu0ImIiIiIiIgsAEviiIhecrpC7jJMlUVfpjRZ1qVWVDMHkfn8flf1/gk+tiKzvy2LotKKyV9bm67L0rlKo6eJLPGIixy4scoJZkJjpfBr1CiL2UKLDhFZ623nRPbnXlmiZnSxF1nhY0aZvXtVZFfWyVK9DHk4AICn/32Rpf/mITKTQhmdWknecudC4ZEik3V1QIad3DfDXT7v8kKquyws1CfLosXkYnLmxsvy9pmTYlFbF1nAl+aZs/tWaRxFNtYisrqflKOxiYheZDyDTkRERERERGQBuEAnIiIiIiIisgBcoBMRERERERFZAC7QiYiIiIiIiCwAS+KIiF4igbouItNYyxKm8OSlIguy6alqjBatJovMpbAs0Qo79YWq4wHKxWN3atmIzGfVdVXHSy0ki9qcL+b+e9ImgyxrU3L71ZIi23RHzifs3Fciq/XWVJF5rDsrsne+2iOyqfu9Reb+jfJ9eGleOZGZ5EOgWmiJYSKzC/QVWditGSIL1HcTWYadwiDaHDTWZYHtfVlYeD1Qtu3Z3ZT7al0VygnNSKOXf/rpk+TzOM0lD/5E1OpkdvO2iDRespyQiKig4Bl0IiIiIiIiIgvABToRERERERGRBeACnYiIiIiIiMgCcIFOREREREREZAFYEkdE9BLR+/mIzHDjlsgUy+T0suhNabv7QxuIrNi6SLVTVJTmLMu+rGNl0dumK7IwLbTk+yIzDi4mMrfzadmc3TMYDOo2s5W378wRWZgW3LqP3Ld3NXlAa/lYhdiniqz1rnEi23G1jOIcv9zvKbK7DdwUt1XDFJ8gssKbLolMqZxQ5+ggMq3saQNM8jmSmVCf4SLbFPmdqn11KfJx1lSOE5n1DmeRZZSVz0VzCk9bIbKGnafk+jgRxtUiC3bqKzJTmnxgtanyZzXY5Q2RbY6dn73JERFZMJ5BJyIiIiIiIrIAXKATERERERERWQAu0ImIiIiIiIgsABfoRERERERERBaAJXFERC8opcIljV9xkYWnLpP72vcSmUmhcCu5XR2ROd2QhVmbrk3LbJqqJJSQWen5t0UW4v6WyGJCK4jM5aI8nl6h6CvHNLL8Tak4LqWQvG/dTsl9U5pUFJnnwXiRxTX2F9nY6KoiOxowVmQf/WkUGQBsPv6ZyGq8I0v5VLOzFZEh+o7I9N5eItsUNV1kdXt9K8dQ3xEHk621+o3FznKg2sVkMeLl2/K5mOxlk/1x80CI1yCROZvkc+LqO+VyfWxjYqLIlMrkWjX6XGQ6R/tcnw8RkSXiGXQiIiIiIiIiC8AFOhEREREREZEF4AKdiIiIiIiIyAJwgU5ERERERERkAVgSR0RkQQK1nUWmc3NT3Da6tywF81p0TN1AVlYiMiUkiCymrPw14bP8qroxMhFUa6KcTqiLyMLOfy2y5iFficw2Rpay2d+RpVcmpUI3lZSKtQDAlJoqMo2NLAUrsVVuF1tSbvegvCwyOzFttMjKfSpL+dacrSEy95p2IptxK0BkANDET2YahT45jVFdM5spKVlkSoVgQXUmqjqeLk2Oq1EobwOAkEIDVB1TrRRP+VhdeOghMvd9N0V2vYtPrs4lp2KblxSZy/H7IjPlwV+ISo+/WhmusnSQiOhlxDPoRERERERERBaAC3QiIiIiIiIiC8AFOhEREREREZEF4AKdiIiIiIiIyAKwJI6IyEwCdV1UbadxdVbMvbdEiywsYZHIgmx6ikxX2F1kWoXM41iayDZd/15xPmpFN5CFcHbRsuwr2LGPyOJ6VhOZ55qzIjs/trzIyk46rWp+IeXHiCypjp/itvZ75P1jiI0TmXV0vMhMpWXxmOulDJEF1/hYZMZOriLTXLQX2X15d+Hu/nIyBIAGMrKJk4+LLildZErlhqpp5bmC0JLvi8xUr6jqQxpLFxeZ7m5s1ub1H3E+8s+lxOOeItt3bYTISk79Ntvj5oWEojqROW+8JbNLsgQvuOp4kW0+/pnqsRWfJwrljfoyssguoUIh1eMQEb3IeAadiIiIiIiIyAJwgU5ERERERERkAbhAJyIiIiIiIrIAXKATERERERERWQCWxBER5YPQokNEpnV0FJkxXqFM7KEsHQMAQ0yMqrG1Lk4ytLaSxyssy+is4mQJmlpB1t0V84Qv6oiszM+y8C6jRlmROdw2iCzs/hyR+X8ni7nCHsxVnM/TolvI8i+vnfcVt9W4yPssQmGcoFoTRRZTWRawea69ILL7r8jCO6sEWayV7G0UmX2UfB8+qagcNzNOlxNEpklKFVmEcbXqYz7NaCXnqFMojrOOl4+9JlVmAJDoL3+2du+TZXtqZdjJTJciHwMlRvmjlm+C7XvJ8J2aItocv1Bk9XoqlNvpc3ZeR2NlLTKTQeExjJGveSZt4RyNTUT0ouAZdCIiIiIiIiILwAU6ERERERERkQXgAp2IiIiIiIjIAnCBTkRERERERGQBWBJHRJTLQgoNENn9trLo68DCEXJf1zflAXXK76WqLuYyKZSCKZRw6e48lNtlKJdwqaEt46+Y29+U5VqGi1dEFtO4vsg8w+R2gboucpCp9VTMEAgpN1pkdtU8RBZ2cpLi/qGlR6ka51o7F5EZrTNEZkqVBWz3q8vHz2dzushutJBtZIWPy5K/aFtZ1JUZbVyyyMLOThZZoLazyNQ+Pw228k8RvY28LVZx8jabFArmAMBgra7ATS2lorcMR1nKp0ijvpQv15WTP4NFdzxUtat1vLx9qYUV2vKywiSPqXN0EFlY9EyRBdWZmLOxiYheEDyDTkRERERERGQBuEAnIiIiIiIisgBcoBMRERERERFZAC7QiYiIiIiIiCwAS+KIiHIgxONtkd1rLwvhPLbfUHU8Q0KiyCIyVmZ9Yv+hsbVVCBWK2m7eEll42gpVYwTqu4ns4et1Fbd1uiGL59KCa4tMnyrLtTbd/FFkAS2+EJn7CXUlYUrldE7Xo1TtC0C5gE9BpVbnRXZ1URmRRfepJjLbO/K2aNNk2ZbBRs7FOuKIyFJD6mQ6z6el+LiKTG0hnNrtUt3knyJWsbLITpcqnzexZWTBGAA4XUtRzNUILTZUZPZtZNmawU7dc8z+pk5kSuWEYee+UnW8rEjxlveP/Ul1z2+bB7KwMMEnZyVxSq8nwU59Ve2ru3lPZCGe74gs7M6sLM+LiMiS8Aw6ERERERERkQXgAp2IiIiIiIjIAnCBTkRERERERGQBuEAnIiIiIiIisgBcoBMRERERERFZALa4ExHlwN325USmS1NoH78yVWSBui7ygCpbwbPCULSQDI+ckUNnZGR7jIwW1UXmcDtdeT428r3hu9WsROa76qaqsfUxySKzUWgBVxJhWKVqu8yY7GVDfkjlj0Tm/LNsXfc48FBk50fJ43lsshGZNl0ez/2kbBVXugJAtSHTRJaZZA/5uNg4KDenP03n5SmyUJ/hIjM0LSEyk04+R7Sp8vkZ56t8nsFlrXx+q5VWyltk7qeTRBZTUV2juX20/JnO8HTO+sSyIcVd/pn31/XvVe2r9BxTem3LKY29vciUrgCg9/aSO6cpv8YQEb3IeAadiIiIiIiIyAJwgU5ERERERERkAbhAJyIiIiIiIrIAXKATERERERERWQCWxBERqRRSfozIYvvJIqxSnxwVWeDybiLTFS4ssrDomXJfpTI5KBechbi+KTJDtVIi25q2Qo6jUMykRGk766rlRaZJUS5wiuwgy57sFIq0Nl2aomo+2pgEkbnseahqX7WCrLsr/0N1ebsfVHISWTG9LLyLj5fldvYOsujN7WSKyNLdZEGZQV0vHpwj1ZcBuv8TJTKTQqmXEmMJ+bOhOXdN9dhPSygpi9UcbimXloUnL832OHH+8r51W3lIbtippqrjaWTXWp6UQSrRZmR/HNOBEyKLCWiYk+kovnboPDxk5iwfa2OiLOrTOsufNSKiFx3PoBMRERERERFZAC7QiYiIiIiIiCwAF+hEREREREREFoALdCIiIiIiIiILwJI4IiKVIl+T5WbFt6eJbHPSEpGFuL8lMmNMjKpxlcrkMnO/fSWRJRaTxWNKtLa2qrYzNqshsjQ7+evE7uI9xf1T3WRxlc+6u6rGVnI7tITICh+VxXE5oSlfWvkfUmTh2v1q8vZtOVFBZL4V5ONiPGAlx864r2KGgEahD0ypYNBWo/69ecPN2yIzZcjyv1Cf4SJLK+8tsh2x80VWt9e3IlO6LQZreX9pDHK7nDLpZBaeukxkNQdMFVmrxp+LTF9M/lxpMpSa43ImUC+LKG1ayZ9VJUE2PUUWYVwtsnITp2V9Yv+hVAiHwq4iMlnJB0F7P05u5+yQo/kQEVkinkEnIiIiIiIisgBcoBMRERERERFZAC7QiYiIiIiIiCwAF+hEREREREREFoAlcUREClq2/FJkxiay7GlH2GhVxwt7MDfbczHGyXIkAAgtMUxkdz9UKEw7oPK92NJ+qjaLKSvvB8+/7ogsvoqn4v5W8bLsK+yMvL/Vsr8rC7eMCqV1eeFeHTeRFT4it4vzt5b7VpHbeR6SpYOaWFl4p3G3l5lC71iEYZUMs0Dr7CiysLuzRRZSaazIbO4lqxtEocPQqJfP2SRPmTlHypK+rFD6GUrr4KdqX63C0No02VpnlSQfmDR3dYWMWaErV1Jk+vPy51KJ1tVF1XZ2d2R7X0jlj5Q3viPLDU3JKXLsZDuRZbjJn6vNR78XWYOuU5THJiJ6gfEMOhEREREREZEF4AKdiIiIiIiIyAJwgU5ERERERERkAbhAJyIiIiIiIrIALIkjogIvyLq7yK5NqiOyMovuyZ0/yYsZPSk8ealirliQpFC45XJZFjMp0smdm7T/RmQZ/vJXR9jZySIr9c1UxWH8NqgrD1N6XLSODiJL6VBRZA7X01WNodbm458p5hU+miayEmGxIrN5PUlkGfO9RJbmIu9bGw9XkSWUsBGZw21ZUJYVIYUGiCyjoq+qfW+18BBZ0d+vqtrXKlEWjyV7yxI1g0Kvmn1koqoxMpPuI+et9DOkxKjwF5TRSicy22j5fI+p4KRukCzIcJc/G0YrleNo1d1omzj5WBkd5HMRANKq+4lsR/gYkQXb9xKZzlGWICqxSpAFfMFOfUW2OX6hquMREVkCnkEnIiIiIiIisgBcoBMRERERERFZAC7QiYiIiIiIiCwAF+hEREREREREFoAlcURU4MV2ri0yl/Nyu7CTk/JhNlKo73uKeUpoCZE5XZRlT1b3EkQWqO0sMl3FsiK7W03+mvD7VZblhVT4UGT6bp4iA4Ctf41VzJ+mqVRGZGFHPhVZtaGyqC18/wRVY6gVXH28Yp7R2U1kunuyJC42WZZ1FT0XJ7I7dV1E5nL9tsjS6jqLzDEyTXGOahnKyeeTVaR8rEOLDRWZdSt/kW26/r26gRX6yRK95PkDqwRZUGayytl5hjQ3a5G5XMlQta9G9pNBY1AIDXLeeSGpiCxrc7wif/aVaLTyflQqadS1ryWyVHflkjiTyuK5zUlLRKZUHKfEKl6WQZpSU1XtS0RkqXgGnYiIiIiIiMgCcIFOREREREREZAG4QCciIiIiIiKyAFygExEREREREVkAlsQRUYHnfCVJZJqDp+WGP+fDZBQkVCuqmHvtfiCyc2/J0rKwU1+ILKTKOJGleTqIzEqhY0qpLK9u729F5nlIXdlWTqW65v0Y92rJ+xUAvPcZRJbuU1hkyWfsRLb58AiRNWn/jcjC7swSWa03p4pMlyrnkhW6e/EiMz6IEVly84ois4nP/th20bLU6251eX85X5b7Gq112R4XAOJLyD+DvDdeV7WvLlWWvynNxypRlvfZxuTssVIS5yPHdt5+S9W+Ri93kWmNsvDO4WayHNffXvGYtg9y8POvUFqnxPqaLDE0aHjuiYhebHwVIyIiIiIiIrIAXKATERERERERWQAu0ImIiIiIiIgsABfoRERERERERBaAJXFEVOBF7Blv7ik8Flp6lMjS6nkrbutgkiVVdtEq33dVKIC63spGZKWW3hVZSNkPRJYaVERkhXZFqZsLgBatJovMWqMRWajveyIz9i+hehw1gp36iuzh+KqK2xZedUpkKY0riMzmvrwtSu5XUvdr2WgtM4NNzgrTDJcjVW2X6CXn6PH37WyPq78TJ7J0f3l/Ff5FljmmejuqHie02FCROdWUz500Pw9Vx3M9JxsUH1RyEpnbkhMis/KopmqMzARZdxdZxpi6Igu7O1vV8bTRsnDSUMJTZCaFn8kUN+XXHIO1laqxlZjSZLGeovR0EekKKRc6EhG9KHgGnYiIiIiIiMgCcIFOREREREREZAG4QCciIiIiIiKyAFygExEREREREVkAlsQREVmQ+w1kIZz74fuK22a42YvM8bosf1Nyt0FhkdnelQVQYae+EFmjjlNE5nFMFnhBq/wecEi50SK71U3e7rOfjJH7lpeZ43XFYbItqWUlkblcUN52c/xCkdXt/a3I7O/IQj8lNg/UbadPlpku1SCyENc3VR0PACIyVoqsVZNJIkt1VXienP9a9ThPu9pFPvamB/J5bNIp3Gh1d9cjevknj/VDWTJmtFJ37sJoJUv5dOlyQkr3a1C9T1WNkalq5UTkdC0rd8aTNt38UWTB1WV5pubgSZElvqtceOe5xjbb8wlPW6FqO0PMQ5Fp/XK3NJKIKL/xDDoRERERERGRBeACnYiIiIiIiMgCcIFOREREREREZAG4QCciIiIiIiKyACyJIyIyk5BKY0WmqV5IZEpFbQAQWF8WTRX657aqse/VloVi5WfGiSy0xDCRJbb1FZnTTtnUZjIpl1ZFd5QFV4VPZChu+zRNcqrItLLnK0fuVZa/Gn3WP1C9v1WSvN2pTrJYTYna22JU+O1ttFYoLXN2EpnB203dIAAu9pfHLPa7fO7kRHolWTDocEQWIGqS00SmNdipHietpIfIrK/JAsb0Yu6qjqe/GCUyt/Pq7hvtxRuqtstMqoe8f6wT1RVEqnZJ/kxHGFeLrPSqzxR316Vmv7ROrfDkpSIL9X0vz8clIspLPINOREREREREZAG4QCciIiIiIiKyAFygExEREREREVkALtCJiIiIiIiILAAX6EREREREREQWgC3uRERmEqPQ2O6+95bq/Q32ViLTG2SLdEDTSSKzDpXt15uPyzbmpm2/FpnnwXg5GZ1s+4ars8wAPCwv2509FhxV3PZpyeW8RGYfra4BXklw9fEiM7WXLd5K9w0ABGo7i8y2SQ2ROZ1SuM8U6FU2X+vS5HbaVHk/GAu7iCy1kK2qMQAgsOJpkd34xFP1/mrU8b0mssi1ZVXta3VLXnkAUH5cjC1riWzT5W9F1rLll6rGDoueqWpcJYaHD1Vtl5lEb/nnm8vF5BwdU1B4LVGSkSJfhwAg3dE854AMt++YZVwiotzCM+hEREREREREFoALdCIiIiIiIiILwAU6ERERERERkQXgAp2IiIiIiIjIArAkjoheeIH6biKLyFhphplkLqTKOJFZl5QFXpsuTVF9zBstbUTmN0kWJF1/o4TIPA/JAqiQIoNFZl2yiMjC908QWaj/CJHdbu4hMgDwPCgLzsJTlylu+7RUd1lI5XQlUdW+Su7WcROZxxH1pXMRxtUiU3qsYZK3ObjGxyLTllUu1nuaUa+RmY38la5PlPeNdWya4jFDiw4RWfE/5HZZeY6KMRSeJ3ZLZcGg3T2FOSrch5q0dMVxdK7yZ0t/IVrFDAFtulFkal9jlJ4PihRuS1Yke8jHv/CfN3N0zKeZVM7RlKZ8rsdopr8w1b6WEBFZKp5BJyIiIiIiIrIAXKATERERERERWQAu0ImIiIiIiIgsABfoRERERERERBaAJXFE9EIJsukpMo1OlkyZU6C2s8jiu9UXmdtfV1UdL9ipr/I/jK4qoowGlUSW7iJLr3avGSmylgFfiszqn9PPnyAAQ2FZbvawnHLJVLkvL6k6ppJ0O1mOZbBR9/iHuL8lspiPK4is8NJjWZ/Yfxnl/a3EpM/+e+SxpWXmseWuwiDyMdDeuK14zMSm5UV2M+lGluf2LEkVvEV27roseiudJIv6TLdkASKsMvkzRi9zU1LS8ycIQP9AoXSwlK+qfdVSXSYHINi+l8h0/WuKLCx6Zo7m9DRTurqyRI2NLJwEALt7uTkbIqKCg2fQiYiIiIiIiCwAF+hEREREREREFoALdCIiIiIiIiILwAU6ERERERERkQVgSRwRvVBMBllIFJGx0gwzyZyunGzwcr6YILJNN39UdTxDNYVGMACO12R2u76tyDwOytIypSI7G28vkW1KWqJihsCtpi4iczutXBKXkzKrhBKyJK7wP/Gq9o0LkCVo7ifk8cKTl2Z9Yv+heSjnY0qXRWgaO0+R6ZOV77OnpTvJ7TZFfqdq30BdF8X8QTkrkV07V1xu2FTVMIpi/eWfHdprCn+KHD8sImNqqtzXwUFxHK2t/Dkw3LuvYoaZPH7Jyar2zQumyvLnv8j2B3k+rtLrqtJzRz9JFmACQLqDurJEIiJ6Es+gExEREREREVkALtCJiIiIiIiILAAX6EREREREREQWgAt0IiIiIiIiIgvAkjgieqFYWiGcUmmSqUFVkelPXsn2GOnO1op5bDmZ2d5Rd0ydlywoMyVlvwgruW6iyIqPfZjt42U6TtEMkYWdnaxq37vV5XvSpZbezfGcBJ1ORGEKhYCB9T8VWaqLuvfNtbJzTpFSGaCucCHFbRN9ZKmXbZQsjlMr2LGPyOInVBOZ1wE5bnKQ3G7n76NEFlJogOLYJkd7kYVHTVfc9mlqyxuVKN3fEcbV2T4eAGiT0kRm0ubu+ZVAfTeRKb3W6iqWFVmhE8rFhk7nYnM+MSKiAohn0ImIiIiIiIgsABfoRERERERERBaAC3QiIiIiIiIiC8AFOhEREREREZEFYEkcEVEO6IsXE5npbrzIwh7Oy/YYsX7KL9V6/wSRFfldFpTdbCoLs9wzFMrWVM6xechXIstoYyeyTZfGqTpeXgiqJwvYdEFOIgs782XuD65T9963SS+3M2k1KvfN0oyekFS3pGLuelqOneCrXACmhqmCv8gKHZfHs7+VKrL7leXzSYnGzUV57Fj5s5EfdB4euX/QDIOIDB7yZzontHa2qrYz6eRzxCkyJVfnQkRU0PEMOhEREREREZEF4AKdiIiIiIiIyAJwgU5ERERERERkAbhAJyIiIiIiIrIALIkjIlIp2L6XyDJqlxeZ7sCZXB03ppYsdAMA3JVFWiZ9usj0udzhFF3bWmRFd8oiKwzN2TihxeQBnLorF5w97U4tR5F5HZL3TV4wOagrONOmysdVa1BZyqZyswjjapFVHT5NcVuPY8kiSyym7rYoiSstS/lcLiWJzKhQlqdWcunCirn1thvZPqZawU59RaZ1ks+7EPe3RBb2YK7qceIry9votP286v3VMCbJx0VJcjH5mNpffai4rSaJ5XFEec1oNCIqKgpXr17FlStXcPbsWXNPiXIBF+hEREREREQW7NatW1i4cCGuXLmCq1ev4MqVK4iMvI60tLTH2xQq5G7GGVJu4QKdiIiIiIjIgvXo0QP79+9DmTKl4ONTFCEhzVGiRDH4+haHr29xlChRDAaDAb6+Nc09VcohLtCJiIiIiIgs1LZt27Bjxw4sXz4LoaEBmW4XFxefj7OivMKSOCIiIiIiIgtkMpkwfvw41KxZFSEhLc09HcoHPINORKSSxre4yKxux4osLHlpro67rtV0xXxM5zdFlu5iIzKreNkoFnZ3tqqxQ0u+L7KM/sVE5nw6RtXxssJQTJZjuZ2XxWohRQaLLHaMLJPzmH0wdyb2HEYH+RgoSfCThWK2DxTK9hSY9Opa4oKsu4ssblotxW2PfzdWZOXHKxfKqZHmpBGZ7vRVkZkq+4tMo+5ugFEnxwAAk0HlARQE6rqITGtvLzJNUS+5s0IxmslgzPZcACDVWZ5L2X1/To6O+bQIwyp1Gyqc1jFZ6RQ3Nd29LzKl52N42gp1YxMVUOHh4diz5x+sXj0PGo3yax69XHgGnYiIiIiICow7d+4gJCQYzZs3w+3bt809nUz9e/a8bt2aCAhoYu7pUD7hGXQiIiIiIioQjh8/jtatWyM9PQ1arQZ16tTB77//jpo1La9cbcOGDThw4CB+/30xz54XIFygExERERFRgTBnzhxkZKRhx451MJlMeP31QWjcuDEWLFiArl27mnVuMTExOHnyJCIjIxEZGYkFCxagUaO6aNKkvlnnRfmLC3QiIiIiIioQ7O3t4eDggCJFHvVI/Pnncrz77lh069YNsbGxGDBggFnmdefOHVSuXBl3794FALi6usDPrwS+/PIjnj0vYLhAJyJSEOzUV2TpdcuJTL/zeK6OW7fXtyJ7bUxlxW3D908QWbUhstSr8InkbM/negdZjOd8SaGgLF2Wt+WYQY5jUvitFddElowVOir/mFFdhJVTRnWlYClusgbGOeKMujHUdcRB6+ggMv91yo9VyEeydNC2ZyVV4yiVfxXKkOOEGVfLfet+IjJdqhxDqbzNoWgRxflsysFjrfQ8qd9D/lxax8siOvurcSLTpKVney4AoEtT+WDngzgf+QNot+O64rYavdxWY2+X63PKD4HaziKLUHgu04vh4cOH0On+//XXzs4Wc+Z8CxcXZwwePBiBgYHw95e/V/LaqFGjkJ6ehr/++g0lS/rBUeH1mwoGlsQREREREdFLLyMjA7///juCg1s8kWs0GrRq1RQZCm8s5oe//voLixcvxsSJo1C1aiUuzgs4LtCJiIiIiOil9/fff+POnTt47bXW4t/27TuMIkWKwM/PL1/nZDQaMWjQINSpUwO9eslPa1DBwwU6ERERERG99P766y/Y2tqgUiX5lbX9+w+jYcOG+f59b4PBgMTERGRkZCA9PWdfiaGXAxfoRERERET00uvcuTPS0zMwY8aCJ/K0tDQcPnwcjRo1yvc5WVlZYc2aNTh16hzGjv0i38cny8OSOCIiBRqfoiKzjpIFUGFpK3J13NhXE0U2JyJAcdsPlfq7FN521RjVlUyFVBorspRehUVWZI+cI+ISVI2R6diVPxJZQkU3kWlkLxfu1JY3usysmzmaT05E13NRtZ1W4auOYQ/nqds3Xd0Znls95JOk0JkU5Y1LyMI156vqvo+psbYWmUnldzlNevn42d1Tt68h+o6q7XIqyVPO0faewpkuk0KxYUom9/dTQrwGKeb6JiVV7Z8flH7+NscvVNw22L6XyLTurrk7oXyiVHgXqO8msoiMlfkxHcqBypUrY9iwYZgyZQY6dWoLH59iAIATJ84gJSUVDRs2NMu8ateujR9//BFvv/024uMTEBzcAi1aNIK7u/w9SC8/nkEnIiIiIqICYeLEibC1tcP33895nO3bdxi2traoUaOG2ebVv39/fPPNNzhz5hLeeus9lC5dDwEBHTFp0jTs2XOAH38vQLhAJyIiIiKiAsHJyQmjRo3C8uW/4sGDGACPvn9ep05tWCt8Gii/aDQajBw5EidOnMTNmzcxf/58lC1bEQsW/II2bXqgdOl66NixHz75ZAp++20Trly5BpPCp3boxccFOhERERERFRhvvfUWjEYjli5d8zgz1yXWlBQtWhR9+/bFihUrEB0djf379+ODD0bD0dEdq1dvQL9+76JmzVbw96+Ntm1fx7hxX+LKlWvmnjblEn4HnYiIiIiICgwPDw9069YN8+Ytx+DBb6BVq6Z4992PcO/ePRQuLLtXzEmn06FOnTqoU6fO4yw6OhpHjhzB4cOHcfjwYaxevQHr14fj998XmXGmlFu4QCciIiIiogJl8ODBWLx4MSIi/kK1apVgMplw6dIli1ugK/Hy8kJISAhCQkIAANeuXUPt2rUxePAYM8+McgMX6ERU4AXZ9BSZ1q+4yAwXr+TquIENPxNZtW9l+/jtBaWUDzBcRrFlZc3ysR9kQ7qSWy08ROZ1QB5PmyyLapRajjOj1O6c3LKKyOxvpYrsYRk7kdncl43mmy5/q3o+ORHi+Y7IXGurbN1W+dXBkPLyDy679l4iC9R1EZl9p7oi27b1Q+VxKijkKr8Ip/WUf9Cabt5Wt7OChGLy+WTn6CjHSEvL9hhZYVD4WqpVgkJhk8L1kzU26r7TmljfXzG3vZs/t1ENhzsKNe6ZUGz2T1bXaG9plG6LTuE5Ty+WunXrok6d2pg7dylGjRoCAHBUeJ15Efj6+mLNmjUICFC+6gu9WPgddCIiIiIiKnCGDBmKrVt34quvfoCzszN8fHzMPaVsa9asGSZPnmzuaVAu4AKdiIiIiIgKnC5dusDDwwPbt+/GqFGj4OTkZO4pqWI0GhXz/v375/NMKC9wgU5ERERERAWOra0t/vnnHyxbtgyjRo0y93SeKSEhAcuXL8crr7SBg4MD5syZI7bRKHzNhl48/A46EREREREVSKVKlUKpUpl0vZhZWloaNm/ejBUrVuD3339HUlIS6tSpgVatmuCdd96BnZ0devWSvS70YuMCnYgKPF1hd5GZ7sWILMKwKlfHjQyWZTQX95UVmX+ScklUsFNfkWk+l2VrSkJ93xNZ3PuyGM9rziG5c8XSIjJ4u6kaFwBQ1k9EJp1819/qxn2RJbQsIbJiO5LVj53Lwu7MElnTV75WtW+hQ/I5piTdU37k0nuvwm2uJx97o1792RRNqnye2dyVpV6hRYeI7F6gLMY7sCj7RX36FNmgZyotvxtqOnY222NkhVahGy1iz3iRKf1MwqSuDfB+JeU/yXxmnVO1f36wu52Fkjc7W5k5OeTeZPKR1l2+vj2sU8QMM6GCwGg0YufOnVi2bBnWrFmDmJgYVKxYFu+/PxAdO7aBr28JGI1GDB8+Dn379oWtrS06d+5s7mlTLuICnYiIiIiISKV79+5h3bp16NOnD6wVWv6zKiUlBcePH8eqVauwcuVK3Lx5Ez4+xdC3b1d07PgKKlUq98T2Wq0W06Z9huTkFPTo0QN2dnZ45ZVXcjwPsgxcoBMREREREalgMpnQu3cvbNoUhuXLl2Pt2rVwd5efxMvM7t27sXv3bly8ePF//13AjRs3YTKZULhwIbz6aig6dWqLunVrPPM75TqdDj/99DVSU1PRqVMnbNiwAXXryktr0ouHC3QiIiIiIiIV5syZg02bwvDhh+9i9uwlqFevHjZs2IBy5co9d9+jR4+icePGcHZ2gr+/L0qW9EHnzm1RsqQPSpXyR61aVWFlZaV6Lnq9HnPnTkPPnoPQvn17rF27Nic3jSwEF+hERERERETPcfHiRYwYMQJ9+nTFBx8MRZcu7dG9+zuoV68e1qxZg1atWj1z/48+GotSpfywd+8m6PW5swyztrbG4sXT0bVrf34X/SXBBToRFSjB9rLtVFu4kMjC7svLl+REYMPPZBgkS+KsY+XVL60OXVA8Znod+W69yzl1pWB3AmXZmscBWWYVnrZCZE3afSMy240KZXKZiG4oC5e815wXWXJNf5GleMi2rq1/jVU9dn5wOHNH1XamsxdVbac/LO8bU3qGyO71qSUy14upqsYAAGgVrryqlc+n9FKyHEufqq4ITYnuQaLM0uzlVJLkbQnLWJntcTMTUmWcnE9TdR9fNSbK2xJhXC3H8HhbZIah5RWPGfZgrty/yGC53a0ZaqaIQF0XkaktwNRHx6raLrP5NG2jrkDR0myK/E5kAc2+yP+JkFkZDAb07t0LXl4e+PzzDwEAfn4+CAv7BW++ORwhISH48ccfMXDgQMX9d+3ahY0bN2HevO9ybXH+Lzs7WyxfPgv9+7+PsLCtuXpsyn9coBMRERERET3D119/jX379mPjxhVwdPz/KxK4uDhh5crZGD9+MgYNGoT9+/ejfv36sLOzg52dHezt7WFnZ4ePP/4YVapUxKuvhubJ/BwdHTB79jfw9a2ZJ8en/MMFOhERERERUSaOHj2KCRMmYNiwAahXTy6A9Xo9vvxyHMqWLYVPP/0WixYtgknhEourV8+DVunTSkT/wQU6ERERERGRgpSUFLz++usoX74MxowZ+sxt+/Xrjn79usNkMiEtLQ0pKalITk5BSkoKNBoNfH3l18uInsYFOhERERERkYKPPvoIFy5cwPbt61Rf81yj0cDGxgY2NjZwcXHO4xnSy4YLdCIqULSuLiIzxjzM83GjGstCOJ+weJGleNmJbHPsfMVjtgicLDKt7A5DiPtbIrv/mSykKj9RltEFWXcXma5ldZFFKJR1ZVaiZKgpb2PYnVkiq/DRNJF5/WOUBxyiOIzZmBKSVG2nVMCnZHPCIpEF6ruJ7EE1ed8UXnRS1RgAAIWPY5oUSuK0abKoz6D+qkCCJi1dZM7n4+R2SSnZHyQLTHr58VPPgwm5OkZ6ZV+ROdzMQtGek4OIQrwGiUxjbysynZOTqiGUXjdQzFvVvplJLCL/7FR6Liu9nlgaXUKayJTK/8Luzs6P6VAe+euvvzBt2jR8+uloVKxY1tzToQKCX4IgIiIiIiL6j6SkJPTp0wcNG9bBoEH9zD0dKkB4Bp2IiIiIiOg/jh8/jmvXrmH+/KksdqN8xWcbERERERHRf0RFRQEA/PxY7Eb5iwt0IiIiIiKi/4iKioK1tTXc3FzNPRUqYPgRdyJ6KQU79VXMtU6yrG1z/MJcHTuw/qciMwbIYibNkXMis69UWvU4MWVlm2yhk7JI68ErFUTmfkyWfymVGQVXHS8yu4v3VM0vuq4sgwOAIrvVFW6lVZFla+6L76ja15w01jloTFPJ1KCKyAofku+5h6cuU3/QDFn+pk2WrYNRLWXRYrGtD9WP8xSTQpHZ3VpyDI8VV7M9Rlbcq+UqMvfTiar21Zf0E5lSCVpq21ois7unUICYiRQ/d5HtCP9aZKH+I0Rm8iuqaozUmvK1yObUdVX7ZsbugXyO6cqVzNExzcVoL3/OM6r45f9EKM9ERUXB29sTGo38fUmUl3gGnYiIiIiI6D9u3boFb28Pc0+DCiAu0ImIiIiIiP4jKioKXl5coFP+4wKdiIiIiIjoP6KibsLb28vc06ACiAt0IiIiIiKi/7h16za8vT3NPQ0qgFgSR0QvJU1R5Xe9DZE383zsmy1kIVyJ8FiRaRQK4ZKLOuRscIW3XaMbyvKpil/fVnW4DFdZ4GV1M1pkIeXHiCy1t/IfNhF7ZPFcs9CvRGZdy15km65/r3hMcwktNVJk6X55/wddmossqHK5IgsCs8LkKEv9bjWVZW2eh+U4mnRZ/qWWJjFZZMlespRpc8IikSk97wAg7OzkbM/HYCMz3dlrqvY1RsmfK52bvA8TiuhEVuiM+sfP5p68z5SYHORjqr0To2rfdCc5x+23ZqjaFwACtZ1F5lBNFlbiBb2+tDZVFiimFJavWfRiSk1Nxf379/kddDKLF/NVkYiIiIiIKA/cunULAHgGncyCC3QiIiIiIqL/OX78OACgVCk/806ECiQu0ImIiIiIiP5n48aNKFnSD76+Jcw9FSqAuEAnIiIiIiICYDKZsHlzGAICmph7KlRAsSSOiF54ob7vicxYWBYzAUB48tJcHTuo7iciMwU6y3EPTBRZtSHTRJaVoqiYKrKYyyHaWmRux+V7sZsufysypaI2K4NJDmyQ4z6sIYt0vPeqLw6Lrivn7bU/TfX+5hJb01tk9rdyVtamht3NBBmeu5Kzg2bIx8uoUJhmFSNvn0mf/ff7DR7yZ9XxusLzTolVzv6MCdR3E5l3KV+RhT2Yq+p4m5OWiCzIpqfI4srI2+e54LSqMQAAF9SV1ikV8BnjFZ47ijur20ypDO7R/vIAptOX5Ha2Ck+yF4Dutizbi2kuX/vpxXP+/HlcvXqNC3QyG55BJyIiIiIiAhAWFgZra2s0blzP3FOhAooLdCIiIiIiIgAPHjyAg4M97OzkZUaJ8gMX6ERERERERACaNWuGmJiHOH36vLmnQgUUF+hEREREREQAGjRoABsbG+zatdfcU6ECiiVxRPRCUSok0itcBkV76Xp+TAeRwbIUqEREvNxwkrrj6eNlMVqQ3euK22q+riGy6NqymKn0oruqxlYqavObLkudTCZZcJXiLsd1WX9ScZyQsh+ILL2/QtnaySjF/S1Jhq1CEZZWZbuWSkHW3UWmdXISWZhCQVlOpTnLx1pz657MFArB1ErxsBOZ81V1RXsmXQ7va5NRRIYLl3N2zKdoXeRj5XxBzjsrBZab4xeq2s5kLz+ia0xMVLVvho3KcziZPPa6woVFFhY9U90xXwCbIr8TWamvp4osUNdFZBGGVXkxJcoldnZ2aNiwIWbMmA8A6NbtNbi6KhfPEuUFnkEnIiIiIiL6nxkzZqB+/UYYP/4rVKjQGO+8Mwp79x5SfIOaKLdxgU5ERERERPQ/FSpUwOrVq3Hjxg1MnDgRBw4cR2hoNzRs2AazZi3Ew4ex5p4ivcS4QCciIiIiInqKl5cXRo8ejQsXLiAiIgJVqlTnWXXKc/wOOhERERERUSa0Wi1atWqFVq1aITo6GgsXLsScOXPwyy+/oXz5MmjduhVatmyMunVrwMrKytzTpRccF+hE9ELRVSwrMqOVTmSbr8iynpwKrP+pyEwhsgAqYu/H6g6o0K0Uvn+CyFq2/FJ5d9lvBVeFq8KEnZH7Nw/5SmTOHvJXgjFBFkpp/YqLzHvrHTluwiI5GQB1+srHxumKwoZay/+Ql9tJ+TFHTbIs+sttxqSkXD+mJjlVZIWPyzNDYbdmiEypyC7YvpfINisU2cX5yeed99YHmc7zv4wnL6jaLjNKZV1KRZQ5YYxPEJn3X7JoL6cC9d1Epi8qyxcjjKtF1qrx5/KAJWR5nxJ9saKKecaNm6r2f5l4HZAvyppalcwwE8pL/55VHzVqFLZv344FCxZg0aJVmDr1Jzg5OaJp0wYICGiCgIAm8PGRvy+JnocLdCIiIiIioizQarUICAhAQEAADAYDDh8+jM2bN2Pz5jCMGvUJDAYDypQpiZYtG6Nv324oX76MuadMLwjLPz1BRERERESUx65fvw6jUeHjac+h0+lQp04djBs3Djt37sK9e/ewdu1aNG8egPXrtyAwsDO2bt2ZBzOmlxEX6EREREREVKDNnTsXPj4+qFOnDrZs2ZKjY7m6uqJDhw6YM2cOzp07h2bNmqFr1/5YtmxNLs2WXmZcoBMRERERUYG1ePFiDBgwAJ06tYVOZ0JgYCCCg4Nw9OjRHB/b0dERv/32O958800MGfIhJk/+gc3v9Ez8DjoRWaxAXReRaWpXFpnuxt38mA4iQ2UhnM9mWQCFieqO570rRtV2mgzlj9v5VL4lMrsZ6t53vV3PWmS+6x+KzGSSY8dX9hCZ0x7Z8hZk01Nx7LtTaorMc7/czmRj+U24m4/I4sBQ3/dydQytq4vIDPfVlahlhSk9XWROF+JV7asrLovCTAoFgyGub4oscbQs0Qo7O1nVuJqaFVRtlxmlQjilErWcSHilusicLqm7X7NC5+woMqXHVEmai3w9MFgrtFgqMBRxV8wjIr9Ttf/LxOZhhsgynOR9S5Zl+/bt6NevH3r16oxp0z6DRqPBn39G4NNPv0XNmjXRWKDjRAAAHLJJREFUs2dPDB8+HNWrV4dOJ0tp1dDr9Zg1axb8/PwwduxYREXdxrRpn2X7ePRy4xl0IiIiIiIqkLZs2QIvLw9MnfoptFotNBoNXnklCHv2/Ilvv/0EERGbUbt2bRQqVAjt2rXDtGnTcOTIERgMhiyNo9Fo8OGHH2Lx4sVYtmwtBg8ek+VjUMHAM+hERERERFQgRUVFoXjxouJstl6vR79+3dGzZ0ccOnQcu3btxa5d+zF27IdISUmFm5sbSpUqidTUVKSkpPzvf1ORmpoKjUaDPn36YPTo0ShSpMgTx+3Vqxesra3Rs2dPGI1GzJz5FfR6Lsno//HZQEREREREBVJUVBS8veVXt/5lbW2NBg1qo0GD2hg1CkhNTcXBg8ewa9c+REXdho2NDWxsrGFjYw1bWxvY2Njg/v0YLFy4ALNnz8aAAQMwZsyYJxbqXbt2hVarRffu3WEwGDB79hQu0ukxPhOIiIiIiKhAunUrCvXqVVe9vY2NDRo1qotGjeo+c7v33nsbs2cvwk8/LcScOXPQv39/jBkzBkWLPurs6Ny5MzQaDbp0edS3M2/ed9m9CfSS4QKdiCyWvphC8VRsksg23fwx18cOrC/Lv9BalsRF7Bmf7TGSi8tSJyXXg+wU87RzNiK7en6kyIJqTZQ7t5HFY8bj50SmK+UrMocb8jEIuzVDZE1f+VqOC8D9uCyfSpN3LTK85BwtjWKRobUshVIqRwt7OE9koUWHyOM5Kzzv7sxSO0XVNLby+aRRuB5wkN3rInvQXRb/HZw/QmStGn0uMsdItTNUoFFXZJaZnBTCBeq7yeNlrBRZhm3O5qiWxt1NZCaturGtY9NEFl1XXUljmpt83hRU+nh5P8aXdDDDTCgroqJuwcsrMNeP6+LijA8+GIq33+6LOXMWYebMBZgzZw569OgBOzs73L17F3v37oXJZMI//xxEcnIK7Oxsc30e9OLhAp2IiIiIiAokR0dHPHig7qoq2eHi4oRRo4ZgwIA+mDNnEVat+gO2trYoVMgNrVu3QEhISzRsWAfWCm/uUsHEBToRERERERVIzZs3x86d+/J8nH8X6qNGyU9KEf0XL7NGREREREQFUvPmzXHq1FnExDx8nN24cQtLlqxGePgOs82LCi6eQSciIiIiogKpRYsWMJlM2L17PwwGA7744nucP38JAODv74ugoObmnSAVODyDTkREREREBZKvry/8/f0wadJ36NdvGMqWrYBVq1Zh/PjxuHPnrrmnRwUQz6ATkUUItu8lMo1PMZEZLl7Nh9kA14Nlc7bPxni54cfqjhfQ4guRGd3UtSSjfIJi7P2rQjvwIBlFN5Jt6N77Zduwzlm2ypvsFZq9T19WnM/T7tRUvn2+62UZT2Rr2UCtj5Ft8RZHo/A+t8EgM2t1j3Vqefmct45WeN7lgfRi7iLTZMgWd30RL5mlmFSN8aCyvcjczqeq2leRwvzyi658KVXbGWxkk/rmw5/k9nSQrnDVA6tb6oqvkorK5mjvfemq9jXlT0n9C0F3OUpkiY3KmWEmlFXNmjXHwoULMWzYMEydOhVarRZpaWlITExCQkIiHB3Zxk/5hwt0IiIiIiIqsCZMmIDWrVujU6dO0Pzv8o3e3t4AgLt373GBTvmKC3QiIiIiIiqw/Pz84Ofn90T27wL9zp378Pf3NcOsqKDid9CJiIiIiIj+w8vr0dd5+D10ym9coBMREREREf2Hu7s79Ho97ty5Z+6pUAHDj7gTkeW6LwuOIjJW5vowgfU/lWGQLImL2KuyEU7B/QqyhKnQmRSRhXi+I7JWm5RL4i6ulcVcoSXfF1niAFk8duyH0XJsL9kwZ7LSiSw8fqHIgmtOkPu2dxUZAGw+Iu9v37lfiyzs5CTF/S2J1kGWnhmqyvIw7T3lx/Bp0XXl86T4TxeyPrFs0KbLwjVtoixwe1iniMhcD6s7wxRXUmZeG2+r2leJ6ejpbO+bUyZrdX9CeYZH5vFMHkkqJp87LjfUlejZ35KPsy5Wvj6FFh0iMqtS8vlQUIXdmSWychOniSzYsY/INicsypM5UfZptVp4enpwgU75jmfQiYiIiIiInuLt7Y3oaH7EnfIXF+hERERERERP8fYugrt375t7GlTAcIFORERERET0FC8vL37EnfIdF+hERERERERP8fb25gKd8h1L4ojyUaC+m8jyovTsRWRMlSVFSJElRXnhZktZCOcTFic3VOiSUyupiEZkRf6U32szmWTxW9hfNRSPeTlVFsLV6TtVZEV3Z6iZIjR6WQinu6Huu3e3G7uKzPOwunEBAAZ5/7wItIXcRBZX1EZk/+z8SGRBdSaKzKqus8g2x87P3uSySuG5p4lLFJk+xVVkxsvXRBZk01Me7+NaItt0/XuRBWo7iyzCuFpmhlUiy8r+OaFJUnjNUpBx42aujpuZFFd5zmXPNVlQpkSbki4y48mzMlPYd0vUdFVjvGzU/j53vC5/rgzVy+TJnCj3PTqDfhcmkwkazYv5e4pePDyDTkRERERE9BRvb2+kpKQiPl7dlTiIcgMX6ERERERERE/x8vICAH7MnfIVF+hERERERERP8fb2BsAFOuUvLtCJiIiIiIieYmVlBQBIyadOHCKAJXFEeUappEhra2uGmbwgFAqqcrvUCQCC6smmN00zWRIXvn9Cro6b7qRQr5QhS9TOflxWZL6bDIrHDPn8LZHFjKkoskJfnFMxQwA21jJLTZPjer4jsvgxsvTI6+djisOE+o+QQ79ZXMUELc+t0GIic7qu/Hg9La60fN65XMlCsV42hRQaoJhr9Qp/Ejjai8hh1wWRhaWtEJlSiZbXIXX3jdqffaWiPQDQ1K6sav8cefBQRCHu8mcSeVAsFer7nshsGqj7GQp26ivD8n4iyovX35eJ1laWQSqxjZWv/WluCq+1ZJFOnToFAChfnsV+lH94Bp2IiIiIiOgpx44dg5ubK4oU8TL3VKgA4QKdiIiIiIjoKcePH0flyuV5iTXKV1ygExERERERPeX48WOoVKmcuadBBQwX6ERERERERP+RlJSECxcucoFO+Y4lcUR5RKNQuGRkC2im8quQyGAvHxefNTfkhl9nfwyl4iqnhi4iu9fKX2T2UfJjdCatcrFWXKvyInM/Kcv2wh7OE1mgrovIdBVlQR0exoooNlBh3BNy3uHJS+XxALQM+FJk9rcUN7V4caXk/e299b6qfR+Wlu+R+/14Osdzeh5jfLxirnVxFpnJVpZZGWJiVI2j0elE5nRA4WdNgVLJZlZeIzTp6srocsKULF/PNVby9SXCsCrXxza6OYpMl6pQRKlA6+Yqj3f2ag5nVPAo/Y5XYndbPk9iysvyRbI8J0+ehMlkQuXKFcw9FSpgeAadiIiIiIjoP44fPw6tVoty5UqbeypUwHCBTkRERERE9B/Hjx9H6dL+sLPjJXIpf/Ej7kREREREVKDs27cPsbGxKFSo0OP/7O3tcfXqVZw6dQpbt27l98/JLLhAJyIiIiKiAuP69eto2LAhjMYnuxs0Gg1MpkfdIi4uzhgxor85pkcFHBfoRDmkVGYEANDKgqT8KkKjzB8XK1dZ1rbpwdxcHdtgL4u1NAqdVemy5wnu5zJEZn8tTnGcC33cRVZ2hroSLqUCLxhlyVSYwn1TevJUmS2IVjUuAGjS5TjadNW7WxSDi3xgw85OFlmo73sic2hVQu6rUOgXWmyoyDbd/FHtFAVd8aLK/5Ahb4vBwUZkal/HwlOXZWle2RkDWuVv6iUXzfsSLq2zk8hMycl5Pi4ApBV2EJl1rHztUKSXP/ub4xfmcEa5K8i6u8jC01aYYSaZM6amqtpOd+KyyOJDKuf2dCiLFi5cCDs7W2zduhbJySl48CAGDx48RHx8Anx9i6N8+TIoUuT/2rv/KCvrOg/gn7n8GmCQUWAELE0NNY3KdDW1CE6NgodT5oqbga5WpKTHEBM7tUtJ/lgJ06PSKTc5okbkj8g6G+CP1DYrtW3XxLN5QMUyBERBEBmGmbn7R62b+30mL8yP+2Xm9frzM89zn++997kX3vPMfd99ff85VSGgAwAAvUJbW1ssXLgwTjllkgI4sqQkDgAA6BUefPDBWLNmTUyb1s5fQEKVCegAAECvsHDhwhgz5qA49tj3V3spUEhABwAAerxNmzbF3XffHdOmnebz5WTLZ9Chi9zXsqTaS+jV2iuZarfUrxO9enD6nalD1qYFTkOeSIvVtr2rIZmtPyEtg4uIGLoqnS17Li1wK1JuLWqtS9fYePzXk9mAcWm73fKnr67ouBERO/fql8z6NpUr3r8aTvy7rxXO+/39XhXtv+n4tyWzoWsqK5lq27K1ou2KTNzns+ntbW8q3La0V3pfdu6VlsQVKXpddUcpZlvf6l1nKBeU6kVN96xn55C06G3wmsrOk9YX1nb2cjpdaVDXl/x11L3bb69ouxWvLkxmh825NplNbDgvmS3f8O1dXxh/0+OPPx47duyI8eOPr/ZSoF2uoAMAAD3eCSecEHV1dbFs2c+qvRRol4AOAAD0eIMHD44pU6bE4sU/TL4DHXIhoAMAAL3CZz7zmfjDH16IX/zi0WovBQoJ6AAAQK9w/PHHxyGHjInvfe/uai8FCimJg10w8ZDZyWxPKLPpLicN/XQyKyrIqaZuKa5KO9Ci39a0UGrZM/OT2dGfTkveXtu/+DgHf/+VXV7b/yo8bzdvSUbrTx6VzBp+U1m5WXt21KcFV0P+2LHb7Gp/mjC0cD7wpcr233xI+vvw+vvXVLRve6VuFRkxLBnd206h34cnpfMd9ZX9N6GmX/9dW1dnaaeEuWlYeo51+qHr0tdQedPmLj9uRETLwILrK08/V9G+9zZ/v5NX0wUGVFZOuKeq+2NaitkyJi2SpGvU1NTE2WefE3PnXhbz5n01hg4dUu0lwZu4gg4AAPQaZ511VjQ374y77/5JtZcCCQEdAADoNfbbb7849dRT4xvfWBBbOvBVltAVBHQAAKBXmT9/fmzZ8lpcffUN1V4KvImADgAA9CoHHHBAzJkzJ77znVtj5crfV3s58AYlcdCOxr6fTGald49JZjV9e+fLaGLDecmsVDe4CivJz+bD0gKgEbc9VdG+r4xN993voeLval3+5OW7trC/Um7emQ4PfHsyem3/9Ni/u+5Lu33ciIh9frk2mbXV13XoNjvTpP1nJrPWsw8o3HbgC+nzNXHEucms9vRDk9nyl75T2YLa0oLBSrWurqw4LCKieWj6XtZvW2XfE1ze2VzxcTpV+vBHRERr/3ba4zpR24vrk1l5bPpvREc19jk9mQ0af2QyW/H6bZ1+7Gopb9uWzE4cMDWZ3bvje92xnE43eF36/vv66NoqrISLLrooFi1aFF/84tfipz9dHKVS+9cud+zYEaVSKfr1K2iChU7kCjoAANDr9O/fPxYsWBCPPvofsWTJ0r+57TnnfCHe+94JsWTJ0mhrq+yXl7A7BHQAAKBXmjBhQnzqU5+KOXPmxaZ2virx9de3xwMP/HvU1e0VM2bMjsbGKfHoo7/t3oXSawjoAABArzV//vzYubMlvv71bxb+/Fe/+k00NzfH0qVL4+GHH45yuU9MnPgPcfrpn42f//xXUS6383kb2A0COgAA0GuNGjUq5s6dG7fcsiRWrXo2+flDDz0So0ePjsMPPzzGjRsXjz/+eNx6662xbt3L8fGPnxUf/vApsWTJj6K5uUp9HPQovbPdCipQc+Rhyay0blMyW7b55u5YTnZeP+agZDbwZ09WYSXVVVRc1Pefj0pmRQVOkw7+YjJr+9qwZFb7b0/s5uraV25JS4o2fHDvZNbweOdfFWh9IS2JK69p6fTj7K5NH0zL8uoKyuAiIga/mD6ONbVp2dO+v9y82+u5r+3O3d+39Y6Ktx16738ns7YD31bZzjW7X8pW9BoqKp0rfBxKxcfts6Prr2YVvaYnvvsrnX+gmvRaSv8nn+/842RkxWuLktmJA6dVYSW75qQhZyezFVtvSWb9Xkvf77aNVDxWbeedd17Mmzcvrr322/Gtb81708+eeWZNjB07Nmr+8l7Xp0+fOPPMM2PatGlx//33xze/eU3MmHFJXHbZN2L69DPjnHM+GXvvXV+Fe0FP4Ao6AADQqw0YMCBmz54dd9zx41iz5g9v+llDw/DYuPGlZJ+amppobGyMZcuWx8qVK+PkkyfH1VffEEce+ZG4/vp/jaamHd21fHoQAR0AAOj1pk+fHsOGDYvrrrvpTfNRo/aNtWvTv/76a0cccUTcfPPN8fzzz8fUqdNi7txr4thjT4q77vqJ1nd2iYAOAAD0eoMGDYqLL744Fi/+YfzpTy++MR85siHWr98QLS1v/XGskSNHxoIFC2LlypXxvvcdFdOnz4rGxinxyCOPdeXS6UEEdAAAgIiYMWNG1NXVxQ03fPeN2ciRDdHW1hYbNmyo+HYOO+ywuOeee+LBBx+Mmpp+MXny1Jg27fOxevVzXbFsehABHQAAICKGDBkSM2fOjEWL7oj16//8ufNRoxoiIt7yz9yLjB8/Ph577LG4/fbb48knn47jjjs5Zs+eGy+//EqnrpueQ4s7RMSk/Wcms7b9hyez8ovru2E1+Sl6fAb3TxtnlxW0Gvd47xmTjOqfrqxB+vVDRiSzPi+mj+t9LUt2fV1voTRgQDLb/O70M3LvunxNpx+7XPAngh1pKu9sL70/bQYf9Uhr4bYDH3smHQ4elIxW/OfcDq+rqy1/5bvJbOKwz1W0b2ngwIq2K2psr6lNz8XSgWmTfuFxm4ufl7a+u98qX6mJh30pmbXWp899h7Wl97F148udf5zMlXfkX7bVNvbgZFb0GqrZlH4jzMtTPtAla2L3XHjhhXHNNdfEggULY+7cS6Oh4c//Xu9OQI+IKJVKMXXq1Dj11FPj+uuvjyuvvDJ+8IMfxaxZ58W55/5j1Ba8D9J7uYIOAADwF/X19XHBBRfEwoWL44knnopzzvlClEql2HfffTt0uwMHDoxLL700Vq9eHWeeeVZcfvm1ccwxJ8add/5YkRxvENABAAD+ysyZM6Ncjhg//pRYu3ZDPPTQQ3Hsscd2ym2PGDEibrzxxli5cmUcddQx8bnPXRwf/ehpiuSICAEdAADgTUaMGBFXXXVVTJ8+PZ544on40Ic+1OnHOPTQQ2Pp0qXx8MMPR9++A2Ly5KkxdeqMWLXq2U4/FnsOAR0AAOD/ufDCC+Omm26K+vr6Lj3OuHHj4te/fjQWL14cTz21Ko477uS45JLLYmMv7JtASRxERMSrH3hbMtvrdxuT2fIuKOvKSWNpSuG8NCgtPmrbvr2rl1Oose8nk1lXlKhVqtyvTzLrt72ykrgXJqSFcAM3VF5u1djn9Iq2u6/1jmS2beJ7ktnQ36f3ZdnaGyteT6VyKoQ78ZjLkln/xr2SWU07Hw1c/vJNyWzi2H/q8Lpy0bp5c0Xb1RSUDhYpDU7L5IrK6cZedG1Ftxf/9XTh+NWPHVXZ/h3QMqwumZWa3/o7kjtDd7yGThp0ZjJbUc0i0JquL/7rqJbB6Xt6ab/0M8v3FbxvHP7l9JyfdNDFyWzZs9fs5urIXalUijPOOCM+8YlPxA033BBXXHFF3HbbnTFhwgnxsY+dFJMmfSTq64dWe5l0A1fQAQAAMlBbWxuXXHJJrF69Oq688srYsmV7fP7zl8aYMR+I0077dCxa9ANX1ns4V9ABAAAyMnz48Jg1a1bMmjUr1q5dG0uXLo277rorZs2aE7NmzYkTTjgmJk9ujOHDh0W5XI5yuRytrd3zVzx0LQEdAAAgU6NHj47zzz8/zj///NiwYUPcc889cdddd8ZXvnJVtLQI5T2NP3EHAADYAzQ0NMT06dNjxYp7Y+vWrfHqq6/Gli1bYuvWrfHAAw9Ue3l0AlfQ6XXGTZ6XzFqHpuVYy3//L92xnLwcM7Zw3LRPbTJ7+Kezu3o1hapZCFdk235p6VXds68ls4kjzk1me986LJkNuzQ9F9tTVP5WqZfek7797798627f3p5q4/uGJLN9nm5NZtuHFT8vRSVO5Zd6zmcDKz3HWjdtqmi7tu1NFW1X/2yFV4RKxcVh9asq270jSi1pc2BNwayjqlWqWM7sqlyfoWl5Y276bU7P750j0pLVIgPXp+WiO0fv3eE10bPV1tZGbe3//R/t6KOPruJq6CyuoAMAAEAGBHQAAADIgIAOAAAAGRDQAQAAIANK4ujRJr39C8ls47R3JLMDlvyxG1aTl4kN5yWz5y4+pHDbd173TEW3OWn0BcmsZcPGZFZp0VtjaUq6b5UKk9pTU9AJVdqWFgVtO/6dyezlVenvSIev6/x2q4lHfDmZtU0bnszu+/WcTj927l55b/oEvuuKNclsY+NBhfuX+/dLZiu23pLMTux/RjK7t/n7b73APUSlr8vyjh0VbVf7k8cq2q6mf//CeeuAinbvkHKftKCuppwWfXWFk97/1WS24reXdeoxsjs/+1ReoFktNTvTgsmddZX9V7t+1fZktvUdaQkp0PO5gg4AAAAZENABAAAgAwI6AAAAZMBn0KnYli1bqr2EXdbSln7esXVH+vngou32xPu7K1rampNZW1P62LS3bdHjU7RdS3lnRfsWHrcD+3aXlp0F51Nrej4VbdfWlP6OtNLHelcUrafouc7tse0ObduL3g/S56C1uZ3XRsFjW/ja2APO5e5Q6eNQ+XbpcxVR/Hx19uPd0pIeo9TaPc9zpeddT9IV742drdL3/sJzueB8KjidsrvP5MX50TPUlMvd1GjCHqupqSkOPPDAWLduXbWXAgAA/A1NTU0xYEA3tGXSJQR0KtLU1BTNzcVXKgAAgOobMGCAcL6HE9ABAAAgA0riAAAAIAMCOgAAAGRAQAcAAIAMCOgAAACQAQEdAAAAMiCgAwAAQAYEdAAAAMiAgA4AAAAZENABAAAgAwI6AAAAZEBABwAAgAwI6AAAAJABAR0AAAAyIKADAABABgR0AAAAyICADgAAABkQ0AEAACADAjoAAABkQEAHAACADAjoAAAAkAEBHQAAADIgoAMAAEAGBHQAAADIgIAOAAAAGRDQAQAAIAMCOgAAAGRAQAcAAIAMCOgAAACQAQEdAAAAMiCgAwAAQAYEdAAAAMiAgA4AAAAZENABAAAgAwI6AAAAZEBABwAAgAwI6AAAAJABAR0AAAAyIKADAABABgR0AAAAyICADgAAABkQ0AEAACADAjoAAABkQEAHAACADAjoAAAAkAEBHQAAADIgoAMAAEAGBHQAAADIgIAOAAAAGRDQAQAAIAMCOgAAAGRAQAcAAIAMCOgAAACQAQEdAAAAMiCgAwAAQAYEdAAAAMiAgA4AAAAZENABAAAgAwI6AAAAZEBABwAAgAwI6AAAAJABAR0AAAAyIKADAABABgR0AAAAyICADgAAABkQ0AEAACADAjoAAABkQEAHAACADAjoAAAAkAEBHQAAADIgoAMAAEAGBHQAAADIgIAOAAAAGRDQAQAAIAMCOgAAAGRAQAcAAIAMCOgAAACQAQEdAAAAMiCgAwAAQAYEdAAAAMiAgA4AAAAZENABAAAgAwI6AAAAZEBABwAAgAwI6AAAAJABAR0AAAAyIKADAABABgR0AAAAyICADgAAABkQ0AEAACADAjoAAABkQEAHAACADAjoAAAAkAEBHQAAADIgoAMAAEAGBHQAAADIgIAOAAAAGRDQAQAAIAMCOgAAAGRAQAcAAIAMCOgAAACQAQEdAAAAMiCgAwAAQAYEdAAAAMiAgA4AAAAZENABAAAgAwI6AAAAZEBABwAAgAz8D2Rz03KCDgY5AAAAAElFTkSuQmCC' width=1000.0/>\n",
       "            </div>\n",
       "        "
      ],
      "text/plain": [
       "Canvas(toolbar=Toolbar(toolitems=[('Home', 'Reset original view', 'home', 'home'), ('Back', 'Back to previous …"
      ]
     },
     "metadata": {},
     "output_type": "display_data"
    }
   ],
   "source": [
    "#proj = EASEGrid2South()\n",
    "plt.close(\"all\")\n",
    "proj = ccrs.LambertAzimuthalEqualArea(central_latitude=-90)\n",
    "\n",
    "test_extent = [-3000000.0, 3000000.0, -3000000.0, 3000000.0]\n",
    "#np.array(map_extent)+np.array([-1e6,-1e6,1e6,1e6])\n",
    "\n",
    "fig = plt.figure(figsize=(10,10))\n",
    "ax = fig.add_subplot(111, projection=proj)\n",
    "ax.set_extent(map_extent, proj)\n",
    "ax.add_feature(cfeature.LAND)\n",
    "ax.coastlines()\n",
    "\n",
    "plt.imshow(grids['count_segments'], interpolation='none', extent=map_extent)\n",
    "#ax.set_extent("
   ]
  },
  {
   "cell_type": "markdown",
   "id": "5b30ee90-e32c-4abe-9dc4-729fb4ab8b30",
   "metadata": {
    "tags": [],
    "user_expressions": []
   },
   "source": [
    "## Appendix\n",
    "\n",
    "### Get grid parameters for Ross Sea region"
   ]
  },
  {
   "cell_type": "code",
   "execution_count": 35,
   "id": "42dc7abd-05bc-4c2b-ba17-e5f375707bfb",
   "metadata": {
    "tags": []
   },
   "outputs": [],
   "source": [
    "# Import GeoJSON of Ross Sea - this is very approximate\n",
    "import geopandas as gpd\n",
    "\n",
    "ross_sea_gdf = gpd.read_file(\"ross_sea.json\")\n",
    "bounds = ross_sea_gdf.to_crs(easegrid2_epsg).bounds.values"
   ]
  },
  {
   "cell_type": "code",
   "execution_count": 36,
   "id": "7238b9cb-d2d8-4157-90b0-7c8a429dfdbb",
   "metadata": {
    "tags": []
   },
   "outputs": [
    {
     "name": "stdout",
     "output_type": "stream",
     "text": [
      "nrow = 151\n",
      "ncol = 147\n",
      "width = 10000.0\n",
      "height = -10000.0\n",
      "upper_left_x = -1040000.0\n",
      "upper_left_y = -560000.0\n"
     ]
    }
   ],
   "source": [
    "# Calculate parameters for a grid with resolution that covers region\n",
    "resolution = 10000.\n",
    "minx, miny, maxx, maxy = [func(bound/resolution) * resolution for bound, func in zip(list(bounds), [np.floor, np.floor, np.ceil, np.ceil])][0]\n",
    "\n",
    "grid_extent_x = maxx - minx\n",
    "grid_extent_y = maxy - miny\n",
    "\n",
    "width = height = resolution\n",
    "\n",
    "ncol = grid_extent_x / width\n",
    "nrow = grid_extent_y / height\n",
    "\n",
    "upper_left_x = minx\n",
    "upper_left_y = maxy\n",
    "\n",
    "print(f\"nrow = {int(nrow)}\")\n",
    "print(f\"ncol = {int(ncol)}\")\n",
    "print(f\"width = {width}\")\n",
    "print(f\"height = -{height}\")\n",
    "print(f\"upper_left_x = {upper_left_x}\")\n",
    "print(f\"upper_left_y = {upper_left_y}\")\n",
    "      "
   ]
  },
  {
   "cell_type": "code",
   "execution_count": 37,
   "id": "b640585b-9853-40dc-8aeb-e190bb4a24b3",
   "metadata": {
    "tags": []
   },
   "outputs": [],
   "source": [
    "# from cartopy.crs import AzimuthalEquidistant\n",
    "\n",
    "# class EASEGrid2South(AzimuthalEquidistant):\n",
    "    \n",
    "#     def __init__(self):\n",
    "#         super(EASEGrid2South, self).__init__(central_longitude=0.0, central_latitude=-90.0,\n",
    "#                  false_easting=0.0, false_northing=0.0,\n",
    "#                  globe=None)\n",
    "        \n",
    "#         self._bounds = [-9000000.0, -9000000.0, 9000000.0, 9000000.0]\n",
    "#         self._x_limits = self._bounds[0], self._bounds[2]\n",
    "#         self._y_limits = self._bounds[1], self._bounds[3]\n",
    "        \n",
    "\n",
    "#     @property\n",
    "#     def bounds(self):\n",
    "#         return self._bounds\n",
    "    \n",
    "#     @property\n",
    "#     def threshold(self):\n",
    "#         return 1e5\n",
    "\n",
    "#     @property\n",
    "#     def x_limits(self):\n",
    "#         return self._x_limits\n",
    "\n",
    "#     @property\n",
    "#     def y_limits(self):\n",
    "#         return self._y_limits\n"
   ]
  }
 ],
 "metadata": {
  "kernelspec": {
   "display_name": "Python 3 (ipykernel)",
   "language": "python",
   "name": "python3"
  },
  "language_info": {
   "codemirror_mode": {
    "name": "ipython",
    "version": 3
   },
   "file_extension": ".py",
   "mimetype": "text/x-python",
   "name": "python",
   "nbconvert_exporter": "python",
   "pygments_lexer": "ipython3",
   "version": "3.10.12"
  }
 },
 "nbformat": 4,
 "nbformat_minor": 5
}

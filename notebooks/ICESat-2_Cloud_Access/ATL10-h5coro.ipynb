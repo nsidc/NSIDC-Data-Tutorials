{
 "cells": [
  {
   "cell_type": "markdown",
   "id": "e86eaecf-a612-4dbb-8bdc-5b5dfddf65b9",
   "metadata": {
    "user_expressions": []
   },
   "source": [
    "<center>\n",
    "<img src='./img/nsidc_logo.png'/>\n",
    "\n",
    "# **Using Coiled and h5coro to Produce ICESat-2 Sea Ice Height Time Series**\n",
    "\n",
    "</center>\n",
    "\n",
    "---"
   ]
  },
  {
   "cell_type": "markdown",
   "id": "4101ae06-3984-435c-abcc-f6346d15069b",
   "metadata": {
    "tags": [],
    "user_expressions": []
   },
   "source": [
    "## **1. Tutorial Introduction/Overview**\n",
    "\n",
    "Tutorial designed for the \"DAAC data access in the cloud hands-on experience\" session at the 2023 NSIDC DAAC User Working Group (UWG) Meeting. This is a copy of the `2_ATL07_timeseries` notebook for use with Coiled.\n",
    "\n",
    "\n",
    "TODOS:\n",
    "* Explain Coiled\n",
    "* Question for Luis: Why would I use the decorator function (` @coiled.function()`) vs:\n",
    "\n",
    "```\n",
    "cluster = coiled.Cluster(n_workers=20, region=\"us-west-2\")\n",
    "client = cluster.get_client()\n",
    "client\n",
    "```\n",
    "* How do we incorporate https://medium.com/coiled-hq/processing-a-250-tb-dataset-with-coiled-dask-and-xarray-574370ba5bde ? \n"
   ]
  },
  {
   "cell_type": "markdown",
   "id": "e689b48a-89e1-44c9-a681-75a669286bb1",
   "metadata": {
    "user_expressions": []
   },
   "source": [
    "### Installing last versions from earthaccess and coiled\n",
    "\n",
    "**NOTE**: Restart the kernel and clean output after the next cell"
   ]
  },
  {
   "cell_type": "code",
   "execution_count": 26,
   "id": "9700d441-441a-41fb-9ad8-7ea5eabec52b",
   "metadata": {
    "tags": []
   },
   "outputs": [],
   "source": [
    "%%capture \n",
    "\n",
    "!pip install coiled==0.9.26\n",
    "\n",
    "!pip uninstall -y earthaccess\n",
    "!pip install git+https://github.com/nsidc/earthaccess.git@main"
   ]
  },
  {
   "cell_type": "markdown",
   "id": "53b77eb5-d5ed-4ddd-8fb1-6c69618d7852",
   "metadata": {
    "user_expressions": []
   },
   "source": [
    "## **2. Tutorial steps**\n",
    "\n",
    "Resoruces: each granule is approx 60-120 MB, A month of data for the Ross ocean returns 59 granules ~4.6 GB. We should use an instance preferable double the memory of the aprox data size we use."
   ]
  },
  {
   "cell_type": "markdown",
   "id": "7820a737-33f0-4470-b9a4-03c5c4f0354c",
   "metadata": {
    "user_expressions": []
   },
   "source": [
    "### **Import Packages**"
   ]
  },
  {
   "cell_type": "code",
   "execution_count": 67,
   "id": "59e79729-1b02-4ef5-aee1-8923690243da",
   "metadata": {
    "tags": []
   },
   "outputs": [
    {
     "name": "stdout",
     "output_type": "stream",
     "text": [
      "0.5.4\n"
     ]
    }
   ],
   "source": [
    "# For Coiled cloud compute\n",
    "#import coiled\n",
    "\n",
    "# For searching NASA data\n",
    "import earthaccess\n",
    "\n",
    "from h5coro import h5coro, s3driver\n",
    "import geopandas as gpd\n",
    "\n",
    "# For reading data, analysis and plotting\n",
    "#import xarray as xr\n",
    "import numpy as np\n",
    "import pandas as pd\n",
    "\n",
    "import matplotlib.pyplot as plt\n",
    "import cartopy.crs as ccrs\n",
    "import hvplot.xarray\n",
    "\n",
    "#import pprint\n",
    "from affine import Affine\n",
    "#from pyproj import CRS\n",
    "\n",
    "from pqdm.threads import pqdm\n",
    "\n",
    "#print(coiled.__version__)\n",
    "print(earthaccess.__version__)"
   ]
  },
  {
   "cell_type": "markdown",
   "id": "1966ffa6-a5f2-4520-a8dc-f37678a2cf7a",
   "metadata": {
    "user_expressions": []
   },
   "source": [
    "### **Authenticate**"
   ]
  },
  {
   "cell_type": "code",
   "execution_count": 28,
   "id": "d47aa955-3d91-4418-85f9-5772f400f712",
   "metadata": {
    "tags": []
   },
   "outputs": [
    {
     "name": "stdout",
     "output_type": "stream",
     "text": [
      "We are already authenticated with NASA EDL\n"
     ]
    }
   ],
   "source": [
    "auth = earthaccess.login()"
   ]
  },
  {
   "cell_type": "markdown",
   "id": "da19f604-0288-4358-ab88-d18c986f7cc8",
   "metadata": {
    "user_expressions": []
   },
   "source": [
    "### **Search for ICESat-2 ATL07 data**\n",
    "\n",
    "Using spatial/temporal range from https://icesat-2-2023.hackweek.io/tutorials/sea_ice/1_sea_ice_tutorial.html :\n",
    "\n",
    "\n",
    "```\n",
    "# Spatial extent: Ross Sea, Antarctica\n",
    "spatial_extent = [-180, -78, -160, -74]\n",
    "\n",
    "# Time range\n",
    "date_range = ['2019-09-16','2019-09-16'] # first time period\n",
    "# date_range = ['2019-11-13','2019-11-13'] # second time period\n",
    "```"
   ]
  },
  {
   "cell_type": "code",
   "execution_count": 29,
   "id": "d2069528-d382-45ab-a865-a41593bc47a8",
   "metadata": {
    "tags": []
   },
   "outputs": [],
   "source": [
    "region = \"Ross Sea\"\n",
    "ross_sea = (-180, -78, -160, -74)\n",
    "antarctic = (-180, -90, 180, -60)\n",
    "this_region = antarctic if region == \"Antarctica\" else ross_sea"
   ]
  },
  {
   "cell_type": "code",
   "execution_count": 30,
   "id": "61875e91-c8b4-4beb-9535-c3391d1fcc06",
   "metadata": {
    "tags": []
   },
   "outputs": [
    {
     "name": "stdout",
     "output_type": "stream",
     "text": [
      "Searching year 2019 ...\n",
      "Granules found: 59\n",
      "Total: 59\n"
     ]
    }
   ],
   "source": [
    "atl10 = {}\n",
    "total_results = 0\n",
    "\n",
    "for year in range(2019,2020):\n",
    "    \n",
    "    print(f\"Searching year {year} ...\")\n",
    "    granules = earthaccess.search_data(\n",
    "        short_name = 'ATL10',\n",
    "        version = '006',\n",
    "        cloud_hosted = True,\n",
    "        bounding_box = this_region,\n",
    "        temporal = (f'{year}-09-01',f'{year}-09-30'),\n",
    "    )\n",
    "    total_results += len(granules)\n",
    "    atl10[str(year)] = granules\n",
    "print(f\"Total: {total_results}\")"
   ]
  },
  {
   "cell_type": "code",
   "execution_count": 31,
   "id": "1aacb907-e255-4c60-9eb8-d00c552685f9",
   "metadata": {
    "tags": []
   },
   "outputs": [],
   "source": [
    "#r = [display(r) for r in atl10[\"2019\"][0:2]]"
   ]
  },
  {
   "cell_type": "markdown",
   "id": "b6887297-2b02-4e76-9bc5-5e804c54c5d7",
   "metadata": {
    "user_expressions": []
   },
   "source": [
    "### **Extract freeboard segments**\n",
    "\n",
    "We now create a geopandas dataset from our results. \n",
    "\n",
    "Because ATL10 is not a gridded prduct we need to extract coordinates and variables from their groups inside the HDF5 file."
   ]
  },
  {
   "cell_type": "markdown",
   "id": "f4ff0fab-e1ad-4426-b7eb-e8e4f048b144",
   "metadata": {
    "user_expressions": []
   },
   "source": [
    "#### Open the files using the `open` method. \n",
    "\n",
    "The auth object created at the start of the notebook is used to provide Earthdata Login authentication and AWS credentials."
   ]
  },
  {
   "cell_type": "code",
   "execution_count": 32,
   "id": "0142dd34-21f5-48ac-825e-328e772ecaa4",
   "metadata": {
    "tags": []
   },
   "outputs": [
    {
     "name": "stdout",
     "output_type": "stream",
     "text": [
      " Opening 59 granules, approx size: 4.6 GB\n",
      "using provider: NSIDC_CPRD\n"
     ]
    },
    {
     "data": {
      "application/vnd.jupyter.widget-view+json": {
       "model_id": "97488f87bdc24adcb9985d822ce057fe",
       "version_major": 2,
       "version_minor": 0
      },
      "text/plain": [
       "QUEUEING TASKS | : 0it [00:00, ?it/s]"
      ]
     },
     "metadata": {},
     "output_type": "display_data"
    },
    {
     "data": {
      "application/vnd.jupyter.widget-view+json": {
       "model_id": "640e5a1007b14cb7abd55be83268b3a1",
       "version_major": 2,
       "version_minor": 0
      },
      "text/plain": [
       "PROCESSING TASKS | :   0%|          | 0/59 [00:00<?, ?it/s]"
      ]
     },
     "metadata": {},
     "output_type": "display_data"
    },
    {
     "data": {
      "application/vnd.jupyter.widget-view+json": {
       "model_id": "09597a82bc054464aad71d40461fc9db",
       "version_major": 2,
       "version_minor": 0
      },
      "text/plain": [
       "COLLECTING RESULTS | :   0%|          | 0/59 [00:00<?, ?it/s]"
      ]
     },
     "metadata": {},
     "output_type": "display_data"
    }
   ],
   "source": [
    "file_tree = {}\n",
    "\n",
    "for year, granules in atl10.items():\n",
    "    file_tree[year] = earthaccess.open(granules)\n"
   ]
  },
  {
   "cell_type": "code",
   "execution_count": 33,
   "id": "6636d273-25e6-451f-931f-c5a7ec52d721",
   "metadata": {
    "tags": []
   },
   "outputs": [
    {
     "name": "stdout",
     "output_type": "stream",
     "text": [
      "{'ETag': '\"e123bb7ed68661d31fea92a0abdf8fc0-1\"', 'LastModified': datetime.datetime(2023, 6, 24, 0, 19, 44, tzinfo=tzutc()), 'size': 46754892, 'name': 'nsidc-cumulus-prod-protected/ATLAS/ATL10/006/2019/09/01/ATL10-02_20190901100614_09980401_006_02.h5', 'type': 'file', 'StorageClass': 'STANDARD_IA', 'VersionId': None, 'ContentType': 'binary/octet-stream'}\n"
     ]
    }
   ],
   "source": [
    "# files[0].f.s3.storage_options\n",
    "print(file_tree[\"2019\"][0].f.info())"
   ]
  },
  {
   "cell_type": "code",
   "execution_count": 34,
   "id": "60b5e090-1747-4cfc-bbd5-815e5df4020a",
   "metadata": {
    "tags": []
   },
   "outputs": [],
   "source": [
    "# import h5py\n",
    "\n",
    "\n",
    "# with h5py.File(file_tree[\"2019\"][0],'r') as f:\n",
    "#     obj = f[\"gt1r\"]['freeboard_segment/delta_time']\n",
    "#     for attr, value in obj.attrs.items():\n",
    "#         print(f\"{attr}: {value}\")\n",
    "#     time = obj[:]\n",
    "    \n",
    "# time"
   ]
  },
  {
   "cell_type": "code",
   "execution_count": 35,
   "id": "dbc9d0fe-9184-4f20-ac6c-38c98bcd88c1",
   "metadata": {
    "tags": []
   },
   "outputs": [],
   "source": [
    "# ds = xr.open_dataset(file_tree[\"2019\"][0], group=\"gt1r/freeboard_segment/\")\n",
    "# ds"
   ]
  },
  {
   "cell_type": "markdown",
   "id": "8c37de57-f225-4d50-8ac2-8d9b7b76d9f7",
   "metadata": {},
   "source": [
    "### Pre-warming the Coiled instance.\n",
    "\n",
    "Once we get to run this with Coiled it would be good to instantiate the cluster beforehand"
   ]
  },
  {
   "cell_type": "code",
   "execution_count": 36,
   "id": "4d605657-3cb8-4894-9adc-45f020d6ed41",
   "metadata": {
    "tags": []
   },
   "outputs": [],
   "source": [
    "# @coiled.function(region=\"us-west-2\",\n",
    "#                  memory=\"16 GiB\")\n",
    "# def trivial(param):\n",
    "#     print(param)\n",
    "#     return param"
   ]
  },
  {
   "cell_type": "code",
   "execution_count": 37,
   "id": "f3f58418-0c0e-49ca-adfa-d3fe6b53c4d2",
   "metadata": {
    "tags": []
   },
   "outputs": [],
   "source": [
    "# trivial(\"test\")"
   ]
  },
  {
   "cell_type": "code",
   "execution_count": 38,
   "id": "270e1930-1908-48eb-a1a5-831fba89009a",
   "metadata": {
    "tags": []
   },
   "outputs": [],
   "source": [
    "## Based on the READ function form Younghyun Koo for the sea ice tutorial at the IS2 hackweek\n",
    "\n",
    "# @coiled.function(region=\"us-west-2\",\n",
    "#                  memory=\"16 GiB\")\n",
    "\n",
    "# Modifications to streamline\n",
    "# - helper function for orinetation\n",
    "# - helper function to reformat credentials\n",
    "# - use datasets to read arrays\n",
    "# - add data to dictionary\n",
    "\n",
    "#from h5coro import h5coro, s3driver, filedriver\n",
    "from itertools import product\n",
    "#import geopandas as gpd\n",
    "# import pandas as pd\n",
    "# import numpy as np\n",
    "# import gc\n",
    "    \n",
    "GPS_EPOCH = pd.to_datetime('1980-01-06 00:00:00')\n",
    "\n",
    "def get_strong_beams(f):\n",
    "    \"\"\"Returns ground track for strong beams based on IS2 orientation\"\"\"\n",
    "    orient  = f['orbit_info/sc_orient'][0]\n",
    "\n",
    "    if orient == 0:\n",
    "        return [f\"gt{i}l\" for i in [1, 2, 3]]\n",
    "    elif orient == 1:\n",
    "        return [f\"gt{i}r\" for i in [1, 2, 3]]\n",
    "    else:\n",
    "        raise KeyError(\"Spacecraft orientation neither forward nor backward\")\n",
    "\n",
    "\n",
    "def get_credentials(file):\n",
    "    \"\"\"Returns credentials dict with keys expected by h5coro\n",
    "    \n",
    "    TODO: could add as option for earthaccess\n",
    "    \"\"\"\n",
    "    return {\n",
    "        \"aws_access_key_id\": file.s3.storage_options[\"key\"],\n",
    "        \"aws_secret_access_key\": file.s3.storage_options[\"secret\"],\n",
    "        \"aws_session_token\": file.s3.storage_options[\"token\"]\n",
    "    }\n",
    "    \n",
    "    \n",
    "def read_atl10_local(files, executors):\n",
    "    \"\"\"Returns a consolidated GeoPandas dataframe for a set of ATL10 file pointers.\n",
    "    \n",
    "    Parameters:\n",
    "        files (list[S3FSFile]): list of authenticated fsspec file references to ATL10 on S3 (via earthaccess)\n",
    "        executors (int): number of threads\n",
    "    \n",
    "    \"\"\"\n",
    "    def read_atl10(file):\n",
    "        \"\"\"Reads datasets required for creating gridded freeboard from a single ATL10 file\n",
    "        \n",
    "        file: an authenticated fsspec file reference on S3 (returned by earthaccess)\n",
    "        \n",
    "        returns: a list of geopandas dataframes\n",
    "        \"\"\"\n",
    "        \n",
    "        # Open file object\n",
    "        f = h5coro.H5Coro(file.info()[\"name\"], s3driver.S3Driver, credentials=get_credentials(file))\n",
    "        \n",
    "        # Get strong beams based on orientation\n",
    "        ancillary_datasets = [\"orbit_info/sc_orient\", \"ancillary_data/atlas_sdp_gps_epoch\"]\n",
    "        f.readDatasets(datasets=ancillary_datasets, block=True)\n",
    "        strong_beams = get_strong_beams(f)\n",
    "        atlas_sdp_gps_epoch = f[\"ancillary_data/atlas_sdp_gps_epoch\"][:]\n",
    "        \n",
    "        # Create list of datasets to load\n",
    "        datasets = [\"freeboard_segment/latitude\",\n",
    "                    \"freeboard_segment/longitude\",\n",
    "                    \"freeboard_segment/delta_time\",\n",
    "                    \"freeboard_segment/seg_dist_x\",\n",
    "                    \"freeboard_segment/heights/height_segment_length_seg\",\n",
    "                    \"freeboard_segment/beam_fb_height\",\n",
    "                    \"freeboard_segment/heights/height_segment_type\"]\n",
    "        ds_list = [\"/\".join(p) for p in list(product(strong_beams, datasets))]\n",
    "        # Load datasets\n",
    "        f.readDatasets(datasets=ds_list, block=True)\n",
    "        \n",
    "        # Create a list of geopandas.DataFrames containing beams\n",
    "        tracks = []\n",
    "        for beam in strong_beams:\n",
    "            ds = {dataset.split(\"/\")[-1]: f[dataset][:] for dataset in ds_list if dataset.startswith(beam)}\n",
    "            \n",
    "            # Convert delta_time to datetime\n",
    "            ds[\"delta_time\"] = GPS_EPOCH + pd.to_timedelta(ds[\"delta_time\"]+atlas_sdp_gps_epoch, unit='s')\n",
    "\n",
    "            # Add beam identifier\n",
    "            ds[\"beam\"] = beam\n",
    "            \n",
    "            # Set fill values to NaN - assume 100 m as threshold\n",
    "            ds[\"beam_fb_height\"] = np.where(ds[\"beam_fb_height\"] > 100, np.nan, ds[\"beam_fb_height\"])\n",
    "            \n",
    "            geometry = gpd.points_from_xy(ds[\"longitude\"], ds[\"latitude\"])\n",
    "            del ds[\"longitude\"]\n",
    "            del ds[\"latitude\"]\n",
    "            \n",
    "            gdf = gpd.GeoDataFrame(ds, geometry=geometry, crs=\"EPSG:4326\")\n",
    "            gdf.dropna(axis=0, inplace=True)\n",
    "            tracks.append(gdf)\n",
    "\n",
    "#             gc.collect()\n",
    "        return tracks\n",
    "    \n",
    "    df = pqdm(files, read_atl10, n_jobs=executors)\n",
    "    combined = pd.concat([t[0] for t in df if type(t) is list])\n",
    "    \n",
    "    return combined"
   ]
  },
  {
   "cell_type": "markdown",
   "id": "c51ffca4-1c56-4659-a255-1cd38c86484d",
   "metadata": {},
   "source": [
    "The idea would be to split each year into its own Dask worker"
   ]
  },
  {
   "cell_type": "code",
   "execution_count": 39,
   "id": "5fc14401-66a6-44ba-b8f2-421f45e50c29",
   "metadata": {
    "tags": []
   },
   "outputs": [
    {
     "data": {
      "application/vnd.jupyter.widget-view+json": {
       "model_id": "53d6b206baa049c78d46242440d6a6fd",
       "version_major": 2,
       "version_minor": 0
      },
      "text/plain": [
       "QUEUEING TASKS | :   0%|          | 0/59 [00:00<?, ?it/s]"
      ]
     },
     "metadata": {},
     "output_type": "display_data"
    },
    {
     "data": {
      "application/vnd.jupyter.widget-view+json": {
       "model_id": "a02c7d3b70754c33a6a3cb99609d9f9e",
       "version_major": 2,
       "version_minor": 0
      },
      "text/plain": [
       "PROCESSING TASKS | :   0%|          | 0/59 [00:00<?, ?it/s]"
      ]
     },
     "metadata": {},
     "output_type": "display_data"
    },
    {
     "data": {
      "application/vnd.jupyter.widget-view+json": {
       "model_id": "3efe49d1a6514d359fc8862202c9afba",
       "version_major": 2,
       "version_minor": 0
      },
      "text/plain": [
       "COLLECTING RESULTS | :   0%|          | 0/59 [00:00<?, ?it/s]"
      ]
     },
     "metadata": {},
     "output_type": "display_data"
    },
    {
     "name": "stdout",
     "output_type": "stream",
     "text": [
      "CPU times: user 2min 23s, sys: 1min 5s, total: 3min 29s\n",
      "Wall time: 1min 37s\n"
     ]
    }
   ],
   "source": [
    "%%time\n",
    "tracks = read_atl10_local(file_tree[\"2019\"], executors=16)"
   ]
  },
  {
   "cell_type": "code",
   "execution_count": 40,
   "id": "a4f577fc-7c75-456e-b7bb-2a4f45ab77c5",
   "metadata": {
    "tags": []
   },
   "outputs": [
    {
     "data": {
      "text/html": [
       "<div>\n",
       "<style scoped>\n",
       "    .dataframe tbody tr th:only-of-type {\n",
       "        vertical-align: middle;\n",
       "    }\n",
       "\n",
       "    .dataframe tbody tr th {\n",
       "        vertical-align: top;\n",
       "    }\n",
       "\n",
       "    .dataframe thead th {\n",
       "        text-align: right;\n",
       "    }\n",
       "</style>\n",
       "<table border=\"1\" class=\"dataframe\">\n",
       "  <thead>\n",
       "    <tr style=\"text-align: right;\">\n",
       "      <th></th>\n",
       "      <th>delta_time</th>\n",
       "      <th>seg_dist_x</th>\n",
       "      <th>height_segment_length_seg</th>\n",
       "      <th>beam_fb_height</th>\n",
       "      <th>height_segment_type</th>\n",
       "      <th>beam</th>\n",
       "      <th>geometry</th>\n",
       "    </tr>\n",
       "  </thead>\n",
       "  <tbody>\n",
       "    <tr>\n",
       "      <th>1831</th>\n",
       "      <td>2019-09-01 11:10:21.645610094</td>\n",
       "      <td>2.720752e+07</td>\n",
       "      <td>20.290331</td>\n",
       "      <td>0.253510</td>\n",
       "      <td>1</td>\n",
       "      <td>gt1l</td>\n",
       "      <td>POINT (11.39429 -64.01932)</td>\n",
       "    </tr>\n",
       "    <tr>\n",
       "      <th>1832</th>\n",
       "      <td>2019-09-01 11:10:21.647197247</td>\n",
       "      <td>2.720753e+07</td>\n",
       "      <td>19.569931</td>\n",
       "      <td>0.265972</td>\n",
       "      <td>1</td>\n",
       "      <td>gt1l</td>\n",
       "      <td>POINT (11.39427 -64.01942)</td>\n",
       "    </tr>\n",
       "    <tr>\n",
       "      <th>1833</th>\n",
       "      <td>2019-09-01 11:10:21.648262024</td>\n",
       "      <td>2.720754e+07</td>\n",
       "      <td>16.069815</td>\n",
       "      <td>0.276316</td>\n",
       "      <td>1</td>\n",
       "      <td>gt1l</td>\n",
       "      <td>POINT (11.39426 -64.01948)</td>\n",
       "    </tr>\n",
       "    <tr>\n",
       "      <th>1834</th>\n",
       "      <td>2019-09-01 11:10:21.649195671</td>\n",
       "      <td>2.720755e+07</td>\n",
       "      <td>14.670819</td>\n",
       "      <td>0.303078</td>\n",
       "      <td>1</td>\n",
       "      <td>gt1l</td>\n",
       "      <td>POINT (11.39424 -64.01954)</td>\n",
       "    </tr>\n",
       "    <tr>\n",
       "      <th>1835</th>\n",
       "      <td>2019-09-01 11:10:21.650213718</td>\n",
       "      <td>2.720755e+07</td>\n",
       "      <td>14.671224</td>\n",
       "      <td>0.324290</td>\n",
       "      <td>1</td>\n",
       "      <td>gt1l</td>\n",
       "      <td>POINT (11.39423 -64.01960)</td>\n",
       "    </tr>\n",
       "    <tr>\n",
       "      <th>...</th>\n",
       "      <td>...</td>\n",
       "      <td>...</td>\n",
       "      <td>...</td>\n",
       "      <td>...</td>\n",
       "      <td>...</td>\n",
       "      <td>...</td>\n",
       "      <td>...</td>\n",
       "    </tr>\n",
       "    <tr>\n",
       "      <th>69215</th>\n",
       "      <td>2019-09-29 21:27:06.509730577</td>\n",
       "      <td>3.355327e+07</td>\n",
       "      <td>44.508583</td>\n",
       "      <td>0.181769</td>\n",
       "      <td>7</td>\n",
       "      <td>gt1r</td>\n",
       "      <td>POINT (24.15736 -59.13850)</td>\n",
       "    </tr>\n",
       "    <tr>\n",
       "      <th>69216</th>\n",
       "      <td>2019-09-29 21:27:06.512042761</td>\n",
       "      <td>3.355329e+07</td>\n",
       "      <td>39.595520</td>\n",
       "      <td>0.149934</td>\n",
       "      <td>7</td>\n",
       "      <td>gt1r</td>\n",
       "      <td>POINT (24.15733 -59.13835)</td>\n",
       "    </tr>\n",
       "    <tr>\n",
       "      <th>69217</th>\n",
       "      <td>2019-09-29 21:27:06.514954329</td>\n",
       "      <td>3.355331e+07</td>\n",
       "      <td>36.785496</td>\n",
       "      <td>0.146254</td>\n",
       "      <td>1</td>\n",
       "      <td>gt1r</td>\n",
       "      <td>POINT (24.15730 -59.13817)</td>\n",
       "    </tr>\n",
       "    <tr>\n",
       "      <th>69218</th>\n",
       "      <td>2019-09-29 21:27:06.516793250</td>\n",
       "      <td>3.355332e+07</td>\n",
       "      <td>28.306177</td>\n",
       "      <td>0.137055</td>\n",
       "      <td>1</td>\n",
       "      <td>gt1r</td>\n",
       "      <td>POINT (24.15727 -59.13805)</td>\n",
       "    </tr>\n",
       "    <tr>\n",
       "      <th>69219</th>\n",
       "      <td>2019-09-29 21:27:06.518787621</td>\n",
       "      <td>3.355333e+07</td>\n",
       "      <td>34.685585</td>\n",
       "      <td>0.117143</td>\n",
       "      <td>1</td>\n",
       "      <td>gt1r</td>\n",
       "      <td>POINT (24.15725 -59.13793)</td>\n",
       "    </tr>\n",
       "  </tbody>\n",
       "</table>\n",
       "<p>5205785 rows × 7 columns</p>\n",
       "</div>"
      ],
      "text/plain": [
       "                         delta_time    seg_dist_x  height_segment_length_seg  \\\n",
       "1831  2019-09-01 11:10:21.645610094  2.720752e+07                  20.290331   \n",
       "1832  2019-09-01 11:10:21.647197247  2.720753e+07                  19.569931   \n",
       "1833  2019-09-01 11:10:21.648262024  2.720754e+07                  16.069815   \n",
       "1834  2019-09-01 11:10:21.649195671  2.720755e+07                  14.670819   \n",
       "1835  2019-09-01 11:10:21.650213718  2.720755e+07                  14.671224   \n",
       "...                             ...           ...                        ...   \n",
       "69215 2019-09-29 21:27:06.509730577  3.355327e+07                  44.508583   \n",
       "69216 2019-09-29 21:27:06.512042761  3.355329e+07                  39.595520   \n",
       "69217 2019-09-29 21:27:06.514954329  3.355331e+07                  36.785496   \n",
       "69218 2019-09-29 21:27:06.516793250  3.355332e+07                  28.306177   \n",
       "69219 2019-09-29 21:27:06.518787621  3.355333e+07                  34.685585   \n",
       "\n",
       "       beam_fb_height  height_segment_type  beam                    geometry  \n",
       "1831         0.253510                    1  gt1l  POINT (11.39429 -64.01932)  \n",
       "1832         0.265972                    1  gt1l  POINT (11.39427 -64.01942)  \n",
       "1833         0.276316                    1  gt1l  POINT (11.39426 -64.01948)  \n",
       "1834         0.303078                    1  gt1l  POINT (11.39424 -64.01954)  \n",
       "1835         0.324290                    1  gt1l  POINT (11.39423 -64.01960)  \n",
       "...               ...                  ...   ...                         ...  \n",
       "69215        0.181769                    7  gt1r  POINT (24.15736 -59.13850)  \n",
       "69216        0.149934                    7  gt1r  POINT (24.15733 -59.13835)  \n",
       "69217        0.146254                    1  gt1r  POINT (24.15730 -59.13817)  \n",
       "69218        0.137055                    1  gt1r  POINT (24.15727 -59.13805)  \n",
       "69219        0.117143                    1  gt1r  POINT (24.15725 -59.13793)  \n",
       "\n",
       "[5205785 rows x 7 columns]"
      ]
     },
     "execution_count": 40,
     "metadata": {},
     "output_type": "execute_result"
    }
   ],
   "source": [
    "tracks"
   ]
  },
  {
   "cell_type": "code",
   "execution_count": 41,
   "id": "c5f17a22-5578-4dfb-a474-218741ac8a37",
   "metadata": {
    "tags": []
   },
   "outputs": [
    {
     "name": "stdout",
     "output_type": "stream",
     "text": [
      "<class 'geopandas.geodataframe.GeoDataFrame'>\n",
      "Int64Index: 5205785 entries, 1831 to 69219\n",
      "Data columns (total 7 columns):\n",
      " #   Column                     Dtype         \n",
      "---  ------                     -----         \n",
      " 0   delta_time                 datetime64[ns]\n",
      " 1   seg_dist_x                 float64       \n",
      " 2   height_segment_length_seg  float32       \n",
      " 3   beam_fb_height             float32       \n",
      " 4   height_segment_type        int8          \n",
      " 5   beam                       object        \n",
      " 6   geometry                   geometry      \n",
      "dtypes: datetime64[ns](1), float32(2), float64(1), geometry(1), int8(1), object(1)\n",
      "memory usage: 506.4 MB\n"
     ]
    }
   ],
   "source": [
    "tracks.info(memory_usage='deep')  # what does this do?"
   ]
  },
  {
   "cell_type": "markdown",
   "id": "27844c4b-bdb2-431b-9c85-8afd5ed09f0d",
   "metadata": {},
   "source": [
    "### For future IO eficient operations we save the geodataframe as parquet"
   ]
  },
  {
   "cell_type": "code",
   "execution_count": 43,
   "id": "a47292a7-25e7-43a5-8c45-9fecfdb21c17",
   "metadata": {
    "tags": []
   },
   "outputs": [],
   "source": [
    "#tracks.to_parquet(\"atl10-2019.parquet\")"
   ]
  },
  {
   "cell_type": "markdown",
   "id": "6112e199-cd11-4f80-bc4b-4682035e3d81",
   "metadata": {},
   "source": [
    "#### Geopandas Read function \n",
    "\n",
    "The function below extracts latitude, longitude, segment distance, segment length, surface type, and freeboard height. See the [NSIDC's ATL10 User Guide](https://nsidc.org/sites/default/files/documents/user-guide/atl10-v006-userguide.pdf) for more details on these variables."
   ]
  },
  {
   "cell_type": "markdown",
   "id": "92d8379b-275e-40e6-ab4f-d66a8a0fb00e",
   "metadata": {
    "user_expressions": []
   },
   "source": [
    "## Grid track data\n",
    "\n",
    "This follows the processing steps described in the ATL20 - Gridded Sea Ice Freeboard - ATBD but gridding to a EASE-Grid v2 6.25 km grid.  Any projected coordinate system or grid could be chosen.  The procedure could be modified with extra QC steps or modifications.  **The world is your oyster - or [Aplacophoran](https://antarcticsun.usap.gov/science/4447/).\n",
    "\n",
    "The processing steps are:\n",
    "\n",
    "- remove non-ice and low quality segments \n",
    "- bin freeboard segments into grid cells\n",
    "- calculate aggregate statistics\n",
    "    + mean segment length\n",
    "    + segment count\n",
    "    + length weighted mean freeboard\n",
    "    + length weighted standard deviation of freeboard\n",
    "    \n",
    "#### Grid Cell Mean Segment Length $\\bar{L}$\n",
    "\n",
    "$$\n",
    "\\bar{L}(x, y, D) = \\frac{\\sum L_i}{N}\n",
    "$$\n",
    "\n",
    "where $L_i$ is `/gtx/freeboard_beam_segment/height_segments/height_segment_length_seg`, $x$ and $y$ are projected coordinates for grid centers, and $D$ is day. \n",
    "\n",
    "#### Grid Cell Mean Freeboard $\\bar{h}$\n",
    "\n",
    "$$\n",
    "\\bar{h}(x, y, D) = \\frac{\\sum L_i h_i}{\\sum L_i}\n",
    "$$\n",
    "\n",
    "where $h_i$ is `gtx/freeboard_beam_segment/beam_freeboard/beam_fb_height`.\n",
    "\n",
    "#### Grid Cell Standard Deviation of Freeboard $\\sigma^2 (x, y, D)$\n",
    "\n",
    "$$\n",
    "\\sigma^2 (x, y, D) = \\frac{\\sum L_i (h_i)^2}{\\sum L_i} - \\bar{h}^2 (x, y, D)\n",
    "$$"
   ]
  },
  {
   "cell_type": "markdown",
   "id": "e63674b7-c92a-4bc1-818c-9dae0cf9cc69",
   "metadata": {
    "tags": [],
    "user_expressions": []
   },
   "source": [
    "### **Calculate grid indices of segment centers**\n",
    "\n",
    "Using  Affine\n",
    "\n",
    "We'll reproject to EASE-Grid v2.0 with a grid resolution of 6.25 km"
   ]
  },
  {
   "cell_type": "code",
   "execution_count": 44,
   "id": "427548f4-9adb-4cee-adc1-b721bddcb7a7",
   "metadata": {
    "tags": []
   },
   "outputs": [],
   "source": [
    "easegrid2_epsg = 6932\n",
    "\n",
    "nrow = 2880\n",
    "ncol = 2880\n",
    "upper_left_x = -9000000.0\n",
    "upper_left_y = 9000000.0\n",
    "width = 6250.0\n",
    "height = -6250.0"
   ]
  },
  {
   "cell_type": "code",
   "execution_count": 45,
   "id": "aa0a97e1-68f4-4e6b-939d-3f12f146881f",
   "metadata": {
    "tags": []
   },
   "outputs": [
    {
     "name": "stdout",
     "output_type": "stream",
     "text": [
      "CPU times: user 2.68 s, sys: 408 ms, total: 3.09 s\n",
      "Wall time: 3.15 s\n"
     ]
    }
   ],
   "source": [
    "%%time\n",
    "tracks = tracks.to_crs(\"EPSG:6932\")"
   ]
  },
  {
   "cell_type": "code",
   "execution_count": 46,
   "id": "ca40e3ea-55c3-4e02-ad5f-bc3a0f31dc85",
   "metadata": {
    "tags": []
   },
   "outputs": [
    {
     "data": {
      "text/html": [
       "<div>\n",
       "<style scoped>\n",
       "    .dataframe tbody tr th:only-of-type {\n",
       "        vertical-align: middle;\n",
       "    }\n",
       "\n",
       "    .dataframe tbody tr th {\n",
       "        vertical-align: top;\n",
       "    }\n",
       "\n",
       "    .dataframe thead th {\n",
       "        text-align: right;\n",
       "    }\n",
       "</style>\n",
       "<table border=\"1\" class=\"dataframe\">\n",
       "  <thead>\n",
       "    <tr style=\"text-align: right;\">\n",
       "      <th></th>\n",
       "      <th>delta_time</th>\n",
       "      <th>seg_dist_x</th>\n",
       "      <th>height_segment_length_seg</th>\n",
       "      <th>beam_fb_height</th>\n",
       "      <th>height_segment_type</th>\n",
       "      <th>beam</th>\n",
       "      <th>geometry</th>\n",
       "    </tr>\n",
       "  </thead>\n",
       "  <tbody>\n",
       "    <tr>\n",
       "      <th>1831</th>\n",
       "      <td>2019-09-01 11:10:21.645610094</td>\n",
       "      <td>2.720752e+07</td>\n",
       "      <td>20.290331</td>\n",
       "      <td>0.253510</td>\n",
       "      <td>1</td>\n",
       "      <td>gt1l</td>\n",
       "      <td>POINT (568023.081 2818528.976)</td>\n",
       "    </tr>\n",
       "    <tr>\n",
       "      <th>1832</th>\n",
       "      <td>2019-09-01 11:10:21.647197247</td>\n",
       "      <td>2.720753e+07</td>\n",
       "      <td>19.569931</td>\n",
       "      <td>0.265972</td>\n",
       "      <td>1</td>\n",
       "      <td>gt1l</td>\n",
       "      <td>POINT (568019.787 2818518.673)</td>\n",
       "    </tr>\n",
       "    <tr>\n",
       "      <th>1833</th>\n",
       "      <td>2019-09-01 11:10:21.648262024</td>\n",
       "      <td>2.720754e+07</td>\n",
       "      <td>16.069815</td>\n",
       "      <td>0.276316</td>\n",
       "      <td>1</td>\n",
       "      <td>gt1l</td>\n",
       "      <td>POINT (568017.576 2818511.765)</td>\n",
       "    </tr>\n",
       "    <tr>\n",
       "      <th>1834</th>\n",
       "      <td>2019-09-01 11:10:21.649195671</td>\n",
       "      <td>2.720755e+07</td>\n",
       "      <td>14.670819</td>\n",
       "      <td>0.303078</td>\n",
       "      <td>1</td>\n",
       "      <td>gt1l</td>\n",
       "      <td>POINT (568015.636 2818505.708)</td>\n",
       "    </tr>\n",
       "    <tr>\n",
       "      <th>1835</th>\n",
       "      <td>2019-09-01 11:10:21.650213718</td>\n",
       "      <td>2.720755e+07</td>\n",
       "      <td>14.671224</td>\n",
       "      <td>0.324290</td>\n",
       "      <td>1</td>\n",
       "      <td>gt1l</td>\n",
       "      <td>POINT (568013.520 2818499.103)</td>\n",
       "    </tr>\n",
       "    <tr>\n",
       "      <th>...</th>\n",
       "      <td>...</td>\n",
       "      <td>...</td>\n",
       "      <td>...</td>\n",
       "      <td>...</td>\n",
       "      <td>...</td>\n",
       "      <td>...</td>\n",
       "      <td>...</td>\n",
       "    </tr>\n",
       "    <tr>\n",
       "      <th>69215</th>\n",
       "      <td>2019-09-29 21:27:06.509730577</td>\n",
       "      <td>3.355327e+07</td>\n",
       "      <td>44.508583</td>\n",
       "      <td>0.181769</td>\n",
       "      <td>7</td>\n",
       "      <td>gt1r</td>\n",
       "      <td>POINT (1392425.710 3104464.100)</td>\n",
       "    </tr>\n",
       "    <tr>\n",
       "      <th>69216</th>\n",
       "      <td>2019-09-29 21:27:06.512042761</td>\n",
       "      <td>3.355329e+07</td>\n",
       "      <td>39.595520</td>\n",
       "      <td>0.149934</td>\n",
       "      <td>7</td>\n",
       "      <td>gt1r</td>\n",
       "      <td>POINT (1392430.503 3104479.121)</td>\n",
       "    </tr>\n",
       "    <tr>\n",
       "      <th>69217</th>\n",
       "      <td>2019-09-29 21:27:06.514954329</td>\n",
       "      <td>3.355331e+07</td>\n",
       "      <td>36.785496</td>\n",
       "      <td>0.146254</td>\n",
       "      <td>1</td>\n",
       "      <td>gt1r</td>\n",
       "      <td>POINT (1392436.545 3104498.044)</td>\n",
       "    </tr>\n",
       "    <tr>\n",
       "      <th>69218</th>\n",
       "      <td>2019-09-29 21:27:06.516793250</td>\n",
       "      <td>3.355332e+07</td>\n",
       "      <td>28.306177</td>\n",
       "      <td>0.137055</td>\n",
       "      <td>1</td>\n",
       "      <td>gt1r</td>\n",
       "      <td>POINT (1392440.369 3104510.000)</td>\n",
       "    </tr>\n",
       "    <tr>\n",
       "      <th>69219</th>\n",
       "      <td>2019-09-29 21:27:06.518787621</td>\n",
       "      <td>3.355333e+07</td>\n",
       "      <td>34.685585</td>\n",
       "      <td>0.117143</td>\n",
       "      <td>1</td>\n",
       "      <td>gt1r</td>\n",
       "      <td>POINT (1392444.523 3104522.967)</td>\n",
       "    </tr>\n",
       "  </tbody>\n",
       "</table>\n",
       "<p>5205785 rows × 7 columns</p>\n",
       "</div>"
      ],
      "text/plain": [
       "                         delta_time    seg_dist_x  height_segment_length_seg  \\\n",
       "1831  2019-09-01 11:10:21.645610094  2.720752e+07                  20.290331   \n",
       "1832  2019-09-01 11:10:21.647197247  2.720753e+07                  19.569931   \n",
       "1833  2019-09-01 11:10:21.648262024  2.720754e+07                  16.069815   \n",
       "1834  2019-09-01 11:10:21.649195671  2.720755e+07                  14.670819   \n",
       "1835  2019-09-01 11:10:21.650213718  2.720755e+07                  14.671224   \n",
       "...                             ...           ...                        ...   \n",
       "69215 2019-09-29 21:27:06.509730577  3.355327e+07                  44.508583   \n",
       "69216 2019-09-29 21:27:06.512042761  3.355329e+07                  39.595520   \n",
       "69217 2019-09-29 21:27:06.514954329  3.355331e+07                  36.785496   \n",
       "69218 2019-09-29 21:27:06.516793250  3.355332e+07                  28.306177   \n",
       "69219 2019-09-29 21:27:06.518787621  3.355333e+07                  34.685585   \n",
       "\n",
       "       beam_fb_height  height_segment_type  beam  \\\n",
       "1831         0.253510                    1  gt1l   \n",
       "1832         0.265972                    1  gt1l   \n",
       "1833         0.276316                    1  gt1l   \n",
       "1834         0.303078                    1  gt1l   \n",
       "1835         0.324290                    1  gt1l   \n",
       "...               ...                  ...   ...   \n",
       "69215        0.181769                    7  gt1r   \n",
       "69216        0.149934                    7  gt1r   \n",
       "69217        0.146254                    1  gt1r   \n",
       "69218        0.137055                    1  gt1r   \n",
       "69219        0.117143                    1  gt1r   \n",
       "\n",
       "                              geometry  \n",
       "1831    POINT (568023.081 2818528.976)  \n",
       "1832    POINT (568019.787 2818518.673)  \n",
       "1833    POINT (568017.576 2818511.765)  \n",
       "1834    POINT (568015.636 2818505.708)  \n",
       "1835    POINT (568013.520 2818499.103)  \n",
       "...                                ...  \n",
       "69215  POINT (1392425.710 3104464.100)  \n",
       "69216  POINT (1392430.503 3104479.121)  \n",
       "69217  POINT (1392436.545 3104498.044)  \n",
       "69218  POINT (1392440.369 3104510.000)  \n",
       "69219  POINT (1392444.523 3104522.967)  \n",
       "\n",
       "[5205785 rows x 7 columns]"
      ]
     },
     "execution_count": 46,
     "metadata": {},
     "output_type": "execute_result"
    }
   ],
   "source": [
    "tracks"
   ]
  },
  {
   "cell_type": "markdown",
   "id": "76ea27df-9bea-409f-a754-d945fb7ae01a",
   "metadata": {},
   "source": [
    "The quickest gridding method is to:\n",
    "\n",
    " - reproject to a projected CRS (e.g. EASE Grid 2.0)\n",
    " - calculate row and column indices using affine\n",
    " - calculate an array index\n",
    " - groupby array index\n",
    " - calculate stats for groups"
   ]
  },
  {
   "cell_type": "code",
   "execution_count": 49,
   "id": "00314673-7229-4be9-8674-0f39c9f29baf",
   "metadata": {
    "tags": []
   },
   "outputs": [],
   "source": [
    "def get_grid_index(xy):\n",
    "    geotransform = (upper_left_x, width, 0., upper_left_y, 0., height)\n",
    "    fwd = Affine.from_gdal(*geotransform)\n",
    "    row, col = ~fwd * xy\n",
    "    return (np.floor(row) * nrow) + np.floor(col)\n"
   ]
  },
  {
   "cell_type": "code",
   "execution_count": 50,
   "id": "1022f35f-50fa-4179-91c6-a9eebf5b313c",
   "metadata": {
    "tags": []
   },
   "outputs": [
    {
     "name": "stdout",
     "output_type": "stream",
     "text": [
      "CPU times: user 32.6 s, sys: 152 ms, total: 32.8 s\n",
      "Wall time: 32.8 s\n"
     ]
    }
   ],
   "source": [
    "%%time\n",
    "tracks[\"grid_index\"] = [get_grid_index((x, y)) for x, y in zip(tracks.geometry.x, tracks.geometry.y)]"
   ]
  },
  {
   "cell_type": "code",
   "execution_count": 54,
   "id": "d09140a5-3544-44a4-9531-a8c83c1f4974",
   "metadata": {
    "tags": []
   },
   "outputs": [],
   "source": [
    "cell_segment_counts = tracks.groupby(\"grid_index\")[\"beam_fb_height\"].count()"
   ]
  },
  {
   "cell_type": "code",
   "execution_count": 95,
   "id": "22f1a761-2fa1-4700-8dc2-481b419ee2a1",
   "metadata": {
    "tags": []
   },
   "outputs": [],
   "source": [
    "grid = np.zeros((nrow, ncol)).flatten()\n",
    "grid[cell_segment_counts.index.values.astype(int)] = cell_segment_counts\n",
    "grid = grid.reshape((nrow, ncol))\n",
    "#grid = np.where(grid > 0, grid, np.nan)"
   ]
  },
  {
   "cell_type": "code",
   "execution_count": 96,
   "id": "7b835ca6-b173-494b-86c1-d9a640c3fdda",
   "metadata": {
    "tags": []
   },
   "outputs": [
    {
     "data": {
      "text/plain": [
       "(2880, 2880)"
      ]
     },
     "execution_count": 96,
     "metadata": {},
     "output_type": "execute_result"
    }
   ],
   "source": [
    "grid.shape"
   ]
  },
  {
   "cell_type": "code",
   "execution_count": 117,
   "id": "70878819-d454-42df-b721-06661a22318d",
   "metadata": {
    "tags": []
   },
   "outputs": [
    {
     "data": {
      "text/plain": [
       "(0.0, 2317.0)"
      ]
     },
     "execution_count": 117,
     "metadata": {},
     "output_type": "execute_result"
    }
   ],
   "source": [
    "grid.min(), grid.max()"
   ]
  },
  {
   "cell_type": "markdown",
   "id": "e92549f7-1bb0-4373-b810-1813d450fb31",
   "metadata": {
    "tags": []
   },
   "source": [
    "### **Assign to grid and calculate grid cell mean**"
   ]
  },
  {
   "cell_type": "markdown",
   "id": "910b2ef6-3e14-475e-b689-77bda4c1814e",
   "metadata": {},
   "source": [
    "## **3. Learning outcomes recap (optional)**\n",
    "\n",
    "Provide a brief summary of the learning outcomes of the tutorial\n"
   ]
  },
  {
   "cell_type": "markdown",
   "id": "e87da360-fa68-43e6-993e-5d5098b70aed",
   "metadata": {},
   "source": [
    "## **4. Additional resources (optional)**\n",
    "\n",
    "List some additional resources for users to consult, if applicable/desired."
   ]
  },
  {
   "cell_type": "markdown",
   "id": "178b3e1e-71e4-4aab-bdbe-4d33dbce01e9",
   "metadata": {},
   "source": [
    "________\n",
    "\n",
    "### **When your tutorial is ready for review,  please read our [Contributor Guide](https://github.com/nsidc/NSIDC-Data-Tutorials/blob/main/contributor_guide.md) for next steps.**"
   ]
  },
  {
   "cell_type": "code",
   "execution_count": null,
   "id": "66b7019c-b0c8-4c96-a36c-9cb1d17b6303",
   "metadata": {},
   "outputs": [],
   "source": []
  }
 ],
 "metadata": {
  "kernelspec": {
   "display_name": "Python 3 (ipykernel)",
   "language": "python",
   "name": "python3"
  },
  "language_info": {
   "codemirror_mode": {
    "name": "ipython",
    "version": 3
   },
   "file_extension": ".py",
   "mimetype": "text/x-python",
   "name": "python",
   "nbconvert_exporter": "python",
   "pygments_lexer": "ipython3",
   "version": "3.10.12"
  }
 },
 "nbformat": 4,
 "nbformat_minor": 5
}

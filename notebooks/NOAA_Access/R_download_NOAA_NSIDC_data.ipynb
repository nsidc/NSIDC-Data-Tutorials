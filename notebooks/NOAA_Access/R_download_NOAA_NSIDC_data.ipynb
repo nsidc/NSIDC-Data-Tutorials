{
 "cells": [
  {
   "cell_type": "markdown",
   "id": "2843fc8a",
   "metadata": {},
   "source": [
    "<center>\n",
    "<img src='./img/nsidc_logo.png'/>\n",
    "\n",
    "# How to download NOAA@NSIDC data using python\n",
    "\n",
    "</center>"
   ]
  },
  {
   "cell_type": "markdown",
   "id": "1f0d8399",
   "metadata": {},
   "source": [
    "## 1. Tutorial Overview \n",
    "This notebook demonstrates how to download NOAA@NSIDC data using R, it includes examples for downloading a single file and all the files in a directory.\n",
    "\n",
    "### Credits \n",
    "This notebook was developed by Jennifer Roebuck of NSIDC\n",
    "\n",
    "For questions regarding the notebook or to report problems, please create a new issue in the [NSIDC-Data-Tutorials repo](https://github.com/nsidc/NSIDC-Data-Tutorials/issues)\n",
    "\n",
    "### Learning Objectives\n",
    "\n",
    "By the end of this demonstration you will be able to:\n",
    "\n",
    "1. Download a single file from a NOAA@NSIDC data set\n",
    "2. Download all the files in a directory on the NOAA@NSIDC HTTPS server \n",
    "\n",
    "### Prerequisites \n",
    "\n",
    "1. The `rvest` libraries are already installed. \n",
    "\n",
    "### Time requirement \n",
    "\n",
    "Allow approximately 5 to 10 minutes to complete this tutorial."
   ]
  },
  {
   "cell_type": "markdown",
   "id": "64d22028",
   "metadata": {},
   "source": [
    "## 2. Tutorial Steps\n",
    "\n",
    "### Import necessary libraries\n",
    "We need to import the following libraries"
   ]
  },
  {
   "cell_type": "code",
   "execution_count": 1,
   "id": "eaea2ddb",
   "metadata": {},
   "outputs": [
    {
     "name": "stderr",
     "output_type": "stream",
     "text": [
      "Loading required package: xml2\n",
      "Registered S3 method overwritten by 'rvest':\n",
      "  method            from\n",
      "  read_xml.response xml2\n"
     ]
    }
   ],
   "source": [
    "library(base)\n",
    "library(rvest)"
   ]
  },
  {
   "cell_type": "markdown",
   "id": "1b7523cd",
   "metadata": {},
   "source": [
    "### Set the working directory\n",
    "We need to set the directory we wish to download our files to. Edit the variable below to include the path to the directory where you wish to store the downloaded data."
   ]
  },
  {
   "cell_type": "code",
   "execution_count": 2,
   "id": "e1ed2d3c",
   "metadata": {},
   "outputs": [],
   "source": [
    "setwd(\"\")"
   ]
  },
  {
   "cell_type": "markdown",
   "id": "8082db96",
   "metadata": {},
   "source": [
    "### Downloading a single file\n",
    "This section demonstrates how to download a single file.\n",
    "\n",
    "First we need to set the URL of the file we wish to download. The URL will follow the format of: https://noaadata.apps.nsidc.org/NOAA/ \\<path to data set and file\\>\n",
    "\n",
    "where \\<path to data set and file\\> is specific to the data set and can be determined by exploring https://noaadata.apps.nsidc.org in a web browser. \n",
    "\n",
    "We will use the [Sea Ice Index (G02135)](https://nsidc.org/data/G02135) data set as an example, and download the text file containing daily sea ice extent values for the Arctic (N_seaice_extent_daily_v3.0.csv)"
   ]
  },
  {
   "cell_type": "code",
   "execution_count": 3,
   "id": "8b5ba837",
   "metadata": {},
   "outputs": [],
   "source": [
    "url <- \"https://noaadata.apps.nsidc.org/NOAA/G02135/north/daily/data/N_seaice_extent_daily_v3.0.csv\"\n",
    "\n",
    "# set the name of the file you are downloading\n",
    "destination <- \"N_seaice_extent_daily_v3.0.csv\"\n",
    "\n",
    "# download the file \n",
    "download.file(url, destination, mode = \"wb\")"
   ]
  },
  {
   "cell_type": "markdown",
   "id": "7dd9117c",
   "metadata": {},
   "source": [
    "### Downloading all the files in a directory \n",
    "This demonstrates downloading all of the files in a single directory.\n",
    "\n",
    "First we need to set the URL path of the directory we wish to download. It follows a similar format to the one described above for downloading a single file.\n",
    "\n",
    "Again we will use the [Sea Ice Index (G02135)](https://nsidc.org/data/G02135) data set as an example and download all the daily GeoTIFFs for the Antarctic for May 2023. "
   ]
  },
  {
   "cell_type": "code",
   "execution_count": 4,
   "id": "3dc91623",
   "metadata": {},
   "outputs": [],
   "source": [
    "# set the URL for the directory you want to download files from\n",
    "url <- \"https://noaadata.apps.nsidc.org/NOAA/G02135/south/daily/geotiff/2023/06_Jun\" \n",
    "\n",
    "# read html content from url\n",
    "page <- read_html(url)\n",
    "\n",
    "# Get a list of the files listed in the directory at this url\n",
    "files <- page %>% html_nodes(\"a\") %>% html_attr(\"href\")\n",
    "\n",
    "for(i in 2:length(files)){\n",
    "  # generate the url for each of the files \n",
    "  u <- paste(url,files[i], sep=\"/\")\n",
    "  # download each of the files\n",
    "  download.file(u,files[i], mode = \"wb\")\n",
    "}"
   ]
  },
  {
   "cell_type": "markdown",
   "id": "3e6084ed",
   "metadata": {},
   "source": [
    "## 3. Learning outcomes recap\n",
    "\n",
    "We have learned how to:\n",
    "1. Download a single file from a NOAA@NSIDC data set\n",
    "2. Download all the files in a directory in a NOAA@NSIDC data set. "
   ]
  },
  {
   "cell_type": "code",
   "execution_count": null,
   "id": "601de3a2",
   "metadata": {},
   "outputs": [],
   "source": []
  }
 ],
 "metadata": {
  "kernelspec": {
   "display_name": "Python 3 (ipykernel)",
   "language": "python",
   "name": "python3"
  },
  "language_info": {
   "codemirror_mode": {
    "name": "ipython",
    "version": 3
   },
   "file_extension": ".py",
   "mimetype": "text/x-python",
   "name": "python",
   "nbconvert_exporter": "python",
   "pygments_lexer": "ipython3",
   "version": "3.9.15"
  }
 },
 "nbformat": 4,
 "nbformat_minor": 5
}

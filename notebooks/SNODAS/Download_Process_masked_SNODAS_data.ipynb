{
 "cells": [
  {
   "cell_type": "markdown",
   "id": "c0b71b3c",
   "metadata": {},
   "source": [
    "<center>\n",
    "<img src='./img/nsidc_logo.png'/>\n",
    "\n",
    "# How to download and work with SNODAS data\n",
    "\n",
    "</center>"
   ]
  },
  {
   "cell_type": "markdown",
   "id": "c55a92ad",
   "metadata": {},
   "source": [
    "## 1. Tutorial Overview \n",
    "This notebook demonstrates how to download and unzip masked SNODAS files that are from after October 2013 and select one variable and compile it into a RasterStack for quick visualization and finally save as a .grd file.\n",
    "\n",
    "### Credits\n",
    "This tutorial is based on an R script written in 2021 by Cara Thompson at New Mexico State University and has been converted to a tutorial by Jennifer Roebuck of NSIDC.\n",
    "\n",
    "For questions regarding the tutorial or to report problems, please create a new issue in the [NSIDC-Data-Tutorials repo](https://github.com/nsidc/NSIDC-Data-Tutorials/issues)\n",
    "\n",
    "### Learning Objectives\n",
    "\n",
    "By the end of this demonstration you will be able to:\n",
    "1. Download and unzip masked SNODAS files\n",
    "2. Convert the files to .bil format and put them in a RasterStack\n",
    "3. Quickly visualize the rasters of the data\n",
    "4. Save the RasterStack as .grd file\n",
    "\n",
    "### Prerequisites\n",
    "1. The following libraries should already be installed: R.utils, rvest, dplyr, raster, sp, maptools, and data.table.\n",
    "\n",
    "\n",
    "### Time requirement\n",
    "Allow approximately 20 minutes to complete this tutorial."
   ]
  },
  {
   "cell_type": "markdown",
   "id": "f8733fb0",
   "metadata": {},
   "source": [
    "## 2. Tutorial steps \n",
    "\n",
    "### Load necessary libraries"
   ]
  },
  {
   "cell_type": "code",
   "execution_count": null,
   "id": "69083e0b",
   "metadata": {},
   "outputs": [],
   "source": [
    "library(R.utils)\n",
    "library(rvest)\n",
    "library(dplyr)\n",
    "library(raster)\n",
    "library(sp)\n",
    "library(maptools)\n",
    "library(data.table)"
   ]
  },
  {
   "cell_type": "markdown",
   "id": "034f3efa",
   "metadata": {},
   "source": [
    "### Download SNODAS data\n",
    "We will download all the SNODAS masked files for June 2023. If you wish to download masked files from a different time period you can modify the path in the url variable below. "
   ]
  },
  {
   "cell_type": "code",
   "execution_count": null,
   "id": "9c7dc73f",
   "metadata": {},
   "outputs": [],
   "source": [
    "# set the URL for the SNODAS directory we want to download files from\n",
    "url <- \"https://noaadata.apps.nsidc.org/NOAA/G02158/masked/2023/06_Jun\" \n",
    "\n",
    "# read html content from url\n",
    "page <- read_html(url)\n",
    "\n",
    "# Get a list of the files listed in the directory at this url\n",
    "files <- page %>% html_nodes(\"a\") %>% html_attr(\"href\")\n",
    "\n",
    "for(i in 2:length(files)){\n",
    "  # generate the url for each of the files \n",
    "  u <- paste(url,files[i], sep=\"/\")\n",
    "  # download each of the files\n",
    "  download.file(u,files[i], mode = \"wb\")\n",
    "}"
   ]
  },
  {
   "cell_type": "markdown",
   "id": "4bfdbe57",
   "metadata": {},
   "source": [
    "We will save the working directory path to a variable."
   ]
  },
  {
   "cell_type": "code",
   "execution_count": null,
   "id": "64af70ee",
   "metadata": {},
   "outputs": [],
   "source": [
    "WD <- getwd()"
   ]
  },
  {
   "cell_type": "markdown",
   "id": "b951d2bf",
   "metadata": {},
   "source": [
    "### Read in the SNODAS files\n",
    "Next, we read in the .tar files as a list containing .tar"
   ]
  },
  {
   "cell_type": "code",
   "execution_count": null,
   "id": "9a8ba949",
   "metadata": {},
   "outputs": [],
   "source": [
    "files_1 <- list.files(path = WD, pattern = \"*.tar\", full.names = T, recursive = T)"
   ]
  },
  {
   "cell_type": "markdown",
   "id": "20e4077c",
   "metadata": {},
   "source": [
    "Decompress the .tar files into the working directory"
   ]
  },
  {
   "cell_type": "code",
   "execution_count": null,
   "id": "f34d53fa",
   "metadata": {},
   "outputs": [],
   "source": [
    "asd <- sapply(files_1, untar)"
   ]
  },
  {
   "cell_type": "markdown",
   "id": "f91f1493",
   "metadata": {},
   "source": [
    "### Select the variable we wish to use\n",
    "There are eight parameters from SNODAS, each has an associated ID code which is used the filename. A full description of the ID codes can be found in Table 1 of the [SNODAS user guide](https://nsidc.org/sites/default/files/g02158-v001-userguide_2_1.pdf). We will choose one of the parameters to compile all the files related to this parameter.\n",
    "\n",
    "We can uncomment one of the variables below that corresponds to the parameter we are interested in. In this tutorial we will use the snow depth parameter as an example. "
   ]
  },
  {
   "cell_type": "code",
   "execution_count": null,
   "id": "5b7c1b18",
   "metadata": {},
   "outputs": [],
   "source": [
    "id_code = \"us_ssmv11036tS\" # Snow Depth\n",
    "#id_code = \"us_ssmv11034tS\" # SWE\n",
    "#id_code = \"us_ssmv11044bS\" # Snow melt runoff at base of snow pack\n",
    "#id_code = \"us_ssmv11050IL00\" # Sublimation from the snow pack\n",
    "#id_code = \"us_ssmv11039IL00\" # sublimation of blowing snow\n",
    "#id_code = \"us_ssmv11038wS\" # snow pack average temperature\n",
    "#id_code = \"us_ssmv01025SIL01\" # Solid precipitation \n",
    "#id_code = \"us_smsv01025SIL00\" # Liquid precipitation"
   ]
  },
  {
   "cell_type": "markdown",
   "id": "52cfb398",
   "metadata": {},
   "source": [
    "Now we will compile all the files that contain this id_code in the filename i.e. a .dat.gz file and .txt.gz file for each day of data that we downloaded."
   ]
  },
  {
   "cell_type": "code",
   "execution_count": null,
   "id": "328a5934",
   "metadata": {},
   "outputs": [],
   "source": [
    "files_2 <- list.files(path = WD, pattern = id_code, full.names = T, recursive = T)\n",
    "files_2"
   ]
  },
  {
   "cell_type": "markdown",
   "id": "15e5313e",
   "metadata": {},
   "source": [
    "Decompress all the .gz files."
   ]
  },
  {
   "cell_type": "code",
   "execution_count": null,
   "id": "50fb8483",
   "metadata": {},
   "outputs": [],
   "source": [
    "dcompSD <- sapply(files_2, gunzip, remove=T)"
   ]
  },
  {
   "cell_type": "markdown",
   "id": "b0747e19",
   "metadata": {},
   "source": [
    "We will create a new directory for these uncompressed files and move them over."
   ]
  },
  {
   "cell_type": "code",
   "execution_count": null,
   "id": "a7504997",
   "metadata": {},
   "outputs": [],
   "source": [
    "dir.create(\"Snow Depth\")\n",
    "file.copy(dcompSD, \"Snow Depth\")"
   ]
  },
  {
   "cell_type": "markdown",
   "id": "7c11e739",
   "metadata": {},
   "source": [
    "### Convert the .dat files to .bil\n",
    "Next we need to convert the .dat files to .bil so they can be read as rasters."
   ]
  },
  {
   "cell_type": "code",
   "execution_count": null,
   "id": "914a2108",
   "metadata": {},
   "outputs": [],
   "source": [
    "files <- list.files(path=paste(WD,\"/Snow Depth\",sep=\"\"), pattern=\"*.dat\", full.names = T)\n",
    "newfiles <- gsub(\".dat$\", \".bil\", files)\n",
    "file.rename(files, newfiles)\n",
    "newfiles"
   ]
  },
  {
   "cell_type": "markdown",
   "id": "2d4b6101",
   "metadata": {},
   "source": [
    "### Create a text file header for each file\n",
    "Now we will create a corresponding text header file for each .bil file using the associated .txt file that was downloaded. \n",
    "\n",
    "**Please note** that the parameters used in the m_post_2013 variable below are specific to SNODAS masked files for October 2013 onwards. If you wish to process masked files prior to October 2013 then you would need to change ulxmap and ulymap to the following:\n",
    "\n",
    "`ulxmap -124.72958333333334`\n",
    "\n",
    "`ulymap 52.870416666666664`\n",
    "\n",
    "If you wish to process unmasked files prior to October 2013 then you would need to change nrow, ncols, ulxmap and ulymap to the following:\n",
    "\n",
    "`nrows 4096`\n",
    "\n",
    "`ncols 8192`\n",
    "\n",
    "`ulxmap -130.51291666666665`\n",
    "\n",
    "`ulymap 58.228750000000005`\n",
    "\n",
    "\n",
    "If you wish to process unmasked files from October 2013 onwards then you would need to change the nrows, ncols, ulxmap and ulymap to the following:\n",
    "\n",
    "`nrows 4096`\n",
    "\n",
    "`ncols 8192`\n",
    "\n",
    "`ulxmap -130.51250000000002`\n",
    "\n",
    "`ulymap 58.229166666666664`\n"
   ]
  },
  {
   "cell_type": "code",
   "execution_count": null,
   "id": "1ecf55dd",
   "metadata": {},
   "outputs": [],
   "source": [
    "mylist<- list.files(path=paste(WD,\"/Snow Depth\",sep=\"\"), pattern = \"*.bil\", full.names = T)\n",
    "m_post_2013<-\"SNODAS Snow Depth Description = \n",
    "nrows 3351\n",
    "ncols 6935\n",
    "nbands 1\n",
    "nbits 16\n",
    "pixeltype signedint\n",
    "byteorder M\n",
    "layout dat\n",
    "ulxmap -124.72916666666667\n",
    "ulymap 52.87083333333334\n",
    "xdim 0.00833333333\n",
    "ydim 0.00833333333\n",
    "pixeltype SIGNEDINT\n",
    "nodata -9999\"\n",
    "\n",
    "\n",
    "mylist.hdr<-paste(mylist,\".hdr\",sep=\"\")\n",
    "\n",
    "for(i in mylist.hdr) {\n",
    "  write(m_post_2013,i)\n",
    "}"
   ]
  },
  {
   "cell_type": "markdown",
   "id": "1b0f96ca",
   "metadata": {},
   "source": [
    "Change the file type of the header text files from .bil.hdr to .hdr since the .bil file is already separate."
   ]
  },
  {
   "cell_type": "code",
   "execution_count": null,
   "id": "d9c5996e",
   "metadata": {},
   "outputs": [],
   "source": [
    "files4 <- list.files(path=paste(WD,\"/Snow Depth\",sep=\"\"), pattern=\"*.bil.hdr\", full.names = T)\n",
    "newfiles <- gsub(\".bil.hdr$\", \".hdr\", files4)\n",
    "file.rename(files4, newfiles)\n",
    "newfiles"
   ]
  },
  {
   "cell_type": "markdown",
   "id": "458f61c5",
   "metadata": {},
   "source": [
    "### Create a RasterStack of all the rasters\n",
    "Create a RasterStack of all the snow depth raster files. "
   ]
  },
  {
   "cell_type": "code",
   "execution_count": null,
   "id": "91fec11f",
   "metadata": {},
   "outputs": [],
   "source": [
    "list.ras <- list.files(path=paste(WD,\"/Snow Depth\",sep=\"\"), pattern = \".bil\", full.names = T)\n",
    "list.ras\n",
    "ras_stack <- stack(list.ras)\n",
    "ras_stack"
   ]
  },
  {
   "cell_type": "markdown",
   "id": "d7cdc584",
   "metadata": {},
   "source": [
    "### Plot RasterStack\n",
    "Now we define a projection for the RasterStack and plot each of the rasters (must be in the format of what it is in, not what you want it to be). Please note that SNODAS data are point estimates in latitude/longitude coordinates with the horizontal datum WGS 84 thus the decision to project the data and the choice of projection is up to the user. In this tutorial we will use Geographic longitude/latitude."
   ]
  },
  {
   "cell_type": "code",
   "execution_count": null,
   "id": "9a6fed2e",
   "metadata": {},
   "outputs": [],
   "source": [
    "crs.geo <- CRS(\"+proj=longlat +ellps=WGS84 +datum=WGS84\")\n",
    "proj4string(ras_stack) <- crs.geo\n",
    "ras_stack\n",
    "plot(ras_stack)"
   ]
  },
  {
   "cell_type": "markdown",
   "id": "e5584358",
   "metadata": {},
   "source": [
    "### Save RasterStack\n",
    "Save the RasterStack to a new directory. We will write in the \"raster\"/native format to preserve layer names (i.e. dates). There is no attribute table because there is only one attribute per file (snow depth in mm)."
   ]
  },
  {
   "cell_type": "code",
   "execution_count": null,
   "id": "6fec3702",
   "metadata": {},
   "outputs": [],
   "source": [
    "#create a new directory Rasters\n",
    "dir.create(paste(WD,\"/Snow Depth\",\"/Rasters\",sep=\"\"))\n",
    "fp <- paste(WD,\"/Snow Depth\",\"/Rasters\",sep=\"\")\n",
    "#save the RasterStack as a .grd file\n",
    "writeRaster(ras_stack,filename=file.path(fp,\"ras_stack.grd\"), format=\"raster\", progress=\"text\", options=c(\"INTERLEAVE=BAND\",\"COMPRESS=LZW\"))"
   ]
  },
  {
   "cell_type": "markdown",
   "id": "83a04c93",
   "metadata": {},
   "source": [
    "## 3. Learning outcomes recap\n",
    "\n",
    "We have learned how to:\n",
    "1. Download and unzip masked SNODAS files\n",
    "2. Convert the files to .bil format and put them in a raster stack\n",
    "3. Quickly visualize the rasters of the data\n",
    "4. Save the raster stack as .grd file"
   ]
  },
  {
   "cell_type": "code",
   "execution_count": null,
   "id": "646d3b9d",
   "metadata": {},
   "outputs": [],
   "source": []
  }
 ],
 "metadata": {
  "kernelspec": {
   "display_name": "Python 3 (ipykernel)",
   "language": "python",
   "name": "python3"
  },
  "language_info": {
   "codemirror_mode": {
    "name": "ipython",
    "version": 3
   },
   "file_extension": ".py",
   "mimetype": "text/x-python",
   "name": "python",
   "nbconvert_exporter": "python",
   "pygments_lexer": "ipython3",
   "version": "3.9.15"
  }
 },
 "nbformat": 4,
 "nbformat_minor": 5
}

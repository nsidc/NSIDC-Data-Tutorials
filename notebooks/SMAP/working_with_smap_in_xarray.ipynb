{
 "cells": [
  {
   "cell_type": "markdown",
   "id": "91ebd94c-fb02-42a7-9cfe-b02a0da5967a",
   "metadata": {},
   "source": [
    "# Download, read and plot SMAP data with xarray and rioxarray\n",
    "\n",
    "## Overview\n",
    "\n",
    "### Introduction\n",
    "\n",
    "This notebook demonstrates searching for, downloading, reading and plotting SMAP L3 Radiometer Global Daily 36 km EASE-Grid Soil Moisture data using `earthaccess`, `xarray` and `cartopy`.  `earthaccess` makes searching for and downloading NASA Earth science data easy.  `xarray` is a commonly used, high-level package for working with n-dimensional gridded data.  It makes reading HDF5 data easy and simplifies common Earth and atmospheric science workflows.  `cartopy` provides a simple plotting interface to display geospatial data and create maps complete with coastlines, country and state boundaries, and other topographic features.  Finally, we demonstrate how to transform and resample the data using `rioxarray`, an add-on for `xarray` that brings many of the geospatial functions from `rasterio` to n-dimensional data.\n",
    "\n",
    "To use `xarray` and `rioxarray`, we need information about the coordinate reference system (CRS), also known as the spatial reference system (SRS), and the coordinate system of the grid.  Many datasets that conform to CF-Conventions already contain this information within the file so that `rioxarray` can read it.  Unfortunately, the SMAP data files do not contain this information.  The tutorial shows how to add this information and add additional information that makes working with N-dimensional data much easier.\n",
    "\n",
    "These issues are common to many datasets.  These sections of the tutorial can be thought of as a guide to working with and \"fixing\" datasets with missing or inadequate metadata.  You can also think of it as a guide to producing CF-compliant data.\n",
    "\n",
    "The tutorials use the SMAP L3 Radiometer Global Daily 36 km EASE-Grid Soil Moisture, Version 8 (SPL3SMP, DOI:10.5067/OMHVSRGFX38O).\n",
    "\n",
    "[Data set landing page](https://nsidc.org/data/spl3smp/versions/8)  \n",
    "[User Guide](https://nsidc.org/sites/default/files/spl3smp-v008-userguide.pdf)\n",
    "\n",
    "\n",
    "### Learning Goals\n",
    "\n",
    "By the end of this tutorial you will know how to:\n",
    "1. open the SMAP data with `xarray`;\n",
    "2. add CRS and coordinate system information;\n",
    "3. add dataset metadata;\n",
    "4. plot the data on a map;\n",
    "5. transform and resample the data to a new CRS.\n",
    "\n",
    "\n",
    "### Prerequisites\n",
    "1. You will need an Earthdata login to download the data.\n",
    "2. You will need to have created and activated the `smap-tutorials` environment."
   ]
  },
  {
   "cell_type": "markdown",
   "id": "eed7559d-7811-4d55-8361-d4909ebac600",
   "metadata": {},
   "source": [
    "## Tutorial"
   ]
  },
  {
   "cell_type": "markdown",
   "id": "433b3975-71ab-4189-9453-1d38a250b842",
   "metadata": {},
   "source": [
    "### Import libraries"
   ]
  },
  {
   "cell_type": "code",
   "execution_count": 1,
   "id": "b35a4034-033a-419c-97a1-fb3a4234e799",
   "metadata": {},
   "outputs": [],
   "source": [
    "from pathlib import Path  # for working with paths on the local file system\n",
    "from pprint import pprint  # for nice printing\n",
    "\n",
    "# For data search and download\n",
    "import earthaccess\n",
    "\n",
    "# For reading and working with the data\n",
    "# import rioxarray\n",
    "import xarray as xr\n",
    "import numpy as np\n",
    "\n",
    "# For defining CRS and image coordinate system\n",
    "from affine import Affine\n",
    "from pyproj import CRS\n",
    "\n",
    "# For plotting\n",
    "import matplotlib.pyplot as plt\n",
    "import cartopy.crs as ccrs\n",
    "import cartopy.feature as cfeature"
   ]
  },
  {
   "cell_type": "markdown",
   "id": "58a65b4d-42a7-49b7-807f-150daf3928e5",
   "metadata": {},
   "source": [
    "## Search for SMAP data\n",
    "\n",
    "We will use `earthaccess` to search for SMAP Level 3 files for March 2017.  The first step is to authenticate using `earthaccess.login`.  We can then use `search_data` to search for data."
   ]
  },
  {
   "cell_type": "code",
   "execution_count": 2,
   "id": "04c73ccc-c8dc-4dcb-84bf-962f8b0e6c84",
   "metadata": {},
   "outputs": [],
   "source": [
    "auth = earthaccess.login()"
   ]
  },
  {
   "cell_type": "code",
   "execution_count": 3,
   "id": "1b04c8b8-fe00-4452-9989-8a32012ed338",
   "metadata": {},
   "outputs": [
    {
     "name": "stdout",
     "output_type": "stream",
     "text": [
      "Granules found: 31\n"
     ]
    }
   ],
   "source": [
    "results = earthaccess.search_data(\n",
    "    short_name = 'SPL3SMP',\n",
    "    version = '008',\n",
    "    cloud_hosted = False,\n",
    "    temporal = ('2017-03-01','2017-03-31')\n",
    ")"
   ]
  },
  {
   "cell_type": "markdown",
   "id": "dd8b84a6-6085-40a1-bebf-792ad2605549",
   "metadata": {},
   "source": [
    "## Download files\n",
    "\n",
    "If you haven't already, we'll download the files to a local directory.  This is defined in the `DOWNLOAD_PATH` constant.  In this example, we'll use the `Path` object from the [`pathlib`](https://docs.python.org/3/library/pathlib.html) package to build a path to a directory `smap_data` under the current working directory.  `Path` objects have methods to return the current working directory `.cwd()`, make directories `.mkdir()`, and search using [glob patterns](https://en.wikipedia.org/wiki/Glob_(programming)) `.glob()`.\n",
    "\n",
    "<div class=\"alert alert-block alert-info\">\n",
    "<b>Tip:</b> If you want to download files to a different directory change the cell below to  \n",
    "\n",
    "```\n",
    "DOWNLOAD_PATH = Path(\"path-to-download-directory\")\n",
    "```\n",
    "</div>\n",
    "\n",
    "`earthaccess.download` checks if the files already exist in the local download directory.  If they do, they will not be downloaded."
   ]
  },
  {
   "cell_type": "code",
   "execution_count": 4,
   "id": "4d7cb4e8-0854-4dfa-b2a0-28fffca94305",
   "metadata": {},
   "outputs": [
    {
     "name": "stdout",
     "output_type": "stream",
     "text": [
      " Getting 31 granules, approx download size: 0.93 GB\n"
     ]
    },
    {
     "data": {
      "application/vnd.jupyter.widget-view+json": {
       "model_id": "cf94f59754de4e0da9b47efb6b8cb5cf",
       "version_major": 2,
       "version_minor": 0
      },
      "text/plain": [
       "QUEUEING TASKS | :   0%|          | 0/31 [00:00<?, ?it/s]"
      ]
     },
     "metadata": {},
     "output_type": "display_data"
    },
    {
     "name": "stdout",
     "output_type": "stream",
     "text": [
      "File SMAP_L3_SM_P_20170301_R18290_001.h5 already downloaded\n",
      "File SMAP_L3_SM_P_20170302_R18290_001.h5 already downloaded\n",
      "File SMAP_L3_SM_P_20170303_R18290_001.h5 already downloaded\n",
      "File SMAP_L3_SM_P_20170305_R18290_001.h5 already downloaded\n",
      "File SMAP_L3_SM_P_20170307_R18290_001.h5 already downloaded\n",
      "File SMAP_L3_SM_P_20170306_R18290_001.h5 already downloaded\n",
      "File SMAP_L3_SM_P_20170309_R18290_001.h5 already downloaded\n",
      "File SMAP_L3_SM_P_20170308_R18290_001.h5 already downloaded\n",
      "File SMAP_L3_SM_P_20170304_R18290_001.h5 already downloaded\n",
      "File SMAP_L3_SM_P_20170310_R18290_001.h5 already downloaded\n",
      "File SMAP_L3_SM_P_20170311_R18290_001.h5 already downloaded\n",
      "File SMAP_L3_SM_P_20170312_R18290_001.h5 already downloaded\n",
      "File SMAP_L3_SM_P_20170315_R18290_001.h5 already downloaded\n",
      "File SMAP_L3_SM_P_20170313_R18290_001.h5 already downloaded\n",
      "File SMAP_L3_SM_P_20170314_R18290_001.h5 already downloaded\n",
      "File SMAP_L3_SM_P_20170316_R18290_001.h5 already downloaded\n",
      "File SMAP_L3_SM_P_20170318_R18290_001.h5 already downloaded\n",
      "File SMAP_L3_SM_P_20170317_R18290_001.h5 already downloaded\n",
      "File SMAP_L3_SM_P_20170319_R18290_001.h5 already downloaded\n",
      "File SMAP_L3_SM_P_20170320_R18290_001.h5 already downloaded\n",
      "File SMAP_L3_SM_P_20170321_R18290_001.h5 already downloaded\n",
      "File SMAP_L3_SM_P_20170322_R18290_001.h5 already downloaded\n",
      "File SMAP_L3_SM_P_20170323_R18290_001.h5 already downloaded\n",
      "File SMAP_L3_SM_P_20170327_R18290_001.h5 already downloaded\n",
      "File SMAP_L3_SM_P_20170324_R18290_001.h5 already downloaded\n",
      "File SMAP_L3_SM_P_20170328_R18290_001.h5 already downloaded\n",
      "File SMAP_L3_SM_P_20170329_R18290_001.h5 already downloaded\n",
      "File SMAP_L3_SM_P_20170330_R18290_001.h5 already downloaded\n",
      "File SMAP_L3_SM_P_20170326_R18290_001.h5 already downloaded\n",
      "File SMAP_L3_SM_P_20170325_R18290_001.h5 already downloaded\n",
      "File SMAP_L3_SM_P_20170331_R18290_001.h5 already downloaded\n"
     ]
    },
    {
     "data": {
      "application/vnd.jupyter.widget-view+json": {
       "model_id": "5964693418a04fd4819b2ea2b7da2da9",
       "version_major": 2,
       "version_minor": 0
      },
      "text/plain": [
       "PROCESSING TASKS | :   0%|          | 0/31 [00:00<?, ?it/s]"
      ]
     },
     "metadata": {},
     "output_type": "display_data"
    },
    {
     "data": {
      "application/vnd.jupyter.widget-view+json": {
       "model_id": "fd80ae11f65d428a8d04e79c4a4c87bf",
       "version_major": 2,
       "version_minor": 0
      },
      "text/plain": [
       "COLLECTING RESULTS | :   0%|          | 0/31 [00:00<?, ?it/s]"
      ]
     },
     "metadata": {},
     "output_type": "display_data"
    }
   ],
   "source": [
    "DOWNLOAD_PATH = Path.cwd() / \"smap_data\"\n",
    "DOWNLOAD_PATH.mkdir(parents=True, exist_ok=True)  # creates parents if they don't exist and fails silently if path exists\n",
    "\n",
    "smap_files = earthaccess.download(results, str(DOWNLOAD_PATH))"
   ]
  },
  {
   "cell_type": "markdown",
   "id": "2696e5a4-92be-4860-a84b-7ea387ea25bf",
   "metadata": {},
   "source": [
    "The paths to the downloaded files are written to `smap_files`."
   ]
  },
  {
   "cell_type": "code",
   "execution_count": 5,
   "id": "a474c513-0473-43eb-b2d1-f386c52272b5",
   "metadata": {
    "scrolled": true
   },
   "outputs": [
    {
     "data": {
      "text/plain": [
       "['/home/apbarret/src/NSIDC-Data-Tutorials/notebooks/SMAP/smap_data/SMAP_L3_SM_P_20170301_R18290_001.h5',\n",
       " '/home/apbarret/src/NSIDC-Data-Tutorials/notebooks/SMAP/smap_data/SMAP_L3_SM_P_20170302_R18290_001.h5',\n",
       " '/home/apbarret/src/NSIDC-Data-Tutorials/notebooks/SMAP/smap_data/SMAP_L3_SM_P_20170303_R18290_001.h5',\n",
       " '/home/apbarret/src/NSIDC-Data-Tutorials/notebooks/SMAP/smap_data/SMAP_L3_SM_P_20170304_R18290_001.h5',\n",
       " '/home/apbarret/src/NSIDC-Data-Tutorials/notebooks/SMAP/smap_data/SMAP_L3_SM_P_20170305_R18290_001.h5',\n",
       " '/home/apbarret/src/NSIDC-Data-Tutorials/notebooks/SMAP/smap_data/SMAP_L3_SM_P_20170306_R18290_001.h5',\n",
       " '/home/apbarret/src/NSIDC-Data-Tutorials/notebooks/SMAP/smap_data/SMAP_L3_SM_P_20170307_R18290_001.h5',\n",
       " '/home/apbarret/src/NSIDC-Data-Tutorials/notebooks/SMAP/smap_data/SMAP_L3_SM_P_20170308_R18290_001.h5',\n",
       " '/home/apbarret/src/NSIDC-Data-Tutorials/notebooks/SMAP/smap_data/SMAP_L3_SM_P_20170309_R18290_001.h5',\n",
       " '/home/apbarret/src/NSIDC-Data-Tutorials/notebooks/SMAP/smap_data/SMAP_L3_SM_P_20170310_R18290_001.h5',\n",
       " '/home/apbarret/src/NSIDC-Data-Tutorials/notebooks/SMAP/smap_data/SMAP_L3_SM_P_20170311_R18290_001.h5',\n",
       " '/home/apbarret/src/NSIDC-Data-Tutorials/notebooks/SMAP/smap_data/SMAP_L3_SM_P_20170312_R18290_001.h5',\n",
       " '/home/apbarret/src/NSIDC-Data-Tutorials/notebooks/SMAP/smap_data/SMAP_L3_SM_P_20170313_R18290_001.h5',\n",
       " '/home/apbarret/src/NSIDC-Data-Tutorials/notebooks/SMAP/smap_data/SMAP_L3_SM_P_20170314_R18290_001.h5',\n",
       " '/home/apbarret/src/NSIDC-Data-Tutorials/notebooks/SMAP/smap_data/SMAP_L3_SM_P_20170315_R18290_001.h5',\n",
       " '/home/apbarret/src/NSIDC-Data-Tutorials/notebooks/SMAP/smap_data/SMAP_L3_SM_P_20170316_R18290_001.h5',\n",
       " '/home/apbarret/src/NSIDC-Data-Tutorials/notebooks/SMAP/smap_data/SMAP_L3_SM_P_20170317_R18290_001.h5',\n",
       " '/home/apbarret/src/NSIDC-Data-Tutorials/notebooks/SMAP/smap_data/SMAP_L3_SM_P_20170318_R18290_001.h5',\n",
       " '/home/apbarret/src/NSIDC-Data-Tutorials/notebooks/SMAP/smap_data/SMAP_L3_SM_P_20170319_R18290_001.h5',\n",
       " '/home/apbarret/src/NSIDC-Data-Tutorials/notebooks/SMAP/smap_data/SMAP_L3_SM_P_20170320_R18290_001.h5',\n",
       " '/home/apbarret/src/NSIDC-Data-Tutorials/notebooks/SMAP/smap_data/SMAP_L3_SM_P_20170321_R18290_001.h5',\n",
       " '/home/apbarret/src/NSIDC-Data-Tutorials/notebooks/SMAP/smap_data/SMAP_L3_SM_P_20170322_R18290_001.h5',\n",
       " '/home/apbarret/src/NSIDC-Data-Tutorials/notebooks/SMAP/smap_data/SMAP_L3_SM_P_20170323_R18290_001.h5',\n",
       " '/home/apbarret/src/NSIDC-Data-Tutorials/notebooks/SMAP/smap_data/SMAP_L3_SM_P_20170324_R18290_001.h5',\n",
       " '/home/apbarret/src/NSIDC-Data-Tutorials/notebooks/SMAP/smap_data/SMAP_L3_SM_P_20170325_R18290_001.h5',\n",
       " '/home/apbarret/src/NSIDC-Data-Tutorials/notebooks/SMAP/smap_data/SMAP_L3_SM_P_20170326_R18290_001.h5',\n",
       " '/home/apbarret/src/NSIDC-Data-Tutorials/notebooks/SMAP/smap_data/SMAP_L3_SM_P_20170327_R18290_001.h5',\n",
       " '/home/apbarret/src/NSIDC-Data-Tutorials/notebooks/SMAP/smap_data/SMAP_L3_SM_P_20170328_R18290_001.h5',\n",
       " '/home/apbarret/src/NSIDC-Data-Tutorials/notebooks/SMAP/smap_data/SMAP_L3_SM_P_20170329_R18290_001.h5',\n",
       " '/home/apbarret/src/NSIDC-Data-Tutorials/notebooks/SMAP/smap_data/SMAP_L3_SM_P_20170330_R18290_001.h5',\n",
       " '/home/apbarret/src/NSIDC-Data-Tutorials/notebooks/SMAP/smap_data/SMAP_L3_SM_P_20170331_R18290_001.h5']"
      ]
     },
     "execution_count": 5,
     "metadata": {},
     "output_type": "execute_result"
    }
   ],
   "source": [
    "smap_files"
   ]
  },
  {
   "cell_type": "markdown",
   "id": "1304aa23-5196-4c6b-b92d-d2ed050f3fe0",
   "metadata": {},
   "source": [
    "## Create a georeferenced `xarray.Dataset` for a subset of variables from an HDF5 SMAP file\n",
    "\n",
    "Georeferenced data sets are required for Earth science analysis workflows.  This may be as simple as plotting a map.  You may want to transform the data so it can be used with another data set, or you may want to perform some spatial subsetting.  Each of these tasks requires that the coordinate system of the dataset is known and that there is sufficient information to relate the coordinate system to an actual location on the Earth.  The coordinate system may be spherical (_latitude_ and _longitude_) or cartesian (_x_ and _y_), and it may include a _height_ component (sometimes _z_ or atmospheric _level_).  _latitude_, _longitude_ and _height_, and _x_, _y_, and _z_ represent the dimensions of the dataset.  Other non-geospatial dimensions may also be included.  \n",
    "\n",
    "The relationship between the coordinate system and a location on the Earth is defined by the coordinate reference system (CRS), sometimes called a spatial reference system (SRS).  This includes a reference ellipsoid and datum, and, if the data are in a projected coordinate system, information about the projection method and projection parameters.  Ideally, this information is included in the data file so that software tools can use this information directly to plot and manipulate the data. Including this information in files also makes it very easy for users to undertsand the data.\n",
    "\n",
    "The SMAP HDF5 data files do not contain sufficient information to geolocate data on the Earth surface.  We need to add this information so that we can work with the data in `xarray` or other geospatial-aware tools.  We will also make some changes to how missing data is represented, as well as change some of the attribute values to make the data CF-Compliant.  In the following sections we will:\n",
    "\n",
    "1. read a subset of `Datasets` (variables) from the HDF5 file;\n",
    "2. add meaningful dimension names;\n",
    "3. mask missing data;\n",
    "4. add coordinate information to the dataset;\n",
    "5. add a coordinate reference system information the dataset."
   ]
  },
  {
   "cell_type": "markdown",
   "id": "aa714ea3-2dd2-4831-b482-a0421e0979f9",
   "metadata": {},
   "source": [
    "#### Read the data\n",
    "\n",
    "HDF5 files are organized into _groups_.  These groups can contain  sub-_groups_ or _datasets_.  This is similar to the directory structure on your local filesystem that is organized into directories, sub-directories and files.  The top group is called the _root_ group.  The SMAP L3 files contain three groups.\n",
    "\n",
    "```\n",
    "root  \n",
    "  |- Metadata  \n",
    "  |- Soil_Moisture_Retrieval_Data_AM  \n",
    "  |- Soil_Moisture_Retrieval_Data_PM  \n",
    "```\n",
    "\n",
    "<div class=\"alert alert-block alert-info\">\n",
    "<b>Note:</b> You can find out how an HDF5 file is structured, what groups exist, and what variables the file contains using tools like `h5dump`, online HDF5 viewers like [MyHDF5](https://myhdf5.hdfgroup.org/help), or lower level python tools like h5py.\n",
    "</div>\n",
    "\n",
    "`xarray` can only read one group at a time from an HDF5 file.  Multiple groups can be read with multiple reads and then concatenate the `xarray.Datasets`.  See xarray tricks for HDF5 data [To be added].  Or you can use the [`xarray-datatree`](https://xarray-datatree.readthedocs.io/en/stable/) package.\n",
    "\n",
    "In the following example, we read the `Soil_Moisture_Retrieval_Data_AM` group.  This is done by passing the group name using the `group` keyword.  If you wanted data for a subgroup or a dataset one or more levels down, the argument passed to `group` would look like a filepath; for example `\"group/subgroup/dataset\"`."
   ]
  },
  {
   "cell_type": "code",
   "execution_count": 9,
   "id": "759e1df8-eb4f-472d-8175-69e634c30503",
   "metadata": {},
   "outputs": [
    {
     "data": {
      "text/html": [
       "<div><svg style=\"position: absolute; width: 0; height: 0; overflow: hidden\">\n",
       "<defs>\n",
       "<symbol id=\"icon-database\" viewBox=\"0 0 32 32\">\n",
       "<path d=\"M16 0c-8.837 0-16 2.239-16 5v4c0 2.761 7.163 5 16 5s16-2.239 16-5v-4c0-2.761-7.163-5-16-5z\"></path>\n",
       "<path d=\"M16 17c-8.837 0-16-2.239-16-5v6c0 2.761 7.163 5 16 5s16-2.239 16-5v-6c0 2.761-7.163 5-16 5z\"></path>\n",
       "<path d=\"M16 26c-8.837 0-16-2.239-16-5v6c0 2.761 7.163 5 16 5s16-2.239 16-5v-6c0 2.761-7.163 5-16 5z\"></path>\n",
       "</symbol>\n",
       "<symbol id=\"icon-file-text2\" viewBox=\"0 0 32 32\">\n",
       "<path d=\"M28.681 7.159c-0.694-0.947-1.662-2.053-2.724-3.116s-2.169-2.030-3.116-2.724c-1.612-1.182-2.393-1.319-2.841-1.319h-15.5c-1.378 0-2.5 1.121-2.5 2.5v27c0 1.378 1.122 2.5 2.5 2.5h23c1.378 0 2.5-1.122 2.5-2.5v-19.5c0-0.448-0.137-1.23-1.319-2.841zM24.543 5.457c0.959 0.959 1.712 1.825 2.268 2.543h-4.811v-4.811c0.718 0.556 1.584 1.309 2.543 2.268zM28 29.5c0 0.271-0.229 0.5-0.5 0.5h-23c-0.271 0-0.5-0.229-0.5-0.5v-27c0-0.271 0.229-0.5 0.5-0.5 0 0 15.499-0 15.5 0v7c0 0.552 0.448 1 1 1h7v19.5z\"></path>\n",
       "<path d=\"M23 26h-14c-0.552 0-1-0.448-1-1s0.448-1 1-1h14c0.552 0 1 0.448 1 1s-0.448 1-1 1z\"></path>\n",
       "<path d=\"M23 22h-14c-0.552 0-1-0.448-1-1s0.448-1 1-1h14c0.552 0 1 0.448 1 1s-0.448 1-1 1z\"></path>\n",
       "<path d=\"M23 18h-14c-0.552 0-1-0.448-1-1s0.448-1 1-1h14c0.552 0 1 0.448 1 1s-0.448 1-1 1z\"></path>\n",
       "</symbol>\n",
       "</defs>\n",
       "</svg>\n",
       "<style>/* CSS stylesheet for displaying xarray objects in jupyterlab.\n",
       " *\n",
       " */\n",
       "\n",
       ":root {\n",
       "  --xr-font-color0: var(--jp-content-font-color0, rgba(0, 0, 0, 1));\n",
       "  --xr-font-color2: var(--jp-content-font-color2, rgba(0, 0, 0, 0.54));\n",
       "  --xr-font-color3: var(--jp-content-font-color3, rgba(0, 0, 0, 0.38));\n",
       "  --xr-border-color: var(--jp-border-color2, #e0e0e0);\n",
       "  --xr-disabled-color: var(--jp-layout-color3, #bdbdbd);\n",
       "  --xr-background-color: var(--jp-layout-color0, white);\n",
       "  --xr-background-color-row-even: var(--jp-layout-color1, white);\n",
       "  --xr-background-color-row-odd: var(--jp-layout-color2, #eeeeee);\n",
       "}\n",
       "\n",
       "html[theme=dark],\n",
       "body[data-theme=dark],\n",
       "body.vscode-dark {\n",
       "  --xr-font-color0: rgba(255, 255, 255, 1);\n",
       "  --xr-font-color2: rgba(255, 255, 255, 0.54);\n",
       "  --xr-font-color3: rgba(255, 255, 255, 0.38);\n",
       "  --xr-border-color: #1F1F1F;\n",
       "  --xr-disabled-color: #515151;\n",
       "  --xr-background-color: #111111;\n",
       "  --xr-background-color-row-even: #111111;\n",
       "  --xr-background-color-row-odd: #313131;\n",
       "}\n",
       "\n",
       ".xr-wrap {\n",
       "  display: block !important;\n",
       "  min-width: 300px;\n",
       "  max-width: 700px;\n",
       "}\n",
       "\n",
       ".xr-text-repr-fallback {\n",
       "  /* fallback to plain text repr when CSS is not injected (untrusted notebook) */\n",
       "  display: none;\n",
       "}\n",
       "\n",
       ".xr-header {\n",
       "  padding-top: 6px;\n",
       "  padding-bottom: 6px;\n",
       "  margin-bottom: 4px;\n",
       "  border-bottom: solid 1px var(--xr-border-color);\n",
       "}\n",
       "\n",
       ".xr-header > div,\n",
       ".xr-header > ul {\n",
       "  display: inline;\n",
       "  margin-top: 0;\n",
       "  margin-bottom: 0;\n",
       "}\n",
       "\n",
       ".xr-obj-type,\n",
       ".xr-array-name {\n",
       "  margin-left: 2px;\n",
       "  margin-right: 10px;\n",
       "}\n",
       "\n",
       ".xr-obj-type {\n",
       "  color: var(--xr-font-color2);\n",
       "}\n",
       "\n",
       ".xr-sections {\n",
       "  padding-left: 0 !important;\n",
       "  display: grid;\n",
       "  grid-template-columns: 150px auto auto 1fr 20px 20px;\n",
       "}\n",
       "\n",
       ".xr-section-item {\n",
       "  display: contents;\n",
       "}\n",
       "\n",
       ".xr-section-item input {\n",
       "  display: none;\n",
       "}\n",
       "\n",
       ".xr-section-item input + label {\n",
       "  color: var(--xr-disabled-color);\n",
       "}\n",
       "\n",
       ".xr-section-item input:enabled + label {\n",
       "  cursor: pointer;\n",
       "  color: var(--xr-font-color2);\n",
       "}\n",
       "\n",
       ".xr-section-item input:enabled + label:hover {\n",
       "  color: var(--xr-font-color0);\n",
       "}\n",
       "\n",
       ".xr-section-summary {\n",
       "  grid-column: 1;\n",
       "  color: var(--xr-font-color2);\n",
       "  font-weight: 500;\n",
       "}\n",
       "\n",
       ".xr-section-summary > span {\n",
       "  display: inline-block;\n",
       "  padding-left: 0.5em;\n",
       "}\n",
       "\n",
       ".xr-section-summary-in:disabled + label {\n",
       "  color: var(--xr-font-color2);\n",
       "}\n",
       "\n",
       ".xr-section-summary-in + label:before {\n",
       "  display: inline-block;\n",
       "  content: '►';\n",
       "  font-size: 11px;\n",
       "  width: 15px;\n",
       "  text-align: center;\n",
       "}\n",
       "\n",
       ".xr-section-summary-in:disabled + label:before {\n",
       "  color: var(--xr-disabled-color);\n",
       "}\n",
       "\n",
       ".xr-section-summary-in:checked + label:before {\n",
       "  content: '▼';\n",
       "}\n",
       "\n",
       ".xr-section-summary-in:checked + label > span {\n",
       "  display: none;\n",
       "}\n",
       "\n",
       ".xr-section-summary,\n",
       ".xr-section-inline-details {\n",
       "  padding-top: 4px;\n",
       "  padding-bottom: 4px;\n",
       "}\n",
       "\n",
       ".xr-section-inline-details {\n",
       "  grid-column: 2 / -1;\n",
       "}\n",
       "\n",
       ".xr-section-details {\n",
       "  display: none;\n",
       "  grid-column: 1 / -1;\n",
       "  margin-bottom: 5px;\n",
       "}\n",
       "\n",
       ".xr-section-summary-in:checked ~ .xr-section-details {\n",
       "  display: contents;\n",
       "}\n",
       "\n",
       ".xr-array-wrap {\n",
       "  grid-column: 1 / -1;\n",
       "  display: grid;\n",
       "  grid-template-columns: 20px auto;\n",
       "}\n",
       "\n",
       ".xr-array-wrap > label {\n",
       "  grid-column: 1;\n",
       "  vertical-align: top;\n",
       "}\n",
       "\n",
       ".xr-preview {\n",
       "  color: var(--xr-font-color3);\n",
       "}\n",
       "\n",
       ".xr-array-preview,\n",
       ".xr-array-data {\n",
       "  padding: 0 5px !important;\n",
       "  grid-column: 2;\n",
       "}\n",
       "\n",
       ".xr-array-data,\n",
       ".xr-array-in:checked ~ .xr-array-preview {\n",
       "  display: none;\n",
       "}\n",
       "\n",
       ".xr-array-in:checked ~ .xr-array-data,\n",
       ".xr-array-preview {\n",
       "  display: inline-block;\n",
       "}\n",
       "\n",
       ".xr-dim-list {\n",
       "  display: inline-block !important;\n",
       "  list-style: none;\n",
       "  padding: 0 !important;\n",
       "  margin: 0;\n",
       "}\n",
       "\n",
       ".xr-dim-list li {\n",
       "  display: inline-block;\n",
       "  padding: 0;\n",
       "  margin: 0;\n",
       "}\n",
       "\n",
       ".xr-dim-list:before {\n",
       "  content: '(';\n",
       "}\n",
       "\n",
       ".xr-dim-list:after {\n",
       "  content: ')';\n",
       "}\n",
       "\n",
       ".xr-dim-list li:not(:last-child):after {\n",
       "  content: ',';\n",
       "  padding-right: 5px;\n",
       "}\n",
       "\n",
       ".xr-has-index {\n",
       "  font-weight: bold;\n",
       "}\n",
       "\n",
       ".xr-var-list,\n",
       ".xr-var-item {\n",
       "  display: contents;\n",
       "}\n",
       "\n",
       ".xr-var-item > div,\n",
       ".xr-var-item label,\n",
       ".xr-var-item > .xr-var-name span {\n",
       "  background-color: var(--xr-background-color-row-even);\n",
       "  margin-bottom: 0;\n",
       "}\n",
       "\n",
       ".xr-var-item > .xr-var-name:hover span {\n",
       "  padding-right: 5px;\n",
       "}\n",
       "\n",
       ".xr-var-list > li:nth-child(odd) > div,\n",
       ".xr-var-list > li:nth-child(odd) > label,\n",
       ".xr-var-list > li:nth-child(odd) > .xr-var-name span {\n",
       "  background-color: var(--xr-background-color-row-odd);\n",
       "}\n",
       "\n",
       ".xr-var-name {\n",
       "  grid-column: 1;\n",
       "}\n",
       "\n",
       ".xr-var-dims {\n",
       "  grid-column: 2;\n",
       "}\n",
       "\n",
       ".xr-var-dtype {\n",
       "  grid-column: 3;\n",
       "  text-align: right;\n",
       "  color: var(--xr-font-color2);\n",
       "}\n",
       "\n",
       ".xr-var-preview {\n",
       "  grid-column: 4;\n",
       "}\n",
       "\n",
       ".xr-index-preview {\n",
       "  grid-column: 2 / 5;\n",
       "  color: var(--xr-font-color2);\n",
       "}\n",
       "\n",
       ".xr-var-name,\n",
       ".xr-var-dims,\n",
       ".xr-var-dtype,\n",
       ".xr-preview,\n",
       ".xr-attrs dt {\n",
       "  white-space: nowrap;\n",
       "  overflow: hidden;\n",
       "  text-overflow: ellipsis;\n",
       "  padding-right: 10px;\n",
       "}\n",
       "\n",
       ".xr-var-name:hover,\n",
       ".xr-var-dims:hover,\n",
       ".xr-var-dtype:hover,\n",
       ".xr-attrs dt:hover {\n",
       "  overflow: visible;\n",
       "  width: auto;\n",
       "  z-index: 1;\n",
       "}\n",
       "\n",
       ".xr-var-attrs,\n",
       ".xr-var-data,\n",
       ".xr-index-data {\n",
       "  display: none;\n",
       "  background-color: var(--xr-background-color) !important;\n",
       "  padding-bottom: 5px !important;\n",
       "}\n",
       "\n",
       ".xr-var-attrs-in:checked ~ .xr-var-attrs,\n",
       ".xr-var-data-in:checked ~ .xr-var-data,\n",
       ".xr-index-data-in:checked ~ .xr-index-data {\n",
       "  display: block;\n",
       "}\n",
       "\n",
       ".xr-var-data > table {\n",
       "  float: right;\n",
       "}\n",
       "\n",
       ".xr-var-name span,\n",
       ".xr-var-data,\n",
       ".xr-index-name div,\n",
       ".xr-index-data,\n",
       ".xr-attrs {\n",
       "  padding-left: 25px !important;\n",
       "}\n",
       "\n",
       ".xr-attrs,\n",
       ".xr-var-attrs,\n",
       ".xr-var-data,\n",
       ".xr-index-data {\n",
       "  grid-column: 1 / -1;\n",
       "}\n",
       "\n",
       "dl.xr-attrs {\n",
       "  padding: 0;\n",
       "  margin: 0;\n",
       "  display: grid;\n",
       "  grid-template-columns: 125px auto;\n",
       "}\n",
       "\n",
       ".xr-attrs dt,\n",
       ".xr-attrs dd {\n",
       "  padding: 0;\n",
       "  margin: 0;\n",
       "  float: left;\n",
       "  padding-right: 10px;\n",
       "  width: auto;\n",
       "}\n",
       "\n",
       ".xr-attrs dt {\n",
       "  font-weight: normal;\n",
       "  grid-column: 1;\n",
       "}\n",
       "\n",
       ".xr-attrs dt:hover span {\n",
       "  display: inline-block;\n",
       "  background: var(--xr-background-color);\n",
       "  padding-right: 10px;\n",
       "}\n",
       "\n",
       ".xr-attrs dd {\n",
       "  grid-column: 2;\n",
       "  white-space: pre-wrap;\n",
       "  word-break: break-all;\n",
       "}\n",
       "\n",
       ".xr-icon-database,\n",
       ".xr-icon-file-text2,\n",
       ".xr-no-icon {\n",
       "  display: inline-block;\n",
       "  vertical-align: middle;\n",
       "  width: 1em;\n",
       "  height: 1.5em !important;\n",
       "  stroke-width: 0;\n",
       "  stroke: currentColor;\n",
       "  fill: currentColor;\n",
       "}\n",
       "</style><pre class='xr-text-repr-fallback'>&lt;xarray.Dataset&gt; Size: 99MB\n",
       "Dimensions:                      (phony_dim_0: 406, phony_dim_1: 964,\n",
       "                                  phony_dim_2: 3)\n",
       "Dimensions without coordinates: phony_dim_0, phony_dim_1, phony_dim_2\n",
       "Data variables: (12/53)\n",
       "    EASE_column_index            (phony_dim_0, phony_dim_1) float32 2MB ...\n",
       "    EASE_row_index               (phony_dim_0, phony_dim_1) float32 2MB ...\n",
       "    albedo                       (phony_dim_0, phony_dim_1) float32 2MB ...\n",
       "    albedo_dca                   (phony_dim_0, phony_dim_1) float32 2MB ...\n",
       "    albedo_scah                  (phony_dim_0, phony_dim_1) float32 2MB ...\n",
       "    albedo_scav                  (phony_dim_0, phony_dim_1) float32 2MB ...\n",
       "    ...                           ...\n",
       "    tb_v_uncorrected             (phony_dim_0, phony_dim_1) float32 2MB ...\n",
       "    vegetation_opacity           (phony_dim_0, phony_dim_1) float32 2MB ...\n",
       "    vegetation_opacity_dca       (phony_dim_0, phony_dim_1) float32 2MB ...\n",
       "    vegetation_opacity_scah      (phony_dim_0, phony_dim_1) float32 2MB ...\n",
       "    vegetation_opacity_scav      (phony_dim_0, phony_dim_1) float32 2MB ...\n",
       "    vegetation_water_content     (phony_dim_0, phony_dim_1) float32 2MB ...</pre><div class='xr-wrap' style='display:none'><div class='xr-header'><div class='xr-obj-type'>xarray.Dataset</div></div><ul class='xr-sections'><li class='xr-section-item'><input id='section-060b960c-63db-49b9-a0a9-844588c055e1' class='xr-section-summary-in' type='checkbox' disabled ><label for='section-060b960c-63db-49b9-a0a9-844588c055e1' class='xr-section-summary'  title='Expand/collapse section'>Dimensions:</label><div class='xr-section-inline-details'><ul class='xr-dim-list'><li><span>phony_dim_0</span>: 406</li><li><span>phony_dim_1</span>: 964</li><li><span>phony_dim_2</span>: 3</li></ul></div><div class='xr-section-details'></div></li><li class='xr-section-item'><input id='section-d616cef8-44c3-4348-89b5-b192b76c8a26' class='xr-section-summary-in' type='checkbox' disabled ><label for='section-d616cef8-44c3-4348-89b5-b192b76c8a26' class='xr-section-summary'  title='Expand/collapse section'>Coordinates: <span>(0)</span></label><div class='xr-section-inline-details'></div><div class='xr-section-details'><ul class='xr-var-list'></ul></div></li><li class='xr-section-item'><input id='section-6aa704c8-3911-4851-8363-e1ca4a720d3d' class='xr-section-summary-in' type='checkbox'  ><label for='section-6aa704c8-3911-4851-8363-e1ca4a720d3d' class='xr-section-summary' >Data variables: <span>(53)</span></label><div class='xr-section-inline-details'></div><div class='xr-section-details'><ul class='xr-var-list'><li class='xr-var-item'><div class='xr-var-name'><span>EASE_column_index</span></div><div class='xr-var-dims'>(phony_dim_0, phony_dim_1)</div><div class='xr-var-dtype'>float32</div><div class='xr-var-preview xr-preview'>...</div><input id='attrs-dfac925c-b416-43de-85de-615a6ea45624' class='xr-var-attrs-in' type='checkbox' ><label for='attrs-dfac925c-b416-43de-85de-615a6ea45624' title='Show/Hide attributes'><svg class='icon xr-icon-file-text2'><use xlink:href='#icon-file-text2'></use></svg></label><input id='data-942b0894-da88-4383-83b3-0fcaa24fb702' class='xr-var-data-in' type='checkbox'><label for='data-942b0894-da88-4383-83b3-0fcaa24fb702' title='Show/Hide data repr'><svg class='icon xr-icon-database'><use xlink:href='#icon-database'></use></svg></label><div class='xr-var-attrs'><dl class='xr-attrs'><dt><span>long_name :</span></dt><dd>The column index of the 36 km EASE grid cell that contains the associated data.</dd><dt><span>valid_max :</span></dt><dd>963</dd><dt><span>valid_min :</span></dt><dd>0</dd></dl></div><div class='xr-var-data'><pre>[391384 values with dtype=float32]</pre></div></li><li class='xr-var-item'><div class='xr-var-name'><span>EASE_row_index</span></div><div class='xr-var-dims'>(phony_dim_0, phony_dim_1)</div><div class='xr-var-dtype'>float32</div><div class='xr-var-preview xr-preview'>...</div><input id='attrs-8d8cd036-8155-4b5b-b317-c69fae6c6abd' class='xr-var-attrs-in' type='checkbox' ><label for='attrs-8d8cd036-8155-4b5b-b317-c69fae6c6abd' title='Show/Hide attributes'><svg class='icon xr-icon-file-text2'><use xlink:href='#icon-file-text2'></use></svg></label><input id='data-3dbf9097-61b6-4d6b-887a-b620ccd8f3f1' class='xr-var-data-in' type='checkbox'><label for='data-3dbf9097-61b6-4d6b-887a-b620ccd8f3f1' title='Show/Hide data repr'><svg class='icon xr-icon-database'><use xlink:href='#icon-database'></use></svg></label><div class='xr-var-attrs'><dl class='xr-attrs'><dt><span>long_name :</span></dt><dd>The row index of the 36 km EASE grid cell that contains the associated data.</dd><dt><span>valid_max :</span></dt><dd>405</dd><dt><span>valid_min :</span></dt><dd>0</dd></dl></div><div class='xr-var-data'><pre>[391384 values with dtype=float32]</pre></div></li><li class='xr-var-item'><div class='xr-var-name'><span>albedo</span></div><div class='xr-var-dims'>(phony_dim_0, phony_dim_1)</div><div class='xr-var-dtype'>float32</div><div class='xr-var-preview xr-preview'>...</div><input id='attrs-30165fbc-1f1d-4fae-b92b-1a6a35365c38' class='xr-var-attrs-in' type='checkbox' ><label for='attrs-30165fbc-1f1d-4fae-b92b-1a6a35365c38' title='Show/Hide attributes'><svg class='icon xr-icon-file-text2'><use xlink:href='#icon-file-text2'></use></svg></label><input id='data-e27cde95-0901-4cf7-a76c-e7b2c1f0f9a8' class='xr-var-data-in' type='checkbox'><label for='data-e27cde95-0901-4cf7-a76c-e7b2c1f0f9a8' title='Show/Hide data repr'><svg class='icon xr-icon-database'><use xlink:href='#icon-database'></use></svg></label><div class='xr-var-attrs'><dl class='xr-attrs'><dt><span>long_name :</span></dt><dd>Diffuse reflecting power of the Earth&amp;apos;s surface used in DCA within the grid cell.</dd><dt><span>valid_max :</span></dt><dd>1.0</dd><dt><span>valid_min :</span></dt><dd>0.0</dd></dl></div><div class='xr-var-data'><pre>[391384 values with dtype=float32]</pre></div></li><li class='xr-var-item'><div class='xr-var-name'><span>albedo_dca</span></div><div class='xr-var-dims'>(phony_dim_0, phony_dim_1)</div><div class='xr-var-dtype'>float32</div><div class='xr-var-preview xr-preview'>...</div><input id='attrs-410ac72e-890f-49b8-842f-e732a6845c0e' class='xr-var-attrs-in' type='checkbox' ><label for='attrs-410ac72e-890f-49b8-842f-e732a6845c0e' title='Show/Hide attributes'><svg class='icon xr-icon-file-text2'><use xlink:href='#icon-file-text2'></use></svg></label><input id='data-84b3bd7b-6735-4d1f-8a81-a54d9e3dbb25' class='xr-var-data-in' type='checkbox'><label for='data-84b3bd7b-6735-4d1f-8a81-a54d9e3dbb25' title='Show/Hide data repr'><svg class='icon xr-icon-database'><use xlink:href='#icon-database'></use></svg></label><div class='xr-var-attrs'><dl class='xr-attrs'><dt><span>long_name :</span></dt><dd>Diffuse reflecting power of the Earth&amp;apos;s surface used in DCA within the grid cell.</dd><dt><span>valid_max :</span></dt><dd>1.0</dd><dt><span>valid_min :</span></dt><dd>0.0</dd></dl></div><div class='xr-var-data'><pre>[391384 values with dtype=float32]</pre></div></li><li class='xr-var-item'><div class='xr-var-name'><span>albedo_scah</span></div><div class='xr-var-dims'>(phony_dim_0, phony_dim_1)</div><div class='xr-var-dtype'>float32</div><div class='xr-var-preview xr-preview'>...</div><input id='attrs-a7b2289e-ffd7-449c-8931-b60a80031d55' class='xr-var-attrs-in' type='checkbox' ><label for='attrs-a7b2289e-ffd7-449c-8931-b60a80031d55' title='Show/Hide attributes'><svg class='icon xr-icon-file-text2'><use xlink:href='#icon-file-text2'></use></svg></label><input id='data-d6da756a-07f5-4a6d-8ab8-9a5e0cdd54be' class='xr-var-data-in' type='checkbox'><label for='data-d6da756a-07f5-4a6d-8ab8-9a5e0cdd54be' title='Show/Hide data repr'><svg class='icon xr-icon-database'><use xlink:href='#icon-database'></use></svg></label><div class='xr-var-attrs'><dl class='xr-attrs'><dt><span>long_name :</span></dt><dd>Diffuse reflecting power of the Earth&amp;apos;s surface used in SCA-H within the grid cell.</dd><dt><span>valid_max :</span></dt><dd>1.0</dd><dt><span>valid_min :</span></dt><dd>0.0</dd></dl></div><div class='xr-var-data'><pre>[391384 values with dtype=float32]</pre></div></li><li class='xr-var-item'><div class='xr-var-name'><span>albedo_scav</span></div><div class='xr-var-dims'>(phony_dim_0, phony_dim_1)</div><div class='xr-var-dtype'>float32</div><div class='xr-var-preview xr-preview'>...</div><input id='attrs-aa7e5de9-be1e-41b5-b138-02a1a53d97f6' class='xr-var-attrs-in' type='checkbox' ><label for='attrs-aa7e5de9-be1e-41b5-b138-02a1a53d97f6' title='Show/Hide attributes'><svg class='icon xr-icon-file-text2'><use xlink:href='#icon-file-text2'></use></svg></label><input id='data-b66c420d-3afe-4fcc-894d-50bdad031208' class='xr-var-data-in' type='checkbox'><label for='data-b66c420d-3afe-4fcc-894d-50bdad031208' title='Show/Hide data repr'><svg class='icon xr-icon-database'><use xlink:href='#icon-database'></use></svg></label><div class='xr-var-attrs'><dl class='xr-attrs'><dt><span>long_name :</span></dt><dd>Diffuse reflecting power of the Earth&amp;apos;s surface used in SCA-V within the grid cell.</dd><dt><span>valid_max :</span></dt><dd>1.0</dd><dt><span>valid_min :</span></dt><dd>0.0</dd></dl></div><div class='xr-var-data'><pre>[391384 values with dtype=float32]</pre></div></li><li class='xr-var-item'><div class='xr-var-name'><span>boresight_incidence</span></div><div class='xr-var-dims'>(phony_dim_0, phony_dim_1)</div><div class='xr-var-dtype'>float32</div><div class='xr-var-preview xr-preview'>...</div><input id='attrs-8e1a7798-2649-4251-87f8-d92a9791a470' class='xr-var-attrs-in' type='checkbox' ><label for='attrs-8e1a7798-2649-4251-87f8-d92a9791a470' title='Show/Hide attributes'><svg class='icon xr-icon-file-text2'><use xlink:href='#icon-file-text2'></use></svg></label><input id='data-b7cff2c3-7227-4703-8fd7-a3a0ae42309e' class='xr-var-data-in' type='checkbox'><label for='data-b7cff2c3-7227-4703-8fd7-a3a0ae42309e' title='Show/Hide data repr'><svg class='icon xr-icon-database'><use xlink:href='#icon-database'></use></svg></label><div class='xr-var-attrs'><dl class='xr-attrs'><dt><span>long_name :</span></dt><dd>Representative angle between the antenna boresight vector and the normal to the Earth&amp;apos;s surface for all footprints within the cell.</dd><dt><span>units :</span></dt><dd>degrees</dd><dt><span>valid_max :</span></dt><dd>90.0</dd><dt><span>valid_min :</span></dt><dd>0.0</dd></dl></div><div class='xr-var-data'><pre>[391384 values with dtype=float32]</pre></div></li><li class='xr-var-item'><div class='xr-var-name'><span>bulk_density</span></div><div class='xr-var-dims'>(phony_dim_0, phony_dim_1)</div><div class='xr-var-dtype'>float32</div><div class='xr-var-preview xr-preview'>...</div><input id='attrs-947ab228-f388-4ebf-8c2a-c9d6f45d5e9d' class='xr-var-attrs-in' type='checkbox' ><label for='attrs-947ab228-f388-4ebf-8c2a-c9d6f45d5e9d' title='Show/Hide attributes'><svg class='icon xr-icon-file-text2'><use xlink:href='#icon-file-text2'></use></svg></label><input id='data-8a196980-c23a-403d-95e4-dfdffb1e4f54' class='xr-var-data-in' type='checkbox'><label for='data-8a196980-c23a-403d-95e4-dfdffb1e4f54' title='Show/Hide data repr'><svg class='icon xr-icon-database'><use xlink:href='#icon-database'></use></svg></label><div class='xr-var-attrs'><dl class='xr-attrs'><dt><span>long_name :</span></dt><dd>A unitless value that is indicative of aggregated bulk_density within the 36 km grid cell.</dd><dt><span>valid_max :</span></dt><dd>2.65</dd><dt><span>valid_min :</span></dt><dd>0.0</dd></dl></div><div class='xr-var-data'><pre>[391384 values with dtype=float32]</pre></div></li><li class='xr-var-item'><div class='xr-var-name'><span>clay_fraction</span></div><div class='xr-var-dims'>(phony_dim_0, phony_dim_1)</div><div class='xr-var-dtype'>float32</div><div class='xr-var-preview xr-preview'>...</div><input id='attrs-94b4b4b4-d12b-4a2a-9113-b224c6268419' class='xr-var-attrs-in' type='checkbox' ><label for='attrs-94b4b4b4-d12b-4a2a-9113-b224c6268419' title='Show/Hide attributes'><svg class='icon xr-icon-file-text2'><use xlink:href='#icon-file-text2'></use></svg></label><input id='data-e894ef92-7533-4932-bebc-a052d3ca3484' class='xr-var-data-in' type='checkbox'><label for='data-e894ef92-7533-4932-bebc-a052d3ca3484' title='Show/Hide data repr'><svg class='icon xr-icon-database'><use xlink:href='#icon-database'></use></svg></label><div class='xr-var-attrs'><dl class='xr-attrs'><dt><span>long_name :</span></dt><dd>A unitless value that is indicative of aggregated clay fraction within the 36 km grid cell.</dd><dt><span>valid_max :</span></dt><dd>1.0</dd><dt><span>valid_min :</span></dt><dd>0.0</dd></dl></div><div class='xr-var-data'><pre>[391384 values with dtype=float32]</pre></div></li><li class='xr-var-item'><div class='xr-var-name'><span>freeze_thaw_fraction</span></div><div class='xr-var-dims'>(phony_dim_0, phony_dim_1)</div><div class='xr-var-dtype'>float32</div><div class='xr-var-preview xr-preview'>...</div><input id='attrs-004aee64-adea-4127-8d59-a624ba74df09' class='xr-var-attrs-in' type='checkbox' ><label for='attrs-004aee64-adea-4127-8d59-a624ba74df09' title='Show/Hide attributes'><svg class='icon xr-icon-file-text2'><use xlink:href='#icon-file-text2'></use></svg></label><input id='data-6066a394-5c57-4cf3-8230-c8fa106aca81' class='xr-var-data-in' type='checkbox'><label for='data-6066a394-5c57-4cf3-8230-c8fa106aca81' title='Show/Hide data repr'><svg class='icon xr-icon-database'><use xlink:href='#icon-database'></use></svg></label><div class='xr-var-attrs'><dl class='xr-attrs'><dt><span>long_name :</span></dt><dd>Fraction of the 36 km grid cell that is denoted as frozen.  Based on binary flag that specifies freeze thaw conditions in each of the component 3 km grid cells.</dd><dt><span>valid_max :</span></dt><dd>1.0</dd><dt><span>valid_min :</span></dt><dd>0.0</dd></dl></div><div class='xr-var-data'><pre>[391384 values with dtype=float32]</pre></div></li><li class='xr-var-item'><div class='xr-var-name'><span>grid_surface_status</span></div><div class='xr-var-dims'>(phony_dim_0, phony_dim_1)</div><div class='xr-var-dtype'>float32</div><div class='xr-var-preview xr-preview'>...</div><input id='attrs-4d29f8fc-d40c-4433-aac9-02d114474076' class='xr-var-attrs-in' type='checkbox' ><label for='attrs-4d29f8fc-d40c-4433-aac9-02d114474076' title='Show/Hide attributes'><svg class='icon xr-icon-file-text2'><use xlink:href='#icon-file-text2'></use></svg></label><input id='data-7220fcab-365d-44e5-8800-793d621bfb02' class='xr-var-data-in' type='checkbox'><label for='data-7220fcab-365d-44e5-8800-793d621bfb02' title='Show/Hide data repr'><svg class='icon xr-icon-database'><use xlink:href='#icon-database'></use></svg></label><div class='xr-var-attrs'><dl class='xr-attrs'><dt><span>long_name :</span></dt><dd>Indicates if the grid point lies on land (0) or water (1).</dd><dt><span>valid_max :</span></dt><dd>1</dd><dt><span>valid_min :</span></dt><dd>0</dd></dl></div><div class='xr-var-data'><pre>[391384 values with dtype=float32]</pre></div></li><li class='xr-var-item'><div class='xr-var-name'><span>landcover_class</span></div><div class='xr-var-dims'>(phony_dim_0, phony_dim_1, phony_dim_2)</div><div class='xr-var-dtype'>float32</div><div class='xr-var-preview xr-preview'>...</div><input id='attrs-cd756eca-50fd-4771-a7f2-691168d6b43e' class='xr-var-attrs-in' type='checkbox' ><label for='attrs-cd756eca-50fd-4771-a7f2-691168d6b43e' title='Show/Hide attributes'><svg class='icon xr-icon-file-text2'><use xlink:href='#icon-file-text2'></use></svg></label><input id='data-b75c5b4c-d5a3-4301-a218-b3f40db2cae0' class='xr-var-data-in' type='checkbox'><label for='data-b75c5b4c-d5a3-4301-a218-b3f40db2cae0' title='Show/Hide data repr'><svg class='icon xr-icon-database'><use xlink:href='#icon-database'></use></svg></label><div class='xr-var-attrs'><dl class='xr-attrs'><dt><span>long_name :</span></dt><dd>An enumerated type that specifies the most common landcover class in the grid cell based on the IGBP landcover map. The array order is longitude (ascending), followed by latitude (descending), and followed by IGBP land cover type descending dominance (only the first three types are listed)</dd></dl></div><div class='xr-var-data'><pre>[1174152 values with dtype=float32]</pre></div></li><li class='xr-var-item'><div class='xr-var-name'><span>landcover_class_fraction</span></div><div class='xr-var-dims'>(phony_dim_0, phony_dim_1, phony_dim_2)</div><div class='xr-var-dtype'>float32</div><div class='xr-var-preview xr-preview'>...</div><input id='attrs-8af9af95-48f2-4b38-9c05-e207a95c3030' class='xr-var-attrs-in' type='checkbox' ><label for='attrs-8af9af95-48f2-4b38-9c05-e207a95c3030' title='Show/Hide attributes'><svg class='icon xr-icon-file-text2'><use xlink:href='#icon-file-text2'></use></svg></label><input id='data-9e42570f-9f7d-4bc2-b5cb-4f4abd39de63' class='xr-var-data-in' type='checkbox'><label for='data-9e42570f-9f7d-4bc2-b5cb-4f4abd39de63' title='Show/Hide data repr'><svg class='icon xr-icon-database'><use xlink:href='#icon-database'></use></svg></label><div class='xr-var-attrs'><dl class='xr-attrs'><dt><span>long_name :</span></dt><dd>The fraction of the grid cell that contains the most common land cover in that area based on the IGBP landcover map.</dd><dt><span>valid_max :</span></dt><dd>1.0</dd><dt><span>valid_min :</span></dt><dd>0.0</dd></dl></div><div class='xr-var-data'><pre>[1174152 values with dtype=float32]</pre></div></li><li class='xr-var-item'><div class='xr-var-name'><span>latitude</span></div><div class='xr-var-dims'>(phony_dim_0, phony_dim_1)</div><div class='xr-var-dtype'>float32</div><div class='xr-var-preview xr-preview'>...</div><input id='attrs-3917a229-f867-4abf-968c-276c816719d0' class='xr-var-attrs-in' type='checkbox' ><label for='attrs-3917a229-f867-4abf-968c-276c816719d0' title='Show/Hide attributes'><svg class='icon xr-icon-file-text2'><use xlink:href='#icon-file-text2'></use></svg></label><input id='data-416e50fd-9d50-4f99-bf53-12189c1242d4' class='xr-var-data-in' type='checkbox'><label for='data-416e50fd-9d50-4f99-bf53-12189c1242d4' title='Show/Hide data repr'><svg class='icon xr-icon-database'><use xlink:href='#icon-database'></use></svg></label><div class='xr-var-attrs'><dl class='xr-attrs'><dt><span>long_name :</span></dt><dd>Latitude of the center of the Earth based grid cell.</dd><dt><span>units :</span></dt><dd>degrees_north</dd></dl></div><div class='xr-var-data'><pre>[391384 values with dtype=float32]</pre></div></li><li class='xr-var-item'><div class='xr-var-name'><span>latitude_centroid</span></div><div class='xr-var-dims'>(phony_dim_0, phony_dim_1)</div><div class='xr-var-dtype'>float32</div><div class='xr-var-preview xr-preview'>...</div><input id='attrs-a25253b6-05e0-472e-8648-13e66070274a' class='xr-var-attrs-in' type='checkbox' ><label for='attrs-a25253b6-05e0-472e-8648-13e66070274a' title='Show/Hide attributes'><svg class='icon xr-icon-file-text2'><use xlink:href='#icon-file-text2'></use></svg></label><input id='data-ad43be7d-e45a-4c92-a984-7578d46fc802' class='xr-var-data-in' type='checkbox'><label for='data-ad43be7d-e45a-4c92-a984-7578d46fc802' title='Show/Hide data repr'><svg class='icon xr-icon-database'><use xlink:href='#icon-database'></use></svg></label><div class='xr-var-attrs'><dl class='xr-attrs'><dt><span>long_name :</span></dt><dd>Weighted average of the latitude of the center of the  brightness temperature footprints that fall within the EASE grid cell.</dd><dt><span>units :</span></dt><dd>degrees</dd><dt><span>valid_max :</span></dt><dd>90.0</dd><dt><span>valid_min :</span></dt><dd>-90.0</dd></dl></div><div class='xr-var-data'><pre>[391384 values with dtype=float32]</pre></div></li><li class='xr-var-item'><div class='xr-var-name'><span>longitude</span></div><div class='xr-var-dims'>(phony_dim_0, phony_dim_1)</div><div class='xr-var-dtype'>float32</div><div class='xr-var-preview xr-preview'>...</div><input id='attrs-78cd7fe8-1d25-454f-8545-44f765ce8f99' class='xr-var-attrs-in' type='checkbox' ><label for='attrs-78cd7fe8-1d25-454f-8545-44f765ce8f99' title='Show/Hide attributes'><svg class='icon xr-icon-file-text2'><use xlink:href='#icon-file-text2'></use></svg></label><input id='data-aaa51d33-1e2b-492e-8a9c-bb5b663dd7d0' class='xr-var-data-in' type='checkbox'><label for='data-aaa51d33-1e2b-492e-8a9c-bb5b663dd7d0' title='Show/Hide data repr'><svg class='icon xr-icon-database'><use xlink:href='#icon-database'></use></svg></label><div class='xr-var-attrs'><dl class='xr-attrs'><dt><span>long_name :</span></dt><dd>Longitude of the center of the Earth based grid cell.</dd><dt><span>units :</span></dt><dd>degrees_east</dd></dl></div><div class='xr-var-data'><pre>[391384 values with dtype=float32]</pre></div></li><li class='xr-var-item'><div class='xr-var-name'><span>longitude_centroid</span></div><div class='xr-var-dims'>(phony_dim_0, phony_dim_1)</div><div class='xr-var-dtype'>float32</div><div class='xr-var-preview xr-preview'>...</div><input id='attrs-8802c3e1-37b3-4bb9-84bf-ed8402e99ca4' class='xr-var-attrs-in' type='checkbox' ><label for='attrs-8802c3e1-37b3-4bb9-84bf-ed8402e99ca4' title='Show/Hide attributes'><svg class='icon xr-icon-file-text2'><use xlink:href='#icon-file-text2'></use></svg></label><input id='data-5c3b8ff4-592c-4dc5-a766-fa1001d50263' class='xr-var-data-in' type='checkbox'><label for='data-5c3b8ff4-592c-4dc5-a766-fa1001d50263' title='Show/Hide data repr'><svg class='icon xr-icon-database'><use xlink:href='#icon-database'></use></svg></label><div class='xr-var-attrs'><dl class='xr-attrs'><dt><span>long_name :</span></dt><dd>Weighted average of the longitude of the center of the brightness temperature footprints that fall within the EASE grid cell.</dd><dt><span>units :</span></dt><dd>degrees</dd><dt><span>valid_max :</span></dt><dd>179.999</dd><dt><span>valid_min :</span></dt><dd>-180.0</dd></dl></div><div class='xr-var-data'><pre>[391384 values with dtype=float32]</pre></div></li><li class='xr-var-item'><div class='xr-var-name'><span>radar_water_body_fraction</span></div><div class='xr-var-dims'>(phony_dim_0, phony_dim_1)</div><div class='xr-var-dtype'>float32</div><div class='xr-var-preview xr-preview'>...</div><input id='attrs-ae097cf9-aa7e-47f6-ba6d-ee168db04838' class='xr-var-attrs-in' type='checkbox' ><label for='attrs-ae097cf9-aa7e-47f6-ba6d-ee168db04838' title='Show/Hide attributes'><svg class='icon xr-icon-file-text2'><use xlink:href='#icon-file-text2'></use></svg></label><input id='data-f9e100b1-d665-4f56-8235-7bb9dc42b1fe' class='xr-var-data-in' type='checkbox'><label for='data-f9e100b1-d665-4f56-8235-7bb9dc42b1fe' title='Show/Hide data repr'><svg class='icon xr-icon-database'><use xlink:href='#icon-database'></use></svg></label><div class='xr-var-attrs'><dl class='xr-attrs'><dt><span>long_name :</span></dt><dd>The fraction of the area of the 36 km grid cell that is covered by water based on the radar detection algorithm.</dd><dt><span>valid_max :</span></dt><dd>1.0</dd><dt><span>valid_min :</span></dt><dd>0.0</dd></dl></div><div class='xr-var-data'><pre>[391384 values with dtype=float32]</pre></div></li><li class='xr-var-item'><div class='xr-var-name'><span>retrieval_qual_flag</span></div><div class='xr-var-dims'>(phony_dim_0, phony_dim_1)</div><div class='xr-var-dtype'>float32</div><div class='xr-var-preview xr-preview'>...</div><input id='attrs-c5b60a0f-c639-4549-bff7-3b2d93c44229' class='xr-var-attrs-in' type='checkbox' ><label for='attrs-c5b60a0f-c639-4549-bff7-3b2d93c44229' title='Show/Hide attributes'><svg class='icon xr-icon-file-text2'><use xlink:href='#icon-file-text2'></use></svg></label><input id='data-8aa38b26-3344-4fde-b8ea-07956119b6b8' class='xr-var-data-in' type='checkbox'><label for='data-8aa38b26-3344-4fde-b8ea-07956119b6b8' title='Show/Hide data repr'><svg class='icon xr-icon-database'><use xlink:href='#icon-database'></use></svg></label><div class='xr-var-attrs'><dl class='xr-attrs'><dt><span>flag_masks :</span></dt><dd>1s, 2s, 4s, 8s</dd><dt><span>flag_meanings :</span></dt><dd>Retrieval_recommended Retrieval_attempted Retrieval_success FT_retrieval_success</dd><dt><span>long_name :</span></dt><dd>Bit flags that record the conditions and the quality of the DCA retrieval algorithms that generate soil moisture for the grid cell.</dd></dl></div><div class='xr-var-data'><pre>[391384 values with dtype=float32]</pre></div></li><li class='xr-var-item'><div class='xr-var-name'><span>retrieval_qual_flag_dca</span></div><div class='xr-var-dims'>(phony_dim_0, phony_dim_1)</div><div class='xr-var-dtype'>float32</div><div class='xr-var-preview xr-preview'>...</div><input id='attrs-213cf62c-fdd1-4ff1-a9e1-04d51f515653' class='xr-var-attrs-in' type='checkbox' ><label for='attrs-213cf62c-fdd1-4ff1-a9e1-04d51f515653' title='Show/Hide attributes'><svg class='icon xr-icon-file-text2'><use xlink:href='#icon-file-text2'></use></svg></label><input id='data-8f892569-621d-4a93-beac-44c234dda51c' class='xr-var-data-in' type='checkbox'><label for='data-8f892569-621d-4a93-beac-44c234dda51c' title='Show/Hide data repr'><svg class='icon xr-icon-database'><use xlink:href='#icon-database'></use></svg></label><div class='xr-var-attrs'><dl class='xr-attrs'><dt><span>flag_masks :</span></dt><dd>1s, 2s, 4s, 8s</dd><dt><span>flag_meanings :</span></dt><dd>Retrieval_recommended Retrieval_attempted Retrieval_success FT_retrieval_success</dd><dt><span>long_name :</span></dt><dd>Bit flags that record the conditions and the quality of the DCA retrieval algorithms that generate soil moisture for the grid cell.</dd></dl></div><div class='xr-var-data'><pre>[391384 values with dtype=float32]</pre></div></li><li class='xr-var-item'><div class='xr-var-name'><span>retrieval_qual_flag_scah</span></div><div class='xr-var-dims'>(phony_dim_0, phony_dim_1)</div><div class='xr-var-dtype'>float32</div><div class='xr-var-preview xr-preview'>...</div><input id='attrs-9b9c46f5-a68a-4eca-8669-ae69cfe2d2f8' class='xr-var-attrs-in' type='checkbox' ><label for='attrs-9b9c46f5-a68a-4eca-8669-ae69cfe2d2f8' title='Show/Hide attributes'><svg class='icon xr-icon-file-text2'><use xlink:href='#icon-file-text2'></use></svg></label><input id='data-19098b40-688b-4abe-bd8e-2cc34b91ca8c' class='xr-var-data-in' type='checkbox'><label for='data-19098b40-688b-4abe-bd8e-2cc34b91ca8c' title='Show/Hide data repr'><svg class='icon xr-icon-database'><use xlink:href='#icon-database'></use></svg></label><div class='xr-var-attrs'><dl class='xr-attrs'><dt><span>flag_masks :</span></dt><dd>1s, 2s, 4s, 8s</dd><dt><span>flag_meanings :</span></dt><dd>Retrieval_recommended Retrieval_attempted Retrieval_success FT_retrieval_success</dd><dt><span>long_name :</span></dt><dd>Bit flags that record the conditions and the quality of the SCA-H retrieval algorithms that generate soil moisture for the grid cell.</dd></dl></div><div class='xr-var-data'><pre>[391384 values with dtype=float32]</pre></div></li><li class='xr-var-item'><div class='xr-var-name'><span>retrieval_qual_flag_scav</span></div><div class='xr-var-dims'>(phony_dim_0, phony_dim_1)</div><div class='xr-var-dtype'>float32</div><div class='xr-var-preview xr-preview'>...</div><input id='attrs-e562bfb0-5465-4e54-a92d-d2d2dc0b725d' class='xr-var-attrs-in' type='checkbox' ><label for='attrs-e562bfb0-5465-4e54-a92d-d2d2dc0b725d' title='Show/Hide attributes'><svg class='icon xr-icon-file-text2'><use xlink:href='#icon-file-text2'></use></svg></label><input id='data-547c56f6-f580-4981-b73b-aef5fc34e74a' class='xr-var-data-in' type='checkbox'><label for='data-547c56f6-f580-4981-b73b-aef5fc34e74a' title='Show/Hide data repr'><svg class='icon xr-icon-database'><use xlink:href='#icon-database'></use></svg></label><div class='xr-var-attrs'><dl class='xr-attrs'><dt><span>flag_masks :</span></dt><dd>1s, 2s, 4s, 8s</dd><dt><span>flag_meanings :</span></dt><dd>Retrieval_recommended Retrieval_attempted Retrieval_success FT_retrieval_success</dd><dt><span>long_name :</span></dt><dd>Bit flags that record the conditions and the quality of the SCA-V retrieval algorithms that generate soil moisture for the grid cell.</dd></dl></div><div class='xr-var-data'><pre>[391384 values with dtype=float32]</pre></div></li><li class='xr-var-item'><div class='xr-var-name'><span>roughness_coefficient</span></div><div class='xr-var-dims'>(phony_dim_0, phony_dim_1)</div><div class='xr-var-dtype'>float32</div><div class='xr-var-preview xr-preview'>...</div><input id='attrs-5a3d86cf-3102-4330-9a36-6a11b0af2700' class='xr-var-attrs-in' type='checkbox' ><label for='attrs-5a3d86cf-3102-4330-9a36-6a11b0af2700' title='Show/Hide attributes'><svg class='icon xr-icon-file-text2'><use xlink:href='#icon-file-text2'></use></svg></label><input id='data-0841d816-69c4-4b8e-9de7-6dac675f4c4b' class='xr-var-data-in' type='checkbox'><label for='data-0841d816-69c4-4b8e-9de7-6dac675f4c4b' title='Show/Hide data repr'><svg class='icon xr-icon-database'><use xlink:href='#icon-database'></use></svg></label><div class='xr-var-attrs'><dl class='xr-attrs'><dt><span>long_name :</span></dt><dd>A unitless value that is indicative of bare soil roughness used in DCA within the 36 km grid cell.</dd><dt><span>valid_max :</span></dt><dd>1.0</dd><dt><span>valid_min :</span></dt><dd>0.0</dd></dl></div><div class='xr-var-data'><pre>[391384 values with dtype=float32]</pre></div></li><li class='xr-var-item'><div class='xr-var-name'><span>roughness_coefficient_dca</span></div><div class='xr-var-dims'>(phony_dim_0, phony_dim_1)</div><div class='xr-var-dtype'>float32</div><div class='xr-var-preview xr-preview'>...</div><input id='attrs-bd24c849-f9df-4f28-88f6-ee69b161d419' class='xr-var-attrs-in' type='checkbox' ><label for='attrs-bd24c849-f9df-4f28-88f6-ee69b161d419' title='Show/Hide attributes'><svg class='icon xr-icon-file-text2'><use xlink:href='#icon-file-text2'></use></svg></label><input id='data-c4ff6af3-30d0-4153-86d0-a3004de5efe6' class='xr-var-data-in' type='checkbox'><label for='data-c4ff6af3-30d0-4153-86d0-a3004de5efe6' title='Show/Hide data repr'><svg class='icon xr-icon-database'><use xlink:href='#icon-database'></use></svg></label><div class='xr-var-attrs'><dl class='xr-attrs'><dt><span>long_name :</span></dt><dd>A unitless value that is indicative of bare soil roughness used in DCA within the 36 km grid cell.</dd><dt><span>valid_max :</span></dt><dd>1.0</dd><dt><span>valid_min :</span></dt><dd>0.0</dd></dl></div><div class='xr-var-data'><pre>[391384 values with dtype=float32]</pre></div></li><li class='xr-var-item'><div class='xr-var-name'><span>roughness_coefficient_scah</span></div><div class='xr-var-dims'>(phony_dim_0, phony_dim_1)</div><div class='xr-var-dtype'>float32</div><div class='xr-var-preview xr-preview'>...</div><input id='attrs-5131de96-e2a5-4a47-8404-5f142f268a22' class='xr-var-attrs-in' type='checkbox' ><label for='attrs-5131de96-e2a5-4a47-8404-5f142f268a22' title='Show/Hide attributes'><svg class='icon xr-icon-file-text2'><use xlink:href='#icon-file-text2'></use></svg></label><input id='data-6179cca7-d13b-4d09-a415-c6e2d950efec' class='xr-var-data-in' type='checkbox'><label for='data-6179cca7-d13b-4d09-a415-c6e2d950efec' title='Show/Hide data repr'><svg class='icon xr-icon-database'><use xlink:href='#icon-database'></use></svg></label><div class='xr-var-attrs'><dl class='xr-attrs'><dt><span>long_name :</span></dt><dd>A unitless value that is indicative of bare soil roughness used in SCA-H within the 36 km grid cell.</dd><dt><span>valid_max :</span></dt><dd>1.0</dd><dt><span>valid_min :</span></dt><dd>0.0</dd></dl></div><div class='xr-var-data'><pre>[391384 values with dtype=float32]</pre></div></li><li class='xr-var-item'><div class='xr-var-name'><span>roughness_coefficient_scav</span></div><div class='xr-var-dims'>(phony_dim_0, phony_dim_1)</div><div class='xr-var-dtype'>float32</div><div class='xr-var-preview xr-preview'>...</div><input id='attrs-b845a271-7dab-43de-b111-f8453cf1ac3a' class='xr-var-attrs-in' type='checkbox' ><label for='attrs-b845a271-7dab-43de-b111-f8453cf1ac3a' title='Show/Hide attributes'><svg class='icon xr-icon-file-text2'><use xlink:href='#icon-file-text2'></use></svg></label><input id='data-959727c5-0fc7-469a-81a0-cbcacf6062d7' class='xr-var-data-in' type='checkbox'><label for='data-959727c5-0fc7-469a-81a0-cbcacf6062d7' title='Show/Hide data repr'><svg class='icon xr-icon-database'><use xlink:href='#icon-database'></use></svg></label><div class='xr-var-attrs'><dl class='xr-attrs'><dt><span>long_name :</span></dt><dd>A unitless value that is indicative of bare soil roughness used in SCA-V within the 36 km grid cell.</dd><dt><span>valid_max :</span></dt><dd>1.0</dd><dt><span>valid_min :</span></dt><dd>0.0</dd></dl></div><div class='xr-var-data'><pre>[391384 values with dtype=float32]</pre></div></li><li class='xr-var-item'><div class='xr-var-name'><span>soil_moisture</span></div><div class='xr-var-dims'>(phony_dim_0, phony_dim_1)</div><div class='xr-var-dtype'>float32</div><div class='xr-var-preview xr-preview'>...</div><input id='attrs-516c24d8-a5a8-4d5b-b22a-8d4ac280f6ff' class='xr-var-attrs-in' type='checkbox' ><label for='attrs-516c24d8-a5a8-4d5b-b22a-8d4ac280f6ff' title='Show/Hide attributes'><svg class='icon xr-icon-file-text2'><use xlink:href='#icon-file-text2'></use></svg></label><input id='data-3ec56fbf-9516-4cf6-8a4c-fb737892caea' class='xr-var-data-in' type='checkbox'><label for='data-3ec56fbf-9516-4cf6-8a4c-fb737892caea' title='Show/Hide data repr'><svg class='icon xr-icon-database'><use xlink:href='#icon-database'></use></svg></label><div class='xr-var-attrs'><dl class='xr-attrs'><dt><span>long_name :</span></dt><dd>Representative DCA soil moisture measurement for the Earth based grid cell.</dd><dt><span>units :</span></dt><dd>cm**3/cm**3</dd><dt><span>valid_max :</span></dt><dd>0.5</dd><dt><span>valid_min :</span></dt><dd>0.02</dd></dl></div><div class='xr-var-data'><pre>[391384 values with dtype=float32]</pre></div></li><li class='xr-var-item'><div class='xr-var-name'><span>soil_moisture_dca</span></div><div class='xr-var-dims'>(phony_dim_0, phony_dim_1)</div><div class='xr-var-dtype'>float32</div><div class='xr-var-preview xr-preview'>...</div><input id='attrs-c4d1410f-7bc6-49c5-b7ed-c0cfe418f84f' class='xr-var-attrs-in' type='checkbox' ><label for='attrs-c4d1410f-7bc6-49c5-b7ed-c0cfe418f84f' title='Show/Hide attributes'><svg class='icon xr-icon-file-text2'><use xlink:href='#icon-file-text2'></use></svg></label><input id='data-f1609794-5918-45f1-9594-1de37a1fe46d' class='xr-var-data-in' type='checkbox'><label for='data-f1609794-5918-45f1-9594-1de37a1fe46d' title='Show/Hide data repr'><svg class='icon xr-icon-database'><use xlink:href='#icon-database'></use></svg></label><div class='xr-var-attrs'><dl class='xr-attrs'><dt><span>long_name :</span></dt><dd>Representative DCA soil moisture measurement for the Earth based grid cell.</dd><dt><span>units :</span></dt><dd>cm**3/cm**3</dd><dt><span>valid_max :</span></dt><dd>0.5</dd><dt><span>valid_min :</span></dt><dd>0.02</dd></dl></div><div class='xr-var-data'><pre>[391384 values with dtype=float32]</pre></div></li><li class='xr-var-item'><div class='xr-var-name'><span>soil_moisture_error</span></div><div class='xr-var-dims'>(phony_dim_0, phony_dim_1)</div><div class='xr-var-dtype'>float32</div><div class='xr-var-preview xr-preview'>...</div><input id='attrs-fe94654e-18ac-481b-933a-4878bb1b45a3' class='xr-var-attrs-in' type='checkbox' ><label for='attrs-fe94654e-18ac-481b-933a-4878bb1b45a3' title='Show/Hide attributes'><svg class='icon xr-icon-file-text2'><use xlink:href='#icon-file-text2'></use></svg></label><input id='data-a36cfb31-40bb-436d-9173-da28f6ddcd84' class='xr-var-data-in' type='checkbox'><label for='data-a36cfb31-40bb-436d-9173-da28f6ddcd84' title='Show/Hide data repr'><svg class='icon xr-icon-database'><use xlink:href='#icon-database'></use></svg></label><div class='xr-var-attrs'><dl class='xr-attrs'><dt><span>long_name :</span></dt><dd>Net uncertainty measure of soil moisture measure for the Earth based grid cell. - Calculation method is TBD.</dd><dt><span>units :</span></dt><dd>cm**3/cm**3</dd><dt><span>valid_max :</span></dt><dd>0.2</dd><dt><span>valid_min :</span></dt><dd>0.0</dd></dl></div><div class='xr-var-data'><pre>[391384 values with dtype=float32]</pre></div></li><li class='xr-var-item'><div class='xr-var-name'><span>soil_moisture_scah</span></div><div class='xr-var-dims'>(phony_dim_0, phony_dim_1)</div><div class='xr-var-dtype'>float32</div><div class='xr-var-preview xr-preview'>...</div><input id='attrs-4635f1cf-c00d-49a8-8302-354664bd280a' class='xr-var-attrs-in' type='checkbox' ><label for='attrs-4635f1cf-c00d-49a8-8302-354664bd280a' title='Show/Hide attributes'><svg class='icon xr-icon-file-text2'><use xlink:href='#icon-file-text2'></use></svg></label><input id='data-1098d38c-3ee7-440f-9c3f-46eeff95e118' class='xr-var-data-in' type='checkbox'><label for='data-1098d38c-3ee7-440f-9c3f-46eeff95e118' title='Show/Hide data repr'><svg class='icon xr-icon-database'><use xlink:href='#icon-database'></use></svg></label><div class='xr-var-attrs'><dl class='xr-attrs'><dt><span>long_name :</span></dt><dd>Representative SCA-H soil moisture measurement for the Earth based grid cell.</dd><dt><span>units :</span></dt><dd>cm**3/cm**3</dd><dt><span>valid_max :</span></dt><dd>0.5</dd><dt><span>valid_min :</span></dt><dd>0.02</dd></dl></div><div class='xr-var-data'><pre>[391384 values with dtype=float32]</pre></div></li><li class='xr-var-item'><div class='xr-var-name'><span>soil_moisture_scav</span></div><div class='xr-var-dims'>(phony_dim_0, phony_dim_1)</div><div class='xr-var-dtype'>float32</div><div class='xr-var-preview xr-preview'>...</div><input id='attrs-ac2f84cd-eb7f-43fc-87e1-1d80f2cc414e' class='xr-var-attrs-in' type='checkbox' ><label for='attrs-ac2f84cd-eb7f-43fc-87e1-1d80f2cc414e' title='Show/Hide attributes'><svg class='icon xr-icon-file-text2'><use xlink:href='#icon-file-text2'></use></svg></label><input id='data-554f8e59-8f32-45d9-a8d6-456e4ed7c0a6' class='xr-var-data-in' type='checkbox'><label for='data-554f8e59-8f32-45d9-a8d6-456e4ed7c0a6' title='Show/Hide data repr'><svg class='icon xr-icon-database'><use xlink:href='#icon-database'></use></svg></label><div class='xr-var-attrs'><dl class='xr-attrs'><dt><span>long_name :</span></dt><dd>Representative SCA-V soil moisture measurement for the Earth based grid cell.</dd><dt><span>units :</span></dt><dd>cm**3/cm**3</dd><dt><span>valid_max :</span></dt><dd>0.5</dd><dt><span>valid_min :</span></dt><dd>0.02</dd></dl></div><div class='xr-var-data'><pre>[391384 values with dtype=float32]</pre></div></li><li class='xr-var-item'><div class='xr-var-name'><span>static_water_body_fraction</span></div><div class='xr-var-dims'>(phony_dim_0, phony_dim_1)</div><div class='xr-var-dtype'>float32</div><div class='xr-var-preview xr-preview'>...</div><input id='attrs-0a080f4b-8753-4244-ba78-f18249fbd268' class='xr-var-attrs-in' type='checkbox' ><label for='attrs-0a080f4b-8753-4244-ba78-f18249fbd268' title='Show/Hide attributes'><svg class='icon xr-icon-file-text2'><use xlink:href='#icon-file-text2'></use></svg></label><input id='data-fcb8b3ea-8360-4499-b2b3-22d1e3065d03' class='xr-var-data-in' type='checkbox'><label for='data-fcb8b3ea-8360-4499-b2b3-22d1e3065d03' title='Show/Hide data repr'><svg class='icon xr-icon-database'><use xlink:href='#icon-database'></use></svg></label><div class='xr-var-attrs'><dl class='xr-attrs'><dt><span>long_name :</span></dt><dd>The fraction of the area of the 36 km grid cell that is covered by static water based on a Digital Elevation Map.</dd><dt><span>valid_max :</span></dt><dd>1.0</dd><dt><span>valid_min :</span></dt><dd>0.0</dd></dl></div><div class='xr-var-data'><pre>[391384 values with dtype=float32]</pre></div></li><li class='xr-var-item'><div class='xr-var-name'><span>surface_flag</span></div><div class='xr-var-dims'>(phony_dim_0, phony_dim_1)</div><div class='xr-var-dtype'>float32</div><div class='xr-var-preview xr-preview'>...</div><input id='attrs-b9589fb1-96d6-4643-8d82-6ac5455db3e5' class='xr-var-attrs-in' type='checkbox' ><label for='attrs-b9589fb1-96d6-4643-8d82-6ac5455db3e5' title='Show/Hide attributes'><svg class='icon xr-icon-file-text2'><use xlink:href='#icon-file-text2'></use></svg></label><input id='data-d8abfc1e-bcf2-4f5e-a5d7-2ab12e7c3686' class='xr-var-data-in' type='checkbox'><label for='data-d8abfc1e-bcf2-4f5e-a5d7-2ab12e7c3686' title='Show/Hide data repr'><svg class='icon xr-icon-database'><use xlink:href='#icon-database'></use></svg></label><div class='xr-var-attrs'><dl class='xr-attrs'><dt><span>flag_masks :</span></dt><dd>1s, 2s, 4s, 8s, 16s, 32s, 64s, 128s, 256s, 512s, 1024s, 2048s</dd><dt><span>flag_meanings :</span></dt><dd>36_km_static_water_body 36_km_radar_water_body_detection 36_km_coastal_proximity 36_km_urban_area 36_km_precipitation 36_km_snow_or_ice 36_km_permanent_snow_or_ice 36_km_radiometer_frozen_ground 36_km_model_frozen_ground 36_km_mountainous_terrain 36_km_dense_vegetation 36_km_nadir_region</dd><dt><span>long_name :</span></dt><dd>Bit flags that record ambient surface conditions for the grid cell</dd></dl></div><div class='xr-var-data'><pre>[391384 values with dtype=float32]</pre></div></li><li class='xr-var-item'><div class='xr-var-name'><span>surface_temperature</span></div><div class='xr-var-dims'>(phony_dim_0, phony_dim_1)</div><div class='xr-var-dtype'>float32</div><div class='xr-var-preview xr-preview'>...</div><input id='attrs-f10083e9-1ca1-4694-8ad7-987b1d145b58' class='xr-var-attrs-in' type='checkbox' ><label for='attrs-f10083e9-1ca1-4694-8ad7-987b1d145b58' title='Show/Hide attributes'><svg class='icon xr-icon-file-text2'><use xlink:href='#icon-file-text2'></use></svg></label><input id='data-b6dbf3a7-abd4-4025-b87b-d2939eb7e331' class='xr-var-data-in' type='checkbox'><label for='data-b6dbf3a7-abd4-4025-b87b-d2939eb7e331' title='Show/Hide data repr'><svg class='icon xr-icon-database'><use xlink:href='#icon-database'></use></svg></label><div class='xr-var-attrs'><dl class='xr-attrs'><dt><span>long_name :</span></dt><dd>Temperature at land surface based on GMAO GEOS-5 data.</dd><dt><span>units :</span></dt><dd>Kelvins</dd><dt><span>valid_max :</span></dt><dd>350.0</dd><dt><span>valid_min :</span></dt><dd>0.0</dd></dl></div><div class='xr-var-data'><pre>[391384 values with dtype=float32]</pre></div></li><li class='xr-var-item'><div class='xr-var-name'><span>surface_water_fraction_mb_h</span></div><div class='xr-var-dims'>(phony_dim_0, phony_dim_1)</div><div class='xr-var-dtype'>float32</div><div class='xr-var-preview xr-preview'>...</div><input id='attrs-4fc994ca-7fa1-4eae-9b8a-1720a5b2e88e' class='xr-var-attrs-in' type='checkbox' ><label for='attrs-4fc994ca-7fa1-4eae-9b8a-1720a5b2e88e' title='Show/Hide attributes'><svg class='icon xr-icon-file-text2'><use xlink:href='#icon-file-text2'></use></svg></label><input id='data-5da0b17a-1698-4e43-a00d-61f2be9ff089' class='xr-var-data-in' type='checkbox'><label for='data-5da0b17a-1698-4e43-a00d-61f2be9ff089' title='Show/Hide data repr'><svg class='icon xr-icon-database'><use xlink:href='#icon-database'></use></svg></label><div class='xr-var-attrs'><dl class='xr-attrs'><dt><span>long_name :</span></dt><dd>Gain weighted fraction of static water within the radiometer horizontal polarization brightness temperature antenna pattern in 36 km Earth grid cell.</dd><dt><span>valid_max :</span></dt><dd>1.0</dd><dt><span>valid_min :</span></dt><dd>0.0</dd></dl></div><div class='xr-var-data'><pre>[391384 values with dtype=float32]</pre></div></li><li class='xr-var-item'><div class='xr-var-name'><span>surface_water_fraction_mb_v</span></div><div class='xr-var-dims'>(phony_dim_0, phony_dim_1)</div><div class='xr-var-dtype'>float32</div><div class='xr-var-preview xr-preview'>...</div><input id='attrs-495d2fcc-d949-49cf-a2de-03638a9f1ddb' class='xr-var-attrs-in' type='checkbox' ><label for='attrs-495d2fcc-d949-49cf-a2de-03638a9f1ddb' title='Show/Hide attributes'><svg class='icon xr-icon-file-text2'><use xlink:href='#icon-file-text2'></use></svg></label><input id='data-b9faf4f1-bf54-4dc2-b89a-e51b7fc51fe2' class='xr-var-data-in' type='checkbox'><label for='data-b9faf4f1-bf54-4dc2-b89a-e51b7fc51fe2' title='Show/Hide data repr'><svg class='icon xr-icon-database'><use xlink:href='#icon-database'></use></svg></label><div class='xr-var-attrs'><dl class='xr-attrs'><dt><span>long_name :</span></dt><dd>Gain weighted fraction of static water within the radiometer vertical polarization brightness temperature antenna pattern in 36 km Earth grid cell.</dd><dt><span>valid_max :</span></dt><dd>1.0</dd><dt><span>valid_min :</span></dt><dd>0.0</dd></dl></div><div class='xr-var-data'><pre>[391384 values with dtype=float32]</pre></div></li><li class='xr-var-item'><div class='xr-var-name'><span>tb_3_corrected</span></div><div class='xr-var-dims'>(phony_dim_0, phony_dim_1)</div><div class='xr-var-dtype'>float32</div><div class='xr-var-preview xr-preview'>...</div><input id='attrs-40ba479e-0208-4cdc-966a-8f747b7924c3' class='xr-var-attrs-in' type='checkbox' ><label for='attrs-40ba479e-0208-4cdc-966a-8f747b7924c3' title='Show/Hide attributes'><svg class='icon xr-icon-file-text2'><use xlink:href='#icon-file-text2'></use></svg></label><input id='data-ef9fbf84-0530-445e-9eb2-3e080d10bfba' class='xr-var-data-in' type='checkbox'><label for='data-ef9fbf84-0530-445e-9eb2-3e080d10bfba' title='Show/Hide data repr'><svg class='icon xr-icon-database'><use xlink:href='#icon-database'></use></svg></label><div class='xr-var-attrs'><dl class='xr-attrs'><dt><span>long_name :</span></dt><dd>Third stokes parameter for each 36 km grid cell calculated with an adjustment for the presence of water bodies</dd><dt><span>units :</span></dt><dd>Kelvin</dd><dt><span>valid_max :</span></dt><dd>330.0</dd><dt><span>valid_min :</span></dt><dd>0.0</dd></dl></div><div class='xr-var-data'><pre>[391384 values with dtype=float32]</pre></div></li><li class='xr-var-item'><div class='xr-var-name'><span>tb_4_corrected</span></div><div class='xr-var-dims'>(phony_dim_0, phony_dim_1)</div><div class='xr-var-dtype'>float32</div><div class='xr-var-preview xr-preview'>...</div><input id='attrs-7df8db36-8254-4e58-b207-9741c7aae811' class='xr-var-attrs-in' type='checkbox' ><label for='attrs-7df8db36-8254-4e58-b207-9741c7aae811' title='Show/Hide attributes'><svg class='icon xr-icon-file-text2'><use xlink:href='#icon-file-text2'></use></svg></label><input id='data-ec7586dc-5929-4386-ac5f-c274c76af81a' class='xr-var-data-in' type='checkbox'><label for='data-ec7586dc-5929-4386-ac5f-c274c76af81a' title='Show/Hide data repr'><svg class='icon xr-icon-database'><use xlink:href='#icon-database'></use></svg></label><div class='xr-var-attrs'><dl class='xr-attrs'><dt><span>long_name :</span></dt><dd>Fourth stokes parameter for each 36 km grid cell calculated with an adjustment for the presence of water bodies</dd><dt><span>units :</span></dt><dd>Kelvin</dd><dt><span>valid_max :</span></dt><dd>330.0</dd><dt><span>valid_min :</span></dt><dd>0.0</dd></dl></div><div class='xr-var-data'><pre>[391384 values with dtype=float32]</pre></div></li><li class='xr-var-item'><div class='xr-var-name'><span>tb_h_corrected</span></div><div class='xr-var-dims'>(phony_dim_0, phony_dim_1)</div><div class='xr-var-dtype'>float32</div><div class='xr-var-preview xr-preview'>...</div><input id='attrs-df3a4795-e02a-40c1-a10e-14c4bcc7b393' class='xr-var-attrs-in' type='checkbox' ><label for='attrs-df3a4795-e02a-40c1-a10e-14c4bcc7b393' title='Show/Hide attributes'><svg class='icon xr-icon-file-text2'><use xlink:href='#icon-file-text2'></use></svg></label><input id='data-cfa9bcfb-39d7-4540-b435-49cecefce826' class='xr-var-data-in' type='checkbox'><label for='data-cfa9bcfb-39d7-4540-b435-49cecefce826' title='Show/Hide data repr'><svg class='icon xr-icon-database'><use xlink:href='#icon-database'></use></svg></label><div class='xr-var-attrs'><dl class='xr-attrs'><dt><span>long_name :</span></dt><dd>Horizontal polarization brightness temperature in 36 km Earth grid cell adjusted for the presence of water bodies.</dd><dt><span>units :</span></dt><dd>Kelvin</dd><dt><span>valid_max :</span></dt><dd>330.0</dd><dt><span>valid_min :</span></dt><dd>0.0</dd></dl></div><div class='xr-var-data'><pre>[391384 values with dtype=float32]</pre></div></li><li class='xr-var-item'><div class='xr-var-name'><span>tb_h_uncorrected</span></div><div class='xr-var-dims'>(phony_dim_0, phony_dim_1)</div><div class='xr-var-dtype'>float32</div><div class='xr-var-preview xr-preview'>...</div><input id='attrs-eaf4940b-3f83-478b-bd73-4522ffc54ad5' class='xr-var-attrs-in' type='checkbox' ><label for='attrs-eaf4940b-3f83-478b-bd73-4522ffc54ad5' title='Show/Hide attributes'><svg class='icon xr-icon-file-text2'><use xlink:href='#icon-file-text2'></use></svg></label><input id='data-8b7475fc-ae99-46d4-a617-08084740a8a0' class='xr-var-data-in' type='checkbox'><label for='data-8b7475fc-ae99-46d4-a617-08084740a8a0' title='Show/Hide data repr'><svg class='icon xr-icon-database'><use xlink:href='#icon-database'></use></svg></label><div class='xr-var-attrs'><dl class='xr-attrs'><dt><span>long_name :</span></dt><dd>Horizontal polarization brightness temperature in 36 km Earth grid cell before adjustment for the presence of water bodies.</dd><dt><span>units :</span></dt><dd>Kelvin</dd><dt><span>valid_max :</span></dt><dd>330.0</dd><dt><span>valid_min :</span></dt><dd>0.0</dd></dl></div><div class='xr-var-data'><pre>[391384 values with dtype=float32]</pre></div></li><li class='xr-var-item'><div class='xr-var-name'><span>tb_qual_flag_3</span></div><div class='xr-var-dims'>(phony_dim_0, phony_dim_1)</div><div class='xr-var-dtype'>float32</div><div class='xr-var-preview xr-preview'>...</div><input id='attrs-72ddee68-8d62-40fc-8cbe-5bd8374e7931' class='xr-var-attrs-in' type='checkbox' ><label for='attrs-72ddee68-8d62-40fc-8cbe-5bd8374e7931' title='Show/Hide attributes'><svg class='icon xr-icon-file-text2'><use xlink:href='#icon-file-text2'></use></svg></label><input id='data-eb9b224d-0c91-41e5-aef9-a55c5671d84e' class='xr-var-data-in' type='checkbox'><label for='data-eb9b224d-0c91-41e5-aef9-a55c5671d84e' title='Show/Hide data repr'><svg class='icon xr-icon-database'><use xlink:href='#icon-database'></use></svg></label><div class='xr-var-attrs'><dl class='xr-attrs'><dt><span>flag_masks :</span></dt><dd>1s, 2s, 4s, 8s, 16s, 32s, 64s, 128s, 256s, 512s, 1024s, 4096s, 16384s, 32768s</dd><dt><span>flag_meanings :</span></dt><dd>3rd_Stokes_quality 3rd_Stokes_range 3rd_Stokes_RFI_detection 3rd_Stokes_RFI_correction 3rd_Stokes_NEDT 3rd_Stokes_direct_sun_correction 3rd_Stokes_reflected_sun_correction 3rd_Stokes_reflected_moon_correction 3rd_Stokes_direct_galaxy_correction 3rd_Stokes_reflected_galaxy_correction 3rd_Stokes_atmosphere_correction 3rd_Stokes_null_value_bit 3rd_Stokes_RFI_check 3rd_Stokes_RFI_clean</dd><dt><span>long_name :</span></dt><dd>Bit flags that represent the quality of the 3rd Stokes brightness temperature within each grid cell</dd></dl></div><div class='xr-var-data'><pre>[391384 values with dtype=float32]</pre></div></li><li class='xr-var-item'><div class='xr-var-name'><span>tb_qual_flag_4</span></div><div class='xr-var-dims'>(phony_dim_0, phony_dim_1)</div><div class='xr-var-dtype'>float32</div><div class='xr-var-preview xr-preview'>...</div><input id='attrs-3b0a4c1e-7d4d-4037-86ce-c7aa05d1e84d' class='xr-var-attrs-in' type='checkbox' ><label for='attrs-3b0a4c1e-7d4d-4037-86ce-c7aa05d1e84d' title='Show/Hide attributes'><svg class='icon xr-icon-file-text2'><use xlink:href='#icon-file-text2'></use></svg></label><input id='data-1b6041fd-d3d5-463f-bc3d-1ab2fe118676' class='xr-var-data-in' type='checkbox'><label for='data-1b6041fd-d3d5-463f-bc3d-1ab2fe118676' title='Show/Hide data repr'><svg class='icon xr-icon-database'><use xlink:href='#icon-database'></use></svg></label><div class='xr-var-attrs'><dl class='xr-attrs'><dt><span>flag_masks :</span></dt><dd>1s, 2s, 4s, 8s, 16s, 32s, 64s, 128s, 256s, 512s, 1024s, 4096s, 16384s, 32768s</dd><dt><span>flag_meanings :</span></dt><dd>4th_Stokes_quality 4th_Stokes_range 4th_Stokes_RFI_detection 4th_Stokes_RFI_correction 4th_Stokes_NEDT 4th_Stokes_direct_sun_correction 4th_Stokes_reflected_sun_correction 4th_Stokes_reflected_moon_correction 4th_Stokes_direct_galaxy_correction 4th_Stokes_reflected_galaxy_correction 4th_Stokes_atmosphere_correction 4th_Stokes_null_value_bit 4th_Stokes_RFI_check 4th_Stokes_RFI_clean</dd><dt><span>long_name :</span></dt><dd>Bit flags that represent the quality of the 4th Stokes brightness temperature within each grid cell</dd></dl></div><div class='xr-var-data'><pre>[391384 values with dtype=float32]</pre></div></li><li class='xr-var-item'><div class='xr-var-name'><span>tb_qual_flag_h</span></div><div class='xr-var-dims'>(phony_dim_0, phony_dim_1)</div><div class='xr-var-dtype'>float32</div><div class='xr-var-preview xr-preview'>...</div><input id='attrs-3a55b6c3-ec59-46a3-b810-25a0556782c5' class='xr-var-attrs-in' type='checkbox' ><label for='attrs-3a55b6c3-ec59-46a3-b810-25a0556782c5' title='Show/Hide attributes'><svg class='icon xr-icon-file-text2'><use xlink:href='#icon-file-text2'></use></svg></label><input id='data-3b78646e-34f7-432b-bb6c-902bafbcfe88' class='xr-var-data-in' type='checkbox'><label for='data-3b78646e-34f7-432b-bb6c-902bafbcfe88' title='Show/Hide data repr'><svg class='icon xr-icon-database'><use xlink:href='#icon-database'></use></svg></label><div class='xr-var-attrs'><dl class='xr-attrs'><dt><span>flag_masks :</span></dt><dd>1s, 2s, 4s, 8s, 16s, 32s, 64s, 128s, 256s, 512s, 1024s, 2048s, 4096s, 8192s, 16384s, 32768s</dd><dt><span>flag_meanings :</span></dt><dd>Horizontal_polarization_quality Horizontal_polarization_range Horizontal_polarization_RFI_detection Horizontal_polarization_RFI_correction Horizontal_polarization_NEDT Horizontal_polarization_direct_sun_correction Horizontal_polarization_reflected_sun_correction Horizontal_polarization_reflected_moon_correction Horizontal_polarization_direct_galaxy_correction Horizontal_polarization_reflected_galaxy_correction Horizontal_polarization_atmosphere_correction Horizontal_polarization_Faraday_rotation_correction Horizontal_polarization_null_value_bit Horizontal_polarization_water_correction Horizontal_polarization_RFI_check Horizontal_polarization_RFI_clean</dd><dt><span>long_name :</span></dt><dd>Bit flags that represent the quality of the horizontal polarization brightness temperature within each grid cell</dd></dl></div><div class='xr-var-data'><pre>[391384 values with dtype=float32]</pre></div></li><li class='xr-var-item'><div class='xr-var-name'><span>tb_qual_flag_v</span></div><div class='xr-var-dims'>(phony_dim_0, phony_dim_1)</div><div class='xr-var-dtype'>float32</div><div class='xr-var-preview xr-preview'>...</div><input id='attrs-8ba35886-482b-451f-9374-bb06e158f827' class='xr-var-attrs-in' type='checkbox' ><label for='attrs-8ba35886-482b-451f-9374-bb06e158f827' title='Show/Hide attributes'><svg class='icon xr-icon-file-text2'><use xlink:href='#icon-file-text2'></use></svg></label><input id='data-c633d1df-00db-48cf-b831-0ced4fe17027' class='xr-var-data-in' type='checkbox'><label for='data-c633d1df-00db-48cf-b831-0ced4fe17027' title='Show/Hide data repr'><svg class='icon xr-icon-database'><use xlink:href='#icon-database'></use></svg></label><div class='xr-var-attrs'><dl class='xr-attrs'><dt><span>flag_masks :</span></dt><dd>1s, 2s, 4s, 8s, 16s, 32s, 64s, 128s, 256s, 512s, 1024s, 2048s, 4096s, 8192s, 16384s, 32768s</dd><dt><span>flag_meanings :</span></dt><dd>Vertical_polarization_quality Vertical_polarization_range Vertical_polarization_RFI_detection Vertical_polarization_RFI_correction Vertical_polarization_NEDT Vertical_polarization_direct_sun_correction Vertical_polarization_reflected_sun_correction Vertical_polarization_reflected_moon_correction Vertical_polarization_direct_galaxy_correction Vertical_polarization_reflected_galaxy_correction Vertical_polarization_atmosphere_correction Vertical_polarization_Faraday_rotation_correction Vertical_polarization_null_value_bit Vertical_polarization_water_correction Vertical_polarization_RFI_check Vertical_polarization_RFI_clean</dd><dt><span>long_name :</span></dt><dd>Bit flags that represent the quality of the vertical polarization brightness temperature within each grid cell</dd></dl></div><div class='xr-var-data'><pre>[391384 values with dtype=float32]</pre></div></li><li class='xr-var-item'><div class='xr-var-name'><span>tb_time_seconds</span></div><div class='xr-var-dims'>(phony_dim_0, phony_dim_1)</div><div class='xr-var-dtype'>timedelta64[ns]</div><div class='xr-var-preview xr-preview'>...</div><input id='attrs-08ce01c6-86d3-4441-81ac-29385d6630de' class='xr-var-attrs-in' type='checkbox' ><label for='attrs-08ce01c6-86d3-4441-81ac-29385d6630de' title='Show/Hide attributes'><svg class='icon xr-icon-file-text2'><use xlink:href='#icon-file-text2'></use></svg></label><input id='data-3c25c3dd-223d-4159-8ed6-7470d4814b0c' class='xr-var-data-in' type='checkbox'><label for='data-3c25c3dd-223d-4159-8ed6-7470d4814b0c' title='Show/Hide data repr'><svg class='icon xr-icon-database'><use xlink:href='#icon-database'></use></svg></label><div class='xr-var-attrs'><dl class='xr-attrs'><dt><span>long_name :</span></dt><dd>Arithmetic average of the acquisition time of all of the brightness temperature footprints with a center that falls within the EASE grid cell in seconds since noon on January 1, 2000 UTC.</dd><dt><span>valid_max :</span></dt><dd>940000000.0</dd><dt><span>valid_min :</span></dt><dd>-999999.9</dd></dl></div><div class='xr-var-data'><pre>[391384 values with dtype=timedelta64[ns]]</pre></div></li><li class='xr-var-item'><div class='xr-var-name'><span>tb_time_utc</span></div><div class='xr-var-dims'>(phony_dim_0, phony_dim_1)</div><div class='xr-var-dtype'>|S24</div><div class='xr-var-preview xr-preview'>...</div><input id='attrs-ee07ae8e-d61c-4e24-8b1b-c31acdcede59' class='xr-var-attrs-in' type='checkbox' ><label for='attrs-ee07ae8e-d61c-4e24-8b1b-c31acdcede59' title='Show/Hide attributes'><svg class='icon xr-icon-file-text2'><use xlink:href='#icon-file-text2'></use></svg></label><input id='data-3e6b5f93-21e2-4ca2-92c7-e76357bcc3d8' class='xr-var-data-in' type='checkbox'><label for='data-3e6b5f93-21e2-4ca2-92c7-e76357bcc3d8' title='Show/Hide data repr'><svg class='icon xr-icon-database'><use xlink:href='#icon-database'></use></svg></label><div class='xr-var-attrs'><dl class='xr-attrs'><dt><span>long_name :</span></dt><dd>Arithmetic average of the acquisition time of all of the brightness temperature footprints with a center that falls within the EASE grid cell in UTC.</dd></dl></div><div class='xr-var-data'><pre>[391384 values with dtype=|S24]</pre></div></li><li class='xr-var-item'><div class='xr-var-name'><span>tb_v_corrected</span></div><div class='xr-var-dims'>(phony_dim_0, phony_dim_1)</div><div class='xr-var-dtype'>float32</div><div class='xr-var-preview xr-preview'>...</div><input id='attrs-ceeffe3b-1d16-4fb4-9457-038db27227c7' class='xr-var-attrs-in' type='checkbox' ><label for='attrs-ceeffe3b-1d16-4fb4-9457-038db27227c7' title='Show/Hide attributes'><svg class='icon xr-icon-file-text2'><use xlink:href='#icon-file-text2'></use></svg></label><input id='data-b0f9bf33-b879-4b42-8225-4c2ebc691c41' class='xr-var-data-in' type='checkbox'><label for='data-b0f9bf33-b879-4b42-8225-4c2ebc691c41' title='Show/Hide data repr'><svg class='icon xr-icon-database'><use xlink:href='#icon-database'></use></svg></label><div class='xr-var-attrs'><dl class='xr-attrs'><dt><span>long_name :</span></dt><dd>Vertical polarization brightness temperature in 36 km Earth grid cell adjusted for the presence of water bodies.</dd><dt><span>units :</span></dt><dd>Kelvin</dd><dt><span>valid_max :</span></dt><dd>330.0</dd><dt><span>valid_min :</span></dt><dd>0.0</dd></dl></div><div class='xr-var-data'><pre>[391384 values with dtype=float32]</pre></div></li><li class='xr-var-item'><div class='xr-var-name'><span>tb_v_uncorrected</span></div><div class='xr-var-dims'>(phony_dim_0, phony_dim_1)</div><div class='xr-var-dtype'>float32</div><div class='xr-var-preview xr-preview'>...</div><input id='attrs-f964e52d-de49-491a-8520-2b773187bebc' class='xr-var-attrs-in' type='checkbox' ><label for='attrs-f964e52d-de49-491a-8520-2b773187bebc' title='Show/Hide attributes'><svg class='icon xr-icon-file-text2'><use xlink:href='#icon-file-text2'></use></svg></label><input id='data-1d91eb02-af58-4a6e-be22-ccb07e922556' class='xr-var-data-in' type='checkbox'><label for='data-1d91eb02-af58-4a6e-be22-ccb07e922556' title='Show/Hide data repr'><svg class='icon xr-icon-database'><use xlink:href='#icon-database'></use></svg></label><div class='xr-var-attrs'><dl class='xr-attrs'><dt><span>long_name :</span></dt><dd>Vertical polarization brightness temperature in 36 km Earth grid cell before adjustment for the presence of water bodies.</dd><dt><span>units :</span></dt><dd>Kelvin</dd><dt><span>valid_max :</span></dt><dd>330.0</dd><dt><span>valid_min :</span></dt><dd>0.0</dd></dl></div><div class='xr-var-data'><pre>[391384 values with dtype=float32]</pre></div></li><li class='xr-var-item'><div class='xr-var-name'><span>vegetation_opacity</span></div><div class='xr-var-dims'>(phony_dim_0, phony_dim_1)</div><div class='xr-var-dtype'>float32</div><div class='xr-var-preview xr-preview'>...</div><input id='attrs-158ab709-9f81-4a40-a751-9e2338128226' class='xr-var-attrs-in' type='checkbox' ><label for='attrs-158ab709-9f81-4a40-a751-9e2338128226' title='Show/Hide attributes'><svg class='icon xr-icon-file-text2'><use xlink:href='#icon-file-text2'></use></svg></label><input id='data-851f8c1b-71d1-4f06-b311-bc86f63ca874' class='xr-var-data-in' type='checkbox'><label for='data-851f8c1b-71d1-4f06-b311-bc86f63ca874' title='Show/Hide data repr'><svg class='icon xr-icon-database'><use xlink:href='#icon-database'></use></svg></label><div class='xr-var-attrs'><dl class='xr-attrs'><dt><span>long_name :</span></dt><dd>The measured opacity of the vegetation used in the DCA retrieval in the grid cell.</dd><dt><span>valid_max :</span></dt><dd>999999.9</dd><dt><span>valid_min :</span></dt><dd>-999999.9</dd></dl></div><div class='xr-var-data'><pre>[391384 values with dtype=float32]</pre></div></li><li class='xr-var-item'><div class='xr-var-name'><span>vegetation_opacity_dca</span></div><div class='xr-var-dims'>(phony_dim_0, phony_dim_1)</div><div class='xr-var-dtype'>float32</div><div class='xr-var-preview xr-preview'>...</div><input id='attrs-9de9753d-936c-432f-88a9-abc823874de9' class='xr-var-attrs-in' type='checkbox' ><label for='attrs-9de9753d-936c-432f-88a9-abc823874de9' title='Show/Hide attributes'><svg class='icon xr-icon-file-text2'><use xlink:href='#icon-file-text2'></use></svg></label><input id='data-012f0495-4bc7-49bd-9cd6-d2b2c50bc543' class='xr-var-data-in' type='checkbox'><label for='data-012f0495-4bc7-49bd-9cd6-d2b2c50bc543' title='Show/Hide data repr'><svg class='icon xr-icon-database'><use xlink:href='#icon-database'></use></svg></label><div class='xr-var-attrs'><dl class='xr-attrs'><dt><span>long_name :</span></dt><dd>The measured opacity of the vegetation used in the DCA retrieval in the grid cell.</dd><dt><span>valid_max :</span></dt><dd>999999.9</dd><dt><span>valid_min :</span></dt><dd>-999999.9</dd></dl></div><div class='xr-var-data'><pre>[391384 values with dtype=float32]</pre></div></li><li class='xr-var-item'><div class='xr-var-name'><span>vegetation_opacity_scah</span></div><div class='xr-var-dims'>(phony_dim_0, phony_dim_1)</div><div class='xr-var-dtype'>float32</div><div class='xr-var-preview xr-preview'>...</div><input id='attrs-df57bf1c-8e0d-471e-bfbc-ba26c5554407' class='xr-var-attrs-in' type='checkbox' ><label for='attrs-df57bf1c-8e0d-471e-bfbc-ba26c5554407' title='Show/Hide attributes'><svg class='icon xr-icon-file-text2'><use xlink:href='#icon-file-text2'></use></svg></label><input id='data-db38d5b5-2523-48e0-8c88-d1eba74c389a' class='xr-var-data-in' type='checkbox'><label for='data-db38d5b5-2523-48e0-8c88-d1eba74c389a' title='Show/Hide data repr'><svg class='icon xr-icon-database'><use xlink:href='#icon-database'></use></svg></label><div class='xr-var-attrs'><dl class='xr-attrs'><dt><span>long_name :</span></dt><dd>The measured opacity of the vegetation used in the SCA-H retrieval in the grid cell.</dd><dt><span>valid_max :</span></dt><dd>999999.9</dd><dt><span>valid_min :</span></dt><dd>-999999.9</dd></dl></div><div class='xr-var-data'><pre>[391384 values with dtype=float32]</pre></div></li><li class='xr-var-item'><div class='xr-var-name'><span>vegetation_opacity_scav</span></div><div class='xr-var-dims'>(phony_dim_0, phony_dim_1)</div><div class='xr-var-dtype'>float32</div><div class='xr-var-preview xr-preview'>...</div><input id='attrs-da5a3b52-6fed-43dc-a03f-d82772dec45f' class='xr-var-attrs-in' type='checkbox' ><label for='attrs-da5a3b52-6fed-43dc-a03f-d82772dec45f' title='Show/Hide attributes'><svg class='icon xr-icon-file-text2'><use xlink:href='#icon-file-text2'></use></svg></label><input id='data-e8534e43-d5fd-4612-937e-b6f25d265f7c' class='xr-var-data-in' type='checkbox'><label for='data-e8534e43-d5fd-4612-937e-b6f25d265f7c' title='Show/Hide data repr'><svg class='icon xr-icon-database'><use xlink:href='#icon-database'></use></svg></label><div class='xr-var-attrs'><dl class='xr-attrs'><dt><span>long_name :</span></dt><dd>The measured opacity of the vegetation used in the SCA-V retrieval in the grid cell.</dd><dt><span>valid_max :</span></dt><dd>999999.9</dd><dt><span>valid_min :</span></dt><dd>-999999.9</dd></dl></div><div class='xr-var-data'><pre>[391384 values with dtype=float32]</pre></div></li><li class='xr-var-item'><div class='xr-var-name'><span>vegetation_water_content</span></div><div class='xr-var-dims'>(phony_dim_0, phony_dim_1)</div><div class='xr-var-dtype'>float32</div><div class='xr-var-preview xr-preview'>...</div><input id='attrs-05abf1e7-3a67-48c1-9689-1154a7fde99d' class='xr-var-attrs-in' type='checkbox' ><label for='attrs-05abf1e7-3a67-48c1-9689-1154a7fde99d' title='Show/Hide attributes'><svg class='icon xr-icon-file-text2'><use xlink:href='#icon-file-text2'></use></svg></label><input id='data-fc3453be-b742-4c41-ac83-a19457376b4d' class='xr-var-data-in' type='checkbox'><label for='data-fc3453be-b742-4c41-ac83-a19457376b4d' title='Show/Hide data repr'><svg class='icon xr-icon-database'><use xlink:href='#icon-database'></use></svg></label><div class='xr-var-attrs'><dl class='xr-attrs'><dt><span>long_name :</span></dt><dd>Representative measure of water in the vegetation within the 36 km grid cell.</dd><dt><span>units :</span></dt><dd>kg/m**2</dd><dt><span>valid_max :</span></dt><dd>20.0</dd><dt><span>valid_min :</span></dt><dd>0.0</dd></dl></div><div class='xr-var-data'><pre>[391384 values with dtype=float32]</pre></div></li></ul></div></li><li class='xr-section-item'><input id='section-f10fa810-6ca6-4086-9921-886c5bccb36a' class='xr-section-summary-in' type='checkbox' disabled ><label for='section-f10fa810-6ca6-4086-9921-886c5bccb36a' class='xr-section-summary'  title='Expand/collapse section'>Indexes: <span>(0)</span></label><div class='xr-section-inline-details'></div><div class='xr-section-details'><ul class='xr-var-list'></ul></div></li><li class='xr-section-item'><input id='section-73a94849-e440-4c37-b277-3f6703392a7b' class='xr-section-summary-in' type='checkbox' disabled ><label for='section-73a94849-e440-4c37-b277-3f6703392a7b' class='xr-section-summary'  title='Expand/collapse section'>Attributes: <span>(0)</span></label><div class='xr-section-inline-details'></div><div class='xr-section-details'><dl class='xr-attrs'></dl></div></li></ul></div></div>"
      ],
      "text/plain": [
       "<xarray.Dataset> Size: 99MB\n",
       "Dimensions:                      (phony_dim_0: 406, phony_dim_1: 964,\n",
       "                                  phony_dim_2: 3)\n",
       "Dimensions without coordinates: phony_dim_0, phony_dim_1, phony_dim_2\n",
       "Data variables: (12/53)\n",
       "    EASE_column_index            (phony_dim_0, phony_dim_1) float32 2MB ...\n",
       "    EASE_row_index               (phony_dim_0, phony_dim_1) float32 2MB ...\n",
       "    albedo                       (phony_dim_0, phony_dim_1) float32 2MB ...\n",
       "    albedo_dca                   (phony_dim_0, phony_dim_1) float32 2MB ...\n",
       "    albedo_scah                  (phony_dim_0, phony_dim_1) float32 2MB ...\n",
       "    albedo_scav                  (phony_dim_0, phony_dim_1) float32 2MB ...\n",
       "    ...                           ...\n",
       "    tb_v_uncorrected             (phony_dim_0, phony_dim_1) float32 2MB ...\n",
       "    vegetation_opacity           (phony_dim_0, phony_dim_1) float32 2MB ...\n",
       "    vegetation_opacity_dca       (phony_dim_0, phony_dim_1) float32 2MB ...\n",
       "    vegetation_opacity_scah      (phony_dim_0, phony_dim_1) float32 2MB ...\n",
       "    vegetation_opacity_scav      (phony_dim_0, phony_dim_1) float32 2MB ...\n",
       "    vegetation_water_content     (phony_dim_0, phony_dim_1) float32 2MB ..."
      ]
     },
     "execution_count": 9,
     "metadata": {},
     "output_type": "execute_result"
    }
   ],
   "source": [
    "gds = xr.open_dataset(smap_files[0], group='Soil_Moisture_Retrieval_Data_AM', \n",
    "                      phony_dims='sort', engine=\"h5netcdf\", decode_coords=\"all\")\n",
    "gds"
   ]
  },
  {
   "cell_type": "markdown",
   "id": "50443520-2522-40b5-853a-2e238969161a",
   "metadata": {},
   "source": [
    "We can already see some issues with the dataset that need to be addressed to allow you to take full advantage of `xarray` and other tools.\n",
    "\n",
    "First, the dimension names `phony_dim_0`, `phony_dim_1`, and `phony_dim_2` are not meaningful.  A user and a software tool needs to figure out which dimensions are spatial dimensions, as well as what the third dimension is.  This is because no dimensions were assigned to datasets when the dataset was created.  `xarray` generate some \"phony\" variables.\n",
    "\n",
    "_look at what `xarray` is doing when it assigns `phony_dim`_\n",
    "\n",
    "A second issue is that there are no coordinate variables.  Coordinate variables are necessary for tools like `xarray` to subset and transform data.\n",
    "\n",
    "```{note}\n",
    "Actually the file does contain some coordinate variables `latitude` and `longitude` but `xarray` does not recognize these as coordinate variables because the dimensions are not defined _I think but check_.\n",
    "```"
   ]
  },
  {
   "cell_type": "markdown",
   "id": "05d558e4-448d-4c7a-a188-ea5cf27dc124",
   "metadata": {},
   "source": [
    "#### Add meaningful dimension names\n",
    "\n",
    "53 variables are loaded from `Soil_Moisture_Retrieval_Data_AM`.  However, we can immediately see some issues.  The dimensions are named `phony_dim_0`, `phony_dim_1`, and `phony_dim_2`, which is not much help.  This is because no dimensions are assigned to Datasets, so `xarray` has to generate some dummy variables.\n",
    " \n",
    "We'll change the names of the dimensions to something meaningful.  First, we need figure out what the dimensions are.  This is more diffcult than is should be and requires some data sleuthing and assumptions.  The description of the `landcover_class` offers some information, albeit misleading, but it is a clue.\n",
    "\n",
    "> An enumerated type that specifies the most common landcover class in the grid cell based on the IGBP landcover map. The array order is longitude (ascending), followed by latitude (descending), and followed by IGBP land cover type descending dominance (only the first three types are listed)\n",
    "\n",
    "This description states that the dimensions of the landcover_class array are longitude, latitude and IGBP land cover class.  The data are in projected coordinates (the EASE Grid 2.0 Global) **so longitude and latitude cannot be dimensions**.  Longitude and latitude in projected coordinate systems must be 2D arrays.  For projected coordinate systems, coordnates are usually x and y, or easting and northing.  From the user guide, we also know that the data are on a grid with 964 columns and 406 rows, and cells that have a nominal cell-size of 36 km by 36 km.  Based on this information we can assume that `phony_dim_0` is the y-dimension and `phony_dim_1` is the x-dimension in cartesian coordinates.  The 3rd dimension (`phoney_dim_2`) appears to be land cover class.  We can lot the data to confirm that this at least looks correct.  "
   ]
  },
  {
   "cell_type": "code",
   "execution_count": null,
   "id": "f81b6e40-a56b-4632-9560-8c3333f43427",
   "metadata": {},
   "outputs": [],
   "source": [
    "gds.EASE_row_index[:,0].values"
   ]
  },
  {
   "cell_type": "code",
   "execution_count": null,
   "id": "2399bc41-3f7e-43b6-bc1f-10d9b9893e32",
   "metadata": {},
   "outputs": [],
   "source": [
    "gds.albedo.plot()"
   ]
  },
  {
   "cell_type": "markdown",
   "id": "ffe65d22-0357-455b-8896-4870cf676583",
   "metadata": {},
   "source": [
    "Apart from looking like the data is upside down, our assumptions about `x` and `y` look to be correct.  So we'll rename the coordinates:\n",
    "\n",
    " - `phony_dim_0 --> y`\n",
    " - `phony_dim_1 --> x`\n",
    " - `phony_dim_2 --> igbp_class`\n",
    "\n",
    "We can do this using `rename_dims`, which takes a dictionary as an argument, where keys are the old dimension name and values are the new dimension name."
   ]
  },
  {
   "cell_type": "code",
   "execution_count": null,
   "id": "a445433e-d160-4ca2-9a58-a0b74ccf348b",
   "metadata": {},
   "outputs": [],
   "source": [
    "gds = gds.rename_dims({'phony_dim_0': 'y', 'phony_dim_1': 'x', 'phony_dim_2': 'igbp_class'})\n",
    "gds"
   ]
  },
  {
   "cell_type": "markdown",
   "id": "de673df1-483f-47b0-9e9a-c1aadd711629",
   "metadata": {},
   "source": [
    "#### Add coordinate variables\n",
    "\n",
    "[Coordinate variables](https://cfconventions.org/Data/cf-conventions/cf-conventions-1.11/cf-conventions.html#coordinate-types) locate the data in space and time.  Each coordinate variable is a 1-dimensional array associated with a single dimension, usually with the same name as that dimension, and has the same size as that dimensions.  Values for coordinate variables give the position of each grid cell within the dataset's coordinate system.  Two-dimensional _auxillary coordinates_ are also allowed.  These _auxillary coordinates_ need to be related to data variables by including a `coordinates` attribute that lists the _auxillary coordinates_.  Coordinate variables are not allowed to have missing values.  However, _auxillary coordinates_ can have missing values.\n",
    "\n",
    "The SMAP data contain 2-dimensional `latitude` and `longitude` grids but data variables do not have a `coordinates` attribute.  The data do not contain coordinate variables.  Coordinate variables allow efficient subsetting, as well as plotting and transformation.  So we need to add `x` and `y` as coordinates.  \n",
    "\n",
    "Because `latitude` and `longitude` are likely coordinate variables, we'll plot them. "
   ]
  },
  {
   "cell_type": "code",
   "execution_count": null,
   "id": "96f26e1e-2c6d-4f57-bf51-72653e2c76d9",
   "metadata": {},
   "outputs": [],
   "source": [
    "fig, ax = plt.subplots(2, 1)\n",
    "gds.latitude.plot(ax=ax[0])\n",
    "gds.longitude.plot(ax=ax[1])"
   ]
  },
  {
   "cell_type": "markdown",
   "id": "a45a18fd-dc03-42a2-a221-2e77d405ebfb",
   "metadata": {},
   "source": [
    "This looks a little strange.  Printing minima and maxima for `latitude` and `longitude`, shows that both values are outside of the expected ranges: -90 to 90 for `latitude`, and -180 to 180 or 0 to 360 for `longitude`."
   ]
  },
  {
   "cell_type": "code",
   "execution_count": null,
   "id": "fe9bc187-b64d-414d-9074-5bc5e33c3774",
   "metadata": {},
   "outputs": [],
   "source": [
    "print(f\"Latitude:  Min = {gds.latitude.min().values}, Max = {gds.latitude.max().values}\")\n",
    "print(f\"Longitude: Min = {gds.longitude.min().values}, Max = {gds.longitude.max().values}\")"
   ]
  },
  {
   "cell_type": "markdown",
   "id": "ba404a65-2dd2-4f1b-a538-40861dfcd199",
   "metadata": {},
   "source": [
    "If we plot both latitude and soil_moisture, we can see that latitude values have been masked with -9999. where there are no valid data values.  **This is not a good or sensible approach because latitude and longitude are coordinates.  As long as latitude and longitude values are between -90 and 90, and -180 and 180 (or 0 and 360), they are valid coordinates.  While missing values are allowed for _auxillary coordinates_, coordinate values should not have missing values.  We also need coordinates for all grid cells for plotting and other operations.** "
   ]
  },
  {
   "cell_type": "code",
   "execution_count": null,
   "id": "18d8326c-fea7-4fb5-a7bc-e38f4bbfdd05",
   "metadata": {},
   "outputs": [],
   "source": [
    "fig, ax = plt.subplots(2, 1)\n",
    "gds.latitude.plot(ax=ax[0]);\n",
    "gds.soil_moisture.plot(ax=ax[1])"
   ]
  },
  {
   "cell_type": "markdown",
   "id": "43d5222c-82ba-4c58-83b5-0b13c1919ec2",
   "metadata": {},
   "source": [
    "Neither the plot of latitude nor the minimum and maximum values look as we would expect.  We expect latitude to be in the range of -90 to +90.  The maximum is actually in this range but the minimum is -9999., which is suspiciously like a `_FillData` or missing data value.  We would also expect the image to show a smooth field that only varies in the vertical direction, e.g. from -90. to 90. or some similar range.  Instead it shows a set of lozenges.\n",
    "\n",
    "Let's set the `_FillValue` attribute for latitude to `-9999`.  In `xarray`, we have to use `where` to apply a mask everywhere a condition is not `True`.  Here we set the condition to be _not equal to -9999._  To save time and errors later, we also set the `encoding` entry for `fillvalue` to -9999.\n",
    "\n",
    "<div class=\"alert alert-block alert-warning\">\n",
    "`encoding` is a dictionary of parameters that defines how data are \"encoded\" in the file.  It includes information about how data are compressed, chunked, the _FillValue, and data type.  Saving the `encoding` is not strictly necessary unless you want to write the data to a new file.  We'll follow these steps here to demonstrate how to preserve the encoding data. \n",
    "</div>"
   ]
  },
  {
   "cell_type": "code",
   "execution_count": null,
   "id": "c65618de-eb3d-4f07-804c-81f0199a3ed4",
   "metadata": {},
   "outputs": [],
   "source": [
    "print(gds.latitude.encoding)"
   ]
  },
  {
   "cell_type": "code",
   "execution_count": null,
   "id": "efc06b5a-fe82-4732-8753-f589485bb3f5",
   "metadata": {},
   "outputs": [],
   "source": [
    "fillvalue = -9999.\n",
    "\n",
    "# `where` does not preserve encoding, so we have to copy first\n",
    "encoding = gds.latitude.encoding\n",
    "# Apply fillvalue mask\n",
    "gds['latitude'] = gds.latitude.where(gds.latitude != fillvalue)\n",
    "# we copy the encoding back to DataArray\n",
    "gds.latitude.encoding = encoding\n",
    "# ...and update encoding to include fillvalue\n",
    "gds.latitude.encoding['fillvalue'] = fillvalue\n",
    "\n",
    "# ...and for longitude\n",
    "encoding = gds.longitude.encoding\n",
    "gds[\"longitude\"] = gds.longitude.where(gds.longitude != fillvalue)\n",
    "gds.longitude.encoding = encoding\n",
    "gds.longitude.encoding[\"fillvalue\"] = fillvalue\n",
    "                                       "
   ]
  },
  {
   "cell_type": "markdown",
   "id": "511b2d12-c6ce-4fc4-b924-d5b3e4b13cf9",
   "metadata": {},
   "source": [
    "Now when we check the range of the latitude values, we see that the range is between -83.63... and 83.63... as we expect."
   ]
  },
  {
   "cell_type": "code",
   "execution_count": null,
   "id": "ec868a8e-bf13-4967-bde6-02cc2b07738e",
   "metadata": {},
   "outputs": [],
   "source": [
    "print(f\"Latitude:  Min = {gds.latitude.min().values}, Max = {gds.latitude.max().values}\")\n",
    "print(f\"Longitude: Min = {gds.longitude.min().values}, Max = {gds.longitude.max().values}\")"
   ]
  },
  {
   "cell_type": "markdown",
   "id": "5acf9bca-d60d-4d34-9618-7d33e7236772",
   "metadata": {},
   "source": [
    "Plotting the data again, we see that latitude values are within the expected range but that hasn't solved the missing data problem."
   ]
  },
  {
   "cell_type": "code",
   "execution_count": null,
   "id": "c7d6df08-b03f-465a-bb21-d6a68665fde2",
   "metadata": {},
   "outputs": [],
   "source": [
    "fig, ax = plt.subplots(3, 1)\n",
    "gds.latitude.plot(ax=ax[0]);\n",
    "gds.longitude.plot(ax=ax[1]);\n",
    "gds.soil_moisture.plot(ax=ax[2])"
   ]
  },
  {
   "attachments": {},
   "cell_type": "markdown",
   "id": "efc6edf9-0555-4256-86c7-c6527c9746c7",
   "metadata": {},
   "source": [
    "#### Adding x and y coordinates\n",
    "\n",
    "Missing values for latitude and longitude can cause problems for plotting and other operations.  As noted above, the files do not include complete information about the coordinate reference system or the grid definition.  So we need to do some data sleuthing.\n",
    "\n",
    "Tables 4 and 5 in the [User Guide](https://nsidc.org/sites/default/files/spl3smp-v008-userguide.pdf) provide geospatial information.  Further information on EASE Grids can be found on [A Guide to EASE Grids page](https://nsidc.org/data/user-resources/help-center/guide-ease-grids).\n",
    "\n",
    "<div class=\"alert alert-block alert-warning\">\n",
    "<b>Note:</b> The ATBD for the L3 SMP data gives the data array dimensions as 406 x 963.\n",
    "</div>\n",
    "\n"
   ]
  },
  {
   "cell_type": "markdown",
   "id": "3d642bf9-c8fb-431d-8467-7720a3378081",
   "metadata": {},
   "source": [
    "The CRS and grid definition are independent.  The CRS defines how projected coordinates, usually in meters, relate to geographic latitude and longitude.  The grid definition relates how image coordinates (columns and rows) map to the projected coordinates.  The Guide to EASE Grids has 8 grid definitions, ranging from 1 km to 36 km cell sizes, for the Global EASE-Grid 2.0 CRS (EPSG:9633).  We could define many more grid definitions.  For more information on CRS, map projections and grids see [_Link to be added_]().\n",
    "\n",
    "In the [table](https://nsidc.org/data/user-resources/help-center/guide-ease-grids#anchor-10) for the 36 km Global EASE-Grid 2.0 we are given the height and width of each grid cell, and the x and y coordinates of the upper-left corner of the upper-left grid cell.  We can see that the 36 km grid cell size is not exact.  In fact the value the table gives is not exact.  The actual value runs to 9 decimal places.  This is because the grid cell height and width of the global grid were defined so that an exact number of cells span the equator {@brodzik_ease}.  This is not necessary for polar grids.\n",
    "\n",
    "<div class=\"alert alert-block alert-info\">\n",
    "<b>Tip:</b> Exact definitions of CRS, projection and grid parameters can be found in the Grid Parameter Definition (gpd) files in the [`mapxmaps` GitHub repository](https://github.com/nsidc/mapxmaps).  These gpd files have a somewhat esoteric format, so might take a little bit to understand.  It is important that the grid definition is exact because we cannot merge datasets if the coordinates do not match, even to the 9th decimal place.\n",
    "</div>"
   ]
  },
  {
   "cell_type": "code",
   "execution_count": null,
   "id": "78dc5886-d10a-4ca7-b2df-e10ac1de0c8d",
   "metadata": {},
   "outputs": [],
   "source": [
    "grid_cell_width = 36032.220840584\n",
    "grid_cell_height = -36032.220840584\n",
    "x_upper_left_corner = -17367530.4451615\n",
    "y_upper_left_corner = 7314540.8306386"
   ]
  },
  {
   "cell_type": "markdown",
   "id": "927e8b99-28d0-46d0-9c0e-8f9fd6223861",
   "metadata": {},
   "source": [
    "The projected coordinates of a grid cell can be found using the following formulas:\n",
    "\n",
    "$$\n",
    "x = (grid\\_cell\\_width \\times row) + x\\_upper\\_left\\_corner\n",
    "$$\n",
    "$$\n",
    "y = (grid\\_cell\\_height \\times column) + y\\_upper\\_left\\_corner)\n",
    "$$\n",
    "\n",
    "This equations assumes that the origin of the image coordinates start at row=0. and column=0. in the upper-left corner of the upper-left grid cell.  So the center of the upper-left grid cell is row=0.5 and column=0.5.  Adding 0.5 to row and column indices solves this problem.\n",
    "\n",
    "We could write a function to return (x, y) coordinates for (column, row) image coordinates using the equations above.  Or we can use the `Affine` class from the `affine` package to define an affine matrix.  This is what we'll do below.  "
   ]
  },
  {
   "cell_type": "code",
   "execution_count": null,
   "id": "feed97dc-b521-4240-9446-8811c8694aeb",
   "metadata": {},
   "outputs": [],
   "source": [
    "transform = Affine(grid_cell_width, 0.0, x_upper_left_corner, \n",
    "                   0.0, grid_cell_height, y_upper_left_corner)\n",
    "transform"
   ]
  },
  {
   "cell_type": "markdown",
   "id": "08669cb5-4848-41e7-a08b-0b3e71d21f40",
   "metadata": {},
   "source": [
    "This then allows us to calculate x and y coordinates from column and row indices using matrix multiplication."
   ]
  },
  {
   "cell_type": "code",
   "execution_count": null,
   "id": "98bd706e-78fc-4cc5-a11a-ff0cb22ca93c",
   "metadata": {},
   "outputs": [],
   "source": [
    "transform * (964, 406)"
   ]
  },
  {
   "cell_type": "markdown",
   "id": "549fc024-b032-406a-acdc-f7a76dea9e49",
   "metadata": {},
   "source": [
    "We'll define vectors for the row and column indices of the grid cell centers, and then use the `transform` matrix to get x and y coordinates.  These only need to be vectors as well because each column will have the same row indices and each row will have the same column indices. We'll use the `numpy.arange` function to do and start the range at 0.5 to offset the row and column indices for grid cell centers by 0.5."
   ]
  },
  {
   "cell_type": "code",
   "execution_count": null,
   "id": "4a314543-1a0c-482d-86d3-5905b6b11b2b",
   "metadata": {},
   "outputs": [],
   "source": [
    "nrows, ncolumns, nclass = gds.dims['y'], gds.dims['x'], gds.dims['igbp_class']  #data_vars['soil_moisture'][1].shape\n",
    "row = np.arange(0.5, nrows)\n",
    "column = np.arange(0.5, ncolumns)\n",
    "\n",
    "x, _ = transform * (column, 0.5)\n",
    "_, y = transform * (0.5, row)\n",
    "igbp_class = np.arange(nclass)  # Add attributes"
   ]
  },
  {
   "cell_type": "markdown",
   "id": "85c7ee2c-05e7-4f00-a30c-e8697c91499e",
   "metadata": {},
   "source": [
    "We need to assign `x`, `y`, and `igbp_class` as coordinates.  This should be sufficient for plotting.  However, if we want to reproject the data we should define the CRS and spatial coordinates, and transform.  We do this using `rioxarray` accessors."
   ]
  },
  {
   "cell_type": "code",
   "execution_count": null,
   "id": "4fda308a-6433-4174-b14e-b162a71ae729",
   "metadata": {},
   "outputs": [],
   "source": [
    "gds = gds.assign_coords(x=x, y=y, igbp_class=igbp_class)\n",
    "\n",
    "gds.rio.write_crs(6933, grid_mapping_name='wgs84_easegrid2_global', inplace=True)\n",
    "gds.rio.set_spatial_dims(x_dim='x', y_dim='y', inplace=True)\n",
    "gds.rio.write_coordinate_system(inplace=True)\n",
    "gds.rio.write_transform(transform)\n",
    "gds.rio.write_grid_mapping('wgs84_easegrid2_global', inplace=True)\n",
    "gds"
   ]
  },
  {
   "cell_type": "code",
   "execution_count": null,
   "id": "29cb574a-7f44-4924-b275-0fce25606569",
   "metadata": {},
   "outputs": [],
   "source": [
    "print(gds.latitude.rio.grid_mapping)\n",
    "print(gds.rio.bounds())"
   ]
  },
  {
   "cell_type": "code",
   "execution_count": null,
   "id": "70f54aaa-a1fc-46a2-826d-737bd71aa386",
   "metadata": {},
   "outputs": [],
   "source": [
    "EASEGrid2 = ccrs.epsg(gds.rio.crs.to_epsg())\n",
    "\n",
    "fig = plt.figure(figsize=(12,7))\n",
    "ax = fig.add_subplot(projection=EASEGrid2)\n",
    "\n",
    "ax.coastlines()\n",
    "gds.soil_moisture.plot(ax=ax,)\n",
    "ax.set_title('Soil Moisture');"
   ]
  },
  {
   "cell_type": "markdown",
   "id": "31723e14-f98c-49e3-ac2b-912da23c3605",
   "metadata": {},
   "source": [
    "## Appendix A: Why use CF conventions\n",
    "\n",
    ">The purpose of the CF conventions is to require conforming datasets to contain sufficient metadata that they are self-describing in the sense that each variable in the file has an associated description of what it represents, including physical units if appropriate, and that each value can be located in space (relative to earth-based coordinates) and time.\n",
    ">\n",
    ">An important benefit of a convention is that it enables software tools to display data and perform operations on specified subsets of the data with minimal user intervention. It is possible to provide the metadata describing how a field is located in time and space in many different ways that a human would immediately recognize as equivalent. The purpose in restricting how the metadata is represented is to make it practical to write software that allows a machine to parse that metadata and to automatically associate each data value with its location in time and space. It is equally important that the metadata be easy for human users to write and to understand.\n",
    "\n"
   ]
  },
  {
   "cell_type": "markdown",
   "id": "ae67f0aa-b858-4ee1-aa29-3961df9c54cc",
   "metadata": {
    "jp-MarkdownHeadingCollapsed": true
   },
   "source": [
    "## Extra Stuff to be refined"
   ]
  },
  {
   "cell_type": "code",
   "execution_count": null,
   "id": "1d00eaa2-7b6e-477a-b71c-6d90d09aa0a2",
   "metadata": {},
   "outputs": [],
   "source": [
    "grid_mapping_name = \"WGS84_NSIDC_EASEGrid_2.0_Global\"\n",
    "datasets = ['Soil_Moisture_Retrieval_Data_AM/soil_moisture', 'Soil_Moisture_Retrieval_Data_AM/retrieval_qual_flag']\n",
    "data_vars = {}\n",
    "dims = ['y', 'x']\n",
    "with h5py.File(smap_files[0]) as root:\n",
    "    for dataset in datasets:\n",
    "        ds = root[dataset]\n",
    "        path = ds.name\n",
    "        name = path.split('/')[-1]\n",
    "        attrs = {k: (v.decode('UTF-8') if hasattr(v, 'decode') else v) for k, v in dict(ds.attrs).items()}\n",
    "        attrs['grid_mapping'] = grid_mapping_name  # Add so that dataset is CF-compliant and geoferenced\n",
    "        data_vars[name] = (dims, ds[:], attrs)\n",
    "\n",
    "data_vars\n",
    "        "
   ]
  },
  {
   "cell_type": "code",
   "execution_count": null,
   "id": "39afd220-8f13-4993-a25a-5ec0513476be",
   "metadata": {},
   "outputs": [],
   "source": [
    "plt.imshow(data_vars['soil_moisture'][1])"
   ]
  },
  {
   "cell_type": "code",
   "execution_count": null,
   "id": "1d7878b4-eec8-4214-8479-df2a8aab1016",
   "metadata": {},
   "outputs": [],
   "source": [
    "data_vars['soil_moisture'][1].shape"
   ]
  },
  {
   "cell_type": "code",
   "execution_count": null,
   "id": "5329fb83-8b95-42db-8ac1-7efe555a0c4f",
   "metadata": {},
   "outputs": [],
   "source": [
    "plt.pcolormesh(x, y, data_vars['soil_moisture'][1])"
   ]
  },
  {
   "cell_type": "markdown",
   "id": "083d7efa-0fb3-418b-93b6-04132a0375fe",
   "metadata": {},
   "source": [
    "We also need to define the CRS.  We know that the CRS has the EPSG code 6933.  We can use `pyproj` to get the CRS definition."
   ]
  },
  {
   "cell_type": "markdown",
   "id": "fcbd0150-c72c-453b-8045-489f702b8349",
   "metadata": {},
   "source": [
    "Base on [CF-Conventions](http://cfconventions.org/cf-conventions/cf-conventions.html#grid-mappings-and-projections), we add the CRS as a variable with the same name as we used for the `grid_mapping` attribute of each data variable.  We define this variable as an integer.  The grid mapping information is then copied as attributes for that variable.  We use the `to_cf()` method of the `pyproj.CRS` object to do this."
   ]
  },
  {
   "cell_type": "code",
   "execution_count": null,
   "id": "037dc012-8f52-4144-b929-fb3169dcebeb",
   "metadata": {},
   "outputs": [],
   "source": [
    "ds = xr.Dataset(data_vars, coords={'x': x, 'y': y})\n",
    "ds"
   ]
  },
  {
   "cell_type": "code",
   "execution_count": null,
   "id": "667dbefd-1a3e-4b9f-94a7-dfc0cb314961",
   "metadata": {},
   "outputs": [],
   "source": [
    "ds.rio.write_crs(6933, inplace=True)\n",
    "\n",
    "#ds[grid_mapping_name].attrs = crs.to_cf()"
   ]
  },
  {
   "cell_type": "code",
   "execution_count": null,
   "id": "58167732-336b-49a1-b915-2b3683336226",
   "metadata": {},
   "outputs": [],
   "source": [
    "ds =xr.decode_cf(ds)"
   ]
  },
  {
   "cell_type": "code",
   "execution_count": null,
   "id": "f479de98-57b8-401d-8ae6-f5372c835dc1",
   "metadata": {},
   "outputs": [],
   "source": [
    "ds.soil_moisture.plot()"
   ]
  },
  {
   "cell_type": "markdown",
   "id": "c98fef70-b2eb-4e17-90f1-58d8e93c2f56",
   "metadata": {},
   "source": []
  }
 ],
 "metadata": {
  "kernelspec": {
   "display_name": "Python 3 (ipykernel)",
   "language": "python",
   "name": "python3"
  },
  "language_info": {
   "codemirror_mode": {
    "name": "ipython",
    "version": 3
   },
   "file_extension": ".py",
   "mimetype": "text/x-python",
   "name": "python",
   "nbconvert_exporter": "python",
   "pygments_lexer": "ipython3",
   "version": "3.9.18"
  }
 },
 "nbformat": 4,
 "nbformat_minor": 5
}

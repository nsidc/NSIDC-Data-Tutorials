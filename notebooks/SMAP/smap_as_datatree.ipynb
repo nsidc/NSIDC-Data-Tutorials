{
 "cells": [
  {
   "cell_type": "markdown",
   "id": "e55a759f-e465-41d7-9674-71b73e4f8412",
   "metadata": {},
   "source": [
    "<center>\n",
    "<img src='./img/nsidc_logo.png'/>\n",
    "\n",
    "# 2.0 Read and Plot SMAP data using `xarray.DataTree`\n",
    "\n",
    "</center>\n",
    "---"
   ]
  },
  {
   "cell_type": "markdown",
   "id": "3e5b1d2e-04df-40f1-a9f8-f4fb48e32656",
   "metadata": {},
   "source": [
    "## 1. Overview  \n",
    "In this tutorial, we will read the SMAP data we downloaded in 1.0 Download SMAP data notebook, read the data into an `xarray.DataTree`, create a map of soil moisture and plot a time-series soil moisture for a location on Earth.\n",
    "\n",
    "`xarray.DataTree` was created to work with hierachical datasets.  Hierachical datasets are those datasets that use tree-like, nested, directory structures to group and store complex data.  The SMAP Level-3 is a relatively simple hierachical data structure, with only two groups; one group for data from AM satellite overpasses and one group for data from PM satellite overpasses.  To make working with this data easy, we also add meaningful names for the dimensions of the data and geospatial coordinates.  "
   ]
  },
  {
   "cell_type": "markdown",
   "id": "6060c844-782d-4510-b643-0b78273f069d",
   "metadata": {},
   "source": [
    "### **Credits**\n",
    "\n",
    "This tutorial is based on the notebooks originally provided to NSIDC by Adam Purdy. Jennifer Roebuck of NSIDC updated the tutorials to include the latest version of SMAP data and use earthaccess for authentication, seatching for and downloading the data in order to incorporate it into the NSIDC-Data-Tutorials repo. \n",
    "\n",
    "For questions regarding the notebook, or to report problems, please create a new issue in the [NSIDC-Data-Tutorials repo](https://github.com/nsidc/NSIDC-Data-Tutorials/issues)."
   ]
  },
  {
   "cell_type": "markdown",
   "id": "56a6afe4-c559-412e-86bc-3f9530dc3d36",
   "metadata": {},
   "source": [
    "### **Learning Goals**\n",
    "\n",
    "1. Read in SMAP data and navigate the metadata\n",
    "2. Create a map with SMAP data\n",
    "3. Plot a time-series at a location on Earth. "
   ]
  },
  {
   "cell_type": "markdown",
   "id": "c275f5c7-fa1b-4423-9967-03f46344ade0",
   "metadata": {},
   "source": [
    "### **Prerequisites**\n",
    "\n",
    "1. The nsidc-tutorials environment is set up and activated. This [README](https://github.com/nsidc/NSIDC-Data-Tutorials/blob/main/README.md) has setup instructions.\n",
    "2. SMAP data that were downloaded in the previous notebook tutorial 1.0 Download SMAP data. \n",
    "3. The EASE-Grid 2.0 longitude and latitude data sets. The binary format of these files have been provided within this repo for use in this tutorial, but please note they are also available in NetCDF format from the NSIDC website at this [page](https://nsidc.org/data/NSIDC-0772/versions/1). \n"
   ]
  },
  {
   "cell_type": "markdown",
   "id": "a0b23d36-8b5a-4bcf-b8a7-5dbc235853bf",
   "metadata": {},
   "source": [
    "### **Time requirement**\n",
    "\n",
    "Allow 15 to 20 minutes to complete this tutorial."
   ]
  },
  {
   "cell_type": "markdown",
   "id": "e7eb2e5f-39e1-4bad-8fc2-65984e8527ce",
   "metadata": {},
   "source": [
    "## 2. Tutorial steps"
   ]
  },
  {
   "cell_type": "markdown",
   "id": "3b14efdc-c8d6-4831-93a3-0ab7d8f9a491",
   "metadata": {},
   "source": [
    "### Import libraries\n",
    "\n",
    "As with all Python code, we need to import some libraries to read the data, add coordinates and plot the data."
   ]
  },
  {
   "cell_type": "code",
   "execution_count": null,
   "id": "3cf68262-b0d5-4601-bc52-7aa3c68670aa",
   "metadata": {},
   "outputs": [],
   "source": [
    "# For opening the data\n",
    "from pathlib import Path\n",
    "import xarray as xr\n",
    "\n",
    "# For adding coordinates\n",
    "import numpy as np\n",
    "from affine import Affine\n",
    "from pyproj import CRS\n",
    "\n",
    "# For plotting\n",
    "import matplotlib.pyplot as plt\n",
    "import cartopy.crs as ccrs\n",
    "\n",
    "DATAPATH = Path(\"data/L3_SM_P\")"
   ]
  },
  {
   "cell_type": "markdown",
   "id": "672a11e2-7fef-4ac6-9809-c0ed276bf3ee",
   "metadata": {},
   "source": [
    "### Get a list of HDF5 files in the data directory"
   ]
  },
  {
   "cell_type": "code",
   "execution_count": null,
   "id": "4f43e868-aeb1-499d-8db9-54eec5a6791d",
   "metadata": {},
   "outputs": [],
   "source": [
    "filelist = list(DATAPATH.glob(\"*.h5\"))"
   ]
  },
  {
   "cell_type": "markdown",
   "id": "403ba053-0e4e-412d-9513-3dccf4941ec3",
   "metadata": {},
   "source": [
    "### Load a data file into an `xarray.DataTree` object\n",
    "\n",
    "`xarray.DataTree` objects allow us to work with hierachical data structures and file formats such as HDF5, Zarr and NetCDF4 with groups.  The SMAP level 3 files are hierachical data structures.\n",
    "\n",
    "We use `xr.open_datatree` to open a SMAP HDF5 file.  We add the `phony_dims=\"sort\"` because data variables in the SMAP files do not have any assigned dimension scales.  `xarray` names dimensions `phony_dim0`, `phony_dim1`, etc."
   ]
  },
  {
   "cell_type": "code",
   "execution_count": null,
   "id": "f3f729bc-41df-4420-9e2e-b7f8467364d5",
   "metadata": {},
   "outputs": [],
   "source": [
    "dt = xr.open_datatree(filelist[0], phony_dims='sort')  # Might not be needed once xarray-datatree updated\n",
    "dt"
   ]
  },
  {
   "cell_type": "markdown",
   "id": "1b2b84fd-9929-4cc7-825e-8d47ba3589ce",
   "metadata": {},
   "source": [
    "`open_datatree` returns an `xarray.DataTree` object that we assign to `dt`.  We can see from the representation of `dt` that there are three groups in the top (called `root`) level.  Clicking on **Groups** reveals that the three groups are `Metadata`, `Soil_Moisture_Retrieval_Data_AM`, and `Soil_Moisture_Retrieval_Data_PM`.  We can also see that there are no dimensions, coordinates, data variables or attributes in the `root` group. \n",
    "\n",
    "The `Metadata` group has 11 sub-groups that contain information about data quality and the SMAP instrument.  `Soil_Moisture_Retrieval_Data_AM` and `Soil_Moisture_Retrieval_Data_PM` don't have any subgroups but they each contain 53 variables.  We can also see the names and sizes of the Phony Dimensions.  We can also see that the phony dimensions for each group have the same sizes; `phony_dim0` is the same size as `phony_dim3`, `phony_dim1` is the same size as `phony_dim4` and `phony_dim2` is the same size as `phony_dim3`.  In fact, `phony_dim0` and `phony_dim3` are the `y` dimension of the data grids; `phony_dim1` and `phony_dim4` are the `x` dimension; and `phony_dim2` and `phony_dim5` are the number of IGBP land cover classes."
   ]
  },
  {
   "cell_type": "markdown",
   "id": "0ae7eab3-99dd-4561-9d96-fe6ad26d4460",
   "metadata": {},
   "source": [
    "### Add coordinates to the data\n",
    "\n",
    "Adding coordinates to the data variables allows us to work with the data as a geospatial dataset: performing geospatial analyses, reprojecting the data and making maps.\n",
    "\n",
    "First, we will change the names of the _phony dims_ to be more meaningful: `x`, `y` and `igbp_class`.  We do this by using `rename` to rename the dimensions.  To use `rename` we also have to use the dataset accessor `ds` and overwrite the othe soil moisture variables.  After each renaming, we update the soil moisture variable in the datatree to align the common dimensions. "
   ]
  },
  {
   "cell_type": "code",
   "execution_count": null,
   "id": "948ef06c-e65b-4ba2-9642-bf10ddaad78a",
   "metadata": {},
   "outputs": [],
   "source": [
    "dt[\"Soil_Moisture_Retrieval_Data_AM\"] = \\\n",
    "  dt[\"Soil_Moisture_Retrieval_Data_AM\"].ds.rename(\n",
    "      {\n",
    "          'phony_dim_0': 'y', \n",
    "          'phony_dim_1': 'x', \n",
    "          'phony_dim_2': 'igbp_class'\n",
    "      }\n",
    "  )\n",
    "dt.update(other=dt[\"Soil_Moisture_Retrieval_Data_AM\"])\n",
    "\n",
    "dt[\"Soil_Moisture_Retrieval_Data_PM\"] = \\\n",
    "  dt[\"Soil_Moisture_Retrieval_Data_PM\"].ds.rename(\n",
    "      {\n",
    "          'phony_dim_3': 'y', \n",
    "          'phony_dim_4': 'x', \n",
    "          'phony_dim_5': 'igbp_class'\n",
    "      }\n",
    "  )\n",
    "dt.update(other=dt[\"Soil_Moisture_Retrieval_Data_PM\"])"
   ]
  },
  {
   "cell_type": "code",
   "execution_count": null,
   "id": "2a632d6d-a1d8-4a26-82b2-a3369612716b",
   "metadata": {},
   "outputs": [],
   "source": [
    "dt"
   ]
  },
  {
   "cell_type": "markdown",
   "id": "29e91cf5-71d4-48a2-93ba-d10754511537",
   "metadata": {},
   "source": [
    "We can now see that `x`, `y` and `igbp_class` dimensions are in the root group."
   ]
  },
  {
   "cell_type": "markdown",
   "id": "4612f32b-557b-4fdf-bf1e-6f06ab627ec9",
   "metadata": {},
   "source": [
    "Now we can add coordinates values.  We will generate coordinates using an Affine matrix. See [working_with_smap_in_xarray.ipynb](./working_with_smap_in_xarray.ipynb) for an explanation of this step."
   ]
  },
  {
   "cell_type": "code",
   "execution_count": null,
   "id": "d4de591d-3698-4444-9988-a75aa0436ef0",
   "metadata": {},
   "outputs": [],
   "source": [
    "grid_cell_width = 36032.220840584\n",
    "grid_cell_height = -36032.220840584\n",
    "x_upper_left_corner = -17367530.4451615\n",
    "y_upper_left_corner = 7314540.8306386\n",
    "\n",
    "transform = Affine(grid_cell_width, 0.0, x_upper_left_corner, \n",
    "                   0.0, grid_cell_height, y_upper_left_corner)\n",
    "\n",
    "nrows, ncolumns, nclass = dt.dims['y'], dt.dims['x'], dt.dims['igbp_class']  #data_vars['soil_moisture'][1].shape\n",
    "row = np.arange(0.5, nrows)\n",
    "column = np.arange(0.5, ncolumns)\n",
    "\n",
    "x, _ = transform * (column, 0.5)\n",
    "_, y = transform * (0.5, row)\n",
    "igbp_class = np.arange(nclass)  # Add attributes"
   ]
  },
  {
   "cell_type": "markdown",
   "id": "d3c8656e-c546-412f-b957-2533363e1b30",
   "metadata": {},
   "source": [
    "We then assign coordinate variables to the DataTree as `xarray.DataArrays`."
   ]
  },
  {
   "cell_type": "code",
   "execution_count": null,
   "id": "cbf5ecf4-f7bb-48bc-a8ec-fe3bf04ce925",
   "metadata": {},
   "outputs": [],
   "source": [
    "dt = dt.assign(\n",
    "    {\n",
    "        'x': xr.DataArray(x, dims='x'),\n",
    "        'y': xr.DataArray(y, dims='y'),\n",
    "        'igbp_class': xr.DataArray(igbp_class, dims='igbp_class')\n",
    "    }\n",
    ")\n",
    "dt"
   ]
  },
  {
   "cell_type": "markdown",
   "id": "a98fad6e-b6ec-445d-bc29-c1fa5dcfdcd0",
   "metadata": {},
   "source": [
    "Now that we have the coordinates added to the DataTree we can plot data on a map with coastlines or other features we want to add."
   ]
  },
  {
   "cell_type": "code",
   "execution_count": null,
   "id": "7bb9a711-9012-4d0c-acb6-f293a0e7d7fa",
   "metadata": {},
   "outputs": [],
   "source": [
    "EASEGrid2 = ccrs.epsg(CRS.from_epsg(6933).to_epsg())\n",
    "\n",
    "fig = plt.figure(figsize=(12,7))\n",
    "ax = fig.add_subplot(projection=EASEGrid2)\n",
    "\n",
    "dt[\"Soil_Moisture_Retrieval_Data_AM\"].soil_moisture.plot(ax=ax)\n",
    "ax.coastlines()\n",
    "ax.set_title('Soil Moisture');"
   ]
  },
  {
   "cell_type": "code",
   "execution_count": null,
   "id": "33aba49f-371b-4cb3-9283-a3d91541a685",
   "metadata": {},
   "outputs": [],
   "source": []
  }
 ],
 "metadata": {
  "kernelspec": {
   "display_name": "Python 3 (ipykernel)",
   "language": "python",
   "name": "python3"
  },
  "language_info": {
   "codemirror_mode": {
    "name": "ipython",
    "version": 3
   },
   "file_extension": ".py",
   "mimetype": "text/x-python",
   "name": "python",
   "nbconvert_exporter": "python",
   "pygments_lexer": "ipython3",
   "version": "3.10.14"
  }
 },
 "nbformat": 4,
 "nbformat_minor": 5
}

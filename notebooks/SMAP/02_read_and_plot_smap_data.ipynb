{
 "cells": [
  {
   "cell_type": "markdown",
   "id": "e86eaecf-a612-4dbb-8bdc-5b5dfddf65b9",
   "metadata": {},
   "source": [
    "<center>\n",
    "<img src='./img/nsidc_logo.png'/>\n",
    "\n",
    "# **2.0 Read and Plot SMAP data**\n",
    "\n",
    "</center>\n",
    "---"
   ]
  },
  {
   "cell_type": "markdown",
   "id": "4101ae06-3984-435c-abcc-f6346d15069b",
   "metadata": {},
   "source": [
    "## **1. Overview**\n",
    "\n",
    "We will read in the SMAP data that was downloaded using the 1.0 Download SMAP data notebook. We will then create a map with SMAP data and plot a time-series at a location on Earth.  \n"
   ]
  },
  {
   "cell_type": "markdown",
   "id": "dd6c0128-efe4-4fab-8721-55fc366e3c7e",
   "metadata": {},
   "source": [
    "### **Credits**\n",
    "\n",
    "This tutorial is based on the notebooks originally provided to NSIDC by Adam Purdy. Jennifer Roebuck of NSIDC updated the tutorials to include the latest version of SMAP data and use earthaccess for authentication, seatching for and downloading the data in order to incorporate it into the NSIDC-Data-Tutorials repo. \n",
    "\n",
    "For questions regarding the notebook, or to report problems, please create a new issue in the [NSIDC-Data-Tutorials repo](https://github.com/nsidc/NSIDC-Data-Tutorials/issues)."
   ]
  },
  {
   "cell_type": "markdown",
   "id": "a57c664e-76f9-416e-ae03-75dce51b3cb7",
   "metadata": {},
   "source": [
    "### **Learning Goals**\n",
    "\n",
    "1. Read in SMAP data and navigate the metadata\n",
    "2. Create a map with SMAP data\n",
    "3. Plot a time-series at a location on Earth. "
   ]
  },
  {
   "cell_type": "markdown",
   "id": "015703a9-f02a-42f4-8ff0-3b002bf4f2f5",
   "metadata": {},
   "source": [
    "### **Prerequisites**\n",
    "\n",
    "1. The nsidc-tutorials environment is set up and activated. This [README](https://github.com/nsidc/NSIDC-Data-Tutorials/blob/main/README.md) has setup instructions.\n",
    "2. SMAP data that were downloaded in the previous notebook tutorial 1.0 Download SMAP data. \n",
    "3. The EASE-Grid 2.0 longitude and latitude data sets. The binary format of these files have been provided within this repo for use in this tutorial, but please note they are also available in NetCDF format from the NSIDC website at this [page](https://nsidc.org/data/NSIDC-0772/versions/1). \n"
   ]
  },
  {
   "cell_type": "markdown",
   "id": "c45f3276-1172-4bfb-8389-e9d3cbbe88f4",
   "metadata": {},
   "source": [
    "### **Time requirement**\n",
    "\n",
    "Allow 15 to 20 minutes to complete this tutorial."
   ]
  },
  {
   "cell_type": "markdown",
   "id": "53b77eb5-d5ed-4ddd-8fb1-6c69618d7852",
   "metadata": {},
   "source": [
    "## **2. Tutorial steps**"
   ]
  },
  {
   "cell_type": "markdown",
   "id": "7820a737-33f0-4470-b9a4-03c5c4f0354c",
   "metadata": {},
   "source": [
    "### **Import libraries**\n"
   ]
  },
  {
   "cell_type": "code",
   "execution_count": null,
   "id": "059690ab-7dff-45c9-816a-6060a191f550",
   "metadata": {},
   "outputs": [],
   "source": [
    "#Import libraries \n",
    "import datetime as dt\n",
    "import glob\n",
    "import h5py\n",
    "%matplotlib inline\n",
    "import matplotlib.pyplot as plt\n",
    "import cartopy.crs as ccrs\n",
    "import numpy as np\n",
    "import os\n",
    "import pandas as pd\n",
    "import xarray as xr"
   ]
  },
  {
   "cell_type": "markdown",
   "id": "1966ffa6-a5f2-4520-a8dc-f37678a2cf7a",
   "metadata": {},
   "source": [
    "### **Read SMAP data and navigate metadata**\n",
    "\n",
    "First we will navigate to the directory with the data we want to use. Then we will generate a list of the files and print out the name of one of the files."
   ]
  },
  {
   "cell_type": "code",
   "execution_count": null,
   "id": "d47aa955-3d91-4418-85f9-5772f400f712",
   "metadata": {},
   "outputs": [],
   "source": [
    "this_dir = os.getcwd()\n",
    "L3_SM_P_dir = os.path.join(this_dir, 'data/L3_SM_P/')\n",
    "\n",
    "flist = glob.glob(os.path.join(L3_SM_P_dir, '*.h5'))\n",
    "           \n",
    "filename = flist[0]; \n",
    "print(\"File we are using: \" + filename + '\\n')"
   ]
  },
  {
   "cell_type": "markdown",
   "id": "95e2532d-219b-4b9d-b5b9-b43c95b1aa7d",
   "metadata": {
    "tags": []
   },
   "source": [
    "Now we will use `h5py.File()`to open the file. Then we can look at the folders within the HDF5 file to access the data we want. The cell below will print out a list of variables within one of the folders in the HDF5 file, the Soil_Moisture_Retrieval_Data_AM folder."
   ]
  },
  {
   "cell_type": "code",
   "execution_count": null,
   "id": "d66e54ff-71dc-422c-9e8a-5b154fa0dbf7",
   "metadata": {},
   "outputs": [],
   "source": [
    "f = h5py.File(filename, 'r')\n",
    "print('By using the command h5py.File() a filehandle is returned:')\n",
    "print(f); print('\\n')\n",
    "\n",
    "print(\"Now lets look at the groups within the file to access:\")\n",
    "i=0;\n",
    "for key in f.keys():\n",
    "    print(str(i)+ '\\t'+key)\n",
    "    i+=1\n",
    "group_id=list(f.keys())[1];# < Lets focus on the AM overpass for this example\n",
    "print('\\n')\n",
    "i=0\n",
    "print(\"Now lets look at the variables within the filegroup **Soil_Moisture_Retrieval_Data_AM** to access the actual data:\")\n",
    "for var in list(f[group_id].keys()):\n",
    "    print(str(i)+'\\t'+var)\n",
    "    i+=1"
   ]
  },
  {
   "cell_type": "markdown",
   "id": "c7307f44-93cd-49b0-aa11-ae85aca29722",
   "metadata": {},
   "source": [
    "Now that we know the variables within the Soil_Moisture_Retrieval_Data_AM folder lets grab the data we want to plot. First we need to take a look at the extent of the data in terms of the number of rows and columns, we will need this later when opening the EASE-Grid 2.0 lat and lon files."
   ]
  },
  {
   "cell_type": "code",
   "execution_count": null,
   "id": "80d938ed-4fe6-4bff-b71a-cce39e7a9bd4",
   "metadata": {},
   "outputs": [],
   "source": [
    "print('The extent of the data in rows and columns is: '+str(f[group_id][list(f[group_id].keys())[0]].shape))\n"
   ]
  },
  {
   "cell_type": "markdown",
   "id": "0c0fc789-ac80-474a-9928-8d9d4564ceac",
   "metadata": {},
   "source": [
    "Based on the list above we can find the index number of the variable we want to plot. For example, soil_moisture is at index 26 in the Soil_Moisture_Retrievel_Data_AM folder. We will use this index value in the cell below to read in the data associated with the soil_moisture variable. "
   ]
  },
  {
   "cell_type": "code",
   "execution_count": null,
   "id": "467ece65-932a-46e1-9f4c-1b47b628266b",
   "metadata": {},
   "outputs": [],
   "source": [
    "var_id = list(f[group_id].keys())[26] # soil_moisture\n",
    "sm_data = f[group_id][var_id][:,:]\n",
    "sm_ds = f[group_id][var_id]\n",
    "print('Data are returned as '+str(type(sm_data)) + ' something easy to work with in python.')\n"
   ]
  },
  {
   "cell_type": "markdown",
   "id": "84d934ed-c3d2-45e6-8d96-b6c9c227db32",
   "metadata": {},
   "source": [
    "This cell plots the out the retrieval quality flag values. For a further explanation of these values, see the third notebook titled '3.0 SMAP Quality Flags'."
   ]
  },
  {
   "cell_type": "code",
   "execution_count": null,
   "id": "8304ecdd-58cc-44ee-b2c9-6c9ca0b5c8b9",
   "metadata": {},
   "outputs": [],
   "source": [
    "ret_flag_L3_P = f[group_id]['retrieval_qual_flag'][:,:]\n",
    "print(np.unique(ret_flag_L3_P))\n",
    "print(type(ret_flag_L3_P))"
   ]
  },
  {
   "cell_type": "markdown",
   "id": "910b2ef6-3e14-475e-b689-77bda4c1814e",
   "metadata": {},
   "source": [
    "### Create a map with SMAP data\n",
    "\n",
    "Lets quickly plot the soil_moisture variable data to get a sense of what we are working with."
   ]
  },
  {
   "cell_type": "code",
   "execution_count": null,
   "id": "3b6b4172-7ba8-451d-9051-912aea174adf",
   "metadata": {},
   "outputs": [],
   "source": [
    "plt.imshow(sm_data)\n",
    "cbar = plt.colorbar(orientation = 'horizontal')\n",
    "cbar.set_label('$cm^3 cm^{-3}$')"
   ]
  },
  {
   "cell_type": "markdown",
   "id": "740a8856-0c47-4053-985c-8b8dd201c5d2",
   "metadata": {},
   "source": [
    "We need to ignore the null values to get a better idea of the range of values in the data set. \n",
    "\n",
    "You can find details on what values are used to represent null in the metadata of the supplemental documents, which are available from the data set landing [page](https://nsidc.org/data/SPL3SMP).\n",
    "\n",
    "For the soil_moisture variable and most SMAP data sets the null value is -9999. To confirm this is the case we can look at the attributes for the 'soil_moisture' variable. The following cell will find the '_FillValue'_ attribute for the soil_moisture variable and print out its value (in this case it will be -9999)."
   ]
  },
  {
   "cell_type": "code",
   "execution_count": null,
   "id": "44106db1-01aa-4d26-99b6-c1530af3c554",
   "metadata": {},
   "outputs": [],
   "source": [
    "print(f[group_id][var_id].attrs['_FillValue'])"
   ]
  },
  {
   "cell_type": "markdown",
   "id": "596bbaf0-c33b-4cd4-94ca-98bb834e0195",
   "metadata": {},
   "source": [
    "Now we will replace the FillValue of -9999 with NaN and plot the soil moisture variable again, and set the color bar range to 0 - 0.55. "
   ]
  },
  {
   "cell_type": "code",
   "execution_count": null,
   "id": "69eca887-c762-45e3-879f-3026a8f51d05",
   "metadata": {},
   "outputs": [],
   "source": [
    "sm_data[sm_data==f[group_id][var_id].attrs['_FillValue']]=np.nan;\n",
    "plt.imshow(sm_data,vmin=0.,vmax=0.55, cmap = 'terrain_r');\n",
    "cbar = plt.colorbar(orientation='horizontal')\n",
    "cbar.set_label('$cm^3 cm^{-3}$')"
   ]
  },
  {
   "cell_type": "markdown",
   "id": "49d9fbc8-69f5-419a-bc78-1c33f57a4d01",
   "metadata": {},
   "source": [
    "Lets add some coastlines to this plot, and geolocate the data using the coordinates in the EASE-Grid 2.0 latitude and longitude files. First, we will read in the EASE Grid 2.0 latitude and longitude data sets. "
   ]
  },
  {
   "cell_type": "code",
   "execution_count": null,
   "id": "a3cf1f80-a58f-4818-87da-b3ba16a4c861",
   "metadata": {},
   "outputs": [],
   "source": [
    "# Read binary files and reshape to correct size\n",
    "lats = np.fromfile('EASE2_M36km.lats.964x406x1.double', \n",
    "                      dtype=np.float64).reshape((406,964))#< reshape to dimensions above\n",
    "lons = np.fromfile('EASE2_M36km.lons.964x406x1.double', \n",
    "                      dtype=np.float64).reshape((406,964))"
   ]
  },
  {
   "cell_type": "markdown",
   "id": "8a7f186c-2fb7-40b3-9a4b-06a510a956e7",
   "metadata": {},
   "source": [
    "Now we will use `cartopy` to plot the soil_moisture variable on a basemap in the Robinson projection. "
   ]
  },
  {
   "cell_type": "code",
   "execution_count": null,
   "id": "7b3f885e-8761-42ec-8688-e4e8da312427",
   "metadata": {},
   "outputs": [],
   "source": [
    "fig = plt.figure(figsize=(10,6))\n",
    "ax = plt.axes(projection=ccrs.Robinson())\n",
    "ax.coastlines()\n",
    "p = plt.pcolormesh(lons, lats, sm_data, transform=ccrs.PlateCarree(), clim=(0.,0.55), cmap='terrain_r')\n",
    "cbar = fig.colorbar(p, location='bottom', pad=0.05)\n",
    "cbar.set_label('$cm^3 cm^{-3}$')"
   ]
  },
  {
   "cell_type": "markdown",
   "id": "a0233479-75bf-44d0-b969-1bc9c4b1d4b8",
   "metadata": {},
   "source": [
    "Awesome! We have made a global plot, now lets see if we can streamline this to process more data and create a time series. "
   ]
  },
  {
   "cell_type": "markdown",
   "id": "5d27d4eb-6582-44c7-a0e8-f1847e769640",
   "metadata": {},
   "source": [
    "### Plot a time-series at a location in Earth\n",
    "\n",
    "Lets navigate back to the L3_SM_P directory which contains all the files we downloaded and print out a list of all these files "
   ]
  },
  {
   "cell_type": "code",
   "execution_count": null,
   "id": "95e1ffc2-70a4-4beb-b09e-06ac37d6bb37",
   "metadata": {},
   "outputs": [],
   "source": [
    "for fName in flist:\n",
    "    print(fName)"
   ]
  },
  {
   "cell_type": "markdown",
   "id": "6996b015-54c1-4aac-89c4-bedb8498022f",
   "metadata": {},
   "source": [
    "Now we will make a function to load these files, and read in the soil_moisture and retrieval_qual_flag variables. "
   ]
  },
  {
   "cell_type": "code",
   "execution_count": null,
   "id": "9fd5d171-79d6-4c32-82cd-49d8e097f5a3",
   "metadata": {},
   "outputs": [],
   "source": [
    "def read_SML3P(filepath):\n",
    "    ''' This function extracts lat, lon and soil moisture from SMAP L3 P HDF5 file.\n",
    "    \n",
    "    Parameters\n",
    "    ----------\n",
    "    filepath : str\n",
    "        File path of a SMAP L3 HDF5 file\n",
    "    Returns\n",
    "    -------\n",
    "    soil_moisture_am: numpy.array\n",
    "    '''    \n",
    "    with h5py.File(filepath, 'r') as f:\n",
    "        # Extract data info\n",
    "        group_id_am = 'Soil_Moisture_Retrieval_Data_AM'\n",
    "        var_id_am = 'soil_moisture'\n",
    "        flag_id_am = 'retrieval_qual_flag'\n",
    "        soil_moisture_am = f[group_id_am][var_id_am][:,:]\n",
    "        flag_am = f[group_id_am][flag_id_am][:,:]\n",
    "        soil_moisture_am[soil_moisture_am==-9999.0]=np.nan;\n",
    "        soil_moisture_am[(flag_am>>0)&1==1]=np.nan\n",
    "        filename = os.path.basename(filepath)\n",
    "        yyyymmdd= filename.split('_')[4]\n",
    "        yyyy = int(yyyymmdd[0:4]);        mm = int(yyyymmdd[4:6]);        dd = int(yyyymmdd[6:8])\n",
    "        date=dt.datetime(yyyy,mm,dd)\n",
    "    return soil_moisture_am,date"
   ]
  },
  {
   "cell_type": "markdown",
   "id": "40e84063-d082-457c-a525-42dee9a303a6",
   "metadata": {},
   "source": [
    "Now we will test that this function works by loading the first file in the list and plotting the soil moisture variable. "
   ]
  },
  {
   "cell_type": "code",
   "execution_count": null,
   "id": "3ae0d56d-9c21-4a3d-ac41-b08db0ec9e79",
   "metadata": {},
   "outputs": [],
   "source": [
    "sm_test,date = read_SML3P(flist[0])\n",
    "plt.imshow(sm_test)\n",
    "cbar = plt.colorbar(orientation='horizontal')\n",
    "cbar.set_label('$cm^3 cm^{-3}$')\n",
    "plt.title(date)"
   ]
  },
  {
   "cell_type": "markdown",
   "id": "0bb0ed7f-76ec-47aa-bcae-85256771ea9e",
   "metadata": {},
   "source": [
    "That was just one file, now we will load all 31 files to create a 3D array (soil moisture values over 31 days). The cell below will output the size of this array."
   ]
  },
  {
   "cell_type": "code",
   "execution_count": null,
   "id": "6643683e-d762-4e66-8ef5-169a2e34c625",
   "metadata": {},
   "outputs": [],
   "source": [
    "sm_data_3d = np.empty([sm_data.shape[0],sm_data.shape[1],len(flist)])\n",
    "times = []\n",
    "print('sm_data_3d has dimensions '+str(sm_data_3d.shape))\n",
    "i=0\n",
    "for fName in flist:\n",
    "    sm_data_3d[:,:,i],time_i = read_SML3P(fName)\n",
    "    times.append(time_i)\n",
    "    i+=1\n"
   ]
  },
  {
   "cell_type": "markdown",
   "id": "09dfcb9b-7d9d-4412-b7e3-be66a862b055",
   "metadata": {},
   "source": [
    "Next we will calculate the mean soil moisture over 31 days and plot it."
   ]
  },
  {
   "cell_type": "code",
   "execution_count": null,
   "id": "08d51de5-b934-4cb2-af7a-d3eaae101c27",
   "metadata": {},
   "outputs": [],
   "source": [
    "sm_mean = np.nanmean(sm_data_3d,2)\n",
    "sm_mean.shape\n",
    "plt.imshow(sm_mean,vmin=0.,vmax=0.55,cmap='terrain_r')\n",
    "cbar = plt.colorbar(orientation='horizontal')\n",
    "cbar.set_label('$cm^3 cm^{-3}$')"
   ]
  },
  {
   "cell_type": "markdown",
   "id": "003af2be-a78d-4fe7-84a8-3be2252c635b",
   "metadata": {},
   "source": [
    "Lastly, we can select a region within this map and plot the average soil moisture over time for this region."
   ]
  },
  {
   "cell_type": "code",
   "execution_count": null,
   "id": "3103952a-9b6f-4b35-a1e7-bdcb8222b316",
   "metadata": {},
   "outputs": [],
   "source": [
    "N_lat = 37.5; \n",
    "S_lat = 33\n",
    "W_lon = -113.5\n",
    "E_lon = -110.0\n",
    "\n",
    "subset = (lats<N_lat)&(lats>S_lat)&(lons>W_lon)&(lons<E_lon);\n",
    "sm_time = np.empty([len(flist)]);\n",
    "for i in np.arange(0,sm_data_3d.shape[2]):\n",
    "    sm_2d = sm_data_3d[:,:,i]\n",
    "    sm_time[i] = np.nanmean(sm_2d[subset]); \n",
    "\n",
    "# Lets create a pandas series to plot the data\n",
    "smData = {'sm':sm_time}\n",
    "sm = pd.DataFrame(smData)\n",
    "sm['time']=times\n",
    "sm=sm.set_index('time')\n",
    "\n",
    "fig, ax1 = plt.subplots()\n",
    "ax1.plot(sm.index, sm, 'b*')       \n",
    "ax1.set_ylim([0,0.25])\n",
    "fig.autofmt_xdate()\n",
    "ax1.set_ylabel('$cm^3 cm^{-3}$')\n",
    "plt.title('Soil Moisture')\n"
   ]
  },
  {
   "cell_type": "code",
   "execution_count": null,
   "id": "f236c16d-a902-4124-8522-aa6ce7296f68",
   "metadata": {},
   "outputs": [],
   "source": []
  }
 ],
 "metadata": {
  "kernelspec": {
   "display_name": "Python 3 (ipykernel)",
   "language": "python",
   "name": "python3"
  },
  "language_info": {
   "codemirror_mode": {
    "name": "ipython",
    "version": 3
   },
   "file_extension": ".py",
   "mimetype": "text/x-python",
   "name": "python",
   "nbconvert_exporter": "python",
   "pygments_lexer": "ipython3",
   "version": "3.9.15"
  }
 },
 "nbformat": 4,
 "nbformat_minor": 5
}

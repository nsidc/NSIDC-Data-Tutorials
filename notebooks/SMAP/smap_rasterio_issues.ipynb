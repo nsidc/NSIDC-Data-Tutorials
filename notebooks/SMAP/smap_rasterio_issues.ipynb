{
 "cells": [
  {
   "cell_type": "markdown",
   "id": "12d41e1b-020f-431d-8916-44b79b9bab33",
   "metadata": {},
   "source": [
    "# Issues reading SMAP with different xarray backends\n",
    "\n",
    "This notebook explores [Issue 650](https://github.com/corteva/rioxarray/issues/650) for rioxarray.  The user finds that the y-axis is flipped when they use `xarray` with `rioxarray` to read SMAP L4 data but not when they use the `netcdf4` backend.\n",
    "\n",
    "They use https://n5eil01u.ecs.nsidc.org/SMAP/SPL4SMGP.007/2015.03.31/SMAP_L4_SM_gph_20150331T013000_Vv7032_001.h5 as an example."
   ]
  },
  {
   "cell_type": "code",
   "execution_count": null,
   "id": "e157b689-ed9b-49dc-83cf-ed046f57d5ef",
   "metadata": {},
   "outputs": [],
   "source": [
    "from pathlib import Path\n",
    "import warnings\n",
    "\n",
    "import xarray as xr\n",
    "import rioxarray\n",
    "import matplotlib.pyplot as plt\n",
    "\n",
    "print(xr.__version__)\n",
    "print(rioxarray.__version__)"
   ]
  },
  {
   "cell_type": "code",
   "execution_count": null,
   "id": "ad25ca3c-9aa4-4123-8af0-5a09ccf5bf46",
   "metadata": {},
   "outputs": [],
   "source": [
    "filepath = Path(\"smap_data/SMAP_L4_SM_gph_20150331T013000_Vv7032_001.h5\")"
   ]
  },
  {
   "cell_type": "code",
   "execution_count": null,
   "id": "f31063b9-0b3a-4a3c-b34f-86a3ce59c898",
   "metadata": {},
   "outputs": [],
   "source": [
    "engine = \"netcdf4\"\n",
    "ds = xr.merge([\n",
    "    xr.open_dataset(filepath, engine=engine),\n",
    "    xr.open_dataset(filepath, group='Geophysical_Data', engine=engine)['precipitation_total_surface_flux'],\n",
    "    ])\n",
    "ds"
   ]
  },
  {
   "cell_type": "code",
   "execution_count": null,
   "id": "2fe7bdca-12de-4674-b1c3-e55ac24e7627",
   "metadata": {},
   "outputs": [],
   "source": [
    "ds.precipitation_total_surface_flux.plot()"
   ]
  },
  {
   "cell_type": "markdown",
   "id": "7cd943e4-7c2e-41c6-9ed1-ea45c90ff015",
   "metadata": {},
   "source": [
    "With `h5netcdf`"
   ]
  },
  {
   "cell_type": "code",
   "execution_count": null,
   "id": "fd8a2568-0893-4375-8b34-0b2e8b816ac2",
   "metadata": {},
   "outputs": [],
   "source": [
    "engine=\"h5netcdf\"\n",
    "ds = xr.merge([\n",
    "    xr.open_dataset(filepath, engine=engine, phony_dims=\"sort\"),\n",
    "    xr.open_dataset(filepath, group='Geophysical_Data', engine=engine, phony_dims=\"sort\")['precipitation_total_surface_flux'],\n",
    "    ])\n",
    "print(ds)"
   ]
  },
  {
   "cell_type": "code",
   "execution_count": null,
   "id": "105606bc-6c6b-4ffd-8bbc-23e40db3f065",
   "metadata": {
    "scrolled": true
   },
   "outputs": [],
   "source": [
    "%%capture  \n",
    "# Avoid a string of NotGeoreferencedWarnings\n",
    "# /home/apbarret/mambaforge/envs/nsidc-tutorials/lib/python3.9/site-packages/rasterio/__init__.py:304: NotGeoreferencedWarning: \n",
    "#  Dataset has no geotransform, gcps, or rpcs. The identity matrix will be returned.\n",
    "#  dataset = DatasetReader(path, driver=driver, sharing=sharing, **kwargs)\n",
    "engine = \"rasterio\"\n",
    "ds_rasterio = xr.open_dataset(filepath, engine=engine)"
   ]
  },
  {
   "cell_type": "code",
   "execution_count": null,
   "id": "fe9df3a8-b6f9-459f-b74c-44c6b1495fcb",
   "metadata": {},
   "outputs": [],
   "source": [
    "print(ds_rasterio.x, ds_rasterio.y)"
   ]
  },
  {
   "cell_type": "code",
   "execution_count": null,
   "id": "ca842d36-9d4e-4ce7-8005-94cdf96875af",
   "metadata": {},
   "outputs": [],
   "source": [
    "ds_rasterio.cell_lat.plot()\n",
    "plt.savefig('smap_h5_cell_lat.png')"
   ]
  },
  {
   "cell_type": "code",
   "execution_count": null,
   "id": "66ea978b-26ae-496a-9bdf-e94843dfd035",
   "metadata": {},
   "outputs": [],
   "source": [
    "ds_rasterio.cell_lat.squeeze().plot.imshow(origin=\"upper\")"
   ]
  },
  {
   "cell_type": "code",
   "execution_count": null,
   "id": "f2d01026-e6dc-49a2-963f-6143157eabca",
   "metadata": {
    "scrolled": true
   },
   "outputs": [],
   "source": [
    "!h5dump -d x {filepath}"
   ]
  },
  {
   "cell_type": "code",
   "execution_count": null,
   "id": "0b5c0ea7-5693-4745-ae37-152b354504d5",
   "metadata": {},
   "outputs": [],
   "source": [
    "ds_rioxarray  = xr.merge([\n",
    "    xr.open_dataset(filepath, decode_coords=\"all\"),\n",
    "    xr.open_dataset(filepath, group='Geophysical_Data', decode_coords=\"all\")['precipitation_total_surface_flux'],\n",
    "])\n",
    "\n",
    "print(ds_rioxarray)"
   ]
  },
  {
   "cell_type": "code",
   "execution_count": null,
   "id": "a70d9fbf-9087-49c5-8e14-c978fba84b26",
   "metadata": {},
   "outputs": [],
   "source": [
    "ds_rioxarray.precipitation_total_surface_flux.plot(vmax=0.001)\n",
    "plt.savefig('smap_h5_precipitation.png')"
   ]
  },
  {
   "cell_type": "code",
   "execution_count": null,
   "id": "1119929c-2e50-4053-bb84-e5cf441c2526",
   "metadata": {},
   "outputs": [],
   "source": [
    "ds_rioxarray.rio.crs"
   ]
  },
  {
   "cell_type": "code",
   "execution_count": null,
   "id": "a44c287c-c490-4e91-a7a9-c6643c01897f",
   "metadata": {},
   "outputs": [],
   "source": [
    "ds_rioxarray.rio.transform()"
   ]
  },
  {
   "cell_type": "code",
   "execution_count": null,
   "id": "4056a4fe-3f45-4617-a73e-bc8ba52a8dc2",
   "metadata": {},
   "outputs": [],
   "source": [
    "ds_rioxarray.rio.reproject?"
   ]
  },
  {
   "cell_type": "code",
   "execution_count": null,
   "id": "7b855823-9181-4100-ba58-6b8fad7a7dd1",
   "metadata": {},
   "outputs": [],
   "source": [
    "ds.cell_row.plot()"
   ]
  },
  {
   "cell_type": "code",
   "execution_count": null,
   "id": "02710743-1835-495f-8d40-a8750ab029b7",
   "metadata": {},
   "outputs": [],
   "source": [
    "ds.precipitation_total_surface_flux.plot.imshow()"
   ]
  },
  {
   "cell_type": "markdown",
   "id": "2074ce5c-7ef5-4458-a52d-d7211ed2231f",
   "metadata": {},
   "source": [
    "Try writing a dummy geotiff and then read it back in"
   ]
  },
  {
   "cell_type": "code",
   "execution_count": null,
   "id": "f79ff594-0a8f-44cf-9eb8-731d2e714eec",
   "metadata": {},
   "outputs": [],
   "source": []
  }
 ],
 "metadata": {
  "kernelspec": {
   "display_name": "Python 3 (ipykernel)",
   "language": "python",
   "name": "python3"
  },
  "language_info": {
   "codemirror_mode": {
    "name": "ipython",
    "version": 3
   },
   "file_extension": ".py",
   "mimetype": "text/x-python",
   "name": "python",
   "nbconvert_exporter": "python",
   "pygments_lexer": "ipython3",
   "version": "3.10.14"
  }
 },
 "nbformat": 4,
 "nbformat_minor": 5
}

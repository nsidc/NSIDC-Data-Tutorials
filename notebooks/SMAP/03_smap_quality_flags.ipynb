{
 "cells": [
  {
   "cell_type": "markdown",
   "id": "e49d9ba5-51ce-40df-9942-7fc29c8aee5e",
   "metadata": {},
   "source": [
    "<center>\n",
    "<img src='./img/nsidc_logo.png'/>\n",
    "\n",
    "# **3.0 SMAP Quality Flags**\n",
    "\n",
    "</center>\n",
    "---"
   ]
  },
  {
   "cell_type": "markdown",
   "id": "48e87d85-674a-4f38-8af9-14db223b0d96",
   "metadata": {},
   "source": [
    "## 1. **Overview**\n",
    "\n",
    "This provides an overview of the retrieval quality flags and surface quality flags that are used with SMAP data. \n",
    "\n",
    "* Retrieval Quality Flag (combines all surface flags)\n",
    "* Surface Quality Flag (provides information on why certain areas might be flagged) "
   ]
  },
  {
   "cell_type": "markdown",
   "id": "88418780-4ced-44d3-a54c-01059c25f5f7",
   "metadata": {},
   "source": [
    "### **Credits**\n",
    "This tutorial is based on the notebooks originally provided to NSIDC by Adam Purdy. Jennifer Roebuck of NSIDC updated the tutorials to include the latest version of SMAP data and use earthaccess for authentication, seatching for and downloading the data in order to incorporate it into the NSIDC-Data-Tutorials repo. \n",
    "\n",
    "For questions regarding the notebook, or to report problems, please create a new issue in the [NSIDC-Data-Tutorials repo](https://github.com/nsidc/NSIDC-Data-Tutorials/issues).\n"
   ]
  },
  {
   "cell_type": "markdown",
   "id": "faef4353-4c94-45fe-9832-3831f3fa37e0",
   "metadata": {},
   "source": [
    "### **Learning Goals**\n",
    "\n",
    "1. Understand the retrieval and surface quality flags and how to use them"
   ]
  },
  {
   "cell_type": "markdown",
   "id": "d21ca604-20de-460d-be82-d504720160d6",
   "metadata": {},
   "source": [
    "### **Prerequisites**\n",
    "\n",
    "1. The nsidc-tutorials environment is set up and activated. This [README](https://github.com/nsidc/NSIDC-Data-Tutorials/blob/main/README.md) has setup instructions.\n",
    "2. SMAP data that were downloaded in the first notebook tutorial - 1.0 Download SMAP data. "
   ]
  },
  {
   "cell_type": "markdown",
   "id": "bc4ebd76-7580-4c7c-838b-7b0aae2a97a3",
   "metadata": {},
   "source": [
    "### **Time Requirement**\n",
    "\n",
    "Allow approximtely 5 to 10 minutes to complete this tutorial. "
   ]
  },
  {
   "cell_type": "markdown",
   "id": "5770fce2-57be-4510-bdb6-b071c220d79b",
   "metadata": {},
   "source": [
    "## **2. Tutorial Steps**"
   ]
  },
  {
   "cell_type": "markdown",
   "id": "1087c320-3a87-420b-b241-0fbe56620f9b",
   "metadata": {},
   "source": [
    "### Import libraries\n"
   ]
  },
  {
   "cell_type": "code",
   "execution_count": null,
   "id": "a3353e2a-5005-43d8-839a-e9c7e16fcf08",
   "metadata": {},
   "outputs": [],
   "source": [
    "import datetime as dt\n",
    "import glob\n",
    "import h5py\n",
    "%matplotlib inline\n",
    "import matplotlib.pyplot as plt\n",
    "import numpy as np\n",
    "import os"
   ]
  },
  {
   "cell_type": "markdown",
   "id": "921ec8d3-5486-48a6-9684-15f66aef587a",
   "metadata": {},
   "source": [
    "Read in the SMAP data that we downloaded in the previous notebook."
   ]
  },
  {
   "cell_type": "code",
   "execution_count": null,
   "id": "759498fc-2ded-4288-9d59-5bfbaf1c22ff",
   "metadata": {},
   "outputs": [],
   "source": [
    "this_dir = os.getcwd()\n",
    "L3_SM_P_dir = os.path.join(this_dir, 'data/L3_SM_P/')\n",
    "\n",
    "flist = glob.glob(os.path.join(L3_SM_P_dir, '*.h5'))\n",
    "filename = flist[0]; \n"
   ]
  },
  {
   "cell_type": "markdown",
   "id": "358efeb8-49c7-496e-94d6-558178ae4cfb",
   "metadata": {},
   "source": [
    "Read in the soil moisture and surface_flag variables from the Soil_Moisture_Retrieval_Data_AM group in each of the files. "
   ]
  },
  {
   "cell_type": "code",
   "execution_count": null,
   "id": "bc77eeae-bfa0-4a3c-88fc-2544b8fbc4e4",
   "metadata": {},
   "outputs": [],
   "source": [
    "f = h5py.File(filename, 'r')\n",
    "group_id = 'Soil_Moisture_Retrieval_Data_AM'\n",
    "var_id = list(f[group_id].keys())[25] # soil_moisture\n",
    "sm_data = f[group_id][var_id][:,:]\n",
    "surf_flag_L3_P = f[group_id]['surface_flag'][:,:]"
   ]
  },
  {
   "cell_type": "markdown",
   "id": "7cf93589-41b5-44d7-988f-394fbf18c514",
   "metadata": {},
   "source": [
    "Now lets look at the two types of flags\n",
    "\n",
    "### Retrieval Flags \n",
    "\n",
    "Four different values are possible, as outlined in the cell below. We will plot the retrieval quality flag and in the resulting plot areas that have a value of 0 (black regions) include data of recommended quality. "
   ]
  },
  {
   "cell_type": "code",
   "execution_count": null,
   "id": "a85e1545-84ea-485a-8653-e37a27654e40",
   "metadata": {},
   "outputs": [],
   "source": [
    "# Grab the Retrieval Quality Variable\n",
    "ret_flag_L3_P = f[group_id]['retrieval_qual_flag'][:,:]\n",
    "# Create a definition for the retrieval flags\n",
    "ret_flags = {\n",
    "    0:'Recommended Quality',\n",
    "    1:'Retrieval Attempted',\n",
    "    2:'Retrieval Successful',\n",
    "    3:'Undefined'\n",
    "}\n",
    "# SMAP RECOMMENDED QUALITY BIT IS 0\n",
    "fig, ax = plt.subplots()\n",
    "\n",
    "cax = ax.imshow((ret_flag_L3_P>>0)&1, cmap=plt.cm.get_cmap('bone', 2))\n",
    "ax.set_title(ret_flags[0])\n",
    "\n",
    "cbar = fig.colorbar(cax, ticks=[0, 1], orientation='horizontal')\n",
    "cbar.ax.set_xticklabels(['Good Data', 'Not Recommended'])  # horizontal colorbar\n",
    "\n",
    "plt.show()\n"
   ]
  },
  {
   "cell_type": "markdown",
   "id": "6537954f-7f34-4ce9-8e1d-a4af62dc32ec",
   "metadata": {},
   "source": [
    "### Surface Flags \n",
    "\n",
    "The different values that the flag can have are listed in the cell below "
   ]
  },
  {
   "cell_type": "code",
   "execution_count": null,
   "id": "c2e7941b-c392-4c91-be1c-5175b5b507a1",
   "metadata": {},
   "outputs": [],
   "source": [
    "surf_flags = {\n",
    "    0:'Static water body',\n",
    "    1:'Radar water body detection',\n",
    "    2:'Coastal Proximity',\n",
    "    3:'Urban Area',\n",
    "    4:'Precipitation',\n",
    "    5:'Snow or Ice',\n",
    "    6:'Permanent Snow or Ice',\n",
    "    7:'Frozen Ground (radiometer)',\n",
    "    8:'Frozen Ground (model)',\n",
    "    9:'Mountainous Terrain',\n",
    "    10:'Dense Vegetation',\n",
    "    11:'Nadir Region',\n",
    "    12:'Undefined'\n",
    "}"
   ]
  },
  {
   "cell_type": "markdown",
   "id": "d92e6b62-08c2-4267-ae47-f299569dc206",
   "metadata": {},
   "source": [
    "Now we will plot the surface flags, where black areas indicate no flag and white areas indicate flagged data."
   ]
  },
  {
   "cell_type": "code",
   "execution_count": null,
   "id": "689bfe5b-60e6-4c7c-8a61-63947721537a",
   "metadata": {},
   "outputs": [],
   "source": [
    "for i in np.arange(0,12):\n",
    "    fig, ax = plt.subplots()\n",
    "    cax = ax.imshow((surf_flag_L3_P>>i)&1, cmap=plt.cm.get_cmap('bone', 2))\n",
    "    ax.set_title(surf_flags[i])\n",
    "    cbar = fig.colorbar(cax, ticks=[0, 1], orientation='horizontal')\n",
    "    cbar.ax.set_xticklabels(['No Flag', 'Flag Present'])  # horizontal colorbar\n",
    "    plt.show()"
   ]
  },
  {
   "cell_type": "code",
   "execution_count": null,
   "id": "e544f7dc-15b4-473a-b09a-043b13a94b97",
   "metadata": {},
   "outputs": [],
   "source": []
  }
 ],
 "metadata": {
  "kernelspec": {
   "display_name": "Python 3 (ipykernel)",
   "language": "python",
   "name": "python3"
  },
  "language_info": {
   "codemirror_mode": {
    "name": "ipython",
    "version": 3
   },
   "file_extension": ".py",
   "mimetype": "text/x-python",
   "name": "python",
   "nbconvert_exporter": "python",
   "pygments_lexer": "ipython3",
   "version": "3.9.15"
  }
 },
 "nbformat": 4,
 "nbformat_minor": 5
}

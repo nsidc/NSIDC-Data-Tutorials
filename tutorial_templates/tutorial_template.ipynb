{
 "cells": [
  {
   "cell_type": "markdown",
   "id": "e86eaecf-a612-4dbb-8bdc-5b5dfddf65b9",
   "metadata": {},
   "source": [
    "<center>\n",
    "<img src='./img/nsidc_logo.png'/>\n",
    "\n",
    "# **Tutorial Title**\n",
    "\n",
    "</center>\n",
    "\n",
    "---\n",
    "\n",
    "*This template is designed for you to make a copy and replace the text and sample code in each section with your own, while following the general format outlined here.  You will likely have a different number of cells in each section, so feel free to add and remove.  The template is meant as a guide for which content is important to include.*\n",
    "\n",
    "**Reminders:**  \n",
    "    \n",
    "**Please read our [Contribution Guide](https://github.com/nsidc/NSIDC-Data-Tutorials/blob/main/contributor_guide.md) and our [Pedagogy Guide](https://github.com/nsidc/NSIDC-Data-Tutorials/blob/main/pedagogy_guide.md) before creating your tutorial. The pedagogy guide outlines best practices for creating and delivering code-based tutorials in a notebook format.**\n",
    "\n",
    "**We recommend that before starting to develop the tutorial, it is a good idea to review the libraries that are in already in the [tutorials environment](https://github.com/nsidc/NSIDC-Data-Tutorials/blob/main/binder/environment.yml) and to use these within your new tutorial if possible. If the tutorial includes the use of a new package or library, consult with the NSIDC Data Use and Education team via Github Issue on whether an existing library can be used instead. If not, work with NSIDC to modify the environment yml file.**"
   ]
  },
  {
   "cell_type": "markdown",
   "id": "4101ae06-3984-435c-abcc-f6346d15069b",
   "metadata": {},
   "source": [
    "## **1. Tutorial Introduction/Overview**\n",
    "\n",
    "Provide an overview of the tutorial here, including any relevant background material and the motivation for creating the tutorial. Indicate whether the tutorial was designed to be self-led or presented at a hackweek or conference workshop.   \n"
   ]
  },
  {
   "cell_type": "markdown",
   "id": "dd6c0128-efe4-4fab-8721-55fc366e3c7e",
   "metadata": {},
   "source": [
    "### **Credits**\n",
    "\n",
    "List the contributors to the tutorial.\n",
    "\n",
    "Include the following statement:\n",
    "\n",
    "For questions regarding the notebook, or to report problems, please create a new issue in the [NSIDC-Data-Tutorials repo](https://github.com/nsidc/NSIDC-Data-Tutorials/issues)."
   ]
  },
  {
   "cell_type": "markdown",
   "id": "a57c664e-76f9-416e-ae03-75dce51b3cb7",
   "metadata": {},
   "source": [
    "### **Objectives/Learning Goals/Outcomes**\n",
    "\n",
    "List the objectives and/or skills gained upon completion of the tutorial.\n",
    "\n",
    "*After completing this notebook you will be able to...* "
   ]
  },
  {
   "cell_type": "markdown",
   "id": "015703a9-f02a-42f4-8ff0-3b002bf4f2f5",
   "metadata": {},
   "source": [
    "### **Prerequisites/Knowledge Requirements**\n",
    "\n",
    "Please describe necessary set-up steps required before running the notebook.  \n",
    "\n",
    "Include guidance for using the tutorials environment and point to the main repo [README](https://github.com/nsidc/NSIDC-Data-Tutorials/blob/main/README.md) for setup instructions.\n",
    "\n",
    "Indicate whether an Earthdata Login is required for data access, and include the [link](https://urs.earthdata.nasa.gov/) for registration.  Current recommended practice for authentication is to create a .netrc file in your home directory following [these instructions](https://nsidc.org/support/how/how-do-i-programmatically-request-data-services) (Step 1) and to use the .netrc file for authentication when required for data access during the tutorial.\n",
    "\n",
    "\n",
    "Include a list of knowledge requirements or skills that would be necessary or useful for successful completion or comprehension of the tutorial.  Some examples of useful information for tutorial users include the following:\n",
    "\n",
    "*To get the most out of this tutorial notebook, you should be familiar with the following concepts/data sets/programming languages...*\n",
    "\n",
    "*The main packages/libraries that will be used in this notebook are...*\n",
    "\n",
    "*The GIS concepts applied in this tutorial are...*"
   ]
  },
  {
   "cell_type": "markdown",
   "id": "b130c74f-85e6-41dd-a7c9-3249b3dee113",
   "metadata": {},
   "source": [
    "### **Example of end product (recommended, not required)** \n",
    "\n",
    "Include a figure that illustrates the end product of the notebook.  This could be a data plot, map or some other type of visualization.\n",
    "\n",
    "Please include figures in an \"img\" folder located at the same level as the notebook within your tutorial folder.\n",
    "\n",
    "<div>\n",
    "<img align=\"left\" width=\"50%\" height=\"100px\" src='./img/example_end_product.png'/>\n",
    "</div>"
   ]
  },
  {
   "cell_type": "markdown",
   "id": "c45f3276-1172-4bfb-8389-e9d3cbbe88f4",
   "metadata": {},
   "source": [
    "### **Time requirement**\n",
    "\n",
    "Provide an estimate of the amount of time required to complete the tutorial."
   ]
  },
  {
   "cell_type": "markdown",
   "id": "53b77eb5-d5ed-4ddd-8fb1-6c69618d7852",
   "metadata": {},
   "source": [
    "## **2. Tutorial steps**"
   ]
  },
  {
   "cell_type": "markdown",
   "id": "7820a737-33f0-4470-b9a4-03c5c4f0354c",
   "metadata": {},
   "source": [
    "### **Import libraries and classes**\n",
    "\n",
    "Import the libraries/packages and tools that will be needed to run the code in the tutorial.  It can be really helpful to include comments next to each import indicating usage."
   ]
  },
  {
   "cell_type": "code",
   "execution_count": null,
   "id": "59e79729-1b02-4ef5-aee1-8923690243da",
   "metadata": {},
   "outputs": [],
   "source": [
    "# Importing libraries\n",
    "\n",
    "from <library> import <tool>  # comment describing what the library/tool is used for in the code"
   ]
  },
  {
   "cell_type": "markdown",
   "id": "1966ffa6-a5f2-4520-a8dc-f37678a2cf7a",
   "metadata": {},
   "source": [
    "### **Authentication/Earthdata Login (optional - for NASA Earthdata only)**\n",
    "\n",
    "Different libraries will have different methods for authenticating via Earthdata Login.  The following cell contains an example of the authentication process used by the [earthaccess python client for NASA CMR](https://github.com/nsidc/earthdata) (if you are using a different library, yours will be different).  The process requires having created a .netrc file in your home directory following [these instructions](https://nsidc.org/support/how/how-do-i-programmatically-request-data-services) (Step 1). The earthaccess library's \"login\" method is called while passing the argument \"strategy=netrc\".  If no .netrc file is found, the method will provide interactive cells for entering Earthdata Login credentials within the notebook."
   ]
  },
  {
   "cell_type": "code",
   "execution_count": null,
   "id": "d47aa955-3d91-4418-85f9-5772f400f712",
   "metadata": {},
   "outputs": [],
   "source": [
    "#example authentication\n",
    "\n",
    "auth = Auth().login(strategy='netrc')\n",
    "if auth.authenticated is False:\n",
    "    auth = Auth().login(strategy='interactive')"
   ]
  },
  {
   "cell_type": "markdown",
   "id": "95e2532d-219b-4b9d-b5b9-b43c95b1aa7d",
   "metadata": {
    "tags": []
   },
   "source": [
    "### **Main body of the tutorial**\n",
    "\n",
    "Create the body of the tutorial here using a series of code cells. Intersperse the code cells with markdown cells containing descriptions of the steps and any relevant commentary.  The number of sub-steps here will vary depending on tutorial content - common steps/actions include data discovery, data access, and file opening/examination.\n",
    "\n",
    "Some important best practices to consider when designing and creating the tutorial steps include: \n",
    "                                    \n",
    "*Avoid cognitive overload by restricting your notebook to a single, short task.*\n",
    "\n",
    "*Limit the amount of code in each cell.  Many small code snippets in individual cells are better than a single long block of code.*\n",
    "\n",
    "*Write code to be understandable (rather than efficient, for example).*\n",
    "\n",
    "*Confine comments to markdown cells as much as possible.*\n",
    "\n",
    "For more details please see [Pedagogy Best Practices](https://github.com/nsidc/NSIDC-Data-Tutorials/blob/main/pedagogy_guide.md)."
   ]
  },
  {
   "cell_type": "code",
   "execution_count": null,
   "id": "d66e54ff-71dc-422c-9e8a-5b154fa0dbf7",
   "metadata": {},
   "outputs": [],
   "source": [
    "#code cells - add as many as you need, following advice above."
   ]
  },
  {
   "cell_type": "markdown",
   "id": "910b2ef6-3e14-475e-b689-77bda4c1814e",
   "metadata": {},
   "source": [
    "## **3. Learning outcomes recap (optional)**\n",
    "\n",
    "Provide a brief summary of the learning outcomes of the tutorial\n"
   ]
  },
  {
   "cell_type": "markdown",
   "id": "e87da360-fa68-43e6-993e-5d5098b70aed",
   "metadata": {},
   "source": [
    "## **4. Additional resources (optional)**\n",
    "\n",
    "List some additional resources for users to consult, if applicable/desired."
   ]
  },
  {
   "cell_type": "markdown",
   "id": "178b3e1e-71e4-4aab-bdbe-4d33dbce01e9",
   "metadata": {},
   "source": [
    "________\n",
    "\n",
    "### **When your tutorial is ready for review,  please read our [Contributor Guide](https://github.com/nsidc/NSIDC-Data-Tutorials/blob/main/contributor_guide.md) for next steps.**"
   ]
  },
  {
   "cell_type": "code",
   "execution_count": null,
   "id": "66b7019c-b0c8-4c96-a36c-9cb1d17b6303",
   "metadata": {},
   "outputs": [],
   "source": []
  }
 ],
 "metadata": {
  "kernelspec": {
   "display_name": "Python 3 (ipykernel)",
   "language": "python",
   "name": "python3"
  },
  "language_info": {
   "codemirror_mode": {
    "name": "ipython",
    "version": 3
   },
   "file_extension": ".py",
   "mimetype": "text/x-python",
   "name": "python",
   "nbconvert_exporter": "python",
   "pygments_lexer": "ipython3",
   "version": "3.9.13"
  }
 },
 "nbformat": 4,
 "nbformat_minor": 5
}
